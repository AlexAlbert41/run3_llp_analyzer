{
 "cells": [
  {
   "cell_type": "code",
   "execution_count": 1,
   "id": "5abadb69",
   "metadata": {},
   "outputs": [
    {
     "name": "stderr",
     "output_type": "stream",
     "text": [
      "Warning in <TInterpreter::ReadRootmapFile>: class  HepMC::FourVector found in libSimDataFormatsGeneratorProducts.so  is already in libHepMC3rootIO.so \n"
     ]
    },
    {
     "name": "stdout",
     "output_type": "stream",
     "text": [
      "Welcome to JupyROOT 6.28/00\n"
     ]
    }
   ],
   "source": [
    "import ROOT"
   ]
  },
  {
   "cell_type": "code",
   "execution_count": 13,
   "id": "949f59d3",
   "metadata": {},
   "outputs": [
    {
     "name": "stdout",
     "output_type": "stream",
     "text": [
      "Efficiency: 0.8889 +0.0015 -0.0015\n"
     ]
    },
    {
     "name": "stderr",
     "output_type": "stream",
     "text": [
      "Warning in <TROOT::Append>: Replacing existing TH1: num (Potential memory leak).\n",
      "Warning in <TROOT::Append>: Replacing existing TH1: denom (Potential memory leak).\n"
     ]
    }
   ],
   "source": [
    "num = ROOT.TH1F(\"num\",\"num\",1,0,1)\n",
    "denom = ROOT.TH1F(\"denom\",\"denom\",1,0,1)\n",
    "num.SetBinContent(1,40000)\n",
    "denom.SetBinContent(1,45000)\n",
    "eff = ROOT.TEfficiency(num, denom)\n",
    "efficiency = eff.GetEfficiency(1)\n",
    "err_low = eff.GetEfficiencyErrorLow(1)\n",
    "err_up = eff.GetEfficiencyErrorUp(1)\n",
    "print(f\"Efficiency: {efficiency:.4f} +{err_up:.4f} -{err_low:.4f}\")"
   ]
  },
  {
   "cell_type": "code",
   "execution_count": null,
   "id": "7a17bb95",
   "metadata": {},
   "outputs": [],
   "source": []
  }
 ],
 "metadata": {
  "kernelspec": {
   "display_name": "Python 3 (ipykernel)",
   "language": "python",
   "name": "python3"
  },
  "language_info": {
   "codemirror_mode": {
    "name": "ipython",
    "version": 3
   },
   "file_extension": ".py",
   "mimetype": "text/x-python",
   "name": "python",
   "nbconvert_exporter": "python",
   "pygments_lexer": "ipython3",
   "version": "3.9.12"
  }
 },
 "nbformat": 4,
 "nbformat_minor": 5
}
