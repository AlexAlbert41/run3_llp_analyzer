{
 "cells": [
  {
   "cell_type": "code",
   "execution_count": 1,
   "id": "e7c31cee",
   "metadata": {},
   "outputs": [
    {
     "name": "stderr",
     "output_type": "stream",
     "text": [
      "Warning in <TInterpreter::ReadRootmapFile>: class  HepMC::FourVector found in libSimDataFormatsGeneratorProducts.so  is already in libHepMC3rootIO.so \n"
     ]
    },
    {
     "name": "stdout",
     "output_type": "stream",
     "text": [
      "Welcome to JupyROOT 6.28/00\n"
     ]
    },
    {
     "name": "stderr",
     "output_type": "stream",
     "text": [
      "/cvmfs/sft.cern.ch/lcg/views/LCG_103/x86_64-centos7-gcc11-opt/lib/python3.9/site-packages/numpy/core/getlimits.py:499: UserWarning: The value of the smallest subnormal for <class 'numpy.float64'> type is zero.\n",
      "  setattr(self, word, getattr(machar, word).flat[0])\n",
      "/cvmfs/sft.cern.ch/lcg/views/LCG_103/x86_64-centos7-gcc11-opt/lib/python3.9/site-packages/numpy/core/getlimits.py:89: UserWarning: The value of the smallest subnormal for <class 'numpy.float64'> type is zero.\n",
      "  return self._float_to_str(self.smallest_subnormal)\n",
      "/cvmfs/sft.cern.ch/lcg/views/LCG_103/x86_64-centos7-gcc11-opt/lib/python3.9/site-packages/numpy/core/getlimits.py:499: UserWarning: The value of the smallest subnormal for <class 'numpy.float32'> type is zero.\n",
      "  setattr(self, word, getattr(machar, word).flat[0])\n",
      "/cvmfs/sft.cern.ch/lcg/views/LCG_103/x86_64-centos7-gcc11-opt/lib/python3.9/site-packages/numpy/core/getlimits.py:89: UserWarning: The value of the smallest subnormal for <class 'numpy.float32'> type is zero.\n",
      "  return self._float_to_str(self.smallest_subnormal)\n"
     ]
    }
   ],
   "source": [
    "import numpy as np\n",
    "import pandas as pd\n",
    "import uproot\n",
    "import matplotlib.pyplot as plt\n",
    "import sys\n",
    "sys.path.insert(0,\"../\")\n",
    "import mplhep as hep\n",
    "import pickle\n",
    "import glob\n",
    "import ROOT as rt\n",
    "import coffea\n",
    "import awkward as ak\n",
    "from coffea import hist, processor\n",
    "from coffea.nanoevents.methods import candidate\n",
    "from coffea.nanoevents.methods import vector\n",
    "import os"
   ]
  },
  {
   "cell_type": "code",
   "execution_count": 2,
   "id": "763c78e5",
   "metadata": {},
   "outputs": [],
   "source": [
    "MC_kFactors = {\"2022\":0.9202108866645403,\"2022EE\":0.9205275233052539,\"2023\":0.9287192347533128,\"2023BPix\":0.938125553192627,\"2024\":0.9070469152942339}"
   ]
  },
  {
   "cell_type": "code",
   "execution_count": 3,
   "id": "3a48baf8",
   "metadata": {},
   "outputs": [],
   "source": [
    "C = rt.TCanvas(\"c\",\"c\", 1000,800)\n",
    "leg = rt.TLegend(0.7, 0.15, 0.9, 0.3)"
   ]
  },
  {
   "cell_type": "code",
   "execution_count": 4,
   "id": "310acaca",
   "metadata": {},
   "outputs": [
    {
     "data": {
      "text/plain": [
       "<cppyy.gbl.TLegendEntry object at 0x15b3c8a0>"
      ]
     },
     "execution_count": 4,
     "metadata": {},
     "output_type": "execute_result"
    },
    {
     "name": "stderr",
     "output_type": "stream",
     "text": [
      "Info in <TEfficiency::TEfficiency>: given histograms are filled with weights\n",
      "Info in <TROOT::TEfficiency::SetUseWeightedEvents>: Handle weighted events for computing efficiency\n",
      "Info in <TEfficiency::TEfficiency>: given histograms are filled with weights\n",
      "Info in <TROOT::TEfficiency::SetUseWeightedEvents>: Handle weighted events for computing efficiency\n"
     ]
    }
   ],
   "source": [
    "\n",
    "Muon_pT_noClusters_2022_file = rt.TFile.Open(\"2022_Data_MC_Comp_noClusters_correctSFs/probe_pT/probe_pT.root\", \"READ\")\n",
    "Muon_pT_noClusters_2022_file_CSC = rt.TFile.Open(\"2022_Data_MC_Comp_finalzedSelections_highMET_fixedHotspotTrue_correctSFs/probe_pT_noCuts/probe_pT_noCuts.root\")\n",
    "Muon_pT_noClusters_2022_file_DT = rt.TFile.Open(\"2022_DT_Data_MC_Comp_finalzedSelections_highMET_DTs/probe_pT_noCuts/probe_pT_noCuts.root\")\n",
    "\n",
    "Data_hist_2022 = Muon_pT_noClusters_2022_file.Get(\"Data_hist\")\n",
    "CSC_Data_hist_2022 = Muon_pT_noClusters_2022_file_CSC.Get(\"Data_hist\")\n",
    "CSC_Data_hist_2022.Scale(1/MC_kFactors[\"2022\"])\n",
    "DT_Data_hist_2022 = Muon_pT_noClusters_2022_file_DT.Get(\"Data_hist\")\n",
    "DT_Data_hist_2022.Scale(1/MC_kFactors[\"2022\"])\n",
    "\n",
    "CSC_Data_hist_2022.Add(DT_Data_hist_2022)\n",
    "\n",
    "Data_2022_Eff = rt.TEfficiency(CSC_Data_hist_2022, Data_hist_2022)\n",
    "Data_2022_Eff.SetStatisticOption(rt.TEfficiency.kFCP)\n",
    "\n",
    "Data_2022_Eff.SetTitle(\";Muon pT [GeV];DT+CSC Cluster Reconstruction Efficiency\")\n",
    "leg.AddEntry(Data_2022_Eff, \"2022 Data\", \"lep\")\n",
    "\n",
    "MC_hist_2022 = Muon_pT_noClusters_2022_file.Get(\"MC_hist\")\n",
    "CSC_MC_hist_2022 = Muon_pT_noClusters_2022_file_CSC.Get(\"MC_hist\")\n",
    "CSC_MC_hist_2022.Scale(1/MC_kFactors[\"2022\"])\n",
    "DT_MC_hist_2022 = Muon_pT_noClusters_2022_file_DT.Get(\"MC_hist\")\n",
    "DT_MC_hist_2022.Scale(1/MC_kFactors[\"2022\"])\n",
    "\n",
    "CSC_MC_hist_2022.Add(DT_MC_hist_2022)\n",
    "\n",
    "MC_2022_Eff = rt.TEfficiency(CSC_MC_hist_2022, MC_hist_2022)\n",
    "MC_2022_Eff.SetStatisticOption(rt.TEfficiency.kFCP)\n",
    "\n",
    "MC_2022_Eff.SetTitle(\";Muon pT [GeV];DT+CSC Cluster Reconstruction Efficiency\")\n",
    "MC_2022_Eff.SetLineColor(rt.kRed)\n",
    "leg.AddEntry(MC_2022_Eff, \"2022 MC\", \"lep\")\n",
    "\n",
    "\n"
   ]
  },
  {
   "cell_type": "code",
   "execution_count": 5,
   "id": "faec1287",
   "metadata": {},
   "outputs": [
    {
     "data": {
      "text/plain": [
       "<cppyy.gbl.TLegendEntry object at 0x17325910>"
      ]
     },
     "execution_count": 5,
     "metadata": {},
     "output_type": "execute_result"
    },
    {
     "name": "stderr",
     "output_type": "stream",
     "text": [
      "Info in <TEfficiency::TEfficiency>: given histograms are filled with weights\n",
      "Info in <TROOT::TEfficiency::SetUseWeightedEvents>: Handle weighted events for computing efficiency\n",
      "Info in <TEfficiency::TEfficiency>: given histograms are filled with weights\n",
      "Info in <TROOT::TEfficiency::SetUseWeightedEvents>: Handle weighted events for computing efficiency\n"
     ]
    }
   ],
   "source": [
    "\n",
    "Muon_pT_noClusters_2022EE_file = rt.TFile.Open(\"2022EE_Data_MC_Comp_noClusters_correctSFs/probe_pT/probe_pT.root\", \"READ\")\n",
    "Muon_pT_noClusters_2022EE_file_CSC = rt.TFile.Open(\"2022EE_Data_MC_Comp_finalzedSelections_highMET_fixedHotspotTrue_correctSFs/probe_pT_noCuts/probe_pT_noCuts.root\")\n",
    "Muon_pT_noClusters_2022EE_file_DT = rt.TFile.Open(\"2022EE_DT_Data_MC_Comp_finalzedSelections_highMET_DTs/probe_pT_noCuts/probe_pT_noCuts.root\")\n",
    "\n",
    "Data_hist_2022EE = Muon_pT_noClusters_2022EE_file.Get(\"Data_hist\")\n",
    "CSC_Data_hist_2022EE = Muon_pT_noClusters_2022EE_file_CSC.Get(\"Data_hist\")\n",
    "CSC_Data_hist_2022EE.Scale(1/MC_kFactors[\"2022EE\"])\n",
    "DT_Data_hist_2022EE = Muon_pT_noClusters_2022EE_file_DT.Get(\"Data_hist\")\n",
    "DT_Data_hist_2022EE.Scale(1/MC_kFactors[\"2022EE\"])\n",
    "\n",
    "CSC_Data_hist_2022EE.Add(DT_Data_hist_2022EE)\n",
    "\n",
    "Data_2022EE_Eff = rt.TEfficiency(CSC_Data_hist_2022EE, Data_hist_2022EE)\n",
    "Data_2022EE_Eff.SetStatisticOption(rt.TEfficiency.kFCP)\n",
    "\n",
    "Data_2022EE_Eff.SetTitle(\";Muon pT [GeV];DT+CSC Cluster Reconstruction Efficiency\")\n",
    "leg.AddEntry(Data_2022EE_Eff, \"2022EE Data\", \"lep\")\n",
    "\n",
    "MC_hist_2022EE = Muon_pT_noClusters_2022EE_file.Get(\"MC_hist\")\n",
    "CSC_MC_hist_2022EE = Muon_pT_noClusters_2022EE_file_CSC.Get(\"MC_hist\")\n",
    "CSC_MC_hist_2022EE.Scale(1/MC_kFactors[\"2022EE\"])\n",
    "DT_MC_hist_2022EE = Muon_pT_noClusters_2022EE_file_DT.Get(\"MC_hist\")\n",
    "DT_MC_hist_2022.Scale(1/MC_kFactors[\"2022EE\"])\n",
    "\n",
    "CSC_MC_hist_2022EE.Add(DT_MC_hist_2022EE)\n",
    "\n",
    "MC_2022EE_Eff = rt.TEfficiency(CSC_MC_hist_2022EE, MC_hist_2022EE)\n",
    "MC_2022EE_Eff.SetStatisticOption(rt.TEfficiency.kFCP)\n",
    "\n",
    "MC_2022EE_Eff.SetTitle(\";Muon pT [GeV];DT+CSC Cluster Reconstruction Efficiency\")\n",
    "MC_2022EE_Eff.SetLineColor(rt.kRed)\n",
    "leg.AddEntry(MC_2022EE_Eff, \"2022EE MC\", \"lep\")\n",
    "\n",
    "\n"
   ]
  },
  {
   "cell_type": "code",
   "execution_count": 6,
   "id": "38307cf9",
   "metadata": {},
   "outputs": [
    {
     "data": {
      "text/plain": [
       "<cppyy.gbl.TLegendEntry object at 0x17337f50>"
      ]
     },
     "execution_count": 6,
     "metadata": {},
     "output_type": "execute_result"
    },
    {
     "name": "stderr",
     "output_type": "stream",
     "text": [
      "Info in <TEfficiency::TEfficiency>: given histograms are filled with weights\n",
      "Info in <TROOT::TEfficiency::SetUseWeightedEvents>: Handle weighted events for computing efficiency\n",
      "Info in <TEfficiency::TEfficiency>: given histograms are filled with weights\n",
      "Info in <TROOT::TEfficiency::SetUseWeightedEvents>: Handle weighted events for computing efficiency\n"
     ]
    }
   ],
   "source": [
    "\n",
    "Muon_pT_noClusters_2023_file = rt.TFile.Open(\"2023_Data_MC_Comp_noClusters_correctSFs/probe_pT/probe_pT.root\", \"READ\")\n",
    "Muon_pT_noClusters_2023_file_CSC = rt.TFile.Open(\"2023_Data_MC_Comp_finalzedSelections_highMET_fixedHotspotTrue_correctSFs/probe_pT_noCuts/probe_pT_noCuts.root\")\n",
    "Muon_pT_noClusters_2023_file_DT = rt.TFile.Open(\"2023_DT_Data_MC_Comp_finalzedSelections_highMET_DTs/probe_pT_noCuts/probe_pT_noCuts.root\")\n",
    "\n",
    "Data_hist_2023 = Muon_pT_noClusters_2023_file.Get(\"Data_hist\")\n",
    "CSC_Data_hist_2023 = Muon_pT_noClusters_2023_file_CSC.Get(\"Data_hist\")\n",
    "CSC_Data_hist_2023.Scale(1/MC_kFactors[\"2023\"])\n",
    "DT_Data_hist_2023 = Muon_pT_noClusters_2023_file_DT.Get(\"Data_hist\")\n",
    "DT_Data_hist_2023.Scale(1/MC_kFactors[\"2023\"])\n",
    "\n",
    "CSC_Data_hist_2023.Add(DT_Data_hist_2023)\n",
    "\n",
    "Data_2023_Eff = rt.TEfficiency(CSC_Data_hist_2023, Data_hist_2023)\n",
    "Data_2023_Eff.SetStatisticOption(rt.TEfficiency.kFCP)\n",
    "\n",
    "Data_2023_Eff.SetTitle(\";Muon pT [GeV];DT+CSC Cluster Reconstruction Efficiency\")\n",
    "leg.AddEntry(Data_2023_Eff, \"2023 Data\", \"lep\")\n",
    "\n",
    "MC_hist_2023 = Muon_pT_noClusters_2023_file.Get(\"MC_hist\")\n",
    "CSC_MC_hist_2023 = Muon_pT_noClusters_2023_file_CSC.Get(\"MC_hist\")\n",
    "CSC_MC_hist_2023.Scale(1/MC_kFactors[\"2023\"])\n",
    "DT_MC_hist_2023 = Muon_pT_noClusters_2023_file_DT.Get(\"MC_hist\")\n",
    "DT_MC_hist_2023.Scale(1/MC_kFactors[\"2023\"])\n",
    "\n",
    "CSC_MC_hist_2023.Add(DT_MC_hist_2023)\n",
    "\n",
    "MC_2023_Eff = rt.TEfficiency(CSC_MC_hist_2023, MC_hist_2023)\n",
    "MC_2023_Eff.SetStatisticOption(rt.TEfficiency.kFCP)\n",
    "\n",
    "MC_2023_Eff.SetTitle(\";Muon pT [GeV];DT+CSC Cluster Reconstruction Efficiency\")\n",
    "MC_2023_Eff.SetLineColor(rt.kRed)\n",
    "leg.AddEntry(MC_2023_Eff, \"2023 MC\", \"lep\")\n",
    "\n",
    "\n"
   ]
  },
  {
   "cell_type": "code",
   "execution_count": 7,
   "id": "61babeb1",
   "metadata": {},
   "outputs": [
    {
     "data": {
      "text/plain": [
       "<cppyy.gbl.TLegendEntry object at 0x17346e30>"
      ]
     },
     "execution_count": 7,
     "metadata": {},
     "output_type": "execute_result"
    },
    {
     "name": "stderr",
     "output_type": "stream",
     "text": [
      "Info in <TEfficiency::TEfficiency>: given histograms are filled with weights\n",
      "Info in <TROOT::TEfficiency::SetUseWeightedEvents>: Handle weighted events for computing efficiency\n",
      "Info in <TEfficiency::TEfficiency>: given histograms are filled with weights\n",
      "Info in <TROOT::TEfficiency::SetUseWeightedEvents>: Handle weighted events for computing efficiency\n"
     ]
    }
   ],
   "source": [
    "\n",
    "Muon_pT_noClusters_2023BPix_file = rt.TFile.Open(\"2023BPix_Data_MC_Comp_noClusters_correctSFs/probe_pT/probe_pT.root\", \"READ\")\n",
    "Muon_pT_noClusters_2023BPix_file_CSC = rt.TFile.Open(\"2023BPix_Data_MC_Comp_finalzedSelections_highMET_fixedHotspotTrue_correctSFs/probe_pT_noCuts/probe_pT_noCuts.root\")\n",
    "Muon_pT_noClusters_2023BPix_file_DT = rt.TFile.Open(\"2023BPix_DT_Data_MC_Comp_finalzedSelections_highMET_DTs/probe_pT_noCuts/probe_pT_noCuts.root\")\n",
    "\n",
    "Data_hist_2023BPix = Muon_pT_noClusters_2023BPix_file.Get(\"Data_hist\")\n",
    "CSC_Data_hist_2023BPix = Muon_pT_noClusters_2023BPix_file_CSC.Get(\"Data_hist\")\n",
    "CSC_Data_hist_2023BPix.Scale(1/MC_kFactors[\"2023\"])\n",
    "DT_Data_hist_2023BPix = Muon_pT_noClusters_2023BPix_file_DT.Get(\"Data_hist\")\n",
    "DT_Data_hist_2023BPix.Scale(1/MC_kFactors[\"2023BPix\"])\n",
    "\n",
    "CSC_Data_hist_2023BPix.Add(DT_Data_hist_2023BPix)\n",
    "\n",
    "Data_2023BPix_Eff = rt.TEfficiency(CSC_Data_hist_2023BPix, Data_hist_2023BPix)\n",
    "Data_2023BPix_Eff.SetStatisticOption(rt.TEfficiency.kFCP)\n",
    "\n",
    "Data_2023BPix_Eff.SetTitle(\";Muon pT [GeV];DT+CSC Cluster Reconstruction Efficiency\")\n",
    "leg.AddEntry(Data_2023BPix_Eff, \"2023BPix Data\", \"lep\")\n",
    "\n",
    "MC_hist_2023BPix = Muon_pT_noClusters_2023BPix_file.Get(\"MC_hist\")\n",
    "CSC_MC_hist_2023BPix = Muon_pT_noClusters_2023BPix_file_CSC.Get(\"MC_hist\")\n",
    "CSC_MC_hist_2023BPix.Scale(1/MC_kFactors[\"2023BPix\"])\n",
    "DT_MC_hist_2023BPix = Muon_pT_noClusters_2023BPix_file_DT.Get(\"MC_hist\")\n",
    "DT_MC_hist_2023BPix.Scale(1/MC_kFactors[\"2023BPix\"])\n",
    "\n",
    "CSC_MC_hist_2023BPix.Add(DT_MC_hist_2023BPix)\n",
    "\n",
    "MC_2023BPix_Eff = rt.TEfficiency(CSC_MC_hist_2023BPix, MC_hist_2023BPix)\n",
    "MC_2023BPix_Eff.SetStatisticOption(rt.TEfficiency.kFCP)\n",
    "\n",
    "MC_2023BPix_Eff.SetTitle(\";Muon pT [GeV];DT+CSC Cluster Reconstruction Efficiency\")\n",
    "MC_2023BPix_Eff.SetLineColor(rt.kRed)\n",
    "leg.AddEntry(MC_2023BPix_Eff, \"2023BPix MC\", \"lep\")\n",
    "\n",
    "\n"
   ]
  },
  {
   "cell_type": "code",
   "execution_count": 8,
   "id": "d872058f",
   "metadata": {},
   "outputs": [
    {
     "data": {
      "text/plain": [
       "<cppyy.gbl.TLegendEntry object at 0x17351da0>"
      ]
     },
     "execution_count": 8,
     "metadata": {},
     "output_type": "execute_result"
    },
    {
     "name": "stderr",
     "output_type": "stream",
     "text": [
      "Info in <TEfficiency::TEfficiency>: given histograms are filled with weights\n",
      "Info in <TROOT::TEfficiency::SetUseWeightedEvents>: Handle weighted events for computing efficiency\n",
      "Info in <TEfficiency::TEfficiency>: given histograms are filled with weights\n",
      "Info in <TROOT::TEfficiency::SetUseWeightedEvents>: Handle weighted events for computing efficiency\n"
     ]
    }
   ],
   "source": [
    "#C = rt.TCanvas(\"c\",\"c\", 1000,800)\n",
    "#leg = rt.TLegend(0.7, 0.15, 0.9, 0.3)\n",
    "Muon_pT_noClusters_2024_file = rt.TFile.Open(\"2024_Data_MC_Comp_noClusters_correctSFs/probe_pT/probe_pT.root\", \"READ\")\n",
    "Muon_pT_noClusters_2024_file_CSC = rt.TFile.Open(\"2024_Data_MC_Comp_finalzedSelections_highMET_fixedHotspotTrue_correctSFs/probe_pT_noCuts/probe_pT_noCuts.root\")\n",
    "Muon_pT_noClusters_2024_file_DT = rt.TFile.Open(\"2024_DT_Data_MC_Comp_finalzedSelections_highMET_DTs/probe_pT_noCuts/probe_pT_noCuts.root\")\n",
    "\n",
    "Data_hist_2024 = Muon_pT_noClusters_2024_file.Get(\"Data_hist\")\n",
    "CSC_Data_hist_2024 = Muon_pT_noClusters_2024_file_CSC.Get(\"Data_hist\")\n",
    "CSC_Data_hist_2024.Scale(1/MC_kFactors[\"2024\"])\n",
    "DT_Data_hist_2024 = Muon_pT_noClusters_2024_file_DT.Get(\"Data_hist\")\n",
    "DT_Data_hist_2024.Scale(1/MC_kFactors[\"2024\"])\n",
    "\n",
    "CSC_Data_hist_2024.Add(DT_Data_hist_2024)\n",
    "\n",
    "Data_2024_Eff = rt.TEfficiency(CSC_Data_hist_2024, Data_hist_2024)\n",
    "Data_2024_Eff.SetStatisticOption(rt.TEfficiency.kFCP)\n",
    "\n",
    "Data_2024_Eff.SetTitle(\";Muon pT [GeV];DT+CSC Cluster Reconstruction Efficiency\")\n",
    "Data_2024_Eff.SetLineColor(rt.kBlue)\n",
    "leg.AddEntry(Data_2024_Eff, \"2024 Data\", \"lep\")\n",
    "\n",
    "MC_hist_2024 = Muon_pT_noClusters_2024_file.Get(\"MC_hist\")\n",
    "CSC_MC_hist_2024 = Muon_pT_noClusters_2024_file_CSC.Get(\"MC_hist\")\n",
    "CSC_MC_hist_2022.Scale(1/MC_kFactors[\"2024\"])\n",
    "DT_MC_hist_2024 = Muon_pT_noClusters_2024_file_DT.Get(\"MC_hist\")\n",
    "CSC_MC_hist_2024.Scale(1/MC_kFactors[\"2024\"])\n",
    "\n",
    "CSC_MC_hist_2024.Add(DT_MC_hist_2024)\n",
    "\n",
    "MC_2024_Eff = rt.TEfficiency(CSC_MC_hist_2024, MC_hist_2024)\n",
    "MC_2024_Eff.SetStatisticOption(rt.TEfficiency.kFCP)\n",
    "\n",
    "MC_2024_Eff.SetTitle(\";Muon pT [GeV];DT+CSC Cluster Reconstruction Efficiency\")\n",
    "MC_2024_Eff.SetLineColor(rt.kGreen)\n",
    "leg.AddEntry(MC_2024_Eff, \"2024 MC\", \"lep\")\n",
    "\n",
    "\n"
   ]
  },
  {
   "cell_type": "code",
   "execution_count": 15,
   "id": "9a05c1b4",
   "metadata": {},
   "outputs": [
    {
     "name": "stderr",
     "output_type": "stream",
     "text": [
      "Warning in <TCanvas::Constructor>: Deleting canvas with same name: c\n"
     ]
    },
    {
     "data": {
      "image/png": "[encoded data removed]",
      "text/plain": [
       "<IPython.core.display.Image object>"
      ]
     },
     "metadata": {},
     "output_type": "display_data"
    }
   ],
   "source": [
    "C = rt.TCanvas(\"c\",\"c\", 1000,800)\n",
    "leg = rt.TLegend(0.7, 0.15, 0.9, 0.3)\n",
    "\n",
    "Data_2023_Eff.SetLineColor(rt.kBlack)\n",
    "Data_2023_Eff.SetTitle(\"23 vs 24 Comparison;Muon pT [GeV];DT+CSC Cluster Reconstruction Efficiency\")\n",
    "leg.AddEntry(Data_2023_Eff, \"Data 2023\", \"lep\")\n",
    "Data_2023_Eff.Draw(\"E1\")\n",
    "\n",
    "MC_2023_Eff.SetLineColor(rt.kRed)\n",
    "leg.AddEntry(MC_2023_Eff, \"MC 2023\", \"lep\")\n",
    "MC_2023_Eff.Draw(\"E1 same\")\n",
    "\n",
    "\n",
    "Data_2024_Eff.SetLineColor(rt.kBlue)\n",
    "leg.AddEntry(Data_2024_Eff, \"Data 2024\", \"lep\")\n",
    "Data_2024_Eff.Draw(\"E1 same\")\n",
    "\n",
    "MC_2024_Eff.SetLineColor(rt.kGreen)\n",
    "leg.AddEntry(MC_2024_Eff, \"MC 2024\", \"lep\")\n",
    "MC_2024_Eff.Draw(\"E1 same\")\n",
    "\n",
    "leg.Draw(\"same\")\n",
    "C.Update()\n",
    "C.Draw()\n",
    "Data_2023_Eff.GetPaintedGraph().GetYaxis().SetRangeUser(0,0.5)"
   ]
  },
  {
   "cell_type": "code",
   "execution_count": 13,
   "id": "c2a8b9e1",
   "metadata": {},
   "outputs": [
    {
     "name": "stderr",
     "output_type": "stream",
     "text": [
      "Warning in <TCanvas::Constructor>: Deleting canvas with same name: c\n"
     ]
    },
    {
     "data": {
      "image/png": "[encoded data removed]",
      "text/plain": [
       "<IPython.core.display.Image object>"
      ]
     },
     "metadata": {},
     "output_type": "display_data"
    }
   ],
   "source": [
    "C = rt.TCanvas(\"c\",\"c\", 1000,800)\n",
    "leg = rt.TLegend(0.7, 0.15, 0.9, 0.3)\n",
    "\n",
    "Data_2022_Eff.SetLineColor(rt.kBlack)\n",
    "leg.AddEntry(Data_2022_Eff, \"2022\", \"lep\")\n",
    "Data_2022_Eff.SetTitle(\"Data Comparison;Muon pT [GeV];DT+CSC Cluster Reconstruction Efficiency\")\n",
    "Data_2022_Eff.Draw(\"E1\")\n",
    "\n",
    "Data_2022EE_Eff.SetLineColor(rt.kRed)\n",
    "leg.AddEntry(Data_2022EE_Eff, \"2022EE\", \"lep\")\n",
    "Data_2022EE_Eff.Draw(\"E1 same\")\n",
    "\n",
    "Data_2023_Eff.SetLineColor(rt.kBlue)\n",
    "leg.AddEntry(Data_2023_Eff, \"2023\", \"lep\")\n",
    "Data_2023_Eff.Draw(\"E1 same\")\n",
    "\n",
    "Data_2023BPix_Eff.SetLineColor(rt.kGreen)\n",
    "leg.AddEntry(Data_2023BPix_Eff, \"2023BPix\", \"lep\")\n",
    "Data_2023BPix_Eff.Draw(\"E1 same\")\n",
    "\n",
    "Data_2024_Eff.SetLineColor(rt.kOrange)\n",
    "leg.AddEntry(Data_2024_Eff, \"2024\", \"lep\")\n",
    "Data_2024_Eff.Draw(\"E1 same\")\n",
    "\n",
    "leg.Draw(\"same\")\n",
    "C.Update()\n",
    "C.Draw()\n",
    "Data_2022_Eff.GetPaintedGraph().GetYaxis().SetRangeUser(0,0.5)"
   ]
  },
  {
   "cell_type": "code",
   "execution_count": 14,
   "id": "af0d1e46",
   "metadata": {},
   "outputs": [
    {
     "name": "stderr",
     "output_type": "stream",
     "text": [
      "Warning in <TCanvas::Constructor>: Deleting canvas with same name: c\n"
     ]
    },
    {
     "data": {
      "image/png": "[encoded data removed]",
      "text/plain": [
       "<IPython.core.display.Image object>"
      ]
     },
     "metadata": {},
     "output_type": "display_data"
    }
   ],
   "source": [
    "C = rt.TCanvas(\"c\",\"c\", 1000,800)\n",
    "leg = rt.TLegend(0.7, 0.15, 0.9, 0.3)\n",
    "\n",
    "MC_2022_Eff.SetLineColor(rt.kBlack)\n",
    "leg.AddEntry(MC_2022_Eff, \"2022\", \"lep\")\n",
    "MC_2022_Eff.SetTitle(\"MC Comparison;Muon pT [GeV];DT+CSC Cluster Reconstruction Efficiency\")\n",
    "MC_2022_Eff.Draw(\"E1\")\n",
    "\n",
    "MC_2022EE_Eff.SetLineColor(rt.kRed)\n",
    "leg.AddEntry(MC_2022EE_Eff, \"2022EE\", \"lep\")\n",
    "MC_2022EE_Eff.Draw(\"E1 same\")\n",
    "\n",
    "MC_2023_Eff.SetLineColor(rt.kBlue)\n",
    "leg.AddEntry(MC_2023_Eff, \"2023\", \"lep\")\n",
    "MC_2023_Eff.Draw(\"E1 same\")\n",
    "\n",
    "MC_2023BPix_Eff.SetLineColor(rt.kGreen)\n",
    "leg.AddEntry(MC_2023BPix_Eff, \"2023BPix\", \"lep\")\n",
    "MC_2023BPix_Eff.Draw(\"E1 same\")\n",
    "\n",
    "MC_2024_Eff.SetLineColor(rt.kOrange)\n",
    "leg.AddEntry(MC_2024_Eff, \"2024\", \"lep\")\n",
    "MC_2024_Eff.Draw(\"E1 same\")\n",
    "\n",
    "leg.Draw(\"same\")\n",
    "C.Update()\n",
    "C.Draw()\n",
    "MC_2022_Eff.GetPaintedGraph().GetYaxis().SetRangeUser(0,0.5)"
   ]
  },
  {
   "cell_type": "code",
   "execution_count": null,
   "id": "e4efa6e5",
   "metadata": {},
   "outputs": [],
   "source": []
  }
 ],
 "metadata": {
  "kernelspec": {
   "display_name": "Python 3 (ipykernel)",
   "language": "python",
   "name": "python3"
  },
  "language_info": {
   "codemirror_mode": {
    "name": "ipython",
    "version": 3
   },
   "file_extension": ".py",
   "mimetype": "text/x-python",
   "name": "python",
   "nbconvert_exporter": "python",
   "pygments_lexer": "ipython3",
   "version": "3.9.12"
  }
 },
 "nbformat": 4,
 "nbformat_minor": 5
}
