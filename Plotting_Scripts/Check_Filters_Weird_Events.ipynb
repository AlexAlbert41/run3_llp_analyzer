{
 "cells": [
  {
   "cell_type": "code",
   "execution_count": 1,
   "id": "162452cd",
   "metadata": {},
   "outputs": [
    {
     "name": "stdout",
     "output_type": "stream",
     "text": [
      "Welcome to JupyROOT 6.28/00\n"
     ]
    }
   ],
   "source": [
    "import numpy as np\n",
    "import pandas as pd\n",
    "import uproot\n",
    "import matplotlib.pyplot as plt\n",
    "import sys\n",
    "sys.path.insert(0,\"../\")\n",
    "import mplhep as hep\n",
    "import pickle\n",
    "import glob\n",
    "import ROOT\n",
    "import coffea\n",
    "import awkward as ak\n",
    "from coffea import hist, processor\n",
    "from coffea.nanoevents.methods import candidate\n",
    "from coffea.nanoevents.methods import vector\n"
   ]
  },
  {
   "cell_type": "code",
   "execution_count": 2,
   "id": "67fa57b0",
   "metadata": {},
   "outputs": [],
   "source": [
    "path_2022E = \"root://cmsxrootd.fnal.gov//store/group/lpclonglived/MergedNtuples_Run3/MuonStreams_2022_2023/merged_hadded/Run2022E.root\""
   ]
  },
  {
   "cell_type": "code",
   "execution_count": 3,
   "id": "55e464c5",
   "metadata": {},
   "outputs": [],
   "source": [
    "ak.behavior.update(candidate.behavior)\n",
    "\n",
    "def getLZDF(f,nEvents=-1,version=\"new\"): #lazy dataframe with events that have cluster matched to probe muon\n",
    "    events_raw = uproot.open(f+\":Events\")\n",
    "    testBranch = events_raw.arrays([\"run\"])\n",
    "    return testBranch\n",
    "    \n",
    "#     df = coffea.processor.LazyDataFrame(events_raw,entrystop=nEvents)\n",
    "#     start,stop = df._branchargs['entry_start'],df._branchargs['entry_stop']\n",
    "#     events = uproot.lazy(df._tree.run)\n",
    "#     events = events[start:stop]\n",
    "#     return events"
   ]
  },
  {
   "cell_type": "code",
   "execution_count": 4,
   "id": "ced8afe8",
   "metadata": {},
   "outputs": [
    {
     "data": {
      "text/plain": [
       "<Array [{run: 360019}, ... {run: 360090}] type='911836 * {\"run\": uint32}'>"
      ]
     },
     "execution_count": 4,
     "metadata": {},
     "output_type": "execute_result"
    },
    {
     "name": "stderr",
     "output_type": "stream",
     "text": [
      "Plugin version SecClnt v5.5.0 is incompatible with secztn v5.6.9 (must be <= 5.5.x) in sec.protocol libXrdSecztn-5.so\n"
     ]
    }
   ],
   "source": [
    "getLZDF(path_2022E)"
   ]
  },
  {
   "cell_type": "code",
   "execution_count": 5,
   "id": "95a2a37a",
   "metadata": {},
   "outputs": [
    {
     "ename": "NameError",
     "evalue": "name 'events_2022E' is not defined",
     "output_type": "error",
     "traceback": [
      "\u001b[0;31m---------------------------------------------------------------------------\u001b[0m",
      "\u001b[0;31mNameError\u001b[0m                                 Traceback (most recent call last)",
      "\u001b[0;32m/tmp/ipykernel_963/995799838.py\u001b[0m in \u001b[0;36m<module>\u001b[0;34m\u001b[0m\n\u001b[0;32m----> 1\u001b[0;31m \u001b[0mevents_2022E\u001b[0m\u001b[0;34m.\u001b[0m\u001b[0mfields\u001b[0m\u001b[0;34m\u001b[0m\u001b[0;34m\u001b[0m\u001b[0m\n\u001b[0m",
      "\u001b[0;31mNameError\u001b[0m: name 'events_2022E' is not defined"
     ]
    }
   ],
   "source": [
    "events_2022E.fields"
   ]
  },
  {
   "cell_type": "code",
   "execution_count": null,
   "id": "c651ad66",
   "metadata": {},
   "outputs": [],
   "source": []
  }
 ],
 "metadata": {
  "kernelspec": {
   "display_name": "Python 3 (ipykernel)",
   "language": "python",
   "name": "python3"
  },
  "language_info": {
   "codemirror_mode": {
    "name": "ipython",
    "version": 3
   },
   "file_extension": ".py",
   "mimetype": "text/x-python",
   "name": "python",
   "nbconvert_exporter": "python",
   "pygments_lexer": "ipython3",
   "version": "3.9.12"
  }
 },
 "nbformat": 4,
 "nbformat_minor": 5
}
