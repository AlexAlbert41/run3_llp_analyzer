{
 "cells": [
  {
   "cell_type": "markdown",
   "id": "fd23fcbe",
   "metadata": {},
   "source": [
    "## Data/MC Comparison for Brem-Induced Clusters\n",
    "\n",
    "#### Comparison of Clusters in Data vs MC. This is to validate the signal reconstruction process. We compare cluster from Z->MuMu events in Data vs those from a DY->ZMuMu (50-120 GeV for MLL). Both Data and MC are from 2023B, with an initial DBSCAN skim applied"
   ]
  },
  {
   "cell_type": "code",
   "execution_count": 1,
   "id": "15ea2e80",
   "metadata": {},
   "outputs": [
    {
     "name": "stdout",
     "output_type": "stream",
     "text": [
      "Welcome to JupyROOT 6.28/00\n"
     ]
    }
   ],
   "source": [
    "import numpy as np\n",
    "import pandas as pd\n",
    "import uproot\n",
    "import matplotlib.pyplot as plt\n",
    "import sys\n",
    "sys.path.insert(0,\"../\")\n",
    "import mplhep as hep\n",
    "import pickle\n",
    "import glob\n",
    "import ROOT as rt\n",
    "import coffea\n",
    "import awkward as ak\n",
    "from coffea import hist, processor\n",
    "from coffea.nanoevents.methods import candidate\n",
    "from coffea.nanoevents.methods import vector\n"
   ]
  },
  {
   "cell_type": "code",
   "execution_count": 2,
   "id": "3c600602",
   "metadata": {},
   "outputs": [],
   "source": [
    "sys.path.append(\"/uscms/home/amalbert/nobackup/CMSSW_14_1_0_pre4/src/RazorCommon/Tools/bin\")\n",
    "import importlib\n",
    "import getMuonScaleFactor"
   ]
  },
  {
   "cell_type": "code",
   "execution_count": 58,
   "id": "626273c8",
   "metadata": {},
   "outputs": [],
   "source": [
    "#paths\n",
    "#data_path = \"/eos/uscms/store/group/lpclonglived/amalbert/Data_MC_Comp_TnP/Run2023B_skim_TnPOutput_MuonFilters_goodLumi.root\"\n",
    "#MC_path = \"/uscms/home/amalbert/nobackup/CMSSW_10_6_20/src/run3_llp_analyzer/MCSummer23_DY50to120_postBPix_TnP_Output_DNNVariables_forDNN_617pb_weighted.root\"\n",
    "MC_path = \"/uscms/home/amalbert/nobackup/CMSSW_10_6_20/src/run3_llp_analyzer/testMC_matchTrigObj_printTagCount.root\"\n",
    "#data_path = \"/eos/uscms/store/group/lpclonglived/amalbert/Data_MC_Comp_TnP/MCSummer23_DY50to120_postBPix_newestTnP_Output_617pb_weighted.root\"\n",
    "data_path= \"/uscms/home/amalbert/nobackup/CMSSW_10_6_20/src/run3_llp_analyzer/Run2023B_TnP_matchTriggerObj_goodLumi.root\""
   ]
  },
  {
   "cell_type": "code",
   "execution_count": 59,
   "id": "30b8fdb2",
   "metadata": {},
   "outputs": [
    {
     "name": "stderr",
     "output_type": "stream",
     "text": [
      "Error in <THashList::Delete>: A list is accessing an object (0x13235a50) already deleted (list name = THashList)\n"
     ]
    }
   ],
   "source": [
    "data_TFile = rt.TFile(data_path)\n",
    "MC_TFile = rt.TFile(MC_path)\n",
    "\n",
    "data_tree = data_TFile.Get(\"MuonSystem\")\n",
    "MC_tree = MC_TFile.Get(\"MuonSystem\")"
   ]
  },
  {
   "cell_type": "code",
   "execution_count": 60,
   "id": "4c8ef673",
   "metadata": {},
   "outputs": [],
   "source": [
    "ak.behavior.update(candidate.behavior)\n",
    "\n",
    "def getLZDF(f,nEvents=-1,version=\"new\"): #lazy dataframe with events that have cluster matched to probe muon\n",
    "    events_raw = uproot.open(f)['MuonSystem']\n",
    "    df = coffea.processor.LazyDataFrame(events_raw,entrystop=nEvents)\n",
    "    start,stop = df._branchargs['entry_start'],df._branchargs['entry_stop']\n",
    "    events = uproot.lazy(df._tree)\n",
    "    events = events[start:stop]\n",
    "    return events"
   ]
  },
  {
   "cell_type": "code",
   "execution_count": 61,
   "id": "42ba9050",
   "metadata": {},
   "outputs": [],
   "source": [
    "events_data = getLZDF(data_path)\n",
    "events_MC = getLZDF(MC_path)"
   ]
  },
  {
   "cell_type": "code",
   "execution_count": 62,
   "id": "b682cddf",
   "metadata": {},
   "outputs": [
    {
     "data": {
      "text/plain": [
       "['runNum',\n",
       " 'MC_condition',\n",
       " 'lumiSec',\n",
       " 'evtNum',\n",
       " 'mH',\n",
       " 'mX',\n",
       " 'ctau',\n",
       " 'category',\n",
       " 'npv',\n",
       " 'npu',\n",
       " 'weight',\n",
       " 'lepOverallSF',\n",
       " 'pileupWeight',\n",
       " 'numProbeMuons',\n",
       " 'Flag_HBHENoiseFilter',\n",
       " 'Flag_BadPFMuonFilter',\n",
       " 'Flag_BadPFMuonDzFilter',\n",
       " 'Flag_HBHEIsoNoiseFilter',\n",
       " 'Flag_CSCTightHaloFilter',\n",
       " 'Flag_globalSuperTightHalo2016Filter',\n",
       " 'Flag_goodVertices',\n",
       " 'Flag_ecalBadCalibFilter',\n",
       " 'Flag_BadChargedCandidateFilter',\n",
       " 'Flag_eeBadScFilter',\n",
       " 'Flag_hfNoisyHitsFilter',\n",
       " 'Flag_all',\n",
       " 'Flag2_HBHENoiseFilter',\n",
       " 'Flag2_HBHEIsoNoiseFilter',\n",
       " 'Flag2_BadPFMuonFilter',\n",
       " 'Flag2_globalSuperTightHalo2016Filter',\n",
       " 'Flag2_globalTightHalo2016Filter',\n",
       " 'Flag2_BadChargedCandidateFilter',\n",
       " 'Flag2_EcalDeadCellTriggerPrimitiveFilter',\n",
       " 'Flag2_ecalBadCalibFilter',\n",
       " 'Flag2_eeBadScFilter',\n",
       " 'Flag2_all',\n",
       " 'rho',\n",
       " 'met',\n",
       " 'metPhi',\n",
       " 'gHiggsPt',\n",
       " 'gHiggsE',\n",
       " 'gHiggsEta',\n",
       " 'gHiggsPhi',\n",
       " 'nCscRings',\n",
       " 'nDtRings',\n",
       " 'nCscRechitClusters',\n",
       " 'cscRechitCluster_match_gLLP',\n",
       " 'cscRechitCluster_match_gLLP_minDeltaR',\n",
       " 'cscRechitCluster_match_gLLP_index',\n",
       " 'cscRechitCluster_match_gLLP_eta',\n",
       " 'cscRechitCluster_match_gLLP_phi',\n",
       " 'cscRechitCluster_match_gLLP_decay_r',\n",
       " 'cscRechitCluster_match_gLLP_decay_z',\n",
       " 'cscRechitCluster_match_gLLP_csc',\n",
       " 'cscRechitCluster_match_gLLP_dt',\n",
       " 'cscRechitCluster_match_gLLP_e',\n",
       " 'cscRechitClusterX',\n",
       " 'cscRechitClusterY',\n",
       " 'cscRechitClusterZ',\n",
       " 'cscRechitClusterTimeWeighted',\n",
       " 'cscRechitClusternXY',\n",
       " 'cscRechitClusternZ',\n",
       " 'cscRechitClusterXSpread',\n",
       " 'cscRechitClusterYSpread',\n",
       " 'cscRechitClusterZSpread',\n",
       " 'cscRechitClusterXYSpread',\n",
       " 'cscRechitClusterRSpread',\n",
       " 'cscRechitClusterEtaPhiSpread',\n",
       " 'cscRechitClusterEtaSpread',\n",
       " 'cscRechitClusterPhiSpread',\n",
       " 'cscRechitClusterDeltaRSpread',\n",
       " 'cscRechitClusterMajorAxis',\n",
       " 'cscRechitClusterMinorAxis',\n",
       " 'cscRechitClusterSkewX',\n",
       " 'cscRechitClusterSkewY',\n",
       " 'cscRechitClusterSkewZ',\n",
       " 'cscRechitClusterKurtX',\n",
       " 'cscRechitClusterKurtY',\n",
       " 'cscRechitClusterKurtZ',\n",
       " 'cscRechitClusterTimeSpreadWeightedAll',\n",
       " 'cscRechitClusterTime',\n",
       " 'cscRechitClusterTimeSpread',\n",
       " 'cscRechitClusterPhi',\n",
       " 'cscRechitClusterEta',\n",
       " 'cscRechitClusterJetVetoPt',\n",
       " 'cscRechitClusterJetVetoLooseId',\n",
       " 'cscRechitClusterJetVetoTightId',\n",
       " 'cscRechitClusterJetVetoE',\n",
       " 'cscRechitClusterMuonVetoPt',\n",
       " 'cscRechitClusterMuonVetoE',\n",
       " 'cscRechitClusterMuonVetoLooseId',\n",
       " 'cscRechitClusterMuonVetoGlobal',\n",
       " 'cscRechitCluster_match_dtSeg_0p4',\n",
       " 'cscRechitCluster_match_MB1Seg_0p4',\n",
       " 'cscRechitCluster_match_RE12_0p4',\n",
       " 'cscRechitCluster_match_RB1_0p4',\n",
       " 'cscRechitClusterSize',\n",
       " 'cscRechitClusterNStation10',\n",
       " 'cscRechitClusterAvgStation10',\n",
       " 'cscRechitClusterMaxStation',\n",
       " 'cscRechitClusterMaxStationRatio',\n",
       " 'cscRechitClusterNChamber',\n",
       " 'cscRechitClusterMaxChamber',\n",
       " 'cscRechitClusterMaxChamberRatio',\n",
       " 'cscRechitClusterNRechitChamberPlus11',\n",
       " 'cscRechitClusterNRechitChamberPlus12',\n",
       " 'cscRechitClusterNRechitChamberPlus13',\n",
       " 'cscRechitClusterNRechitChamberPlus21',\n",
       " 'cscRechitClusterNRechitChamberPlus22',\n",
       " 'cscRechitClusterNRechitChamberPlus31',\n",
       " 'cscRechitClusterNRechitChamberPlus32',\n",
       " 'cscRechitClusterNRechitChamberPlus41',\n",
       " 'cscRechitClusterNRechitChamberPlus42',\n",
       " 'cscRechitClusterNRechitChamberMinus11',\n",
       " 'cscRechitClusterNRechitChamberMinus12',\n",
       " 'cscRechitClusterNRechitChamberMinus13',\n",
       " 'cscRechitClusterNRechitChamberMinus21',\n",
       " 'cscRechitClusterNRechitChamberMinus22',\n",
       " 'cscRechitClusterNRechitChamberMinus31',\n",
       " 'cscRechitClusterNRechitChamberMinus32',\n",
       " 'cscRechitClusterNRechitChamberMinus41',\n",
       " 'cscRechitClusterNRechitChamberMinus42',\n",
       " 'cscRechitClusterMet_dPhi',\n",
       " 'cscRechitCluster_matchToProbeMuon',\n",
       " 'cscRechitCluster_matchToProbeAndJet',\n",
       " 'cscRechitCluster_matchToNotProbeMuon',\n",
       " 'cscRechitCluster_matchToHighPtJet',\n",
       " 'cscRechitCluster_matchToLowPtJet',\n",
       " 'cscRechitCluster_notMatched',\n",
       " 'cscRechitCluster_passME1112Veto',\n",
       " 'cscRechitCluster_PassTimeVeto',\n",
       " 'cscRechitCluster_HLTCscCluster_Loose_Decision',\n",
       " 'cscRechitCluster_HLTCscCluster_Medium_Decision',\n",
       " 'cscRechitCluster_HLTCscCluster_Tight_Decision',\n",
       " 'cscRechitCluster_match_gParticle_id',\n",
       " 'cscRechitCluster_match_gParticle_mother_id',\n",
       " 'cscRechitCluster_match_gParticle_cluster_deltaR',\n",
       " 'cscRechitCluster_match_gParticle_pt',\n",
       " 'nDtRechitClusters',\n",
       " 'dtRechitClusterNSegStation1',\n",
       " 'dtRechitClusterNSegStation2',\n",
       " 'dtRechitClusterNSegStation3',\n",
       " 'dtRechitClusterNSegStation4',\n",
       " 'dtRechitClusterNOppositeSegStation1',\n",
       " 'dtRechitClusterNOppositeSegStation2',\n",
       " 'dtRechitClusterNOppositeSegStation3',\n",
       " 'dtRechitClusterNOppositeSegStation4',\n",
       " 'dtRechitCluster_match_gLLP',\n",
       " 'dtRechitCluster_match_gLLP_minDeltaR',\n",
       " 'dtRechitCluster_match_gLLP_index',\n",
       " 'dtRechitCluster_match_gLLP_eta',\n",
       " 'dtRechitCluster_match_gLLP_phi',\n",
       " 'dtRechitCluster_match_gLLP_decay_r',\n",
       " 'dtRechitCluster_match_gLLP_decay_z',\n",
       " 'dtRechitCluster_match_gLLP_csc',\n",
       " 'dtRechitCluster_match_gLLP_dt',\n",
       " 'dtRechitCluster_match_gLLP_e',\n",
       " 'dtRechitClusterX',\n",
       " 'dtRechitClusterY',\n",
       " 'dtRechitClusterZ',\n",
       " 'dtRechitClusterWheel',\n",
       " 'dtRechitClusterPhi',\n",
       " 'dtRechitClusterEta',\n",
       " 'dtRechitClusterJetVetoPt',\n",
       " 'dtRechitClusterJetVetoLooseId',\n",
       " 'dtRechitClusterJetVetoTightId',\n",
       " 'dtRechitClusterJetVetoE',\n",
       " 'dtRechitClusterMuonVetoPt',\n",
       " 'dtRechitClusterMuonVetoE',\n",
       " 'dtRechitClusterMuonVetoTightId',\n",
       " 'dtRechitClusterMuonVetoLooseId',\n",
       " 'dtRechitClusterMuonVetoGlobal',\n",
       " 'dtRechitClusterOverlap',\n",
       " 'dtRechitClusterSize',\n",
       " 'dtRechitClusterNoiseHit',\n",
       " 'dtRechitClusterNoiseHitStation1',\n",
       " 'dtRechitClusterNoiseHitStation2',\n",
       " 'dtRechitClusterNoiseHitStation3',\n",
       " 'dtRechitClusterNoiseHitStation4',\n",
       " 'dtRechitClusterNStation10',\n",
       " 'dtRechitClusterAvgStation10',\n",
       " 'dtRechitClusterMaxStation',\n",
       " 'dtRechitClusterMaxStationRatio',\n",
       " 'dtRechitClusterNChamber',\n",
       " 'dtRechitClusterMaxChamber',\n",
       " 'dtRechitClusterMaxChamberRatio',\n",
       " 'dtRechitClusterNHitStation1',\n",
       " 'dtRechitClusterNHitStation2',\n",
       " 'dtRechitClusterNHitStation3',\n",
       " 'dtRechitClusterNHitStation4',\n",
       " 'dtRechitClusterMet_dPhi',\n",
       " 'dtRechitClusternXY',\n",
       " 'dtRechitClusternZ',\n",
       " 'dtRechitClusterXSpread',\n",
       " 'dtRechitClusterYSpread',\n",
       " 'dtRechitClusterZSpread',\n",
       " 'dtRechitClusterXYSpread',\n",
       " 'dtRechitClusterRSpread',\n",
       " 'dtRechitClusterEtaPhiSpread',\n",
       " 'dtRechitClusterEtaSpread',\n",
       " 'dtRechitClusterPhiSpread',\n",
       " 'dtRechitClusterDeltaRSpread',\n",
       " 'dtRechitClusterMajorAxis',\n",
       " 'dtRechitClusterMinorAxis',\n",
       " 'dtRechitClusterSkewX',\n",
       " 'dtRechitClusterSkewY',\n",
       " 'dtRechitClusterSkewZ',\n",
       " 'dtRechitClusterKurtX',\n",
       " 'dtRechitClusterKurtY',\n",
       " 'dtRechitClusterKurtZ',\n",
       " 'dtRechitCluster_match_RPChits_dPhi0p5',\n",
       " 'dtRechitCluster_match_RPCBx_dPhi0p5',\n",
       " 'dtRechitCluster_match_RB1_0p4',\n",
       " 'dtRechitCluster_match_RB1_dPhi0p5',\n",
       " 'dtRechitCluster_match_MB1Seg_0p4',\n",
       " 'dtRechitCluster_match_MB1Seg_0p5',\n",
       " 'dtRechitCluster_match_MB1hits_0p4',\n",
       " 'dtRechitCluster_match_MB1hits_0p5',\n",
       " 'dtRechitCluster_match_MB1hits_cosmics_plus',\n",
       " 'dtRechitCluster_match_MB1hits_cosmics_minus',\n",
       " 'dtRechitCluster_matchToProbeMuon',\n",
       " 'nGLLP',\n",
       " 'gLLP_eta',\n",
       " 'gLLP_phi',\n",
       " 'gLLP_csc',\n",
       " 'gLLP_dt',\n",
       " 'gLLP_beta',\n",
       " 'gLLP_e',\n",
       " 'gLLP_pt',\n",
       " 'gLLP_ctau',\n",
       " 'gLLP_decay_vertex_r',\n",
       " 'gLLP_decay_vertex_x',\n",
       " 'gLLP_decay_vertex_y',\n",
       " 'gLLP_decay_vertex_z',\n",
       " 'nLeptons',\n",
       " 'lepE',\n",
       " 'lepPt',\n",
       " 'lepEta',\n",
       " 'lepPhi',\n",
       " 'lepPdgId',\n",
       " 'lepDZ',\n",
       " 'lepTightId',\n",
       " 'lepPassId',\n",
       " 'lepFromZ',\n",
       " 'lepEff',\n",
       " 'lepSF',\n",
       " 'lepTriggerSF',\n",
       " 'lepTightIdSF',\n",
       " 'lepLooseIdSF',\n",
       " 'lepTightIsoSF',\n",
       " 'lepLooseIsoSF',\n",
       " 'lepTriggerMCEfficiency',\n",
       " 'lepTightIdMCEfficiency',\n",
       " 'lepLooseIdMCEfficiency',\n",
       " 'lepTightIsoMCEfficiency',\n",
       " 'lepLooseIsoMCEfficiency',\n",
       " 'lepTag',\n",
       " 'lepPassProbe',\n",
       " 'lepPassLooseIso',\n",
       " 'lepPassTightIso',\n",
       " 'lepPassVTightIso',\n",
       " 'lepPassVVTightIso',\n",
       " 'lepPassVetoId',\n",
       " 'MT',\n",
       " 'ZMass1',\n",
       " 'ZMass',\n",
       " 'ZPt',\n",
       " 'ZEta',\n",
       " 'ZPhi',\n",
       " 'ZleptonIndex1',\n",
       " 'ZleptonIndex2',\n",
       " 'nJets',\n",
       " 'jetE',\n",
       " 'jetPt',\n",
       " 'jetEta',\n",
       " 'jetPhi',\n",
       " 'jetTightPassId',\n",
       " 'HLT_CscCluster_Loose',\n",
       " 'HLT_CscCluster_Medium',\n",
       " 'HLT_CscCluster_Tight',\n",
       " 'HLT_IsoMu20',\n",
       " 'HLT_IsoMu24',\n",
       " 'L1_SingleMuShower_Nominal',\n",
       " 'L1_SingleMuShower_Tight',\n",
       " 'cscRechitClusterDNN_bkgMC_plusBeamHalo']"
      ]
     },
     "execution_count": 62,
     "metadata": {},
     "output_type": "execute_result"
    }
   ],
   "source": [
    "events_data.fields"
   ]
  },
  {
   "cell_type": "code",
   "execution_count": 63,
   "id": "5bc11824",
   "metadata": {},
   "outputs": [
    {
     "data": {
      "text/plain": [
       "<Array [True, True] type='2 * bool'>"
      ]
     },
     "execution_count": 63,
     "metadata": {},
     "output_type": "execute_result"
    }
   ],
   "source": [
    "events_data.lepTag[15]"
   ]
  },
  {
   "cell_type": "code",
   "execution_count": 64,
   "id": "d8802adf",
   "metadata": {},
   "outputs": [
    {
     "data": {
      "text/plain": [
       "<Array [[0.895, -1e+03, ... -1e+03, -1e+03]] type='1348 * 30 * float32'>"
      ]
     },
     "execution_count": 64,
     "metadata": {},
     "output_type": "execute_result"
    }
   ],
   "source": [
    "events_data.cscRechitClusterDNN_bkgMC_plusBeamHalo"
   ]
  },
  {
   "cell_type": "code",
   "execution_count": 65,
   "id": "ca18cb1c",
   "metadata": {},
   "outputs": [
    {
     "data": {
      "text/plain": [
       "1349"
      ]
     },
     "execution_count": 65,
     "metadata": {},
     "output_type": "execute_result"
    }
   ],
   "source": [
    "data_tree.GetEntries()"
   ]
  },
  {
   "cell_type": "code",
   "execution_count": 66,
   "id": "a02499e8",
   "metadata": {},
   "outputs": [],
   "source": [
    "importlib.reload(getMuonScaleFactor)\n",
    "data_SF_LooseID = getMuonScaleFactor.getLooseIDEffArr_BPix(np.array(events_data.lepPt), np.array(events_data.lepEta))\n",
    "MC_SF_LooseID = getMuonScaleFactor.getLooseIDEffArr_BPix(np.array(events_MC.lepPt), np.array(events_MC.lepEta))"
   ]
  },
  {
   "cell_type": "code",
   "execution_count": 67,
   "id": "4ae3c4dc",
   "metadata": {},
   "outputs": [],
   "source": [
    "eventsTwoClusters_data = events_data[events_data.nCscRechitClusters==2]"
   ]
  },
  {
   "cell_type": "code",
   "execution_count": 68,
   "id": "45e6d8d6",
   "metadata": {},
   "outputs": [
    {
     "data": {
      "text/plain": [
       "253"
      ]
     },
     "execution_count": 68,
     "metadata": {},
     "output_type": "execute_result"
    }
   ],
   "source": [
    "ak.size(eventsTwoClusters_data.runNum)"
   ]
  },
  {
   "cell_type": "code",
   "execution_count": 69,
   "id": "29e5c67d",
   "metadata": {},
   "outputs": [
    {
     "name": "stdout",
     "output_type": "stream",
     "text": [
      "3259\n",
      "3256\n"
     ]
    }
   ],
   "source": [
    "print(ak.count_nonzero(ak.flatten(events_MC.cscRechitCluster_matchToProbeMuon)))\n",
    "print(ak.count_nonzero(ak.flatten(events_MC.cscRechitCluster_matchToProbeAndJet)))"
   ]
  },
  {
   "cell_type": "code",
   "execution_count": 120,
   "id": "6fa33e17",
   "metadata": {},
   "outputs": [],
   "source": [
    "def makeEventMask(events, noMaskList: list=[]):\n",
    "    mask = ak.flatten(events.cscRechitCluster_matchToProbeMuon)\n",
    "    if \"forward_veto\" not in noMaskList:\n",
    "        mask = ak.mask(mask, ak.flatten(events.cscRechitCluster_passME1112Veto))\n",
    "    if \"timespread_veto\" not in noMaskList:\n",
    "        mask = ak.mask(mask, ak.flatten(events.cscRechitClusterTimeSpreadWeightedAll)<20)\n",
    "    if \"time_veto\" not in noMaskList:\n",
    "        mask = ak.mask(mask, ak.flatten(events.cscRechitClusterTimeWeighted)<12.5)\n",
    "        mask = ak.mask(mask, ak.flatten(events.cscRechitClusterTimeWeighted)>-5)\n",
    "    if \"DNN_veto\" not in noMaskList:\n",
    "        remove9999 = ak.mask(ak.flatten(events.cscRechitClusterDNN_bkgMC_plusBeamHalo), ak.flatten(events.cscRechitClusterDNN_bkgMC_plusBeamHalo)>0)\n",
    "        remove9999 = remove9999[~ak.is_none(remove9999)]\n",
    "        DNNMask = remove9999>0.96\n",
    "        mask = ak.mask(mask, DNNMask)\n",
    "    if \"clusterSize_veto\" not in noMaskList:\n",
    "        mask = ak.mask(mask, ak.flatten(events.cscRechitClusterSize)>160)\n",
    "    \n",
    "    return mask"
   ]
  },
  {
   "cell_type": "code",
   "execution_count": 145,
   "id": "6fab838d",
   "metadata": {},
   "outputs": [
    {
     "name": "stdout",
     "output_type": "stream",
     "text": [
      "Data Numerator:  12\n",
      "Forward Veto Efficiency:  92.3076923076923\n",
      "Timespread Veto Efficiency:  100.0\n",
      "Time Veto Efficiency:  85.71428571428571\n",
      "DNN Veto Efficiency:  36.36363636363637\n",
      "ClusterSize Veto Efficiency:  12.0\n"
     ]
    }
   ],
   "source": [
    "# data efficiencies\n",
    "oneClusterData = ak.mask(events_data, events_data.nCscRechitClusters==1)\n",
    "oneClusterData = oneClusterData[~ak.is_none(oneClusterData)]\n",
    "num = ak.count_nonzero(makeEventMask(oneClusterData))\n",
    "print(\"Data Numerator: \", num)\n",
    "\n",
    "denom_forward = ak.count_nonzero(makeEventMask(oneClusterData, ['forward_veto']))\n",
    "print(\"Forward Veto Efficiency: \", num/denom_forward*100)\n",
    "\n",
    "denom_timespread = ak.count_nonzero(makeEventMask(oneClusterData, ['timespread_veto']))\n",
    "print(\"Timespread Veto Efficiency: \", num/denom_timespread*100)\n",
    "\n",
    "denom_time = ak.count_nonzero(makeEventMask(oneClusterData, ['time_veto']))\n",
    "print(\"Time Veto Efficiency: \", num/denom_time*100)\n",
    "\n",
    "denom_DNN = ak.count_nonzero(makeEventMask(oneClusterData, ['DNN_veto']))\n",
    "print(\"DNN Veto Efficiency: \", num/denom_DNN*100)\n",
    "\n",
    "denom_clusterSize = ak.count_nonzero(makeEventMask(oneClusterData, ['clusterSize_veto']))\n",
    "print(\"ClusterSize Veto Efficiency: \", num/denom_clusterSize*100)"
   ]
  },
  {
   "cell_type": "code",
   "execution_count": 141,
   "id": "66789e7f",
   "metadata": {},
   "outputs": [
    {
     "name": "stdout",
     "output_type": "stream",
     "text": [
      "MC Numerator:  55.052162\n",
      "Forward Veto Efficiency:  95.83332538604736\n",
      "Timespread Veto Efficiency:  100.0\n",
      "Time Veto Efficiency:  100.0\n",
      "DNN Veto Efficiency:  53.24074029922485\n",
      "ClusterSize Veto Efficiency:  22.86282181739807\n"
     ]
    }
   ],
   "source": [
    "# MC efficiencies\n",
    "oneClusterMC = ak.mask(events_MC, events_MC.nCscRechitClusters==1)\n",
    "oneClusterMC = oneClusterMC[~ak.is_none(oneClusterMC)]\n",
    "masked_weights = ak.mask(oneClusterMC.weight, makeEventMask(oneClusterMC))\n",
    "num = ak.sum(masked_weights)\n",
    "print(\"MC Numerator: \", num)\n",
    "\n",
    "denom_forward = ak.sum(ak.mask(oneClusterMC.weight, makeEventMask(oneClusterMC, ['forward_veto'])))\n",
    "print(\"Forward Veto Efficiency: \", num/denom_forward*100)\n",
    "\n",
    "denom_timespread = ak.sum(ak.mask(oneClusterMC.weight, makeEventMask(oneClusterMC, ['timespread_veto'])))\n",
    "print(\"Timespread Veto Efficiency: \", num/denom_timespread*100)\n",
    "\n",
    "denom_time = ak.sum(ak.mask(oneClusterMC.weight, makeEventMask(oneClusterMC, ['time_veto'])))\n",
    "print(\"Time Veto Efficiency: \", num/denom_time*100)\n",
    "\n",
    "denom_DNN = ak.sum(ak.mask(oneClusterMC.weight, makeEventMask(oneClusterMC, ['DNN_veto'])))\n",
    "print(\"DNN Veto Efficiency: \", num/denom_DNN*100)\n",
    "\n",
    "denom_clusterSize = ak.sum(ak.mask(oneClusterMC.weight, makeEventMask(oneClusterMC, ['clusterSize_veto'])))\n",
    "print(\"ClusterSize Veto Efficiency: \", num/denom_clusterSize*100)"
   ]
  },
  {
   "cell_type": "code",
   "execution_count": 113,
   "id": "f9b137a6",
   "metadata": {},
   "outputs": [
    {
     "data": {
      "text/plain": [
       "3163"
      ]
     },
     "execution_count": 113,
     "metadata": {},
     "output_type": "execute_result"
    }
   ],
   "source": [
    "MC_tree.GetEntries()"
   ]
  },
  {
   "cell_type": "code",
   "execution_count": 80,
   "id": "c279379c",
   "metadata": {},
   "outputs": [
    {
     "data": {
      "text/plain": [
       "1650"
      ]
     },
     "execution_count": 80,
     "metadata": {},
     "output_type": "execute_result"
    }
   ],
   "source": [
    "ak.mask(ak.flatten(events_data.cscRechitClusterDNN_bkgMC_plusBeamHalo), ak.flatten(events_data.cscRechitClusterDNN_bkgMC_plusBeamHalo)>0)\n",
    "np.count_nonzero(ak.mask(ak.flatten(events_data.cscRechitClusterDNN_bkgMC_plusBeamHalo), ak.flatten(events_data.cscRechitClusterDNN_bkgMC_plusBeamHalo)>0))"
   ]
  },
  {
   "cell_type": "code",
   "execution_count": 77,
   "id": "e556225e",
   "metadata": {},
   "outputs": [
    {
     "data": {
      "text/plain": [
       "<Array [0.895, -1e+03, ... -1e+03, -1e+03] type='40440 * float32'>"
      ]
     },
     "execution_count": 77,
     "metadata": {},
     "output_type": "execute_result"
    }
   ],
   "source": [
    "ak.flatten(events_data.cscRechitClusterDNN_bkgMC_plusBeamHalo)"
   ]
  },
  {
   "cell_type": "code",
   "execution_count": 95,
   "id": "5b26b218",
   "metadata": {},
   "outputs": [],
   "source": [
    "rt.gStyle.SetOptStat(0)\n",
    "def make_ratio_plot(h_list_in, title = \"\", label = \"\", fit = False, in_tags = None, ratio_bounds = [0.1, 4], logy = False, ratio_index = 0, draw_opt = ['E2','E1'], text = \"\", scale=False, scales = [1,1]):\n",
    "    h_list = []\n",
    "    if in_tags == None:\n",
    "        tag = []\n",
    "    else:\n",
    "        tag = in_tags\n",
    "    for i, h in enumerate(h_list_in):\n",
    "        h_list.append(h.Clone('h{}aux{}'.format(i, label)))\n",
    "        if in_tags == None:\n",
    "            tag.append(h.GetTitle())\n",
    "    #print(\"tags: \", tag)\n",
    "    c_out = rt.TCanvas(\"c_out_ratio\"+label, \"c_out_ratio\"+label, 800, 800)\n",
    "    pad1 = rt.TPad(\"pad1\", \"pad1\", 0, 0.3, 1, 1.0)\n",
    "    pad1.SetBottomMargin(0.03)\n",
    "    pad1.SetLeftMargin(0.15)\n",
    "    pad1.SetRightMargin(0.04)# pad2.SetGrid()\n",
    "    if logy:\n",
    "        pad1.SetLogy()\n",
    "\n",
    "    pad1.Draw()\n",
    "    pad1.cd()\n",
    "\n",
    "    leg = rt.TLegend(0.5, 0.65, 0.9, 0.92)\n",
    "    leg = rt.TLegend(0.7, 0.65, 0.9, 0.92)\n",
    "\n",
    "    #leg = rt.TLegend(0.2, 0.7, 0.5, 0.9)\n",
    "    # leg = rt.TLegend(0.7, 0.2, 0.9, 0.4)\n",
    "    leg.SetBorderSize(0)\n",
    "    leg.SetTextSize(0.045)\n",
    "    leg.SetFillStyle(0)\n",
    "    c_out.cd(1)\n",
    "\n",
    "    scaled_h_list = []\n",
    "    if scale:\n",
    "        for i, h_unscaled in enumerate(h_list):\n",
    "            #h = h_unscaled.Clone()\n",
    "            #h = h_unscaled.Scale(1/scales[i])\n",
    "            #scaled_h_list.append(h_unscaled.Clone())\n",
    "            h_unscaled.Scale(1/scales[i])\n",
    "            scaled_h_list.append(h_unscaled)\n",
    "    else:\n",
    "        #for i, h_unscaled in enumerate(h_list):\n",
    "            #h = h_unscaled.Clone()\n",
    "            #scaled_h_list.append(h)\n",
    "        scaled_h_list = h_list\n",
    "    for i, h in enumerate(scaled_h_list):\n",
    "        h.GetXaxis().SetLabelSize(0)\n",
    "        h.GetXaxis().SetTitle(label)\n",
    "        h.GetYaxis().SetRangeUser(0, 1.1*max(map(lambda x: x.GetMaximum(), scaled_h_list)))\n",
    "        if logy:\n",
    "            h.GetYaxis().SetRangeUser(10e-2, 2*max(map(lambda x: x.GetMaximum(), scaled_h_list)))\n",
    "        h.GetYaxis().SetTitleOffset(1.0)\n",
    "        h.GetYaxis().SetTitleSize(0.06)\n",
    "        h.GetYaxis().SetLabelSize(0.05)\n",
    "        \n",
    "        if scale:\n",
    "            y_title = \"Fraction of Events\"\n",
    "        else:\n",
    "            y_title = \"Events\"\n",
    "        \n",
    "        h.GetYaxis().SetTitle()\n",
    "        h.SetTitle(f\"{title};adsf;{y_title}\")\n",
    "        #if ratio_index == 0:h.DrawCopy(\"hist\")\n",
    "        h.SetFillColor(h_list_in[i].GetLineColor())\n",
    "        h.SetFillStyle(3002)\n",
    "        #h.SetStats(1)\n",
    "        h.SetLineColor(h_list_in[i].GetLineColor())\n",
    "        h.SetLineWidth(2)\n",
    "        h.SetMarkerColor(h_list_in[i].GetLineColor())\n",
    "        h.SetMarkerSize(2)\n",
    "        # if ratio_index == 0:\n",
    "        #     # h.DrawCopy(\"hist\")\n",
    "        #     h.DrawCopy(draw_opt[i]+'same')\n",
    "        # else:h.DrawCopy(draw_opt[i])\n",
    "        #if ratio_index == 0 :h.DrawCopy(draw_opt[i]+\"same\")\n",
    "        #h.DrawCopy(\"E2 HIST\")\n",
    "        if i==0:\n",
    "            h.DrawCopy(draw_opt[i])\n",
    "        else:\n",
    "            h.DrawCopy(draw_opt[i] + \"same\")\n",
    "        #else:h.DrawCopy(draw_opt[i])\n",
    "        if len(text)>0:\n",
    "            l = rt.TLatex()\n",
    "            l.SetTextSize(0.045)\n",
    "            if logy:l.DrawLatex((h.GetXaxis().GetXmax()-h.GetXaxis().GetXmin())*0.1+h.GetXaxis().GetXmin() , h.GetMaximum()/10, text)\n",
    "            else:l.DrawLatex((h.GetXaxis().GetXmax()-h.GetXaxis().GetXmin())*0.1+h.GetXaxis().GetXmin() , h.GetMaximum()*0.8, text)\n",
    "        #if i==1:\n",
    "            #h.DrawCopy(draw_opt[i]+\"same\")\n",
    "       #     h.Draw(\"E1 same\")\n",
    "\n",
    "        leg.AddEntry(h, tag[i], \"lep\")\n",
    "    leg.Draw(\"same\")\n",
    "\n",
    "    c_out.cd()\n",
    "    pad2 = rt.TPad(\"pad2\", \"pad2\", 0, 0, 1, 0.3)\n",
    "    pad2.SetTopMargin(0.03)\n",
    "    pad2.SetBottomMargin(0.25)\n",
    "    pad2.SetLeftMargin(0.15)\n",
    "    pad2.SetRightMargin(0.04)# pad2.SetGrid()\n",
    "    pad2.Draw()\n",
    "    pad2.cd()\n",
    "    band = scaled_h_list[ratio_index].Clone('h_band')\n",
    "    for j in range(band.GetXaxis().GetNbins()):\n",
    "        band.SetBinContent(j+1, 1.0)\n",
    "        if h_list[ratio_index].GetBinContent(j+1) == 0:\n",
    "            band.SetBinError(j+1, 0.0)\n",
    "        else:\n",
    "            band.SetBinError(j+1, scaled_h_list[ratio_index].GetBinError(j+1)/scaled_h_list[ratio_index].GetBinContent(j+1))\n",
    "            #print(j, h_list_in[0].GetBinError(j+1)/h_list_in[0].GetBinContent(j+1))\n",
    "    band.SetFillColor(scaled_h_list[ratio_index].GetLineColor())\n",
    "\n",
    "    band.SetFillStyle(3002)\n",
    "    band.SetLineColor(scaled_h_list[ratio_index].GetLineColor())\n",
    "    #band.SetFillColorAlpha(0,0)\n",
    "    #band.SetLineColor(0)\n",
    "    \n",
    "    band.GetYaxis().SetTitleOffset(0.5)\n",
    "    band.GetYaxis().SetRangeUser(ratio_bounds[0], ratio_bounds[1])\n",
    "    band.GetYaxis().SetTitleSize(0.11)\n",
    "    band.GetYaxis().SetLabelSize(0.12)\n",
    "    band.GetYaxis().SetNdivisions(506)\n",
    "    band.GetXaxis().SetTitleOffset(0.95)\n",
    "    band.GetXaxis().SetTitleSize(0.12)\n",
    "    band.GetXaxis().SetLabelSize(0.12)\n",
    "    band.GetXaxis().SetTickSize(0.07)\n",
    "    \n",
    "    band.SetYTitle('Ratio with {}'.format(tag[ratio_index]))\n",
    "    band.SetXTitle(label)\n",
    "    band.SetTitle(\"\")\n",
    "    band.DrawCopy('E2')\n",
    "    ln = rt.TLine(h.GetXaxis().GetXmin(), 1, h.GetXaxis().GetXmax(), 1)\n",
    "    ln.SetLineWidth(3)\n",
    "    ln.SetLineColor(scaled_h_list[ratio_index].GetLineColor())\n",
    "    ln.DrawLine(h.GetXaxis().GetXmin(), 1, h.GetXaxis().GetXmax(), 1)\n",
    "     \n",
    "    #print(ratio_index)\n",
    "    for i, h in enumerate(scaled_h_list):\n",
    "        if i == ratio_index:\n",
    "            continue\n",
    "        else:\n",
    "            if fit:h.GetFunction(\"expo\")\n",
    "            h.Divide(scaled_h_list[ratio_index])\n",
    "            # h.GetYaxis().SetTitleOffset(0.6)\n",
    "            # h.GetYaxis().SetRangeUser(ratio_bounds[0], ratio_bounds[1])\n",
    "            # h.GetYaxis().SetTitleSize(0.12)\n",
    "            # h.GetYaxis().SetLabelSize(0.12)\n",
    "            # h.GetYaxis().SetNdivisions(506)\n",
    "            # h.GetXaxis().SetTitleOffset(0.95)\n",
    "            # h.GetXaxis().SetTitleSize(0.12)\n",
    "            # h.GetXaxis().SetLabelSize(0.12)\n",
    "            # h.GetXaxis().SetTickSize(0.07)\n",
    "            # h.SetYTitle('Ratio with {}'.format(tag[0]))\n",
    "            # h.SetTitle(\"\")\n",
    "            #set relative error of ratio to be the relative error of data\n",
    "            for j in range(h.GetXaxis().GetNbins()):\n",
    "                if h_list[i].GetBinContent(j+1) == 0:\n",
    "                    h.SetBinError(j+1, 0.0)\n",
    "                else:\n",
    "                    h.SetBinError(j+1, h_list_in[i].GetBinError(j+1)/h_list_in[i].GetBinContent(j+1)*h.GetBinContent(j+1))\n",
    "            h.Draw('same'+draw_opt[i])\n",
    "    \n",
    "    pad2.Update()\n",
    "    \n",
    "    c_out.pad1 = pad1\n",
    "    c_out.pad2 = pad2\n",
    "    c_out.h_list = h_list\n",
    "    c_out.leg = leg\n",
    "    \n",
    "    return c_out"
   ]
  },
  {
   "cell_type": "markdown",
   "id": "26f20b4d",
   "metadata": {},
   "source": [
    "### ZMass Comparison of Selected Events"
   ]
  },
  {
   "cell_type": "code",
   "execution_count": 109,
   "id": "153980be",
   "metadata": {},
   "outputs": [],
   "source": [
    "plot_info = {}\n",
    "plot_output = \"Run2023B_Data_MC_Comp\""
   ]
  },
  {
   "cell_type": "code",
   "execution_count": 122,
   "id": "7e000188",
   "metadata": {},
   "outputs": [
    {
     "name": "stderr",
     "output_type": "stream",
     "text": [
      "Warning in <TFile::Append>: Replacing existing TH1: LeadingPt_Data (Potential memory leak).\n",
      "Warning in <TFile::Append>: Replacing existing TH1: LeadingPt_MC (Potential memory leak).\n"
     ]
    }
   ],
   "source": [
    "branch = \"ZMass\"\n",
    "name = branch\n",
    "data = rt.TH1F(\"LeadingPt_Data\", \"Data\", nbinsx=80, xlow = 0, xup=150)\n",
    "#data_LeadingPt.Project(\"LeadingPt_Data\", \"LeadingPt\")\n",
    "for entry in data_tree:\n",
    "    data.Fill(getattr(data_tree, branch))\n",
    "data.SetLineColor(rt.kBlack)\n",
    "data.SetFillStyle(0)\n",
    "\n",
    "MC = rt.TH1F(\"LeadingPt_MC\", \"MC\", nbinsx=80, xlow = 0, xup=150)\n",
    "sumOfWeights=0\n",
    "for entry in MC_tree:\n",
    "    MC.Fill(getattr(MC_tree, branch), getattr(MC_tree, \"weight\"))\n",
    "    sumOfWeights+=getattr(MC_tree, \"weight\")\n",
    "MC.SetLineColor(rt.kRed)\n",
    "MC.SetFillStyle(0)\n",
    "plot_info[branch] = {\"MC_hist\": MC, \"data_hist\": data, \"file_name\": name, \"title\": \"Z Candidate Mass\", \"label\": \"Z Candidate Mass [GeV]\", \"scales\": [sumOfWeights, data.GetEntries()], \"logy\": False}"
   ]
  },
  {
   "cell_type": "code",
   "execution_count": 123,
   "id": "d1232b90",
   "metadata": {},
   "outputs": [
    {
     "name": "stderr",
     "output_type": "stream",
     "text": [
      "Warning in <TFile::Append>: Replacing existing TH1: LeadingPt_Data (Potential memory leak).\n",
      "Warning in <TFile::Append>: Replacing existing TH1: LeadingPt_MC (Potential memory leak).\n"
     ]
    }
   ],
   "source": [
    "branch = \"lepPt\"\n",
    "name = \"LeadingPt\"\n",
    "data = rt.TH1F(\"LeadingPt_Data\", \"Data\", nbinsx=80, xlow = 0, xup=120)\n",
    "#data_LeadingPt.Project(\"LeadingPt_Data\", \"LeadingPt\")\n",
    "for entry in data_tree:\n",
    "    data.Fill(getattr(data_tree, branch)[0])\n",
    "data.SetLineColor(rt.kBlack)\n",
    "\n",
    "sumOfWeights=0\n",
    "MC = rt.TH1F(\"LeadingPt_MC\", \"MC\", nbinsx=80, xlow = 0, xup=120)\n",
    "#MC_LeadingPt.Project(\"LeadingPt_MC\", \"LeadingMC\")\n",
    "for entry in MC_tree:\n",
    "    MC.Fill(getattr(MC_tree, branch)[0], getattr(MC_tree, \"weight\"))\n",
    "    sumOfWeights+=getattr(MC_tree, \"weight\")\n",
    "MC.SetLineColor(rt.kRed)\n",
    "plot_info[name] = {\"MC_hist\": MC, \"data_hist\": data, \"file_name\": name, \"title\": \"Leading Muon pT Comparison\", \"label\": \"Leading Muon pT [GeV]\", \"scales\": [sumOfWeights, data.GetEntries()], \"logy\": False}"
   ]
  },
  {
   "cell_type": "code",
   "execution_count": 124,
   "id": "73ec3e6d",
   "metadata": {},
   "outputs": [
    {
     "name": "stderr",
     "output_type": "stream",
     "text": [
      "Warning in <TFile::Append>: Replacing existing TH1: LeadingPt_Data (Potential memory leak).\n",
      "Warning in <TFile::Append>: Replacing existing TH1: LeadingPt_MC (Potential memory leak).\n"
     ]
    }
   ],
   "source": [
    "branch = \"lepPt\"\n",
    "name = \"SubleadingPt\"\n",
    "data = rt.TH1F(\"LeadingPt_Data\", \"Data\", nbinsx=80, xlow = 0, xup=120)\n",
    "#data_LeadingPt.Project(\"LeadingPt_Data\", \"LeadingPt\")\n",
    "for entry in data_tree:\n",
    "    data.Fill(getattr(data_tree, branch)[1])\n",
    "data.SetLineColor(rt.kBlack)\n",
    "\n",
    "sumOfWeights=0\n",
    "MC = rt.TH1F(\"LeadingPt_MC\", \"MC\", nbinsx=80, xlow = 0, xup=120)\n",
    "#MC_LeadingPt.Project(\"LeadingPt_MC\", \"LeadingMC\")\n",
    "for entry in MC_tree:\n",
    "    MC.Fill(getattr(MC_tree, branch)[1], getattr(MC_tree, \"weight\"))\n",
    "    sumOfWeights+=getattr(MC_tree, \"weight\")\n",
    "MC.SetLineColor(rt.kRed)\n",
    "plot_info[name] = {\"MC_hist\": MC, \"data_hist\": data, \"file_name\": name, \"title\": \"Subleading Muon pT Comparison\", \"label\": \"Subleading Muon pT [GeV])\", \"scales\": [sumOfWeights, data.GetEntries()], \"logy\": False}"
   ]
  },
  {
   "cell_type": "code",
   "execution_count": 125,
   "id": "9b4139de",
   "metadata": {},
   "outputs": [
    {
     "name": "stderr",
     "output_type": "stream",
     "text": [
      "Warning in <TFile::Append>: Replacing existing TH1: LeadingPt_Data (Potential memory leak).\n",
      "Warning in <TFile::Append>: Replacing existing TH1: LeadingPt_MC (Potential memory leak).\n"
     ]
    }
   ],
   "source": [
    "branch = \"lepTag\"\n",
    "name = \"LepTagCount\"\n",
    "data = rt.TH1F(\"LeadingPt_Data\", \"Data\", nbinsx=4, xlow = 0, xup=4)\n",
    "for entry in data_tree:\n",
    "    counter=0\n",
    "    for i in range(data_tree.nLeptons):\n",
    "        if data_tree.lepTag[i]==1:\n",
    "            counter+=1\n",
    "    data.Fill(counter)\n",
    "data.SetLineColor(rt.kBlack)\n",
    "\n",
    "sumOfWeights=0\n",
    "MC = rt.TH1F(\"LeadingPt_MC\", \"MC\", nbinsx=4, xlow = 0, xup=4)\n",
    "for entry in MC_tree:\n",
    "    counter=0\n",
    "    for i in range(MC_tree.nLeptons):\n",
    "        if MC_tree.lepTag[i]==1:\n",
    "            counter+=1\n",
    "    MC.Fill(counter, MC_tree.weight)\n",
    "    sumOfWeights+=getattr(MC_tree, \"weight\")\n",
    "MC.SetLineColor(rt.kRed)\n",
    "plot_info[name] = {\"MC_hist\": MC, \"data_hist\": data, \"file_name\": name, \"title\": \"Number of Muons in Event Passing Tag Criteria\", \"label\": \"Number of Tag Muons\", \"scales\": [sumOfWeights, data.GetEntries()], \"logy\": False}"
   ]
  },
  {
   "cell_type": "code",
   "execution_count": 126,
   "id": "9ac8d737",
   "metadata": {},
   "outputs": [
    {
     "name": "stderr",
     "output_type": "stream",
     "text": [
      "Warning in <TFile::Append>: Replacing existing TH1: LeadingPt_Data (Potential memory leak).\n",
      "Warning in <TFile::Append>: Replacing existing TH1: LeadingPt_MC (Potential memory leak).\n"
     ]
    }
   ],
   "source": [
    "branch = \"lepTag\"\n",
    "name = \"LepTagCount\"\n",
    "data = rt.TH1F(\"LeadingPt_Data\", \"Data\", nbinsx=4, xlow = 0, xup=4)\n",
    "for entry in data_tree:\n",
    "    counter=0\n",
    "    for i in range(data_tree.nLeptons):\n",
    "        if data_tree.lepTag[i]==1:\n",
    "            counter+=1\n",
    "    data.Fill(counter)\n",
    "data.SetLineColor(rt.kBlack)\n",
    "    \n",
    "sumOfWeights=0\n",
    "MC = rt.TH1F(\"LeadingPt_MC\", \"MC\", nbinsx=4, xlow = 0, xup=4)\n",
    "for entry in MC_tree:\n",
    "    counter=0\n",
    "    for i in range(MC_tree.nLeptons):\n",
    "        if MC_tree.lepTag[i]==1:\n",
    "            counter+=1\n",
    "        MC.Fill(counter,MC_tree.weight)\n",
    "    sumOfWeights+=getattr(MC_tree, \"weight\")\n",
    "MC.SetLineColor(rt.kRed)\n",
    "plot_info[name] = {\"MC_hist\": MC, \"data_hist\": data, \"file_name\": name, \"title\": \"Number of Muons in Event Passing Tag Criteria\", \"label\": \"Number of Tag Muons\", \"scales\": [sumOfWeights, data.GetEntries()], \"logy\": False}"
   ]
  },
  {
   "cell_type": "code",
   "execution_count": 127,
   "id": "6272b51e",
   "metadata": {},
   "outputs": [
    {
     "name": "stderr",
     "output_type": "stream",
     "text": [
      "Warning in <TFile::Append>: Replacing existing TH1: LeadingPt_Data (Potential memory leak).\n",
      "Warning in <TFile::Append>: Replacing existing TH1: LeadingPt_MC (Potential memory leak).\n"
     ]
    }
   ],
   "source": [
    "branch = \"lepPt\"\n",
    "name = \"LepTagPt\"\n",
    "data = rt.TH1F(\"LeadingPt_Data\", \"Data\", nbinsx=80, xlow = 0, xup=120)\n",
    "for entry in data_tree:\n",
    "    for i in range(data_tree.nLeptons):\n",
    "        if data_tree.lepTag[i]==1:\n",
    "            data.Fill(getattr(data_tree, branch)[i])\n",
    "data.SetLineColor(rt.kBlack)\n",
    "\n",
    "sumOfWeights=0\n",
    "MC = rt.TH1F(\"LeadingPt_MC\", \"MC\", nbinsx=80, xlow = 0, xup=120)\n",
    "for entry in MC_tree:\n",
    "    for i in range(MC_tree.nLeptons):\n",
    "        if MC_tree.lepTag[i]==1:\n",
    "            MC.Fill(getattr(MC_tree, branch)[i], MC_tree.weight)\n",
    "            sumOfWeights+=getattr(MC_tree, \"weight\")\n",
    "MC.SetLineColor(rt.kRed)\n",
    "plot_info[name] = {\"MC_hist\": MC, \"data_hist\": data, \"file_name\": name, \"title\": \"Tag Muon pT Comparison\", \"label\": \"Tag Muon pT [GeV]\", \"scales\": [sumOfWeights, data.GetEntries()], \"logy\": False}"
   ]
  },
  {
   "cell_type": "code",
   "execution_count": 128,
   "id": "8e04b769",
   "metadata": {},
   "outputs": [
    {
     "name": "stderr",
     "output_type": "stream",
     "text": [
      "Warning in <TFile::Append>: Replacing existing TH1: LeadingPt_Data (Potential memory leak).\n",
      "Warning in <TFile::Append>: Replacing existing TH1: LeadingPt_MC (Potential memory leak).\n"
     ]
    }
   ],
   "source": [
    "branch = \"cscRechitClusterSize\"\n",
    "name = \"clusterSize\"\n",
    "data = rt.TH1F(\"LeadingPt_Data\", \"Data\", nbinsx=40, xlow = 0, xup=400)\n",
    "for entry in data_tree:\n",
    "    for i in range(data_tree.nCscRechitClusters):\n",
    "        if (data_tree.cscRechitCluster_matchToProbeMuon[i] and data_tree.cscRechitCluster_passME1112Veto[i] and data_tree.cscRechitCluster_PassTimeVeto[i]):\n",
    "            data.Fill(getattr(data_tree, branch)[i])\n",
    "data.SetLineColor(rt.kBlack)\n",
    "data.Set\n",
    "\n",
    "sumOfWeights=0\n",
    "MC = rt.TH1F(\"LeadingPt_MC\", \"MC\", nbinsx=40, xlow = 0, xup=400)\n",
    "for entry in MC_tree:\n",
    "    for i in range(MC_tree.nCscRechitClusters):\n",
    "        if (MC_tree.cscRechitCluster_matchToProbeMuon[i] and MC_tree.cscRechitCluster_passME1112Veto[i] and MC_tree.cscRechitCluster_PassTimeVeto[i]):\n",
    "            MC.Fill(getattr(MC_tree, branch)[i], MC_tree.weight)\n",
    "            sumOfWeights+=getattr(MC_tree, \"weight\")\n",
    "MC.SetLineColor(rt.kRed)\n",
    "\n",
    "plot_info[name] = {\"MC_hist\": MC, \"data_hist\": data, \"file_name\": name, \"title\": \"Cluster Size\", \"label\": \"N_{rechits}\", \"scales\": [sumOfWeights, data.GetEntries()], \"logy\": True}"
   ]
  },
  {
   "cell_type": "code",
   "execution_count": 129,
   "id": "1d289e4a",
   "metadata": {},
   "outputs": [
    {
     "name": "stderr",
     "output_type": "stream",
     "text": [
      "Warning in <TFile::Append>: Replacing existing TH1: LeadingPt_Data (Potential memory leak).\n",
      "Warning in <TFile::Append>: Replacing existing TH1: LeadingPt_MC (Potential memory leak).\n"
     ]
    }
   ],
   "source": [
    "branch = \"cscRechitClusterEta\"\n",
    "name = \"clusterEta\"\n",
    "data = rt.TH1F(\"LeadingPt_Data\", \"Data\", nbinsx=60, xlow = -4, xup=4)\n",
    "for entry in data_tree:\n",
    "    for i in range(data_tree.nCscRechitClusters):\n",
    "        if (data_tree.cscRechitCluster_matchToProbeMuon[i] and data_tree.cscRechitCluster_passME1112Veto[i] and data_tree.cscRechitCluster_PassTimeVeto[i]):\n",
    "            data.Fill(getattr(data_tree, branch)[i])\n",
    "data.SetLineColor(rt.kBlack)\n",
    "\n",
    "sumOfWeights=0\n",
    "MC = rt.TH1F(\"LeadingPt_MC\", \"MC\", nbinsx=60, xlow = -4, xup=4)\n",
    "for entry in MC_tree:\n",
    "    for i in range(MC_tree.nCscRechitClusters):\n",
    "        if (MC_tree.cscRechitCluster_matchToProbeMuon[i] and MC_tree.cscRechitCluster_passME1112Veto[i] and MC_tree.cscRechitCluster_PassTimeVeto[i]):\n",
    "            MC.Fill(getattr(MC_tree, branch)[i], MC_tree.weight)\n",
    "            sumOfWeights+=getattr(MC_tree, \"weight\")\n",
    "MC.SetLineColor(rt.kRed)\n",
    "plot_info[name] = {\"MC_hist\": MC, \"data_hist\": data, \"file_name\": name, \"title\": \"Cluster Eta\", \"label\": \"Cluster Eta\", \"scales\": [sumOfWeights, data.GetEntries()], \"logy\": False}"
   ]
  },
  {
   "cell_type": "code",
   "execution_count": 130,
   "id": "8460be20",
   "metadata": {},
   "outputs": [
    {
     "name": "stderr",
     "output_type": "stream",
     "text": [
      "Warning in <TFile::Append>: Replacing existing TH1: LeadingPt_Data (Potential memory leak).\n",
      "Warning in <TFile::Append>: Replacing existing TH1: LeadingPt_MC (Potential memory leak).\n"
     ]
    }
   ],
   "source": [
    "branch = \"cscRechitClusterPhi\"\n",
    "name = \"clusterPhi\"\n",
    "data = rt.TH1F(\"LeadingPt_Data\", \"Data\", nbinsx=30, xlow = -4, xup=4)\n",
    "for entry in data_tree:\n",
    "    for i in range(data_tree.nCscRechitClusters):\n",
    "        if (data_tree.cscRechitCluster_matchToProbeMuon[i] and data_tree.cscRechitCluster_passME1112Veto[i] and data_tree.cscRechitCluster_PassTimeVeto[i]):\n",
    "            data.Fill(getattr(data_tree, branch)[i])\n",
    "data.SetLineColor(rt.kBlack)\n",
    "\n",
    "sumOfWeights=0\n",
    "MC = rt.TH1F(\"LeadingPt_MC\", \"MC\", nbinsx=30, xlow = -4, xup=4)\n",
    "for entry in MC_tree:\n",
    "    for i in range(MC_tree.nCscRechitClusters):\n",
    "        if (MC_tree.cscRechitCluster_matchToProbeMuon[i] and MC_tree.cscRechitCluster_passME1112Veto[i] and MC_tree.cscRechitCluster_PassTimeVeto[i]):\n",
    "            MC.Fill(getattr(MC_tree, branch)[i], MC_tree.weight)\n",
    "            sumOfWeights+=getattr(MC_tree, \"weight\")\n",
    "MC.SetLineColor(rt.kRed)\n",
    "plot_info[name] = {\"MC_hist\": MC, \"data_hist\": data, \"file_name\": name, \"title\": \"Cluster Phi\", \"label\": \"Cluster Phi\", \"scales\": [sumOfWeights, data.GetEntries()], \"logy\": False}"
   ]
  },
  {
   "cell_type": "code",
   "execution_count": 131,
   "id": "75dd0adf",
   "metadata": {},
   "outputs": [
    {
     "name": "stderr",
     "output_type": "stream",
     "text": [
      "Warning in <TFile::Append>: Replacing existing TH1: LeadingPt_Data (Potential memory leak).\n",
      "Warning in <TFile::Append>: Replacing existing TH1: LeadingPt_MC (Potential memory leak).\n"
     ]
    }
   ],
   "source": [
    "branch = \"cscRechitClusterTimeWeighted\"\n",
    "name = \"clusterTime\"\n",
    "data = rt.TH1F(\"LeadingPt_Data\", \"Data\", nbinsx=60, xlow = -8, xup=20)\n",
    "for entry in data_tree:\n",
    "    for i in range(data_tree.nCscRechitClusters):\n",
    "        if (data_tree.cscRechitCluster_matchToProbeMuon[i] and data_tree.cscRechitCluster_passME1112Veto[i] and data_tree.cscRechitCluster_PassTimeVeto[i]):\n",
    "            data.Fill(getattr(data_tree, branch)[i])\n",
    "data.SetLineColor(rt.kBlack)\n",
    "\n",
    "sumOfWeights=0\n",
    "MC = rt.TH1F(\"LeadingPt_MC\", \"MC\", nbinsx=60, xlow = -8, xup=20)\n",
    "for entry in MC_tree:\n",
    "    for i in range(MC_tree.nCscRechitClusters):\n",
    "        if (MC_tree.cscRechitCluster_matchToProbeMuon[i] and MC_tree.cscRechitCluster_passME1112Veto[i] and MC_tree.cscRechitCluster_PassTimeVeto[i]):\n",
    "            MC.Fill(getattr(MC_tree, branch)[i], MC_tree.weight)\n",
    "            sumOfWeights+=getattr(MC_tree, \"weight\")\n",
    "MC.SetLineColor(rt.kRed)\n",
    "plot_info[name] = {\"MC_hist\": MC, \"data_hist\": data, \"file_name\": name, \"title\": \"Weighted Cluster Time\", \"label\": \"Weighted Cluster Time [ns]\", \"scales\": [sumOfWeights, data.GetEntries()], \"logy\": False}"
   ]
  },
  {
   "cell_type": "code",
   "execution_count": 132,
   "id": "fd8ed6a9",
   "metadata": {},
   "outputs": [
    {
     "name": "stderr",
     "output_type": "stream",
     "text": [
      "Warning in <TFile::Append>: Replacing existing TH1: LeadingPt_Data (Potential memory leak).\n",
      "Warning in <TFile::Append>: Replacing existing TH1: LeadingPt_MC (Potential memory leak).\n"
     ]
    }
   ],
   "source": [
    "branch = \"cscRechitClusterTimeSpreadWeightedAll\"\n",
    "name = \"clusterTimeSpread\"\n",
    "data = rt.TH1F(\"LeadingPt_Data\", \"Data\", nbinsx=50, xlow = 0, xup=50)\n",
    "for entry in data_tree:\n",
    "    for i in range(data_tree.nCscRechitClusters):\n",
    "        if (data_tree.cscRechitCluster_matchToProbeMuon[i] and data_tree.cscRechitCluster_passME1112Veto[i] and data_tree.cscRechitCluster_PassTimeVeto[i]):\n",
    "            data.Fill(getattr(data_tree, branch)[i])\n",
    "data.SetLineColor(rt.kBlack)\n",
    "\n",
    "sumOfWeights=0\n",
    "MC = rt.TH1F(\"LeadingPt_MC\", \"MC\", nbinsx=50, xlow = 0, xup=50)\n",
    "for entry in MC_tree:\n",
    "    for i in range(MC_tree.nCscRechitClusters):\n",
    "        if (MC_tree.cscRechitCluster_matchToProbeMuon[i] and MC_tree.cscRechitCluster_passME1112Veto[i] and MC_tree.cscRechitCluster_PassTimeVeto[i]):\n",
    "            MC.Fill(getattr(MC_tree, branch)[i], MC_tree.weight)\n",
    "            sumOfWeights+=getattr(MC_tree, \"weight\")\n",
    "MC.SetLineColor(rt.kRed)\n",
    "plot_info[name] = {\"MC_hist\": MC, \"data_hist\": data, \"file_name\": name, \"title\": \"Weighted Cluster Time Spread\", \"label\": \"Weighted Cluster Time Spread [ns]\", \"scales\": [sumOfWeights, data.GetEntries()], \"logy\": False}"
   ]
  },
  {
   "cell_type": "code",
   "execution_count": 133,
   "id": "45518c55",
   "metadata": {},
   "outputs": [
    {
     "name": "stderr",
     "output_type": "stream",
     "text": [
      "Info in <TCanvas::Print>: png file Run2023B_Data_MC_Comp/ZMassnormalized_updatedTNP.png has been created\n",
      "Warning in <TCanvas::Constructor>: Deleting canvas with same name: c_out_ratioZ Candidate Mass [GeV]\n",
      "Info in <TCanvas::Print>: png file Run2023B_Data_MC_Comp/ZMass_updatedTNP.png has been created\n",
      "Info in <TCanvas::Print>: png file Run2023B_Data_MC_Comp/LeadingPtnormalized_updatedTNP.png has been created\n",
      "Warning in <TCanvas::Constructor>: Deleting canvas with same name: c_out_ratioLeading Muon pT [GeV]\n",
      "Info in <TCanvas::Print>: png file Run2023B_Data_MC_Comp/LeadingPt_updatedTNP.png has been created\n",
      "Info in <TCanvas::Print>: png file Run2023B_Data_MC_Comp/SubleadingPtnormalized_updatedTNP.png has been created\n",
      "Warning in <TCanvas::Constructor>: Deleting canvas with same name: c_out_ratioSubleading Muon pT [GeV])\n",
      "Info in <TCanvas::Print>: png file Run2023B_Data_MC_Comp/SubleadingPt_updatedTNP.png has been created\n",
      "Info in <TCanvas::Print>: png file Run2023B_Data_MC_Comp/LepTagCountnormalized_updatedTNP.png has been created\n",
      "Warning in <TCanvas::Constructor>: Deleting canvas with same name: c_out_ratioNumber of Tag Muons\n",
      "Info in <TCanvas::Print>: png file Run2023B_Data_MC_Comp/LepTagCount_updatedTNP.png has been created\n",
      "Info in <TCanvas::Print>: png file Run2023B_Data_MC_Comp/LepTagPtnormalized_updatedTNP.png has been created\n",
      "Warning in <TCanvas::Constructor>: Deleting canvas with same name: c_out_ratioTag Muon pT [GeV]\n",
      "Info in <TCanvas::Print>: png file Run2023B_Data_MC_Comp/LepTagPt_updatedTNP.png has been created\n",
      "Info in <TCanvas::Print>: png file Run2023B_Data_MC_Comp/clusterSizenormalized_updatedTNP.png has been created\n",
      "Warning in <TCanvas::Constructor>: Deleting canvas with same name: c_out_ratioN_{rechits}\n",
      "Info in <TCanvas::Print>: png file Run2023B_Data_MC_Comp/clusterSize_updatedTNP.png has been created\n",
      "Info in <TCanvas::Print>: png file Run2023B_Data_MC_Comp/clusterEtanormalized_updatedTNP.png has been created\n",
      "Warning in <TCanvas::Constructor>: Deleting canvas with same name: c_out_ratioCluster Eta\n",
      "Info in <TCanvas::Print>: png file Run2023B_Data_MC_Comp/clusterEta_updatedTNP.png has been created\n",
      "Info in <TCanvas::Print>: png file Run2023B_Data_MC_Comp/clusterPhinormalized_updatedTNP.png has been created\n",
      "Warning in <TCanvas::Constructor>: Deleting canvas with same name: c_out_ratioCluster Phi\n",
      "Info in <TCanvas::Print>: png file Run2023B_Data_MC_Comp/clusterPhi_updatedTNP.png has been created\n",
      "Info in <TCanvas::Print>: png file Run2023B_Data_MC_Comp/clusterTimenormalized_updatedTNP.png has been created\n",
      "Warning in <TCanvas::Constructor>: Deleting canvas with same name: c_out_ratioWeighted Cluster Time [ns]\n",
      "Info in <TCanvas::Print>: png file Run2023B_Data_MC_Comp/clusterTime_updatedTNP.png has been created\n",
      "Info in <TCanvas::Print>: png file Run2023B_Data_MC_Comp/clusterTimeSpreadnormalized_updatedTNP.png has been created\n",
      "Warning in <TCanvas::Constructor>: Deleting canvas with same name: c_out_ratioWeighted Cluster Time Spread [ns]\n",
      "Info in <TCanvas::Print>: png file Run2023B_Data_MC_Comp/clusterTimeSpread_updatedTNP.png has been created\n"
     ]
    }
   ],
   "source": [
    "\n",
    "for plot_type, plot_info_dict in plot_info.items():\n",
    "    #print(plot_type)\n",
    "    #print(plot_info_dict)\n",
    "    for boolScale in [True, False]:\n",
    "        c = make_ratio_plot([plot_info_dict[\"MC_hist\"], plot_info_dict[\"data_hist\"]], title = plot_info_dict[\"title\"], label = plot_info_dict[\"label\"], fit = False, in_tags = None, ratio_bounds = [0.1, 4], logy = plot_info_dict[\"logy\"], ratio_index = 0, draw_opt = ['E2 HIST','E1'], text = \"\", scale=boolScale, scales = plot_info_dict[\"scales\"])\n",
    "        if boolScale:\n",
    "            scaleString = \"normalized\"\n",
    "            #c = make_ratio_plot([plot_info_dict[\"MC_hist\"], plot_info_dict[\"data_hist\"]], title = plot_info_dict[\"title\"], label = plot_info_dict[\"label\"], fit = False, in_tags = None, ratio_bounds = [0.1, 4], logy = False, ratio_index = 0, draw_opt = ['E2 hist','E1'], text = \"\", scale=boolScale, scales = plot_info_dict[\"scales\"])\n",
    "        else:\n",
    "            scaleString=\"\"\n",
    "        c.SaveAs(plot_output+\"/\"+plot_info_dict[\"file_name\"]+scaleString+\"_updatedTNP.png\")\n",
    "        "
   ]
  },
  {
   "cell_type": "markdown",
   "id": "c7d4f442",
   "metadata": {},
   "source": [
    "### Pt Comparison"
   ]
  },
  {
   "cell_type": "code",
   "execution_count": 98,
   "id": "4e206f05",
   "metadata": {},
   "outputs": [
    {
     "name": "stdout",
     "output_type": "stream",
     "text": [
      "tags:  ['MC', 'Data']\n"
     ]
    },
    {
     "name": "stderr",
     "output_type": "stream",
     "text": [
      "Warning in <TCanvas::Constructor>: Deleting canvas with same name: c_out_ratioZ Candidate Mass (GeV)\n"
     ]
    },
    {
     "data": {
      "image/png": "[encoded data removed]",
      "text/plain": [
       "<IPython.core.display.Image object>"
      ]
     },
     "metadata": {},
     "output_type": "display_data"
    }
   ],
   "source": [
    "\n",
    "#c.Clear()\n",
    "rt.gStyle.SetOptStat(0);\n",
    "c = make_ratio_plot([MC_LeadingPt, data_LeadingPt], title = \"Z Candidate Mass\", label = \"Z Candidate Mass (GeV)\", fit = False, in_tags = None, ratio_bounds = [0.1, 4], logy = False, ratio_index = 0, draw_opt = ['E2 hist','E1'], text = \"\", scale=False)\n",
    "#legend = rt.TLegend(0.9,0.8,0.7,0.9)\n",
    "#legend.AddEntry(data_LeadingPt, \"Data\")\n",
    "#legend.AddEntry(MC_LeadingPt, \"MC\")\n",
    "#legend.Draw()\n",
    "\n",
    "#stack_leading.GetXaxis().SetTitle(\"Z Candidate Mass [GeV]\");\n",
    "#stack_leading.GetYaxis().SetTitle(\"Events\");\n",
    "\n",
    "c.Draw()"
   ]
  },
  {
   "cell_type": "code",
   "execution_count": 11,
   "id": "f045eb54",
   "metadata": {},
   "outputs": [
    {
     "name": "stdout",
     "output_type": "stream",
     "text": [
      "<class cppyy.gbl.TH1F at 0x150afcf0>\n",
      "<class cppyy.gbl.TH1F at 0x150afcf0>\n"
     ]
    },
    {
     "name": "stderr",
     "output_type": "stream",
     "text": [
      "Warning in <TFile::Append>: Replacing existing TH1: LeadingPt_Data (Potential memory leak).\n",
      "Warning in <TFile::Append>: Replacing existing TH1: LeadingPt_MC (Potential memory leak).\n"
     ]
    },
    {
     "data": {
      "image/png": "[encoded data removed]",
      "text/plain": [
       "<IPython.core.display.Image object>"
      ]
     },
     "metadata": {},
     "output_type": "display_data"
    }
   ],
   "source": [
    "c = rt.TCanvas(\"c\", \"c\", 800, 600)\n",
    "stack_leading = rt.THStack(\"stack\",\"Leading Muon Pt Comparison\")\n",
    "data_LeadingPt = rt.TH1F(\"LeadingPt_Data\", \"Leading Muon Pt Distribution for Data\", nbinsx=80, xlow = 0, xup=120)\n",
    "#data_LeadingPt.Project(\"LeadingPt_Data\", \"LeadingPt\")\n",
    "for entry in data_tree:\n",
    "    data_LeadingPt.Fill(getattr(data_tree, \"lepPt\")[0])\n",
    "data_LeadingPt.SetLineColor(rt.kRed)\n",
    "data_LeadingPt.Scale(1/data_LeadingPt.GetEntries())\n",
    "print(type(data_LeadingPt))\n",
    "stack_leading.Add(data_LeadingPt)\n",
    "\n",
    "\n",
    "MC_LeadingPt = rt.TH1F(\"LeadingPt_MC\", \"Leading Muon Pt Distribution for MC\", nbinsx=80, xlow = 0, xup=120)\n",
    "#MC_LeadingPt.Project(\"LeadingPt_MC\", \"LeadingMC\")\n",
    "for entry in MC_tree:\n",
    "    MC_LeadingPt.Fill(getattr(MC_tree, \"lepPt\")[0], getattr(MC_tree, \"weight\"))\n",
    "MC_LeadingPt.SetLineColor(rt.kBlue)\n",
    "MC_LeadingPt.Scale(1/MC_LeadingPt.GetEntries())\n",
    "print(type(MC_LeadingPt))\n",
    "stack_leading.Add(MC_LeadingPt)\n",
    "\n",
    "stack_leading.Draw(\"nostack HIST E0\")\n",
    "\n",
    "legend = rt.TLegend(0.9,0.8,0.7,0.9)\n",
    "legend.AddEntry(data_LeadingPt, \"Data\")\n",
    "legend.AddEntry(MC_LeadingPt, \"MC\")\n",
    "legend.Draw()\n",
    "\n",
    "stack_leading.GetXaxis().SetTitle(\"Leading Muon pT [GeV]\");\n",
    "stack_leading.GetYaxis().SetTitle(\"Events\");\n",
    "\n",
    "c.Draw()"
   ]
  },
  {
   "cell_type": "code",
   "execution_count": 37,
   "id": "e9ebb8c5",
   "metadata": {},
   "outputs": [
    {
     "name": "stderr",
     "output_type": "stream",
     "text": [
      "Warning in <TFile::Append>: Replacing existing TH1: LeadingPt_Data (Potential memory leak).\n",
      "Warning in <TFile::Append>: Replacing existing TH1: LeadingPt_MC (Potential memory leak).\n"
     ]
    },
    {
     "data": {
      "image/png": "[encoded data removed]",
      "text/plain": [
       "<IPython.core.display.Image object>"
      ]
     },
     "metadata": {},
     "output_type": "display_data"
    }
   ],
   "source": [
    "c = rt.TCanvas(\"c\", \"c\", 800, 600)\n",
    "stack_leading = rt.THStack(\"stack\",\"Z Candidate Mass\")\n",
    "data_LeadingPt = rt.TH1F(\"LeadingPt_Data\", \"Leading Muon Pt Distribution for Data\", nbinsx=80, xlow = 0, xup=150)\n",
    "#data_LeadingPt.Project(\"LeadingPt_Data\", \"LeadingPt\")\n",
    "for entry in data_tree:\n",
    "    data_LeadingPt.Fill(getattr(data_tree, \"ZMass\"))\n",
    "data_LeadingPt.SetLineColor(rt.kRed)\n",
    "#data_LeadingPt.Scale(1/data_LeadingPt.GetEntries())\n",
    "stack_leading.Add(data_LeadingPt)\n",
    "\n",
    "\n",
    "MC_LeadingPt = rt.TH1F(\"LeadingPt_MC\", \"Leading Muon Pt Distribution for MC\", nbinsx=80, xlow = 0, xup=150)\n",
    "#MC_LeadingPt.Project(\"LeadingPt_MC\", \"LeadingMC\")\n",
    "for entry in MC_tree:\n",
    "    MC_LeadingPt.Fill(getattr(MC_tree, \"ZMass\"), getattr(MC_tree, \"weight\"))\n",
    "MC_LeadingPt.SetLineColor(rt.kBlue)\n",
    "#MC_LeadingPt.Scale(1/MC_LeadingPt.GetEntries())\n",
    "stack_leading.Add(MC_LeadingPt)\n",
    "\n",
    "stack_leading.Draw(\"nostack HIST E0\")\n",
    "\n",
    "legend = rt.TLegend(0.9,0.8,0.7,0.9)\n",
    "legend.AddEntry(data_LeadingPt, \"Data\")\n",
    "legend.AddEntry(MC_LeadingPt, \"MC\")\n",
    "legend.Draw()\n",
    "\n",
    "stack_leading.GetXaxis().SetTitle(\"Z Candidate Mass [GeV]\");\n",
    "stack_leading.GetYaxis().SetTitle(\"Events\");\n",
    "\n",
    "c.Draw()"
   ]
  },
  {
   "cell_type": "code",
   "execution_count": 78,
   "id": "0f41b193",
   "metadata": {},
   "outputs": [
    {
     "name": "stderr",
     "output_type": "stream",
     "text": [
      "Warning in <TFile::Append>: Replacing existing TH1: LeadingPt_Data (Potential memory leak).\n",
      "Warning in <TFile::Append>: Replacing existing TH1: LeadingPt_MC (Potential memory leak).\n"
     ]
    }
   ],
   "source": [
    "#c = rt.TCanvas(\"c\", \"c\", 800, 600)\n",
    "#stack_leading = rt.THStack(\"stack\",\"Z Candidate Mass\")\n",
    "data_LeadingPt = rt.TH1F(\"LeadingPt_Data\", \"Data\", nbinsx=80, xlow = 0, xup=150)\n",
    "#data_LeadingPt.Project(\"LeadingPt_Data\", \"LeadingPt\")\n",
    "for entry in data_tree:\n",
    "    data_LeadingPt.Fill(getattr(data_tree, \"ZMass\"))\n",
    "data_LeadingPt.SetLineColor(rt.kBlack)\n",
    "#data_LeadingPt.Scale(1/data_LeadingPt.GetEntries())\n",
    "#stack_leading.Add(data_LeadingPt)\n",
    "\n",
    "\n",
    "MC_LeadingPt = rt.TH1F(\"LeadingPt_MC\", \"MC\", nbinsx=80, xlow = 0, xup=150)\n",
    "#MC_LeadingPt.Project(\"LeadingPt_MC\", \"LeadingMC\")\n",
    "for entry in MC_tree:\n",
    "    MC_LeadingPt.Fill(getattr(MC_tree, \"ZMass\"), getattr(MC_tree, \"weight\"))\n",
    "MC_LeadingPt.SetLineColor(rt.kRed)\n",
    "#MC_LeadingPt.Scale(1/MC_LeadingPt.GetEntries())\n",
    "#stack_leading.Add(MC_LeadingPt)"
   ]
  },
  {
   "cell_type": "code",
   "execution_count": 51,
   "id": "570b87df",
   "metadata": {},
   "outputs": [
    {
     "name": "stderr",
     "output_type": "stream",
     "text": [
      "Warning in <TFile::Append>: Replacing existing TH1: SubleadingPt_Data (Potential memory leak).\n",
      "Warning in <TFile::Append>: Replacing existing TH1: SubleadingPt_MC (Potential memory leak).\n"
     ]
    }
   ],
   "source": [
    "c = rt.TCanvas(\"c\", \"c\", 800, 600)\n",
    "stack_SubleadingPt = rt.THStack(\"stack\",\"Subleading Muon Pt Comparison\")\n",
    "data_SubleadingPt = rt.TH1F(\"SubleadingPt_Data\", \"Data\", nbinsx=80, xlow = 0, xup=120)\n",
    "#data_LeadingPt.Project(\"LeadingPt_Data\", \"LeadingPt\")\n",
    "for entry in data_tree:\n",
    "    data_SubleadingPt.Fill(getattr(data_tree, \"lepPt\")[1])\n",
    "data_SubleadingPt.SetLineColor(rt.kBlack)\n",
    "#data_SubleadingPt.Scale(1/data_SubleadingPt.GetEntries())\n",
    "\n",
    "\n",
    "\n",
    "MC_SubleadingPt = rt.TH1F(\"SubleadingPt_MC\", \"MC\", nbinsx=80, xlow = 0, xup=120)\n",
    "#MC_LeadingPt.Project(\"LeadingPt_MC\", \"LeadingMC\")\n",
    "for entry in MC_tree:\n",
    "    MC_SubleadingPt.Fill(getattr(MC_tree, \"lepPt\")[1], getattr(data_tree, \"weight\"))\n",
    "MC_SubleadingPt.SetLineColor(rt.kRed)\n",
    "#MC_SubleadingPt.Scale(1/MC_SubleadingPt.GetEntries())\n"
   ]
  },
  {
   "cell_type": "code",
   "execution_count": 52,
   "id": "003b89a3",
   "metadata": {},
   "outputs": [
    {
     "data": {
      "image/png": "[encoded data removed]",
      "text/plain": [
       "<IPython.core.display.Image object>"
      ]
     },
     "metadata": {},
     "output_type": "display_data"
    }
   ],
   "source": [
    "c.Clear()\n",
    "rt.gStyle.SetOptStat(0);\n",
    "c = make_ratio_plot([data_SubleadingPt, MC_SubleadingPt], title = \"\", label = \"\", fit = False, in_tags = None, ratio_bounds = [0.1, 4], logy = False, ratio_index = 0, draw_opt = ['hist','E1'], text = \"\")\n",
    "#legend = rt.TLegend(0.9,0.8,0.7,0.9)\n",
    "#legend.AddEntry(data_LeadingPt, \"Data\")\n",
    "#legend.AddEntry(MC_LeadingPt, \"MC\")\n",
    "#legend.Draw()\n",
    "\n",
    "#stack_leading.GetXaxis().SetTitle(\"Z Candidate Mass [GeV]\");\n",
    "#stack_leading.GetYaxis().SetTitle(\"Events\");\n",
    "\n",
    "c.Draw()"
   ]
  },
  {
   "cell_type": "code",
   "execution_count": null,
   "id": "2291ca23",
   "metadata": {},
   "outputs": [],
   "source": [
    "c = rt.TCanvas(\"c\", \"c\", 800, 600)\n",
    "stack_SubleadingPt = rt.THStack(\"stack\",\"Subleading Muon Pt Comparison\")\n",
    "data_SubleadingPt = rt.TH1F(\"SubleadingPt_Data\", \"Subleading Muon Pt Distribution for Data\", nbinsx=80, xlow = 0, xup=120)\n",
    "#data_LeadingPt.Project(\"LeadingPt_Data\", \"LeadingPt\")\n",
    "for entry in data_tree:\n",
    "    data_SubleadingPt.Fill(getattr(data_tree, \"lepPt\")[1])\n",
    "data_SubleadingPt.SetLineColor(rt.kRed)\n",
    "#data_SubleadingPt.Scale(1/data_SubleadingPt.GetEntries())\n",
    "#stack_SubleadingPt.Add(data_SubleadingPt)\n",
    "\n",
    "\n",
    "MC_SubleadingPt = rt.TH1F(\"SubleadingPt_MC\", \"Subleading Muon Pt Distribution for MC\", nbinsx=80, xlow = 0, xup=120)\n",
    "#MC_LeadingPt.Project(\"LeadingPt_MC\", \"LeadingMC\")\n",
    "for entry in MC_tree:\n",
    "    MC_SubleadingPt.Fill(getattr(MC_tree, \"lepPt\")[1], getattr(MC_tree, \"weight\"))\n",
    "MC_SubleadingPt.SetLineColor(rt.kBlue)\n"
   ]
  },
  {
   "cell_type": "code",
   "execution_count": 44,
   "id": "918f3ce9",
   "metadata": {},
   "outputs": [
    {
     "name": "stderr",
     "output_type": "stream",
     "text": [
      "Warning in <TCanvas::Constructor>: Deleting canvas with same name: c\n",
      "Warning in <TFile::Append>: Replacing existing TH1: ClusterSize_Data (Potential memory leak).\n",
      "Warning in <TFile::Append>: Replacing existing TH1: ClusterSize_MC (Potential memory leak).\n"
     ]
    },
    {
     "data": {
      "image/png": "[encoded data removed]",
      "text/plain": [
       "<IPython.core.display.Image object>"
      ]
     },
     "metadata": {},
     "output_type": "display_data"
    }
   ],
   "source": [
    "c = rt.TCanvas(\"c\", \"c\", 800, 600)\n",
    "stack_clusterSize = rt.THStack(\"stack\",\"Number of Muons in Event Passing Tag Criteria\")\n",
    "data_clusterSize = rt.TH1F(\"ClusterSize_Data\", \"Cluster Size Distribution for Data\", nbinsx=4, xlow = 0, xup=4)\n",
    "#data_LeadingPt.Project(\"LeadingPt_Data\", \"LeadingPt\")\n",
    "for entry in data_tree:\n",
    "    counter=0\n",
    "    for i in range(data_tree.nLeptons):\n",
    "        if data_tree.lepTag[i]==1:\n",
    "            counter+=1\n",
    "    data_clusterSize.Fill(counter)\n",
    "data_clusterSize.SetLineColor(rt.kRed)\n",
    "#data_clusterSize.Scale(1/data_clusterSize.GetEntries())\n",
    "stack_clusterSize.Add(data_clusterSize)\n",
    "\n",
    "\n",
    "MC_clusterSize = rt.TH1F(\"ClusterSize_MC\", \"Cluster Size Distribution for MC\", nbinsx=4, xlow = 0, xup=4)\n",
    "#data_LeadingPt.Project(\"LeadingPt_Data\", \"LeadingPt\")\n",
    "for entry in MC_tree:\n",
    "    counter=0\n",
    "    for i in range(MC_tree.nLeptons):\n",
    "        if data_tree.lepTag[i]==1:\n",
    "            counter+=1\n",
    "    MC_clusterSize.Fill(counter, getattr(MC_tree, \"weight\"))\n",
    "MC_clusterSize.SetLineColor(rt.kBlue)\n",
    "#MC_clusterSize.Scale(1/MC_clusterSize.GetEntries())\n",
    "stack_clusterSize.Add(MC_clusterSize)\n",
    "\n",
    "stack_clusterSize.Draw(\"nostack HIST E0\")\n",
    "\n",
    "legend = rt.TLegend(0.9,0.8,0.7,0.9)\n",
    "legend.AddEntry(data_clusterSize, \"Data\")\n",
    "legend.AddEntry(MC_clusterSize, \"MC\")\n",
    "legend.Draw()\n",
    "\n",
    "stack_clusterSize.GetXaxis().SetTitle(\"Number of Tag Muons\");\n",
    "stack_clusterSize.GetYaxis().SetTitle(\"Events\");\n",
    "#c.SetLogy();\n",
    "c.Draw()"
   ]
  },
  {
   "cell_type": "code",
   "execution_count": 47,
   "id": "5fbafcc1",
   "metadata": {},
   "outputs": [
    {
     "name": "stderr",
     "output_type": "stream",
     "text": [
      "Warning in <TCanvas::Constructor>: Deleting canvas with same name: c\n",
      "Warning in <TFile::Append>: Replacing existing TH1: SubleadingPt_Data (Potential memory leak).\n",
      "Warning in <TFile::Append>: Replacing existing TH1: SubleadingPt_MC (Potential memory leak).\n"
     ]
    },
    {
     "data": {
      "image/png": "[encoded data removed]",
      "text/plain": [
       "<IPython.core.display.Image object>"
      ]
     },
     "metadata": {},
     "output_type": "display_data"
    }
   ],
   "source": [
    "c = rt.TCanvas(\"c\", \"c\", 800, 600)\n",
    "stack_SubleadingPt = rt.THStack(\"stack\",\"Tag Muon Pt Comparison\")\n",
    "data_SubleadingPt = rt.TH1F(\"SubleadingPt_Data\", \"Subleading Muon Pt Distribution for Data\", nbinsx=80, xlow = 0, xup=120)\n",
    "#data_LeadingPt.Project(\"LeadingPt_Data\", \"LeadingPt\")\n",
    "for entry in data_tree:\n",
    "    for i in range(data_tree.nLeptons):\n",
    "        if data_tree.lepTag[i]==1:\n",
    "            data_SubleadingPt.Fill(getattr(data_tree, \"lepPt\")[i])\n",
    "data_SubleadingPt.SetLineColor(rt.kRed)\n",
    "#data_SubleadingPt.Scale(1/data_SubleadingPt.GetEntries())\n",
    "stack_SubleadingPt.Add(data_SubleadingPt)\n",
    "\n",
    "\n",
    "MC_SubleadingPt = rt.TH1F(\"SubleadingPt_MC\", \"Subleading Muon Pt Distribution for MC\", nbinsx=80, xlow = 0, xup=120)\n",
    "#MC_LeadingPt.Project(\"LeadingPt_MC\", \"LeadingMC\")\n",
    "for entry in MC_tree:\n",
    "    for i in range(MC_tree.nLeptons):\n",
    "        if MC_tree.lepTag[i]==1:\n",
    "            MC_SubleadingPt.Fill(getattr(MC_tree, \"lepPt\")[i], MC_tree.weight)\n",
    "MC_SubleadingPt.SetLineColor(rt.kBlue)\n",
    "#MC_SubleadingPt.Scale(1/MC_SubleadingPt.GetEntries())\n",
    "stack_SubleadingPt.Add(MC_SubleadingPt)\n",
    "\n",
    "stack_SubleadingPt.Draw(\"nostack HIST E0\")\n",
    "\n",
    "legend = rt.TLegend(0.9,0.8,0.7,0.9)\n",
    "legend.AddEntry(data_SubleadingPt, \"Data\", \"lep\")\n",
    "legend.AddEntry(MC_SubleadingPt, \"MC\", \"lep\")\n",
    "legend.Draw()\n",
    "\n",
    "stack_SubleadingPt.GetXaxis().SetTitle(\"Tag Muon pT [GeV]\");\n",
    "stack_SubleadingPt.GetYaxis().SetTitle(\"Events\");\n",
    "\n",
    "c.Draw()"
   ]
  },
  {
   "cell_type": "markdown",
   "id": "86f82f5a",
   "metadata": {},
   "source": [
    "### Eta of All Muons"
   ]
  },
  {
   "cell_type": "code",
   "execution_count": 13,
   "id": "d8903104",
   "metadata": {},
   "outputs": [
    {
     "name": "stderr",
     "output_type": "stream",
     "text": [
      "Warning in <TCanvas::Constructor>: Deleting canvas with same name: c\n"
     ]
    },
    {
     "data": {
      "image/png": "[encoded data removed]",
      "text/plain": [
       "<IPython.core.display.Image object>"
      ]
     },
     "metadata": {},
     "output_type": "display_data"
    }
   ],
   "source": [
    "c = rt.TCanvas(\"c\", \"c\", 800, 600)\n",
    "stack_eta = rt.THStack(\"stack\",\"Muon Eta Comparison\")\n",
    "data_eta = rt.TH1F(\"Eta_Data\", \"Eta Distribution for Data\", nbinsx=40, xlow = -4, xup=4)\n",
    "#data_LeadingPt.Project(\"LeadingPt_Data\", \"LeadingPt\")\n",
    "for entry in data_tree:\n",
    "    data_eta.Fill(getattr(data_tree, \"lepEta\")[0])\n",
    "    data_eta.Fill(getattr(data_tree, \"lepEta\")[1])\n",
    "data_eta.SetLineColor(rt.kRed)\n",
    "data_eta.Scale(1/data_eta.GetEntries())\n",
    "stack_eta.Add(data_eta)\n",
    "\n",
    "\n",
    "MC_eta = rt.TH1F(\"Eta\", \"Eta Distribution for MC\", nbinsx=40, xlow = -4, xup=4)\n",
    "#MC_LeadingPt.Project(\"LeadingPt_MC\", \"LeadingMC\")\n",
    "for entry in MC_tree:\n",
    "    MC_eta.Fill(getattr(MC_tree, \"lepEta\")[0])\n",
    "    MC_eta.Fill(getattr(MC_tree, \"lepEta\")[1])\n",
    "MC_eta.SetLineColor(rt.kBlue)\n",
    "MC_eta.Scale(1/MC_eta.GetEntries())\n",
    "stack_eta.Add(MC_eta)\n",
    "\n",
    "stack_eta.Draw(\"nostack HIST E0\")\n",
    "\n",
    "legend = rt.TLegend(0.9,0.8,0.7,0.9)\n",
    "legend.AddEntry(data_eta, \"Data\")\n",
    "legend.AddEntry(MC_eta, \"MC\")\n",
    "legend.Draw()\n",
    "\n",
    "stack_eta.GetXaxis().SetTitle(\"Muon Eta [GeV]\");\n",
    "stack_eta.GetYaxis().SetTitle(\"Fraction of Events\");\n",
    "\n",
    "c.Draw()"
   ]
  },
  {
   "cell_type": "markdown",
   "id": "534ed26c",
   "metadata": {},
   "source": [
    "### Phi"
   ]
  },
  {
   "cell_type": "code",
   "execution_count": 14,
   "id": "96fa0bf8",
   "metadata": {},
   "outputs": [
    {
     "name": "stderr",
     "output_type": "stream",
     "text": [
      "Warning in <TCanvas::Constructor>: Deleting canvas with same name: c\n",
      "Warning in <TFile::Append>: Replacing existing TH1: Eta (Potential memory leak).\n"
     ]
    },
    {
     "data": {
      "image/png": "[encoded data removed]",
      "text/plain": [
       "<IPython.core.display.Image object>"
      ]
     },
     "metadata": {},
     "output_type": "display_data"
    }
   ],
   "source": [
    "c = rt.TCanvas(\"c\", \"c\", 800, 600)\n",
    "stack_phi = rt.THStack(\"stack\",\"Muon Phi Comparison\")\n",
    "data_phi = rt.TH1F(\"Phi_Data\", \"Phi Distribution for Data\", nbinsx=40, xlow = -4, xup=4)\n",
    "#data_LeadingPt.Project(\"LeadingPt_Data\", \"LeadingPt\")\n",
    "for entry in data_tree:\n",
    "    data_phi.Fill(getattr(data_tree, \"lepPhi\")[0])\n",
    "    data_phi.Fill(getattr(data_tree, \"lepPhi\")[1])\n",
    "data_phi.SetLineColor(rt.kRed)\n",
    "data_phi.Scale(1/data_phi.GetEntries())\n",
    "stack_phi.Add(data_phi)\n",
    "\n",
    "\n",
    "MC_phi= rt.TH1F(\"Eta\", \"Eta Distribution for MC\", nbinsx=40, xlow = -4, xup=4)\n",
    "#MC_LeadingPt.Project(\"LeadingPt_MC\", \"LeadingMC\")\n",
    "for entry in MC_tree:\n",
    "    MC_phi.Fill(getattr(MC_tree, \"lepPhi\")[0])\n",
    "    MC_phi.Fill(getattr(MC_tree, \"lepPhi\")[1])\n",
    "MC_phi.SetLineColor(rt.kBlue)\n",
    "MC_phi.Scale(1/MC_phi.GetEntries())\n",
    "stack_phi.Add(MC_phi)\n",
    "\n",
    "stack_phi.Draw(\"nostack HIST E0\")\n",
    "\n",
    "legend = rt.TLegend(0.9,0.8,0.7,0.9)\n",
    "legend.AddEntry(data_phi, \"Data\")\n",
    "legend.AddEntry(MC_phi, \"MC\")\n",
    "legend.Draw()\n",
    "\n",
    "stack_phi.GetXaxis().SetTitle(\"Muon Phi [GeV]\");\n",
    "stack_phi.GetYaxis().SetTitle(\"Fraction of Events\");\n",
    "\n",
    "c.Draw()"
   ]
  },
  {
   "cell_type": "markdown",
   "id": "77b4634a",
   "metadata": {},
   "source": [
    "### Properties of Muons Matched to Clusters"
   ]
  },
  {
   "cell_type": "code",
   "execution_count": 15,
   "id": "dccc9dad",
   "metadata": {},
   "outputs": [],
   "source": [
    "def deltaR(eta1, phi1, eta2, phi2):\n",
    "    return np.sqrt((eta1-eta2)**2+(phi1-phi2)**2)"
   ]
  },
  {
   "cell_type": "code",
   "execution_count": 16,
   "id": "a7c4f5f6",
   "metadata": {},
   "outputs": [
    {
     "name": "stdout",
     "output_type": "stream",
     "text": [
      "1221\n",
      "3254\n"
     ]
    },
    {
     "name": "stderr",
     "output_type": "stream",
     "text": [
      "Warning in <TCanvas::Constructor>: Deleting canvas with same name: c\n",
      "Warning in <TFile::Append>: Replacing existing TH1: LeadingPt_Data (Potential memory leak).\n",
      "Warning in <TFile::Append>: Replacing existing TH1: LeadingPt_MC (Potential memory leak).\n"
     ]
    },
    {
     "data": {
      "image/png": "[encoded data removed]",
      "text/plain": [
       "<IPython.core.display.Image object>"
      ]
     },
     "metadata": {},
     "output_type": "display_data"
    }
   ],
   "source": [
    "c = rt.TCanvas(\"c\", \"c\", 800, 600)\n",
    "stack_leading = rt.THStack(\"stack\",\"Pt of Muon Matched to Cluster\")\n",
    "data_LeadingPt = rt.TH1F(\"LeadingPt_Data\", \"Leading Muon Pt Distribution for Data\", nbinsx=80, xlow = 0, xup=120)\n",
    "#data_LeadingPt.Project(\"LeadingPt_Data\", \"LeadingPt\")\n",
    "data_cluster_count = 0\n",
    "for entry in data_tree:\n",
    "    for i in range(data_tree.nCscRechitClusters):\n",
    "        if not (data_tree.cscRechitCluster_matchToProbeMuon[i] and data_tree.cscRechitCluster_passME1112Veto[i] and data_tree.cscRechitCluster_PassTimeVeto[i]):\n",
    "            continue\n",
    "        for j in range(data_tree.nLeptons):\n",
    "            if deltaR(data_tree.lepEta[j],data_tree.lepPhi[j], data_tree.cscRechitClusterEta[i],data_tree.cscRechitClusterPhi[i])<0.4:\n",
    "                data_LeadingPt.Fill(data_tree.lepPt[j])\n",
    "                data_cluster_count+=1\n",
    "data_LeadingPt.SetLineColor(rt.kRed)\n",
    "#data_LeadingPt.Scale(1/data_LeadingPt.GetEntries())\n",
    "stack_leading.Add(data_LeadingPt)\n",
    "print(data_cluster_count)\n",
    "\n",
    "MC_cluster_count=0\n",
    "MC_LeadingPt = rt.TH1F(\"LeadingPt_MC\", \"Leading Muon Pt Distribution for MC\", nbinsx=80, xlow = 0, xup=120)\n",
    "#MC_LeadingPt.Project(\"LeadingPt_MC\", \"LeadingMC\")\n",
    "for entry in MC_tree:\n",
    "    for i in range(MC_tree.nCscRechitClusters):\n",
    "        if not (MC_tree.cscRechitCluster_matchToProbeMuon[i] and MC_tree.cscRechitCluster_passME1112Veto[i] and MC_tree.cscRechitCluster_PassTimeVeto[i]):\n",
    "            continue\n",
    "        for j in range(MC_tree.nLeptons):\n",
    "            if deltaR(MC_tree.lepEta[j],MC_tree.lepPhi[j], MC_tree.cscRechitClusterEta[i],MC_tree.cscRechitClusterPhi[i])<0.4:\n",
    "                MC_LeadingPt.Fill(MC_tree.lepPt[j], getattr(MC_tree, \"weight\"))\n",
    "                MC_cluster_count+=1\n",
    "MC_LeadingPt.SetLineColor(rt.kBlue)\n",
    "#MC_LeadingPt.Scale(1/MC_LeadingPt.GetEntries())\n",
    "stack_leading.Add(MC_LeadingPt)\n",
    "\n",
    "stack_leading.Draw(\"nostack HIST E0\")\n",
    "print(MC_cluster_count)\n",
    "\n",
    "legend = rt.TLegend(0.9,0.8,0.7,0.9)\n",
    "legend.AddEntry(data_LeadingPt, \"Data\")\n",
    "legend.AddEntry(MC_LeadingPt, \"MC\")\n",
    "legend.Draw()\n",
    "\n",
    "stack_leading.GetXaxis().SetTitle(\"Muon pT [GeV]\");\n",
    "stack_leading.GetYaxis().SetTitle(\"Fraction of Events\");\n",
    "\n",
    "c.Draw()"
   ]
  },
  {
   "cell_type": "code",
   "execution_count": 17,
   "id": "e416ab12",
   "metadata": {},
   "outputs": [
    {
     "name": "stderr",
     "output_type": "stream",
     "text": [
      "Warning in <TCanvas::Constructor>: Deleting canvas with same name: c\n",
      "Warning in <TFile::Append>: Replacing existing TH1: LeadingPt_Data (Potential memory leak).\n",
      "Warning in <TFile::Append>: Replacing existing TH1: LeadingPt_MC (Potential memory leak).\n"
     ]
    },
    {
     "data": {
      "image/png": "[encoded data removed]",
      "text/plain": [
       "<IPython.core.display.Image object>"
      ]
     },
     "metadata": {},
     "output_type": "display_data"
    }
   ],
   "source": [
    "c = rt.TCanvas(\"c\", \"c\", 800, 600)\n",
    "stack_leading = rt.THStack(\"stack\",\"Eta of Muon Matched to Cluster\")\n",
    "data_LeadingPt = rt.TH1F(\"LeadingPt_Data\", \"Leading Muon Pt Distribution for Data\", nbinsx=40, xlow = -4, xup=4)\n",
    "#data_LeadingPt.Project(\"LeadingPt_Data\", \"LeadingPt\")\n",
    "for entry in data_tree:\n",
    "    for i in range(data_tree.nCscRechitClusters):\n",
    "        if not (data_tree.cscRechitCluster_matchToProbeMuon[i] and data_tree.cscRechitCluster_passME1112Veto[i] and data_tree.cscRechitCluster_PassTimeVeto[i] and data_tree.Flag_CSCTightHaloFilter==1):\n",
    "            continue\n",
    "        for j in range(data_tree.nLeptons):\n",
    "            if deltaR(data_tree.lepEta[j],data_tree.lepPhi[j], data_tree.cscRechitClusterEta[i],data_tree.cscRechitClusterPhi[i])<0.4:\n",
    "                data_LeadingPt.Fill(data_tree.lepEta[j])\n",
    "data_LeadingPt.SetLineColor(rt.kRed)\n",
    "#data_LeadingPt.Scale(1/data_LeadingPt.GetEntries())\n",
    "stack_leading.Add(data_LeadingPt)\n",
    "\n",
    "\n",
    "MC_LeadingPt = rt.TH1F(\"LeadingPt_MC\", \"Leading Muon Pt Distribution for MC\", nbinsx=40, xlow = -4, xup=4)\n",
    "#MC_LeadingPt.Project(\"LeadingPt_MC\", \"LeadingMC\")\n",
    "for entry in MC_tree:\n",
    "    for i in range(MC_tree.nCscRechitClusters):\n",
    "        if not (MC_tree.cscRechitCluster_matchToProbeMuon[i] and MC_tree.cscRechitCluster_passME1112Veto[i] and MC_tree.cscRechitCluster_PassTimeVeto[i]):\n",
    "            continue\n",
    "        for j in range(MC_tree.nLeptons):\n",
    "            if deltaR(MC_tree.lepEta[j],MC_tree.lepPhi[j], MC_tree.cscRechitClusterEta[i],MC_tree.cscRechitClusterPhi[i])<0.4:\n",
    "                MC_LeadingPt.Fill(MC_tree.lepEta[j], getattr(MC_tree, \"weight\"))\n",
    "MC_LeadingPt.SetLineColor(rt.kBlue)\n",
    "#MC_LeadingPt.Scale(1/MC_LeadingPt.GetEntries())\n",
    "stack_leading.Add(MC_LeadingPt)\n",
    "\n",
    "stack_leading.Draw(\"nostack HIST E0\")\n",
    "\n",
    "legend = rt.TLegend(0.9,0.8,0.7,0.9)\n",
    "legend.AddEntry(data_LeadingPt, \"Data\")\n",
    "legend.AddEntry(MC_LeadingPt, \"MC\")\n",
    "legend.Draw()\n",
    "\n",
    "stack_leading.GetXaxis().SetTitle(\"Eta\");\n",
    "stack_leading.GetYaxis().SetTitle(\"Events\");\n",
    "\n",
    "c.Draw()"
   ]
  },
  {
   "cell_type": "code",
   "execution_count": 18,
   "id": "e656db4b",
   "metadata": {},
   "outputs": [
    {
     "name": "stderr",
     "output_type": "stream",
     "text": [
      "Warning in <TCanvas::Constructor>: Deleting canvas with same name: c\n",
      "Warning in <TFile::Append>: Replacing existing TH1: LeadingPt_Data (Potential memory leak).\n",
      "Warning in <TFile::Append>: Replacing existing TH1: LeadingPt_MC (Potential memory leak).\n"
     ]
    },
    {
     "data": {
      "image/png": "[encoded data removed]",
      "text/plain": [
       "<IPython.core.display.Image object>"
      ]
     },
     "metadata": {},
     "output_type": "display_data"
    }
   ],
   "source": [
    "c = rt.TCanvas(\"c\", \"c\", 800, 600)\n",
    "stack_leading = rt.THStack(\"stack\",\"Phi of Muon Matched to Cluster\")\n",
    "data_LeadingPt = rt.TH1F(\"LeadingPt_Data\", \"Leading Muon Pt Distribution for Data\", nbinsx=40, xlow = -4, xup=4)\n",
    "#data_LeadingPt.Project(\"LeadingPt_Data\", \"LeadingPt\")\n",
    "for entry in data_tree:\n",
    "    for i in range(data_tree.nCscRechitClusters):\n",
    "        if not (data_tree.cscRechitCluster_matchToProbeMuon[i] and data_tree.cscRechitCluster_passME1112Veto[i] and data_tree.cscRechitCluster_PassTimeVeto[i] and data_tree.Flag_CSCTightHaloFilter==1):\n",
    "            continue\n",
    "        for j in range(data_tree.nLeptons):\n",
    "            if deltaR(data_tree.lepEta[j],data_tree.lepPhi[j], data_tree.cscRechitClusterEta[i],data_tree.cscRechitClusterPhi[i])<0.4:\n",
    "                data_LeadingPt.Fill(data_tree.lepPhi[j])\n",
    "data_LeadingPt.SetLineColor(rt.kRed)\n",
    "#data_LeadingPt.Scale(1/data_LeadingPt.GetEntries())\n",
    "stack_leading.Add(data_LeadingPt)\n",
    "\n",
    "\n",
    "MC_LeadingPt = rt.TH1F(\"LeadingPt_MC\", \"Leading Muon Pt Distribution for MC\", nbinsx=40, xlow = -4, xup=4)\n",
    "#MC_LeadingPt.Project(\"LeadingPt_MC\", \"LeadingMC\")\n",
    "for entry in MC_tree:\n",
    "    for i in range(MC_tree.nCscRechitClusters):\n",
    "        if not (MC_tree.cscRechitCluster_matchToProbeMuon[i] and MC_tree.cscRechitCluster_passME1112Veto[i] and MC_tree.cscRechitCluster_PassTimeVeto[i]):\n",
    "            continue\n",
    "        for j in range(MC_tree.nLeptons):\n",
    "            if deltaR(MC_tree.lepEta[j],MC_tree.lepPhi[j], MC_tree.cscRechitClusterEta[i],MC_tree.cscRechitClusterPhi[i])<0.4:\n",
    "                MC_LeadingPt.Fill(MC_tree.lepPhi[j], getattr(MC_tree, \"weight\"))\n",
    "MC_LeadingPt.SetLineColor(rt.kBlue)\n",
    "#MC_LeadingPt.Scale(1/MC_LeadingPt.GetEntries())\n",
    "stack_leading.Add(MC_LeadingPt)\n",
    "\n",
    "stack_leading.Draw(\"nostack HIST E0\")\n",
    "\n",
    "legend = rt.TLegend(0.9,0.8,0.7,0.9)\n",
    "legend.AddEntry(data_LeadingPt, \"Data\")\n",
    "legend.AddEntry(MC_LeadingPt, \"MC\")\n",
    "legend.Draw()\n",
    "\n",
    "stack_leading.GetXaxis().SetTitle(\"Phi\");\n",
    "stack_leading.GetYaxis().SetTitle(\"Events\");\n",
    "\n",
    "c.Draw()"
   ]
  },
  {
   "cell_type": "markdown",
   "id": "526f1559",
   "metadata": {},
   "source": [
    "### Cluster Properties"
   ]
  },
  {
   "cell_type": "code",
   "execution_count": 56,
   "id": "b116e9f8",
   "metadata": {},
   "outputs": [
    {
     "name": "stderr",
     "output_type": "stream",
     "text": [
      "Warning in <TCanvas::Constructor>: Deleting canvas with same name: c\n",
      "Warning in <TFile::Append>: Replacing existing TH1: ClusterSize_Data (Potential memory leak).\n",
      "Warning in <TFile::Append>: Replacing existing TH1: ClusterSize_MC (Potential memory leak).\n"
     ]
    },
    {
     "data": {
      "image/png": "[encoded data removed]",
      "text/plain": [
       "<IPython.core.display.Image object>"
      ]
     },
     "metadata": {},
     "output_type": "display_data"
    }
   ],
   "source": [
    "c = rt.TCanvas(\"c\", \"c\", 800, 600)\n",
    "stack_clusterSize = rt.THStack(\"stack\",\"Total Number of in-time CSC Rechit Clusters with no hits in ME11/12\")\n",
    "data_clusterSize = rt.TH1F(\"ClusterSize_Data\", \"Cluster Size Distribution for Data\", nbinsx=5, xlow = 0, xup=5)\n",
    "#data_LeadingPt.Project(\"LeadingPt_Data\", \"LeadingPt\")\n",
    "for entry in data_tree:\n",
    "    counter=0\n",
    "    for i in range(data_tree.nCscRechitClusters):\n",
    "        if (data_tree.cscRechitCluster_passME1112Veto[i] and data_tree.cscRechitCluster_PassTimeVeto[i]):\n",
    "            counter+=1\n",
    "    data_clusterSize.Fill(counter)\n",
    "data_clusterSize.SetLineColor(rt.kRed)\n",
    "#data_clusterSize.Scale(1/data_clusterSize.GetEntries())\n",
    "stack_clusterSize.Add(data_clusterSize)\n",
    "\n",
    "\n",
    "MC_clusterSize = rt.TH1F(\"ClusterSize_MC\", \"Cluster Size Distribution for MC\", nbinsx=5, xlow = 0, xup=5)\n",
    "#data_LeadingPt.Project(\"LeadingPt_Data\", \"LeadingPt\")\n",
    "for entry in MC_tree:\n",
    "    counter=0\n",
    "    for i in range(MC_tree.nCscRechitClusters):\n",
    "        if (MC_tree.cscRechitCluster_passME1112Veto[i] and MC_tree.cscRechitCluster_PassTimeVeto[i]):\n",
    "            counter+=1\n",
    "    MC_clusterSize.Fill(counter, getattr(MC_tree, \"weight\"))\n",
    "MC_clusterSize.SetLineColor(rt.kBlue)\n",
    "#MC_clusterSize.Scale(1/MC_clusterSize.GetEntries())\n",
    "stack_clusterSize.Add(MC_clusterSize)\n",
    "\n",
    "stack_clusterSize.Draw(\"nostack HIST E0\")\n",
    "\n",
    "legend = rt.TLegend(0.9,0.8,0.7,0.9)\n",
    "legend.AddEntry(data_clusterSize, \"Data\")\n",
    "legend.AddEntry(MC_clusterSize, \"MC\")\n",
    "legend.Draw()\n",
    "\n",
    "stack_clusterSize.GetXaxis().SetTitle(\"Number of CSC Rechit Clusters\");\n",
    "stack_clusterSize.GetYaxis().SetTitle(\"Events\");\n",
    "#c.SetLogy();\n",
    "c.Draw()"
   ]
  },
  {
   "cell_type": "code",
   "execution_count": 55,
   "id": "51035f22",
   "metadata": {},
   "outputs": [
    {
     "name": "stderr",
     "output_type": "stream",
     "text": [
      "Warning in <TCanvas::Constructor>: Deleting canvas with same name: c\n",
      "Warning in <TFile::Append>: Replacing existing TH1: ClusterSize_Data (Potential memory leak).\n",
      "Warning in <TFile::Append>: Replacing existing TH1: ClusterSize_MC (Potential memory leak).\n"
     ]
    },
    {
     "data": {
      "image/png": "[encoded data removed]",
      "text/plain": [
       "<IPython.core.display.Image object>"
      ]
     },
     "metadata": {},
     "output_type": "display_data"
    }
   ],
   "source": [
    "c = rt.TCanvas(\"c\", \"c\", 800, 600)\n",
    "stack_clusterSize = rt.THStack(\"stack\",\"Total Number of Matched, In-Time CSC Rechit Clusters with no hits in ME11/12\")\n",
    "data_clusterSize = rt.TH1F(\"ClusterSize_Data\", \"Cluster Size Distribution for Data\", nbinsx=5, xlow = 0, xup=5)\n",
    "#data_LeadingPt.Project(\"LeadingPt_Data\", \"LeadingPt\")\n",
    "for entry in data_tree:\n",
    "    counter=0\n",
    "    for i in range(data_tree.nCscRechitClusters):\n",
    "        if (data_tree.cscRechitCluster_matchToProbeMuon[i] and data_tree.cscRechitCluster_passME1112Veto[i] and data_tree.cscRechitCluster_PassTimeVeto[i]):\n",
    "            counter+=1\n",
    "    data_clusterSize.Fill(counter)\n",
    "data_clusterSize.SetLineColor(rt.kRed)\n",
    "#data_clusterSize.Scale(1/data_clusterSize.GetEntries())\n",
    "stack_clusterSize.Add(data_clusterSize)\n",
    "\n",
    "\n",
    "MC_clusterSize = rt.TH1F(\"ClusterSize_MC\", \"Cluster Size Distribution for MC\", nbinsx=5, xlow = 0, xup=5)\n",
    "#data_LeadingPt.Project(\"LeadingPt_Data\", \"LeadingPt\")\n",
    "for entry in MC_tree:\n",
    "    counter=0\n",
    "    for i in range(MC_tree.nCscRechitClusters):\n",
    "        if (MC_tree.cscRechitCluster_matchToProbeMuon[i] and MC_tree.cscRechitCluster_passME1112Veto[i] and MC_tree.cscRechitCluster_PassTimeVeto[i]):\n",
    "            counter+=1\n",
    "    MC_clusterSize.Fill(counter, getattr(MC_tree, \"weight\"))\n",
    "MC_clusterSize.SetLineColor(rt.kBlue)\n",
    "#MC_clusterSize.Scale(1/MC_clusterSize.GetEntries())\n",
    "stack_clusterSize.Add(MC_clusterSize)\n",
    "\n",
    "stack_clusterSize.Draw(\"nostack HIST E0\")\n",
    "\n",
    "legend = rt.TLegend(0.9,0.8,0.7,0.9)\n",
    "legend.AddEntry(data_clusterSize, \"Data\")\n",
    "legend.AddEntry(MC_clusterSize, \"MC\")\n",
    "legend.Draw()\n",
    "\n",
    "stack_clusterSize.GetXaxis().SetTitle(\"Number of CSC Rechit Clusters in Event\");\n",
    "stack_clusterSize.GetYaxis().SetTitle(\"Events\");\n",
    "#c.SetLogy();\n",
    "c.Draw()"
   ]
  },
  {
   "cell_type": "code",
   "execution_count": 57,
   "id": "4bfe8b67",
   "metadata": {},
   "outputs": [
    {
     "name": "stderr",
     "output_type": "stream",
     "text": [
      "Warning in <TCanvas::Constructor>: Deleting canvas with same name: c\n",
      "Warning in <TFile::Append>: Replacing existing TH1: ClusterSize_Data (Potential memory leak).\n",
      "Warning in <TFile::Append>: Replacing existing TH1: ClusterSize_MC (Potential memory leak).\n"
     ]
    },
    {
     "data": {
      "image/png": "[encoded data removed]",
      "text/plain": [
       "<IPython.core.display.Image object>"
      ]
     },
     "metadata": {},
     "output_type": "display_data"
    }
   ],
   "source": [
    "c = rt.TCanvas(\"c\", \"c\", 800, 600)\n",
    "stack_clusterSize = rt.THStack(\"stack\",\"Cluster Size\")\n",
    "data_clusterSize = rt.TH1F(\"ClusterSize_Data\", \"Cluster Size Distribution for Data\", nbinsx=40, xlow = 0, xup=400)\n",
    "#data_LeadingPt.Project(\"LeadingPt_Data\", \"LeadingPt\")\n",
    "for entry in data_tree:\n",
    "    for i in range(data_tree.nCscRechitClusters):\n",
    "        if (data_tree.cscRechitCluster_matchToProbeMuon[i] and data_tree.cscRechitCluster_passME1112Veto[i] and data_tree.cscRechitCluster_PassTimeVeto[i]):\n",
    "            data_clusterSize.Fill(data_tree.cscRechitClusterSize[i])\n",
    "data_clusterSize.SetLineColor(rt.kRed)\n",
    "#data_clusterSize.Scale(1/data_clusterSize.GetEntries())\n",
    "stack_clusterSize.Add(data_clusterSize)\n",
    "\n",
    "\n",
    "MC_clusterSize = rt.TH1F(\"ClusterSize_MC\", \"Cluster Size Distribution for MC\", nbinsx=40, xlow = 0, xup=400)\n",
    "#data_LeadingPt.Project(\"LeadingPt_Data\", \"LeadingPt\")\n",
    "for entry in MC_tree:\n",
    "    for i in range(MC_tree.nCscRechitClusters):\n",
    "        if (MC_tree.cscRechitCluster_matchToProbeMuon[i] and MC_tree.cscRechitCluster_passME1112Veto[i] and MC_tree.cscRechitCluster_PassTimeVeto[i]):\n",
    "            MC_clusterSize.Fill(MC_tree.cscRechitClusterSize[i], getattr(MC_tree, \"weight\"))\n",
    "MC_clusterSize.SetLineColor(rt.kBlue)\n",
    "#MC_clusterSize.Scale(1/MC_clusterSize.GetEntries())\n",
    "stack_clusterSize.Add(MC_clusterSize)\n",
    "\n",
    "stack_clusterSize.Draw(\"nostack HIST E0\")\n",
    "\n",
    "legend = rt.TLegend(0.9,0.8,0.7,0.9)\n",
    "legend.AddEntry(data_clusterSize, \"Data\")\n",
    "legend.AddEntry(MC_clusterSize, \"MC\")\n",
    "legend.Draw()\n",
    "\n",
    "stack_clusterSize.GetXaxis().SetTitle(\"N_{Rechits}\");\n",
    "stack_clusterSize.GetYaxis().SetTitle(\"Events\");\n",
    "#c.SetLogy();\n",
    "c.Draw()"
   ]
  },
  {
   "cell_type": "code",
   "execution_count": 22,
   "id": "3ff63d53",
   "metadata": {},
   "outputs": [
    {
     "name": "stdout",
     "output_type": "stream",
     "text": [
      "skipped\n",
      "skipped\n",
      "skipped\n",
      "skipped\n",
      "skipped\n",
      "skipped\n",
      "skipped\n",
      "skipped\n",
      "skipped\n",
      "skipped\n",
      "skipped\n",
      "skipped\n",
      "skipped\n",
      "skipped\n",
      "skipped\n",
      "skipped\n",
      "skipped\n",
      "skipped\n",
      "skipped\n",
      "skipped\n",
      "skipped\n",
      "skipped\n",
      "skipped\n",
      "skipped\n",
      "skipped\n"
     ]
    },
    {
     "name": "stderr",
     "output_type": "stream",
     "text": [
      "Warning in <TCanvas::Constructor>: Deleting canvas with same name: c\n",
      "Warning in <TFile::Append>: Replacing existing TH1: ClusterSize_Data (Potential memory leak).\n",
      "Warning in <TFile::Append>: Replacing existing TH1: ClusterSize_MC (Potential memory leak).\n"
     ]
    },
    {
     "data": {
      "image/png": "[encoded data removed]",
      "text/plain": [
       "<IPython.core.display.Image object>"
      ]
     },
     "metadata": {},
     "output_type": "display_data"
    }
   ],
   "source": [
    "c = rt.TCanvas(\"c\", \"c\", 800, 600)\n",
    "stack_clusterSize = rt.THStack(\"stack\",\"Cluster Eta\")\n",
    "data_clusterSize = rt.TH1F(\"ClusterSize_Data\", \"Cluster Size Distribution for Data\", nbinsx=60, xlow = -4, xup=4)\n",
    "#data_LeadingPt.Project(\"LeadingPt_Data\", \"LeadingPt\")\n",
    "for entry in data_tree:\n",
    "    if data_tree.Flag_CSCTightHaloFilter == 0:\n",
    "        print(\"skipped\")\n",
    "        continue\n",
    "    for i in range(data_tree.nCscRechitClusters):\n",
    "        if (data_tree.cscRechitCluster_matchToProbeMuon[i] and data_tree.cscRechitCluster_passME1112Veto[i] and data_tree.cscRechitCluster_PassTimeVeto[i]):\n",
    "            data_clusterSize.Fill(data_tree.cscRechitClusterEta[i])\n",
    "data_clusterSize.SetLineColor(rt.kRed)\n",
    "#data_clusterSize.Scale(1/data_clusterSize.GetEntries())\n",
    "stack_clusterSize.Add(data_clusterSize)\n",
    "\n",
    "\n",
    "MC_clusterSize = rt.TH1F(\"ClusterSize_MC\", \"Cluster Size Distribution for MC\", nbinsx=60, xlow = -4, xup=4)\n",
    "#data_LeadingPt.Project(\"LeadingPt_Data\", \"LeadingPt\")\n",
    "for entry in MC_tree:\n",
    "    for i in range(MC_tree.nCscRechitClusters):\n",
    "        if (MC_tree.cscRechitCluster_matchToProbeMuon[i] and MC_tree.cscRechitCluster_passME1112Veto[i] and MC_tree.cscRechitCluster_PassTimeVeto[i]):\n",
    "            MC_clusterSize.Fill(MC_tree.cscRechitClusterEta[i], getattr(MC_tree, \"weight\"))\n",
    "MC_clusterSize.SetLineColor(rt.kBlue)\n",
    "#MC_clusterSize.Scale(1/MC_clusterSize.GetEntries())\n",
    "stack_clusterSize.Add(MC_clusterSize)\n",
    "\n",
    "stack_clusterSize.Draw(\"nostack HIST E0\")\n",
    "\n",
    "legend = rt.TLegend(0.9,0.8,0.7,0.9)\n",
    "legend.AddEntry(data_clusterSize, \"Data\")\n",
    "legend.AddEntry(MC_clusterSize, \"MC\")\n",
    "legend.Draw()\n",
    "\n",
    "stack_clusterSize.GetXaxis().SetTitle(\"Eta\")\n",
    "stack_clusterSize.GetYaxis().SetTitle(\"Events\")\n",
    "\n",
    "c.Draw()"
   ]
  },
  {
   "cell_type": "code",
   "execution_count": 58,
   "id": "455289d0",
   "metadata": {},
   "outputs": [
    {
     "name": "stderr",
     "output_type": "stream",
     "text": [
      "Warning in <TCanvas::Constructor>: Deleting canvas with same name: c\n",
      "Warning in <TFile::Append>: Replacing existing TH1: ClusterSize_Data (Potential memory leak).\n",
      "Warning in <TFile::Append>: Replacing existing TH1: ClusterSize_MC (Potential memory leak).\n"
     ]
    },
    {
     "data": {
      "image/png": "[encoded data removed]",
      "text/plain": [
       "<IPython.core.display.Image object>"
      ]
     },
     "metadata": {},
     "output_type": "display_data"
    }
   ],
   "source": [
    "c = rt.TCanvas(\"c\", \"c\", 800, 600)\n",
    "stack_clusterSize = rt.THStack(\"stack\",\"Cluster Phi\")\n",
    "data_clusterSize = rt.TH1F(\"ClusterSize_Data\", \"Cluster Size Distribution for Data\", nbinsx=30, xlow = -4, xup=4)\n",
    "#data_LeadingPt.Project(\"LeadingPt_Data\", \"LeadingPt\")\n",
    "for entry in data_tree:\n",
    "    #if data_tree.Flag_CSCTightHaloFilter == 0:\n",
    "    #    print(\"skipped\")\n",
    "    #    continue\n",
    "    for i in range(data_tree.nCscRechitClusters):\n",
    "        if (data_tree.cscRechitCluster_matchToProbeMuon[i] and data_tree.cscRechitCluster_passME1112Veto[i] and data_tree.cscRechitCluster_PassTimeVeto[i]):\n",
    "            data_clusterSize.Fill(data_tree.cscRechitClusterPhi[i])\n",
    "data_clusterSize.SetLineColor(rt.kRed)\n",
    "#data_clusterSize.Scale(1/data_clusterSize.GetEntries())\n",
    "stack_clusterSize.Add(data_clusterSize)\n",
    "\n",
    "\n",
    "MC_clusterSize = rt.TH1F(\"ClusterSize_MC\", \"Cluster Size Distribution for MC\", nbinsx=30, xlow = -4, xup=4)\n",
    "#data_LeadingPt.Project(\"LeadingPt_Data\", \"LeadingPt\")\n",
    "for entry in MC_tree:\n",
    "    for i in range(MC_tree.nCscRechitClusters):\n",
    "        if (MC_tree.cscRechitCluster_matchToProbeMuon[i] and MC_tree.cscRechitCluster_passME1112Veto[i] and MC_tree.cscRechitCluster_PassTimeVeto[i]):\n",
    "            MC_clusterSize.Fill(MC_tree.cscRechitClusterPhi[i], getattr(MC_tree, \"weight\"))\n",
    "MC_clusterSize.SetLineColor(rt.kBlue)\n",
    "#MC_clusterSize.Scale(1/MC_clusterSize.GetEntries())\n",
    "stack_clusterSize.Add(MC_clusterSize)\n",
    "\n",
    "stack_clusterSize.Draw(\"nostack HIST E0\")\n",
    "\n",
    "legend = rt.TLegend(0.9,0.8,0.7,0.9)\n",
    "legend.AddEntry(data_clusterSize, \"Data\")\n",
    "legend.AddEntry(MC_clusterSize, \"MC\")\n",
    "legend.Draw()\n",
    "\n",
    "stack_clusterSize.GetXaxis().SetTitle(\"Phi\")\n",
    "stack_clusterSize.GetYaxis().SetTitle(\"Events\")\n",
    "\n",
    "c.Draw()"
   ]
  },
  {
   "cell_type": "code",
   "execution_count": 59,
   "id": "063e5217",
   "metadata": {},
   "outputs": [
    {
     "name": "stderr",
     "output_type": "stream",
     "text": [
      "Warning in <TCanvas::Constructor>: Deleting canvas with same name: c\n",
      "Warning in <TFile::Append>: Replacing existing TH1: ClusterSize_Data (Potential memory leak).\n",
      "Warning in <TFile::Append>: Replacing existing TH1: ClusterSize_MC (Potential memory leak).\n"
     ]
    },
    {
     "data": {
      "image/png": "[encoded data removed]",
      "text/plain": [
       "<IPython.core.display.Image object>"
      ]
     },
     "metadata": {},
     "output_type": "display_data"
    }
   ],
   "source": [
    "c = rt.TCanvas(\"c\", \"c\", 800, 600)\n",
    "stack_clusterSize = rt.THStack(\"stack\",\"Cluster Time\")\n",
    "data_clusterSize = rt.TH1F(\"ClusterSize_Data\", \"Cluster Size Distribution for Data\", nbinsx=60, xlow = -8, xup=20)\n",
    "#data_LeadingPt.Project(\"LeadingPt_Data\", \"LeadingPt\")\n",
    "for entry in data_tree:\n",
    "    for i in range(data_tree.nCscRechitClusters):\n",
    "        if (data_tree.cscRechitCluster_matchToProbeMuon[i] and data_tree.cscRechitCluster_passME1112Veto[i] and data_tree.cscRechitCluster_PassTimeVeto[i]):\n",
    "            data_clusterSize.Fill(data_tree.cscRechitClusterTime[i])\n",
    "data_clusterSize.SetLineColor(rt.kRed)\n",
    "#data_clusterSize.Scale(1/data_clusterSize.GetEntries())\n",
    "stack_clusterSize.Add(data_clusterSize)\n",
    "\n",
    "\n",
    "MC_clusterSize = rt.TH1F(\"ClusterSize_MC\", \"Cluster Size Distribution for MC\", nbinsx=60, xlow = -8, xup=20)\n",
    "#data_LeadingPt.Project(\"LeadingPt_Data\", \"LeadingPt\")\n",
    "for entry in MC_tree:\n",
    "    for i in range(MC_tree.nCscRechitClusters):\n",
    "        if (MC_tree.cscRechitCluster_matchToProbeMuon[i] and MC_tree.cscRechitCluster_passME1112Veto[i] and MC_tree.cscRechitCluster_PassTimeVeto[i]):\n",
    "            MC_clusterSize.Fill(MC_tree.cscRechitClusterTime[i], getattr(MC_tree, \"weight\"))\n",
    "MC_clusterSize.SetLineColor(rt.kBlue)\n",
    "#MC_clusterSize.Scale(1/MC_clusterSize.GetEntries())\n",
    "stack_clusterSize.Add(MC_clusterSize)\n",
    "\n",
    "stack_clusterSize.Draw(\"nostack HIST E0\")\n",
    "\n",
    "legend = rt.TLegend(0.9,0.8,0.7,0.9)\n",
    "legend.AddEntry(data_clusterSize, \"Data\")\n",
    "legend.AddEntry(MC_clusterSize, \"MC\")\n",
    "legend.Draw()\n",
    "\n",
    "stack_clusterSize.GetXaxis().SetTitle(\"Cluster Time\")\n",
    "#stack_clusterSize.GetYaxis().SetTitle(\"Fraction of Events\")\n",
    "\n",
    "c.Draw()"
   ]
  },
  {
   "cell_type": "code",
   "execution_count": 25,
   "id": "70683cee",
   "metadata": {},
   "outputs": [
    {
     "name": "stderr",
     "output_type": "stream",
     "text": [
      "Warning in <TCanvas::Constructor>: Deleting canvas with same name: c\n",
      "Warning in <TFile::Append>: Replacing existing TH1: ClusterSize_Data (Potential memory leak).\n",
      "Warning in <TFile::Append>: Replacing existing TH1: ClusterSize_MC (Potential memory leak).\n"
     ]
    },
    {
     "data": {
      "image/png": "[encoded data removed]",
      "text/plain": [
       "<IPython.core.display.Image object>"
      ]
     },
     "metadata": {},
     "output_type": "display_data"
    }
   ],
   "source": [
    "c = rt.TCanvas(\"c\", \"c\", 800, 600)\n",
    "stack_clusterSize = rt.THStack(\"stack\",\"Cluster Time Spread\")\n",
    "data_clusterSize = rt.TH1F(\"ClusterSize_Data\", \"Cluster Size Distribution for Data\", nbinsx=50, xlow = 0, xup=50)\n",
    "#data_LeadingPt.Project(\"LeadingPt_Data\", \"LeadingPt\")\n",
    "for entry in data_tree:\n",
    "    for i in range(data_tree.nCscRechitClusters):\n",
    "        if (data_tree.cscRechitCluster_matchToProbeMuon[i] and data_tree.cscRechitCluster_passME1112Veto[i] and data_tree.cscRechitCluster_PassTimeVeto[i]):\n",
    "            data_clusterSize.Fill(data_tree.cscRechitClusterTimeSpread[i])\n",
    "data_clusterSize.SetLineColor(rt.kRed)\n",
    "#data_clusterSize.Scale(1/data_clusterSize.GetEntries())\n",
    "stack_clusterSize.Add(data_clusterSize)\n",
    "\n",
    "\n",
    "MC_clusterSize = rt.TH1F(\"ClusterSize_MC\", \"Cluster Size Distribution for MC\", nbinsx=50, xlow = 0, xup=50)\n",
    "#data_LeadingPt.Project(\"LeadingPt_Data\", \"LeadingPt\")\n",
    "for entry in MC_tree:\n",
    "    for i in range(MC_tree.nCscRechitClusters):\n",
    "        if (MC_tree.cscRechitCluster_matchToProbeMuon[i] and MC_tree.cscRechitCluster_passME1112Veto[i] and MC_tree.cscRechitCluster_PassTimeVeto[i]):\n",
    "            MC_clusterSize.Fill(MC_tree.cscRechitClusterTimeSpread[i], getattr(MC_tree, \"weight\"))\n",
    "MC_clusterSize.SetLineColor(rt.kBlue)\n",
    "#MC_clusterSize.Scale(1/MC_clusterSize.GetEntries())\n",
    "stack_clusterSize.Add(MC_clusterSize)\n",
    "\n",
    "stack_clusterSize.Draw(\"nostack HIST E0\")\n",
    "\n",
    "legend = rt.TLegend(0.9,0.8,0.7,0.9)\n",
    "legend.AddEntry(data_clusterSize, \"Data\")\n",
    "legend.AddEntry(MC_clusterSize, \"MC\")\n",
    "legend.Draw()\n",
    "\n",
    "stack_clusterSize.GetXaxis().SetTitle(\"Cluster Time Spread\")\n",
    "stack_clusterSize.GetYaxis().SetTitle(\"Events\")\n",
    "\n",
    "c.Draw()"
   ]
  },
  {
   "cell_type": "code",
   "execution_count": 60,
   "id": "8ed2e436",
   "metadata": {},
   "outputs": [
    {
     "name": "stderr",
     "output_type": "stream",
     "text": [
      "Warning in <TCanvas::Constructor>: Deleting canvas with same name: c\n",
      "Warning in <TFile::Append>: Replacing existing TH1: ClusterSize_Data (Potential memory leak).\n",
      "Warning in <TFile::Append>: Replacing existing TH1: ClusterSize_MC (Potential memory leak).\n"
     ]
    },
    {
     "data": {
      "image/png": "[encoded data removed]",
      "text/plain": [
       "<IPython.core.display.Image object>"
      ]
     },
     "metadata": {},
     "output_type": "display_data"
    }
   ],
   "source": [
    "c = rt.TCanvas(\"c\", \"c\", 800, 600)\n",
    "stack_clusterSize = rt.THStack(\"stack\",\"Weighted Cluster Time\")\n",
    "data_clusterSize = rt.TH1F(\"ClusterSize_Data\", \"Cluster Size Distribution for Data\", nbinsx=60, xlow = -8, xup=20)\n",
    "#data_LeadingPt.Project(\"LeadingPt_Data\", \"LeadingPt\")\n",
    "for entry in data_tree:\n",
    "    for i in range(data_tree.nCscRechitClusters):\n",
    "        if (data_tree.cscRechitCluster_matchToProbeMuon[i] and data_tree.cscRechitCluster_passME1112Veto[i] and data_tree.cscRechitCluster_PassTimeVeto[i]):\n",
    "            data_clusterSize.Fill(data_tree.cscRechitClusterTimeWeighted[i])\n",
    "data_clusterSize.SetLineColor(rt.kRed)\n",
    "#data_clusterSize.Scale(1/data_clusterSize.GetEntries())\n",
    "stack_clusterSize.Add(data_clusterSize)\n",
    "\n",
    "\n",
    "MC_clusterSize = rt.TH1F(\"ClusterSize_MC\", \"Cluster Size Distribution for MC\", nbinsx=60, xlow = -8, xup=20)\n",
    "#data_LeadingPt.Project(\"LeadingPt_Data\", \"LeadingPt\")\n",
    "for entry in MC_tree:\n",
    "    for i in range(MC_tree.nCscRechitClusters):\n",
    "        if (MC_tree.cscRechitCluster_matchToProbeMuon[i] and MC_tree.cscRechitCluster_passME1112Veto[i] and MC_tree.cscRechitCluster_PassTimeVeto[i]):\n",
    "            MC_clusterSize.Fill(MC_tree.cscRechitClusterTimeWeighted[i], getattr(MC_tree, \"weight\"))\n",
    "MC_clusterSize.SetLineColor(rt.kBlue)\n",
    "#MC_clusterSize.Scale(1/MC_clusterSize.GetEntries())\n",
    "stack_clusterSize.Add(MC_clusterSize)\n",
    "\n",
    "stack_clusterSize.Draw(\"nostack HIST E0\")\n",
    "\n",
    "legend = rt.TLegend(0.9,0.8,0.7,0.9)\n",
    "legend.AddEntry(data_clusterSize, \"Data\")\n",
    "legend.AddEntry(MC_clusterSize, \"MC\")\n",
    "legend.Draw()\n",
    "\n",
    "stack_clusterSize.GetXaxis().SetTitle(\"Weighted Cluster Time\")\n",
    "stack_clusterSize.GetYaxis().SetTitle(\"Events\")\n",
    "\n",
    "c.Draw()"
   ]
  },
  {
   "cell_type": "code",
   "execution_count": 27,
   "id": "940df7e0",
   "metadata": {},
   "outputs": [
    {
     "name": "stderr",
     "output_type": "stream",
     "text": [
      "Warning in <TCanvas::Constructor>: Deleting canvas with same name: c\n",
      "Warning in <TFile::Append>: Replacing existing TH1: ClusterSize_Data (Potential memory leak).\n",
      "Warning in <TFile::Append>: Replacing existing TH1: ClusterSize_MC (Potential memory leak).\n"
     ]
    },
    {
     "data": {
      "image/png": "[encoded data removed]",
      "text/plain": [
       "<IPython.core.display.Image object>"
      ]
     },
     "metadata": {},
     "output_type": "display_data"
    }
   ],
   "source": [
    "c = rt.TCanvas(\"c\", \"c\", 800, 600)\n",
    "stack_clusterSize = rt.THStack(\"stack\",\"Weighted Cluster Time Spread\")\n",
    "data_clusterSize = rt.TH1F(\"ClusterSize_Data\", \"Cluster Size Distribution for Data\", nbinsx=50, xlow = 0, xup=50)\n",
    "#data_LeadingPt.Project(\"LeadingPt_Data\", \"LeadingPt\")\n",
    "for entry in data_tree:\n",
    "    for i in range(data_tree.nCscRechitClusters):\n",
    "        if (data_tree.cscRechitCluster_matchToProbeMuon[i] and data_tree.cscRechitCluster_passME1112Veto[i] and data_tree.cscRechitCluster_PassTimeVeto[i]):\n",
    "            data_clusterSize.Fill(data_tree.cscRechitClusterTimeSpreadWeightedAll[i])\n",
    "data_clusterSize.SetLineColor(rt.kRed)\n",
    "#data_clusterSize.Scale(1/data_clusterSize.GetEntries())\n",
    "stack_clusterSize.Add(data_clusterSize)\n",
    "\n",
    "\n",
    "MC_clusterSize = rt.TH1F(\"ClusterSize_MC\", \"Cluster Size Distribution for MC\", nbinsx=50, xlow = 0, xup=50)\n",
    "#data_LeadingPt.Project(\"LeadingPt_Data\", \"LeadingPt\")\n",
    "for entry in MC_tree:\n",
    "    for i in range(MC_tree.nCscRechitClusters):\n",
    "        if (MC_tree.cscRechitCluster_matchToProbeMuon[i] and MC_tree.cscRechitCluster_passME1112Veto[i] and MC_tree.cscRechitCluster_PassTimeVeto[i]):\n",
    "            MC_clusterSize.Fill(MC_tree.cscRechitClusterTimeSpreadWeightedAll[i], getattr(MC_tree, \"weight\"))\n",
    "MC_clusterSize.SetLineColor(rt.kBlue)\n",
    "#MC_clusterSize.Scale(1/MC_clusterSize.GetEntries())\n",
    "stack_clusterSize.Add(MC_clusterSize)\n",
    "\n",
    "stack_clusterSize.Draw(\"nostack HIST E0\")\n",
    "\n",
    "legend = rt.TLegend(0.9,0.8,0.7,0.9)\n",
    "legend.AddEntry(data_clusterSize, \"Data\")\n",
    "legend.AddEntry(MC_clusterSize, \"MC\")\n",
    "legend.Draw()\n",
    "\n",
    "stack_clusterSize.GetXaxis().SetTitle(\"Weighted Cluster Time Spread\")\n",
    "stack_clusterSize.GetYaxis().SetTitle(\"Events\")\n",
    "\n",
    "c.Draw()"
   ]
  },
  {
   "cell_type": "code",
   "execution_count": null,
   "id": "92ced2d4",
   "metadata": {},
   "outputs": [],
   "source": []
  }
 ],
 "metadata": {
  "kernelspec": {
   "display_name": "Python 3 (ipykernel)",
   "language": "python",
   "name": "python3"
  },
  "language_info": {
   "codemirror_mode": {
    "name": "ipython",
    "version": 3
   },
   "file_extension": ".py",
   "mimetype": "text/x-python",
   "name": "python",
   "nbconvert_exporter": "python",
   "pygments_lexer": "ipython3",
   "version": "3.9.12"
  }
 },
 "nbformat": 4,
 "nbformat_minor": 5
}
