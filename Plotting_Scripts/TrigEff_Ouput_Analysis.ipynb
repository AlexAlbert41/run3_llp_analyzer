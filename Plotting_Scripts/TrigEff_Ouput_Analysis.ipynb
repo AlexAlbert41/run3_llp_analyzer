{
 "cells": [
  {
   "cell_type": "markdown",
   "id": "405a436b",
   "metadata": {},
   "source": [
    "# Compute Trigger Efficiencies\n",
    "\n",
    "### In this script, we use the output of a tag-N-probe script to select Z->mu mu events that generate a shower in the CMS Muon Detectors via muon brehmstahlung. We want to compute the efficiency of the HLT triggers that fire upon the production of a shower in the muon endcaps (CSCs). The \"tag\" muon with tighter ID enables us to select a high purity Z->mu mu sample, while the probe muon, with looser ID constraints, is matched to a cluster in the CSC (we do not require a tight ID on the probe muon to avoid biasing cluster selection). The size of a cluster is the main discriminator, but the HLT threshold varies with eta and NStation10. We compute the trigger efficiency as a function of these three variables."
   ]
  },
  {
   "cell_type": "code",
   "execution_count": 1,
   "id": "8165fa69",
   "metadata": {},
   "outputs": [
    {
     "name": "stdout",
     "output_type": "stream",
     "text": [
      "Welcome to JupyROOT 6.28/00\n"
     ]
    }
   ],
   "source": [
    "import numpy as np\n",
    "import pandas as pd\n",
    "import uproot\n",
    "import matplotlib.pyplot as plt\n",
    "import sys\n",
    "sys.path.insert(0,\"../\")\n",
    "import mplhep as hep\n",
    "import pickle\n",
    "import glob\n",
    "import ROOT\n",
    "import coffea\n",
    "import awkward as ak\n",
    "from coffea import hist, processor\n",
    "from coffea.nanoevents.methods import candidate\n",
    "from coffea.nanoevents.methods import vector\n"
   ]
  },
  {
   "cell_type": "markdown",
   "id": "7aea0e79",
   "metadata": {},
   "source": [
    "### Load Output Trees from TnP"
   ]
  },
  {
   "cell_type": "code",
   "execution_count": 2,
   "id": "a3d2417d",
   "metadata": {},
   "outputs": [],
   "source": [
    "eras = [\"all\", \"2022\", \"2023\", \"2023B\", \"2023C\", \"2023D\"]"
   ]
  },
  {
   "cell_type": "code",
   "execution_count": 3,
   "id": "1742e150",
   "metadata": {},
   "outputs": [],
   "source": [
    "#paths to data\n",
    "path_all  = \"/eos/uscms/store/user/amalbert/MDSTriggerEff/trigEff_output_combined_updated/triggEff_2022_2023_goodlumi.root\"\n",
    "path_2022 = \"/eos/uscms/store/user/amalbert/MDSTriggerEff/trigEff_output_2022_updated/fixedMerge_trigEff_2022_052024_goodlumi.root\"\n",
    "path_2023 = \"/eos/uscms/store/user/amalbert/MDSTriggerEff/trigEff_output_2023_updated/trigEff_2023_052024_goodlumi.root\"#\n",
    "#path_all  = \"/eos/uscms/store/user/amalbert/MDSTriggerEff/TrigEff_Output_newMerge_withJets/TrigEff_Output_2022_2023_081524.root\"\n",
    "#path_2022 = \"/eos/uscms/store/user/amalbert/MDSTriggerEff/TrigEff_Output_newMerge_withJets/TrigEff_Output_2022_081524.root\"\n",
    "#path_2023 = \"/eos/uscms/store/user/amalbert/MDSTriggerEff/TrigEff_Output_newMerge_withJets/TrigEff_Output_2023_081524.root\"\n",
    "path_2023B =  \"/eos/uscms/store/user/amalbert/MDSTriggerEff/trigEff_output_2023_updated/trigEff_2023B_052024_goodlumi.root\"\n",
    "path_2023C =  \"/eos/uscms/store/user/amalbert/MDSTriggerEff/trigEff_output_2023_updated/trigEff_2023C_052024_goodlumi.root\"\n",
    "path_2023D = \"/eos/uscms/store/user/amalbert/MDSTriggerEff/trigEff_output_2023_updated/trigEff_2023D_052024_goodlumi.root\""
   ]
  },
  {
   "cell_type": "code",
   "execution_count": 4,
   "id": "e5424579",
   "metadata": {},
   "outputs": [],
   "source": [
    "ak.behavior.update(candidate.behavior)\n",
    "\n",
    "def getLZDF(f,nEvents=-1,version=\"new\"): #lazy dataframe with events that have cluster matched to probe muon\n",
    "    events_raw = uproot.open(f)['MuonSystem']\n",
    "    df = coffea.processor.LazyDataFrame(events_raw,entrystop=nEvents)\n",
    "    start,stop = df._branchargs['entry_start'],df._branchargs['entry_stop']\n",
    "    events = uproot.lazy(df._tree)\n",
    "    events = events[start:stop]\n",
    "    return events"
   ]
  },
  {
   "cell_type": "code",
   "execution_count": 5,
   "id": "d7fe93af",
   "metadata": {},
   "outputs": [],
   "source": [
    "events_all = getLZDF(path_all)\n",
    "events_2022 = getLZDF(path_2022)\n",
    "events_2023 = getLZDF(path_2023)\n",
    "events_2023B = getLZDF(path_2023B)\n",
    "events_2023C = getLZDF(path_2023C)\n",
    "events_2023D = getLZDF(path_2023D)\n",
    "\n",
    "events_2022 = events_2022[events_2022[\"runNum\"]>=360019]\n",
    "events_all = events_all[events_all[\"runNum\"]>=360019]\n"
   ]
  },
  {
   "cell_type": "code",
   "execution_count": 6,
   "id": "27668bcd",
   "metadata": {},
   "outputs": [],
   "source": [
    "all_data = {\"all\": events_all, \"2022\": events_2022, \"2023\": events_2023, \"2023B\": events_2023B,\n",
    "           \"2023C\": events_2023C, \"2023D\": events_2023D}"
   ]
  },
  {
   "cell_type": "code",
   "execution_count": 7,
   "id": "9c2d0930",
   "metadata": {},
   "outputs": [
    {
     "name": "stdout",
     "output_type": "stream",
     "text": [
      "501117\n",
      "306136\n",
      "194980\n",
      "5233\n",
      "80417\n",
      "109328\n"
     ]
    },
    {
     "data": {
      "text/plain": [
       "[None, None, None, None, None, None]"
      ]
     },
     "execution_count": 7,
     "metadata": {},
     "output_type": "execute_result"
    }
   ],
   "source": [
    "[print(ak.count(value.runNum)) for value in all_data.values()]"
   ]
  },
  {
   "cell_type": "markdown",
   "id": "b1bdb190",
   "metadata": {},
   "source": [
    "### Helper Functions"
   ]
  },
  {
   "cell_type": "code",
   "execution_count": 8,
   "id": "bf4b9954",
   "metadata": {},
   "outputs": [],
   "source": [
    "#helper functions for applying masks to large LZDF\n",
    "\n",
    "def apply_event_mask(array, dataset_string, masks_list, remove_nones = False):\n",
    "    '''\n",
    "    Apply masks from event-by-event boolean branches.\n",
    "    The masks must have the same length as the input array\n",
    "    '''\n",
    "    for mask in masks_list:\n",
    "        array = ak.mask(array, all_data[dataset_string][mask])\n",
    "    if remove_nones:\n",
    "        return array[~ak.is_none(array)]\n",
    "    return array\n",
    "\n",
    "def apply_cluster_mask(array, dataset_string, masks_list, remove_nones = False):\n",
    "    '''\n",
    "    Apply masks from cluster-by-cluster boolean branches. The input ak.array should be pre-flattened.\n",
    "    This can only be applied on fields of the LZDF whose flattened length equals the total number of clusters\n",
    "    '''\n",
    "    \n",
    "    print(ak.count(array))\n",
    "    for mask in masks_list:\n",
    "        #if ak.count(array) != all_data[dataset_string][mask]:\n",
    "         #   raise RuntimeError(\"input array and mask do not have the same length\")\n",
    "        array = ak.mask(array, ak.flatten(all_data[dataset_string][mask]))\n",
    "    if remove_nones:\n",
    "        return array[~ak.is_none(array)]\n",
    "    return array\n",
    "\n",
    "    "
   ]
  },
  {
   "cell_type": "markdown",
   "id": "d2fa5e8d",
   "metadata": {},
   "source": [
    "### First, use one cluster events to verify that our own calculation of the HLT Decision matches what is computed live"
   ]
  },
  {
   "cell_type": "code",
   "execution_count": 9,
   "id": "61b20c35",
   "metadata": {},
   "outputs": [],
   "source": [
    "oneClusterEvents = {\n",
    "    \"all\": events_all[events_all[\"nCscRechitClusters\"]==1],\n",
    "    \"2022\": events_2022[events_2022[\"nCscRechitClusters\"]==1],\n",
    "    \"2023\": events_2023[events_2023[\"nCscRechitClusters\"]==1],\n",
    "    \"2023B\": events_2023B[events_2023B[\"nCscRechitClusters\"]==1],\n",
    "    \"2023C\": events_2023C[events_2023C[\"nCscRechitClusters\"]==1],\n",
    "    \"2023D\": events_2023D[events_2023D[\"nCscRechitClusters\"]==1]\n",
    "}\n",
    "\n",
    "moreClusterEvents= {\n",
    "    \"all\": events_all[events_all[\"nCscRechitClusters\"]>1],\n",
    "    \"2022\": events_2022[events_2022[\"nCscRechitClusters\"]>1],\n",
    "    \"2023\": events_2023[events_2023[\"nCscRechitClusters\"]>1],\n",
    "    \"2023B\": events_2023B[events_2023B[\"nCscRechitClusters\"]>1],\n",
    "    \"2023C\": events_2023C[events_2023C[\"nCscRechitClusters\"]>1],\n",
    "    \"2023D\": events_2023D[events_2023D[\"nCscRechitClusters\"]>1]\n",
    "}"
   ]
  },
  {
   "cell_type": "code",
   "execution_count": 10,
   "id": "db253929",
   "metadata": {},
   "outputs": [],
   "source": [
    "#validate manual computation of HLT Decision\n",
    "HLT_validation_Loose = {}\n",
    "for key,value in oneClusterEvents.items():\n",
    "    HLT_validation_Loose[key] = {}\n",
    "    HLT_validation_Loose[key][\"fire_predict_yes\"] = ak.count_nonzero(value[\"HLT_CscCluster_Loose\"] & value[\"L1_SingleMuShower_Nominal\"] & ak.flatten(value['cscRechitCluster_HLTCscCluster_Loose_Decision']))\n",
    "    HLT_validation_Loose[key][\"fire_predict_no\"] = ak.count_nonzero(value[\"HLT_CscCluster_Loose\"] & (~(ak.flatten(value['cscRechitCluster_HLTCscCluster_Loose_Decision'])) | ~value[\"L1_SingleMuShower_Nominal\"]))\n",
    "    HLT_validation_Loose[key][\"no_fire_predict_yes\"] = ak.count_nonzero(~(value[\"HLT_CscCluster_Loose\"]) & (ak.flatten(value['cscRechitCluster_HLTCscCluster_Loose_Decision']) & value[\"L1_SingleMuShower_Nominal\"]))\n",
    "    HLT_validation_Loose[key][\"no_fire_predict_no\"] = ak.count_nonzero(~(value[\"HLT_CscCluster_Loose\"]) & (~ak.flatten(value['cscRechitCluster_HLTCscCluster_Loose_Decision'])| ~value[\"L1_SingleMuShower_Nominal\"]))\n",
    "    \n",
    "HLT_validation_Medium = {}\n",
    "for key,value in oneClusterEvents.items():\n",
    "    HLT_validation_Medium[key] = {}\n",
    "    HLT_validation_Medium[key][\"fire_predict_yes\"] = ak.count_nonzero(value[\"HLT_CscCluster_Medium\"] & value[\"L1_SingleMuShower_Nominal\"] & ak.flatten(value['cscRechitCluster_HLTCscCluster_Medium_Decision']))\n",
    "    HLT_validation_Medium[key][\"fire_predict_no\"] = ak.count_nonzero(value[\"HLT_CscCluster_Medium\"] & (~(ak.flatten(value['cscRechitCluster_HLTCscCluster_Medium_Decision'])) | ~value[\"L1_SingleMuShower_Nominal\"]))\n",
    "    HLT_validation_Medium[key][\"no_fire_predict_yes\"] = ak.count_nonzero(~(value[\"HLT_CscCluster_Medium\"]) & (ak.flatten(value['cscRechitCluster_HLTCscCluster_Medium_Decision']) & value[\"L1_SingleMuShower_Nominal\"]))\n",
    "    HLT_validation_Medium[key][\"no_fire_predict_no\"] = ak.count_nonzero(~(value[\"HLT_CscCluster_Medium\"]) & (~ak.flatten(value['cscRechitCluster_HLTCscCluster_Medium_Decision'])| ~value[\"L1_SingleMuShower_Nominal\"]))\n",
    "                                                                        \n",
    "HLT_validation_Tight = {}\n",
    "for key,value in oneClusterEvents.items():\n",
    "    HLT_validation_Tight[key] = {}\n",
    "    HLT_validation_Tight[key][\"fire_predict_yes\"] = ak.count_nonzero(value[\"HLT_CscCluster_Tight\"] & value[\"L1_SingleMuShower_Nominal\"] & ak.flatten(value['cscRechitCluster_HLTCscCluster_Tight_Decision']))\n",
    "    HLT_validation_Tight[key][\"fire_predict_no\"] = ak.count_nonzero(value[\"HLT_CscCluster_Tight\"] & (~(ak.flatten(value['cscRechitCluster_HLTCscCluster_Tight_Decision'])) | ~value[\"L1_SingleMuShower_Nominal\"]))\n",
    "    HLT_validation_Tight[key][\"no_fire_predict_yes\"] = ak.count_nonzero(~(value[\"HLT_CscCluster_Tight\"]) & (ak.flatten(value['cscRechitCluster_HLTCscCluster_Tight_Decision']) & value[\"L1_SingleMuShower_Nominal\"]))\n",
    "    HLT_validation_Tight[key][\"no_fire_predict_no\"] = ak.count_nonzero(~(value[\"HLT_CscCluster_Tight\"]) & (~ak.flatten(value['cscRechitCluster_HLTCscCluster_Tight_Decision'])| ~value[\"L1_SingleMuShower_Nominal\"]))"
   ]
  },
  {
   "cell_type": "code",
   "execution_count": 11,
   "id": "88748d67",
   "metadata": {},
   "outputs": [
    {
     "data": {
      "text/plain": [
       "{'all': {'fire_predict_yes': 17211,\n",
       "  'fire_predict_no': 2452,\n",
       "  'no_fire_predict_yes': 795,\n",
       "  'no_fire_predict_no': 415810},\n",
       " '2022': {'fire_predict_yes': 11572,\n",
       "  'fire_predict_no': 757,\n",
       "  'no_fire_predict_yes': 562,\n",
       "  'no_fire_predict_no': 252401},\n",
       " '2023': {'fire_predict_yes': 5639,\n",
       "  'fire_predict_no': 1695,\n",
       "  'no_fire_predict_yes': 233,\n",
       "  'no_fire_predict_no': 163408},\n",
       " '2023B': {'fire_predict_yes': 206,\n",
       "  'fire_predict_no': 7,\n",
       "  'no_fire_predict_yes': 15,\n",
       "  'no_fire_predict_no': 4557},\n",
       " '2023C': {'fire_predict_yes': 1565,\n",
       "  'fire_predict_no': 1466,\n",
       "  'no_fire_predict_yes': 61,\n",
       "  'no_fire_predict_no': 68071},\n",
       " '2023D': {'fire_predict_yes': 3868,\n",
       "  'fire_predict_no': 222,\n",
       "  'no_fire_predict_yes': 157,\n",
       "  'no_fire_predict_no': 90778}}"
      ]
     },
     "execution_count": 11,
     "metadata": {},
     "output_type": "execute_result"
    }
   ],
   "source": [
    "HLT_validation_Loose"
   ]
  },
  {
   "cell_type": "code",
   "execution_count": 12,
   "id": "19ed09d6",
   "metadata": {},
   "outputs": [
    {
     "data": {
      "text/plain": [
       "{'all': {'fire_predict_yes': 11831,\n",
       "  'fire_predict_no': 1967,\n",
       "  'no_fire_predict_yes': 782,\n",
       "  'no_fire_predict_no': 421688},\n",
       " '2022': {'fire_predict_yes': 7983,\n",
       "  'fire_predict_no': 726,\n",
       "  'no_fire_predict_yes': 553,\n",
       "  'no_fire_predict_no': 256030},\n",
       " '2023': {'fire_predict_yes': 3848,\n",
       "  'fire_predict_no': 1241,\n",
       "  'no_fire_predict_yes': 229,\n",
       "  'no_fire_predict_no': 165657},\n",
       " '2023B': {'fire_predict_yes': 136,\n",
       "  'fire_predict_no': 8,\n",
       "  'no_fire_predict_yes': 17,\n",
       "  'no_fire_predict_no': 4624},\n",
       " '2023C': {'fire_predict_yes': 1128,\n",
       "  'fire_predict_no': 1002,\n",
       "  'no_fire_predict_yes': 59,\n",
       "  'no_fire_predict_no': 68974},\n",
       " '2023D': {'fire_predict_yes': 2584,\n",
       "  'fire_predict_no': 231,\n",
       "  'no_fire_predict_yes': 153,\n",
       "  'no_fire_predict_no': 92057}}"
      ]
     },
     "execution_count": 12,
     "metadata": {},
     "output_type": "execute_result"
    }
   ],
   "source": [
    "HLT_validation_Medium"
   ]
  },
  {
   "cell_type": "code",
   "execution_count": 13,
   "id": "217eb168",
   "metadata": {},
   "outputs": [
    {
     "data": {
      "text/plain": [
       "{'all': {'fire_predict_yes': 10802,\n",
       "  'fire_predict_no': 1858,\n",
       "  'no_fire_predict_yes': 781,\n",
       "  'no_fire_predict_no': 422827},\n",
       " '2022': {'fire_predict_yes': 7287,\n",
       "  'fire_predict_no': 718,\n",
       "  'no_fire_predict_yes': 556,\n",
       "  'no_fire_predict_no': 256731},\n",
       " '2023': {'fire_predict_yes': 3515,\n",
       "  'fire_predict_no': 1140,\n",
       "  'no_fire_predict_yes': 225,\n",
       "  'no_fire_predict_no': 166095},\n",
       " '2023B': {'fire_predict_yes': 119,\n",
       "  'fire_predict_no': 8,\n",
       "  'no_fire_predict_yes': 16,\n",
       "  'no_fire_predict_no': 4642},\n",
       " '2023C': {'fire_predict_yes': 1046,\n",
       "  'fire_predict_no': 904,\n",
       "  'no_fire_predict_yes': 59,\n",
       "  'no_fire_predict_no': 69154},\n",
       " '2023D': {'fire_predict_yes': 2350,\n",
       "  'fire_predict_no': 228,\n",
       "  'no_fire_predict_yes': 150,\n",
       "  'no_fire_predict_no': 92297}}"
      ]
     },
     "execution_count": 13,
     "metadata": {},
     "output_type": "execute_result"
    }
   ],
   "source": [
    "HLT_validation_Tight"
   ]
  },
  {
   "cell_type": "markdown",
   "id": "b623bfa3",
   "metadata": {},
   "source": [
    "### HLT Prediction comparison with L1+HLT combined decision\n",
    "#### 1. L1 fire & HLT bit fire => (at least 1) HLT prediction should fire \n",
    "#### 2. L1 fire & HLT bit not fire => (all) HLT prediction should not fire\n",
    "#### 3. L1 not fire & HLT bit fire =>(should have zero events here)\n",
    "#### 4. L1 not fire & HLT not fire => HLT prediction should not fire"
   ]
  },
  {
   "cell_type": "code",
   "execution_count": 14,
   "id": "04c6e052",
   "metadata": {},
   "outputs": [],
   "source": [
    "#test on one cluster events first\n",
    "\n",
    "one_cluster_validation = {}\n",
    "\n",
    "for key,value in oneClusterEvents.items():\n",
    "    one_cluster_validation[key] = {}\n",
    "    \n",
    "    for thresh in ['Loose', 'Medium', 'Tight']:\n",
    "        one_cluster_validation[key][thresh] = {}\n",
    "        one_cluster_validation[key][thresh][\"L1_fire_HLT_fire\"] = {}\n",
    "        one_cluster_validation[key][thresh][\"L1_fire_HLT_not\"] = {}\n",
    "        one_cluster_validation[key][thresh][\"L1_not_HLT_fire\"] = {}\n",
    "        one_cluster_validation[key][thresh][\"L1_not_HLT_not\"] = {}\n",
    "        L1_fire_HLT_fire_pred_fire = ak.count_nonzero(value[\"HLT_CscCluster_\"+thresh] & np.logical_or(value[\"L1_SingleMuShower_Nominal\"], value[\"L1_SingleMuShower_Tight\"]) & ak.flatten(value['cscRechitCluster_HLTCscCluster_'+thresh+'_Decision']))\n",
    "        L1_fire_HLT_fire_pred_not = ak.count_nonzero(value[\"HLT_CscCluster_\"+thresh] & np.logical_or(value[\"L1_SingleMuShower_Nominal\"], value[\"L1_SingleMuShower_Tight\"]) & ak.flatten(~value['cscRechitCluster_HLTCscCluster_'+thresh+'_Decision']))\n",
    "        L1_fire_HLT_not_pred_fire = ak.count_nonzero(~value[\"HLT_CscCluster_\"+thresh] & np.logical_or(value[\"L1_SingleMuShower_Nominal\"], value[\"L1_SingleMuShower_Tight\"]) & ak.flatten(value['cscRechitCluster_HLTCscCluster_'+thresh+'_Decision']))\n",
    "        L1_fire_HLT_not_pred_not = ak.count_nonzero(~value[\"HLT_CscCluster_\"+thresh] & np.logical_or(value[\"L1_SingleMuShower_Nominal\"], value[\"L1_SingleMuShower_Tight\"]) & ak.flatten(~value['cscRechitCluster_HLTCscCluster_'+thresh+'_Decision']))\n",
    "        L1_not_HLT_fire_pred_fire = ak.count_nonzero(value[\"HLT_CscCluster_\"+thresh] & ~np.logical_or(value[\"L1_SingleMuShower_Nominal\"], value[\"L1_SingleMuShower_Tight\"]) & ak.flatten(value['cscRechitCluster_HLTCscCluster_'+thresh+'_Decision']))\n",
    "        L1_not_HLT_fire_pred_not = ak.count_nonzero(value[\"HLT_CscCluster_\"+thresh] & ~np.logical_or(value[\"L1_SingleMuShower_Nominal\"], value[\"L1_SingleMuShower_Tight\"]) & ak.flatten(~value['cscRechitCluster_HLTCscCluster_'+thresh+'_Decision']))\n",
    "        L1_not_HLT_not_pred_fire = ak.count_nonzero(~value[\"HLT_CscCluster_\"+thresh] & ~np.logical_or(value[\"L1_SingleMuShower_Nominal\"], value[\"L1_SingleMuShower_Tight\"]) & ak.flatten(value['cscRechitCluster_HLTCscCluster_'+thresh+'_Decision']))\n",
    "        L1_not_HLT_not_pred_not = ak.count_nonzero(~value[\"HLT_CscCluster_\"+thresh] & ~np.logical_or(value[\"L1_SingleMuShower_Nominal\"], value[\"L1_SingleMuShower_Tight\"]) & ak.flatten(~value['cscRechitCluster_HLTCscCluster_'+thresh+'_Decision']))\n",
    "        one_cluster_validation[key][thresh][\"L1_fire_HLT_fire\"] = (L1_fire_HLT_fire_pred_fire, L1_fire_HLT_fire_pred_not)\n",
    "        one_cluster_validation[key][thresh][\"L1_fire_HLT_not\"] = (L1_fire_HLT_not_pred_fire, L1_fire_HLT_not_pred_not)\n",
    "        one_cluster_validation[key][thresh][\"L1_not_HLT_fire\"] = (L1_not_HLT_fire_pred_fire, L1_not_HLT_fire_pred_not)\n",
    "        one_cluster_validation[key][thresh][\"L1_not_HLT_not\"] = (L1_not_HLT_not_pred_fire, L1_not_HLT_not_pred_not)\n"
   ]
  },
  {
   "cell_type": "code",
   "execution_count": 15,
   "id": "b8dce78d",
   "metadata": {},
   "outputs": [
    {
     "name": "stdout",
     "output_type": "stream",
     "text": [
      "{'L1_fire_HLT_fire': (18491, 1172), 'L1_fire_HLT_not': (847, 196864), 'L1_not_HLT_fire': (0, 0), 'L1_not_HLT_not': (3254, 215640)}\n"
     ]
    }
   ],
   "source": [
    "print(one_cluster_validation['all']['Loose'])"
   ]
  },
  {
   "cell_type": "markdown",
   "id": "9a1be327",
   "metadata": {},
   "source": [
    "### Plot Z-Peak (or other event-by-event hists)"
   ]
  },
  {
   "cell_type": "code",
   "execution_count": 16,
   "id": "f0597478",
   "metadata": {},
   "outputs": [
    {
     "name": "stderr",
     "output_type": "stream",
     "text": [
      "/cvmfs/sft.cern.ch/lcg/views/LCG_103/x86_64-centos7-gcc11-opt/lib/python3.9/site-packages/coffea/hist/plot.py:43: RuntimeWarning: All sumw are zero!  Cannot compute meaningful error bars\n",
      "  warnings.warn(\n"
     ]
    },
    {
     "data": {
      "text/plain": [
       "(0.0, 200.0)"
      ]
     },
     "execution_count": 16,
     "metadata": {},
     "output_type": "execute_result"
    },
    {
     "data": {
      "image/png": "[encoded data removed]",
      "text/plain": [
       "<Figure size 1008x720 with 1 Axes>"
      ]
     },
     "metadata": {
      "needs_background": "light"
     },
     "output_type": "display_data"
    }
   ],
   "source": [
    "plt.style.use(hep.style.CMS) \n",
    "plt.figure(figsize=(14,10))\n",
    "rechits_axis = hist.Cat(\"sample\", \"2022\")\n",
    "ZMass_hist = hist.Hist(\"Counts\", rechits_axis, hist.Bin(\"ZMass\", \"Z Mass\", 100, 25, 150))\n",
    "ZMass_hist.fill(sample = '2022', ZMass = events_2022.ZMass)\n",
    "hist.plot1d(ZMass_hist, density=False)\n",
    "plt.legend()\n",
    "plt.title(\"Z mass\")\n",
    "plt.xlim(0,200)"
   ]
  },
  {
   "cell_type": "markdown",
   "id": "ba5c9321",
   "metadata": {},
   "source": [
    "### Plot Trigger Efficiencies and Other Cluser-by-Cluster Variables"
   ]
  },
  {
   "cell_type": "code",
   "execution_count": 17,
   "id": "336437a0",
   "metadata": {},
   "outputs": [],
   "source": [
    "#compute mask for whether a cluster has been matched to a probe muon\n",
    "matched_clusters_mask = {}\n",
    "for era in eras:\n",
    "    one_cluster_mask = np.logical_and(ak.flatten(oneClusterEvents[era].cscRechitCluster_matchToProbeMuon), ak.flatten(oneClusterEvents[era].cscRechitCluster_PassTimeVeto)) \n",
    "    one_cluster_mask = np.logical_and(one_cluster_mask, (ak.flatten(oneClusterEvents[era].cscRechitClusterNRechitChamberPlus11)+ak.flatten(oneClusterEvents[era].cscRechitClusterNRechitChamberPlus12)+ak.flatten(oneClusterEvents[era].cscRechitClusterNRechitChamberMinus11)+ak.flatten(oneClusterEvents[era].cscRechitClusterNRechitChamberMinus12)==0))\n",
    "    many_cluster_mask = np.logical_and(ak.flatten(moreClusterEvents[era].cscRechitCluster_matchToProbeMuon), ak.flatten(moreClusterEvents[era].cscRechitCluster_PassTimeVeto))\n",
    "    many_cluster_mask = np.logical_and(many_cluster_mask, (ak.flatten(moreClusterEvents[era].cscRechitClusterNRechitChamberPlus11)+ak.flatten(moreClusterEvents[era].cscRechitClusterNRechitChamberPlus12)+ak.flatten(moreClusterEvents[era].cscRechitClusterNRechitChamberMinus11)+ak.flatten(moreClusterEvents[era].cscRechitClusterNRechitChamberMinus12)==0))\n",
    "    matched_clusters_mask[era] = ak.concatenate([one_cluster_mask, many_cluster_mask])"
   ]
  },
  {
   "cell_type": "code",
   "execution_count": 18,
   "id": "78c85f8d",
   "metadata": {},
   "outputs": [],
   "source": [
    "# load HLT Decisions on a cluster-by-cluster basis\n",
    "# use HLT decision for one cluster events, computed \"prediction\" for events with more than one cluster\n",
    "# apply matched cluster mask\n",
    "\n",
    "HLT_Loose_Decision = {}\n",
    "for era in eras:\n",
    "    HLT_Loose_Decision[era] = ak.mask(ak.concatenate([oneClusterEvents[era].HLT_CscCluster_Loose, ak.flatten(moreClusterEvents[era].cscRechitCluster_HLTCscCluster_Loose_Decision)]), matched_clusters_mask[era])\n",
    "    HLT_Loose_Decision[era] = HLT_Loose_Decision[era][~ak.is_none(HLT_Loose_Decision[era])]\n",
    "\n",
    "HLT_Medium_Decision = {}\n",
    "for era in eras:\n",
    "    HLT_Medium_Decision[era] = ak.mask(ak.concatenate([oneClusterEvents[era].HLT_CscCluster_Medium, ak.flatten(moreClusterEvents[era].cscRechitCluster_HLTCscCluster_Medium_Decision)]), matched_clusters_mask[era])\n",
    "    HLT_Medium_Decision[era] = HLT_Medium_Decision[era][~ak.is_none(HLT_Medium_Decision[era])]\n",
    "\n",
    "HLT_Tight_Decision = {}\n",
    "for era in eras:\n",
    "    HLT_Tight_Decision[era] = ak.mask(ak.concatenate([oneClusterEvents[era].HLT_CscCluster_Tight, ak.flatten(moreClusterEvents[era].cscRechitCluster_HLTCscCluster_Tight_Decision)]), matched_clusters_mask[era])\n",
    "    HLT_Tight_Decision[era] = HLT_Tight_Decision[era][~ak.is_none(HLT_Tight_Decision[era])]"
   ]
  },
  {
   "cell_type": "code",
   "execution_count": 19,
   "id": "0d95fd12",
   "metadata": {},
   "outputs": [],
   "source": [
    "#load rechits, eta, and NStation10\n",
    "matched_clusters_nhits = {}\n",
    "for era in eras:\n",
    "    matched_clusters_nhits[era] = ak.mask(ak.concatenate([ak.flatten(oneClusterEvents[era].cscRechitClusterSize), ak.flatten(moreClusterEvents[era].cscRechitClusterSize)]), matched_clusters_mask[era])\n",
    "    matched_clusters_nhits[era] = matched_clusters_nhits[era][~ak.is_none(matched_clusters_nhits[era])]\n",
    "    \n",
    "matched_clusters_eta = {}\n",
    "for era in eras:\n",
    "    matched_clusters_eta[era] = ak.mask(ak.concatenate([ak.flatten(oneClusterEvents[era].cscRechitClusterEta), ak.flatten(moreClusterEvents[era].cscRechitClusterEta)]), matched_clusters_mask[era])\n",
    "    matched_clusters_eta[era] = matched_clusters_eta[era][~ak.is_none(matched_clusters_eta[era])]\n",
    "    \n",
    "matched_clusters_NStation10 = {}\n",
    "for era in eras:\n",
    "    matched_clusters_NStation10[era] = ak.mask(ak.concatenate([ak.flatten(oneClusterEvents[era].cscRechitClusterNStation10), ak.flatten(moreClusterEvents[era].cscRechitClusterNStation10)]), matched_clusters_mask[era])\n",
    "    matched_clusters_NStation10[era] = matched_clusters_NStation10[era][~ak.is_none(matched_clusters_NStation10[era])]"
   ]
  },
  {
   "cell_type": "markdown",
   "id": "aeacc8fc",
   "metadata": {},
   "source": [
    "### Efficiencies binned by both Eta and NStation10 (one cluster events only)\n",
    "#### Bins correspond to categories for which loose, medium, and tight thresholds are set"
   ]
  },
  {
   "cell_type": "code",
   "execution_count": 20,
   "id": "1ce3fda7",
   "metadata": {},
   "outputs": [
    {
     "name": "stdout",
     "output_type": "stream",
     "text": [
      "436268\n"
     ]
    },
    {
     "data": {
      "text/plain": [
       "64849"
      ]
     },
     "execution_count": 20,
     "metadata": {},
     "output_type": "execute_result"
    }
   ],
   "source": [
    "print(ak.count_nonzero(oneClusterEvents['all'].nCscRechitClusters))\n",
    "ak.count_nonzero(moreClusterEvents['all'].nCscRechitClusters)"
   ]
  },
  {
   "cell_type": "code",
   "execution_count": 21,
   "id": "3472b1c1",
   "metadata": {},
   "outputs": [],
   "source": [
    "#first, only consider one-cluster data\n",
    "one_cluster_mask = {}\n",
    "for era in eras:\n",
    "    one_cluster_mask[era] = np.logical_and(ak.flatten(oneClusterEvents[era].cscRechitCluster_matchToProbeMuon), ak.flatten(oneClusterEvents[era].cscRechitCluster_PassTimeVeto))\n",
    "    one_cluster_mask[era] = np.logical_and(one_cluster_mask[era], (ak.flatten(oneClusterEvents[era].cscRechitClusterNRechitChamberPlus11)+ak.flatten(oneClusterEvents[era].cscRechitClusterNRechitChamberPlus12)+ak.flatten(oneClusterEvents[era].cscRechitClusterNRechitChamberMinus11)+ak.flatten(oneClusterEvents[era].cscRechitClusterNRechitChamberMinus12)==0))\n",
    "    \n",
    "HLT_Loose_Decision_oneCluster = {}\n",
    "for era in eras:\n",
    "    HLT_Loose_Decision_oneCluster[era] = ak.mask(oneClusterEvents[era].HLT_CscCluster_Loose, one_cluster_mask[era])\n",
    "    HLT_Loose_Decision_oneCluster[era] = HLT_Loose_Decision_oneCluster[era][~ak.is_none(HLT_Loose_Decision_oneCluster[era])]\n",
    "\n",
    "HLT_Medium_Decision_oneCluster = {}\n",
    "for era in eras:\n",
    "    HLT_Medium_Decision_oneCluster[era] = ak.mask(oneClusterEvents[era].HLT_CscCluster_Medium,one_cluster_mask[era])\n",
    "    HLT_Medium_Decision_oneCluster[era] = HLT_Medium_Decision_oneCluster[era][~ak.is_none(HLT_Medium_Decision_oneCluster[era])]\n",
    "\n",
    "HLT_Tight_Decision_oneCluster = {}\n",
    "for era in eras:\n",
    "    HLT_Tight_Decision_oneCluster[era] = ak.mask(oneClusterEvents[era].HLT_CscCluster_Tight, one_cluster_mask[era])\n",
    "    HLT_Tight_Decision_oneCluster[era] = HLT_Tight_Decision_oneCluster[era][~ak.is_none(HLT_Tight_Decision_oneCluster[era])]\n",
    "    \n",
    "#load rechits, eta, and NStation10\n",
    "one_cluster_nhits = {}\n",
    "for era in eras:\n",
    "    one_cluster_nhits[era] = ak.mask(ak.flatten(oneClusterEvents[era].cscRechitClusterSize), one_cluster_mask[era])\n",
    "    one_cluster_nhits[era] = one_cluster_nhits[era][~ak.is_none(one_cluster_nhits[era])]\n",
    "    \n",
    "one_cluster_eta = {}\n",
    "for era in eras:\n",
    "    one_cluster_eta[era] = np.abs(ak.mask(ak.flatten(oneClusterEvents[era].cscRechitClusterEta), one_cluster_mask[era]))\n",
    "    one_cluster_eta[era] = one_cluster_eta[era][~ak.is_none(one_cluster_eta[era])]\n",
    "    \n",
    "one_cluster_NStation10 = {}\n",
    "for era in eras:\n",
    "    one_cluster_NStation10[era] = ak.mask(ak.flatten(oneClusterEvents[era].cscRechitClusterNStation10), one_cluster_mask[era])\n",
    "    one_cluster_NStation10[era] = one_cluster_NStation10[era][~ak.is_none(one_cluster_NStation10[era])]"
   ]
  },
  {
   "cell_type": "code",
   "execution_count": 22,
   "id": "a8fd5b2b",
   "metadata": {},
   "outputs": [],
   "source": [
    "sample = 'all'\n",
    "era = sample"
   ]
  },
  {
   "cell_type": "code",
   "execution_count": 23,
   "id": "d101253c",
   "metadata": {},
   "outputs": [],
   "source": [
    "#define bins based on eta/NStation10 regions that set trigger thresholds\n",
    "bins_eta_big = hist.Bin(\"eta\", \"eta\", np.linspace(0,1.9,1))\n",
    "bins_NStation10_big= hist.Bin(\"NStation10\", \"NStation10\", np.linspace(0,1,1))\n",
    "eta_NStation10_axis = hist.Cat(\"sample\", sample)"
   ]
  },
  {
   "cell_type": "code",
   "execution_count": 24,
   "id": "708ef527",
   "metadata": {},
   "outputs": [],
   "source": [
    "#separate data into the correct one of the four eta/NStation10 bins\n",
    "\n",
    "one_cluster_lowEta_lowNStation10, one_cluster_lowEta_highNStation10, one_cluster_highEta_lowNStation10, one_cluster_highEta_highNStation10 = {},{},{},{}\n",
    "#era = '2022'\n",
    "#oneClusterEvents[era] = ak.mask(oneClusterEvents[era], one_cluster_mask[era])\n",
    "\n",
    "one_cluster_lowEta_lowNStation10['Denominator'] = ak.mask(oneClusterEvents[era],np.logical_and(np.logical_and(ak.flatten(oneClusterEvents[era].cscRechitClusterEta<1.9), ak.flatten(oneClusterEvents[era].cscRechitClusterNStation10<=1)), one_cluster_mask[era]))\n",
    "one_cluster_lowEta_lowNStation10['Denominator'] = one_cluster_lowEta_lowNStation10[\"Denominator\"][~ak.is_none(one_cluster_lowEta_lowNStation10[\"Denominator\"])]\n",
    "one_cluster_lowEta_highNStation10['Denominator'] = ak.mask(oneClusterEvents[era],np.logical_and(np.logical_and(ak.flatten(oneClusterEvents[era].cscRechitClusterEta<1.9), ak.flatten(oneClusterEvents[era].cscRechitClusterNStation10>1)), one_cluster_mask[era]))\n",
    "one_cluster_lowEta_highNStation10['Denominator'] = one_cluster_lowEta_highNStation10[\"Denominator\"][~ak.is_none(one_cluster_lowEta_highNStation10[\"Denominator\"])]\n",
    "one_cluster_highEta_lowNStation10['Denominator'] = ak.mask(oneClusterEvents[era],np.logical_and(np.logical_and(ak.flatten(oneClusterEvents[era].cscRechitClusterEta>=1.9), ak.flatten(oneClusterEvents[era].cscRechitClusterNStation10<=1)),one_cluster_mask[era]))\n",
    "one_cluster_highEta_lowNStation10['Denominator'] = one_cluster_highEta_lowNStation10[\"Denominator\"][~ak.is_none(one_cluster_highEta_lowNStation10[\"Denominator\"])]\n",
    "one_cluster_highEta_highNStation10['Denominator'] = ak.mask(oneClusterEvents[era],np.logical_and(np.logical_and(ak.flatten(oneClusterEvents[era].cscRechitClusterEta>=1.9), ak.flatten(oneClusterEvents[era].cscRechitClusterNStation10>1)),one_cluster_mask[era]))\n",
    "one_cluster_highEta_highNStation10['Denominator'] = one_cluster_highEta_highNStation10[\"Denominator\"][~ak.is_none(one_cluster_highEta_highNStation10[\"Denominator\"])]\n",
    "\n",
    "one_cluster_lowEta_lowNStation10['Numerator_Loose'] = ak.mask(one_cluster_lowEta_lowNStation10['Denominator'], one_cluster_lowEta_lowNStation10['Denominator'].HLT_CscCluster_Loose)\n",
    "one_cluster_lowEta_lowNStation10['Numerator_Loose'] = one_cluster_lowEta_lowNStation10['Numerator_Loose'][~ak.is_none(one_cluster_lowEta_lowNStation10[\"Numerator_Loose\"])]\n",
    "one_cluster_lowEta_lowNStation10['Numerator_Medium'] = ak.mask(one_cluster_lowEta_lowNStation10['Denominator'], one_cluster_lowEta_lowNStation10['Denominator'].HLT_CscCluster_Medium)\n",
    "one_cluster_lowEta_lowNStation10['Numerator_Medium'] = one_cluster_lowEta_lowNStation10['Numerator_Medium'][~ak.is_none(one_cluster_lowEta_lowNStation10[\"Numerator_Medium\"])]\n",
    "one_cluster_lowEta_lowNStation10['Numerator_Tight'] = ak.mask(one_cluster_lowEta_lowNStation10['Denominator'], one_cluster_lowEta_lowNStation10['Denominator'].HLT_CscCluster_Tight)\n",
    "one_cluster_lowEta_lowNStation10['Numerator_Tight'] = one_cluster_lowEta_lowNStation10['Numerator_Tight'][~ak.is_none(one_cluster_lowEta_lowNStation10[\"Numerator_Tight\"])]\n",
    "\n",
    "one_cluster_lowEta_highNStation10['Numerator_Loose'] = ak.mask(one_cluster_lowEta_highNStation10['Denominator'], one_cluster_lowEta_highNStation10['Denominator'].HLT_CscCluster_Loose)\n",
    "one_cluster_lowEta_highNStation10['Numerator_Loose'] = one_cluster_lowEta_highNStation10['Numerator_Loose'][~ak.is_none(one_cluster_lowEta_highNStation10[\"Numerator_Loose\"])]\n",
    "one_cluster_lowEta_highNStation10['Numerator_Medium'] = ak.mask(one_cluster_lowEta_highNStation10['Denominator'], one_cluster_lowEta_highNStation10['Denominator'].HLT_CscCluster_Medium)\n",
    "one_cluster_lowEta_highNStation10['Numerator_Medium'] = one_cluster_lowEta_highNStation10['Numerator_Medium'][~ak.is_none(one_cluster_lowEta_highNStation10[\"Numerator_Medium\"])]\n",
    "one_cluster_lowEta_highNStation10['Numerator_Tight'] = ak.mask(one_cluster_lowEta_highNStation10['Denominator'], one_cluster_lowEta_highNStation10['Denominator'].HLT_CscCluster_Tight)\n",
    "one_cluster_lowEta_highNStation10['Numerator_Tight'] = one_cluster_lowEta_highNStation10['Numerator_Tight'][~ak.is_none(one_cluster_lowEta_highNStation10[\"Numerator_Tight\"])]\n",
    "\n",
    "one_cluster_highEta_lowNStation10['Numerator_Loose'] = ak.mask(one_cluster_highEta_lowNStation10['Denominator'], one_cluster_highEta_lowNStation10['Denominator'].HLT_CscCluster_Loose)\n",
    "one_cluster_highEta_lowNStation10['Numerator_Loose'] = one_cluster_highEta_lowNStation10['Numerator_Loose'][~ak.is_none(one_cluster_highEta_lowNStation10[\"Numerator_Loose\"])]\n",
    "one_cluster_highEta_lowNStation10['Numerator_Medium'] = ak.mask(one_cluster_highEta_lowNStation10['Denominator'], one_cluster_highEta_lowNStation10['Denominator'].HLT_CscCluster_Medium)\n",
    "one_cluster_highEta_lowNStation10['Numerator_Medium'] = one_cluster_highEta_lowNStation10['Numerator_Medium'][~ak.is_none(one_cluster_highEta_lowNStation10[\"Numerator_Medium\"])]\n",
    "one_cluster_highEta_lowNStation10['Numerator_Tight'] = ak.mask(one_cluster_highEta_lowNStation10['Denominator'], one_cluster_highEta_lowNStation10['Denominator'].HLT_CscCluster_Tight)\n",
    "one_cluster_highEta_lowNStation10['Numerator_Tight'] = one_cluster_highEta_lowNStation10['Numerator_Tight'][~ak.is_none(one_cluster_highEta_lowNStation10[\"Numerator_Tight\"])]\n",
    "\n",
    "one_cluster_highEta_highNStation10['Numerator_Loose'] = ak.mask(one_cluster_highEta_highNStation10['Denominator'], one_cluster_highEta_highNStation10['Denominator'].HLT_CscCluster_Loose)\n",
    "one_cluster_highEta_highNStation10['Numerator_Loose'] = one_cluster_highEta_highNStation10['Numerator_Loose'][~ak.is_none(one_cluster_highEta_highNStation10[\"Numerator_Loose\"])]\n",
    "one_cluster_highEta_highNStation10['Numerator_Medium'] = ak.mask(one_cluster_highEta_highNStation10['Denominator'], one_cluster_highEta_highNStation10['Denominator'].HLT_CscCluster_Medium)\n",
    "one_cluster_highEta_highNStation10['Numerator_Medium'] = one_cluster_highEta_highNStation10['Numerator_Medium'][~ak.is_none(one_cluster_highEta_highNStation10[\"Numerator_Medium\"])]\n",
    "one_cluster_highEta_highNStation10['Numerator_Tight'] = ak.mask(one_cluster_highEta_highNStation10['Denominator'], one_cluster_highEta_highNStation10['Denominator'].HLT_CscCluster_Tight)\n",
    "one_cluster_highEta_highNStation10['Numerator_Tight'] = one_cluster_highEta_highNStation10['Numerator_Tight'][~ak.is_none(one_cluster_highEta_highNStation10[\"Numerator_Tight\"])]\n"
   ]
  },
  {
   "cell_type": "code",
   "execution_count": 25,
   "id": "def88d0d",
   "metadata": {},
   "outputs": [],
   "source": [
    "# from statsmodels.stats.proportion import proportion_confint\n",
    "# num_rows = 1\n",
    "# num_cols = 3\n",
    "# fig, axes = plt.subplots(num_rows, num_cols, figsize=(5 * num_cols, 5 * num_rows))\n",
    "# fig.suptitle(\"L1+HLT Combined Efficiency for \" + sample + \" One-Cluster Events\")\n",
    "# thresholds = [\"Loose\", \"Medium\", \"Tight\"]\n",
    "\n",
    "\n",
    "# matrix_loose = np.array([\n",
    "#         [round(ak.count(one_cluster_lowEta_highNStation10['Numerator_Loose'])/ak.count(one_cluster_lowEta_highNStation10['Denominator']),4), round(ak.count(one_cluster_highEta_highNStation10['Numerator_Loose'])/ak.count(one_cluster_highEta_highNStation10['Denominator']),4)],\n",
    "#         [round(ak.count(one_cluster_lowEta_lowNStation10['Numerator_Loose'])/ak.count(one_cluster_lowEta_lowNStation10['Denominator']),4), round(ak.count(one_cluster_highEta_lowNStation10['Numerator_Loose'])/ak.count(one_cluster_highEta_lowNStation10['Denominator']),4)]\n",
    "#     ])\n",
    "# matrix_loose_errors = np.array([\n",
    "#         [proportion_confint(ak.count(one_cluster_lowEta_highNStation10['Numerator_Loose']),ak.count(one_cluster_lowEta_highNStation10['Denominator']), alpha=0.05, method='beta'), proportion_confint(ak.count(one_cluster_highEta_highNStation10['Numerator_Loose']),ak.count(one_cluster_highEta_highNStation10['Denominator']), alpha=0.05, method='beta')],\n",
    "#         [proportion_confint(ak.count(one_cluster_lowEta_lowNStation10['Numerator_Loose']),ak.count(one_cluster_lowEta_lowNStation10['Denominator']), alpha=0.05, method='beta'), proportion_confint(ak.count(one_cluster_highEta_lowNStation10['Numerator_Loose']),ak.count(one_cluster_highEta_lowNStation10['Denominator']), alpha=0.05, method='beta')]\n",
    "#     ])\n",
    "\n",
    "# matrix_medium = np.array([\n",
    "#         [round(ak.count(one_cluster_lowEta_highNStation10['Numerator_Medium'])/ak.count(one_cluster_lowEta_highNStation10['Denominator']),4), round(ak.count(one_cluster_highEta_highNStation10['Numerator_Medium'])/ak.count(one_cluster_highEta_highNStation10['Denominator']),4)],\n",
    "#         [round(ak.count(one_cluster_lowEta_lowNStation10['Numerator_Medium'])/ak.count(one_cluster_lowEta_lowNStation10['Denominator']),4), round(ak.count(one_cluster_highEta_lowNStation10['Numerator_Medium'])/ak.count(one_cluster_highEta_lowNStation10['Denominator']),4)]\n",
    "#     ])\n",
    "# matrix_medium_errors = np.array([\n",
    "#         [proportion_confint(ak.count(one_cluster_lowEta_highNStation10['Numerator_Medium']),ak.count(one_cluster_lowEta_highNStation10['Denominator']), alpha=0.05, method='beta'), proportion_confint(ak.count(one_cluster_highEta_highNStation10['Numerator_Medium']),ak.count(one_cluster_highEta_highNStation10['Denominator']), alpha=0.05, method='beta')],\n",
    "#         [proportion_confint(ak.count(one_cluster_lowEta_lowNStation10['Numerator_Medium']),ak.count(one_cluster_lowEta_lowNStation10['Denominator']), alpha=0.05, method='beta'), proportion_confint(ak.count(one_cluster_highEta_lowNStation10['Numerator_Medium']),ak.count(one_cluster_highEta_lowNStation10['Denominator']), alpha=0.05, method='beta')]\n",
    "#     ])\n",
    "\n",
    "# matrix_tight = np.array([\n",
    "#         [round(ak.count(one_cluster_lowEta_highNStation10['Numerator_Tight'])/ak.count(one_cluster_lowEta_highNStation10['Denominator']),4), round(ak.count(one_cluster_highEta_highNStation10['Numerator_Tight'])/ak.count(one_cluster_highEta_highNStation10['Denominator']),4)],\n",
    "#         [round(ak.count(one_cluster_lowEta_lowNStation10['Numerator_Tight'])/ak.count(one_cluster_lowEta_lowNStation10['Denominator']),4), round(ak.count(one_cluster_highEta_lowNStation10['Numerator_Tight'])/ak.count(one_cluster_highEta_lowNStation10['Denominator']),4)]\n",
    "#     ])\n",
    "# matrix_tight_errors = np.array([\n",
    "#         [proportion_confint(ak.count(one_cluster_lowEta_highNStation10['Numerator_Tight']),ak.count(one_cluster_lowEta_highNStation10['Denominator']), alpha=0.05, method='beta'), proportion_confint(ak.count(one_cluster_highEta_highNStation10['Numerator_Tight']),ak.count(one_cluster_highEta_highNStation10['Denominator']), alpha=0.05, method='beta')],\n",
    "#         [proportion_confint(ak.count(one_cluster_lowEta_lowNStation10['Numerator_Tight']),ak.count(one_cluster_lowEta_lowNStation10['Denominator']), alpha=0.05, method='beta'), proportion_confint(ak.count(one_cluster_highEta_lowNStation10['Numerator_Tight']),ak.count(one_cluster_highEta_lowNStation10['Denominator']), alpha=0.05, method='beta')]\n",
    "#     ])\n",
    "# matrices_efficiencies = {\"Loose\": matrix_loose, \"Medium\": matrix_medium, \"Tight\": matrix_tight}\n",
    "# matrices_intervals = {\"Loose\": matrix_loose_errors, \"Medium\": matrix_medium_errors, \"Tight\": matrix_tight_errors}\n",
    "\n",
    "\n",
    "# for idx, threshold_name in enumerate(thresholds):\n",
    "#     row = idx // num_cols\n",
    "#     col = idx % num_cols\n",
    "    \n",
    "#     axes[col].imshow(matrices_efficiencies[threshold_name], cmap=plt.cm.Blues, vmax=0.2)\n",
    "#     #axes.set_title(subkey)\n",
    "#     axes[col].set_title(threshold_name)\n",
    "#     axes[col].set_xlabel('eta')\n",
    "#     axes[col].set_ylabel('NStation10')\n",
    "#     axes[col].set_xticks([0.5])\n",
    "#     axes[col].set_yticks([0.5])\n",
    "\n",
    "#     # Set tick labels\n",
    "#     axes[col].set_xticklabels(['1.9'])\n",
    "#     axes[col].set_yticklabels(['1'])\n",
    "\n",
    "#     for i in range(2):\n",
    "#         for j in range(2):\n",
    "#             axes[col].text(j, i, str(matrices_efficiencies[threshold_name][i, j]), ha='center', va='center', color='black', fontsize=20)\n",
    "#             axes[col].text(j, i, '\\n\\n[' + str(round(matrices_intervals[threshold_name][i,j][0],4)) + \", \" + str(round(matrices_intervals[threshold_name][i,j][1],4)) + ']', ha='center', va='center', color='black', fontsize=14)\n",
    "# plt.subplots_adjust(top=0.7)\n",
    "# plt.show()"
   ]
  },
  {
   "cell_type": "markdown",
   "id": "6a81740e",
   "metadata": {},
   "source": [
    "### Now, make the same cluster size vs efficiency plots on a bin by bin basis"
   ]
  },
  {
   "cell_type": "code",
   "execution_count": 26,
   "id": "3b000e18",
   "metadata": {},
   "outputs": [],
   "source": [
    "bins_rechits_lowEta_lowNStation10 = hist.Bin(\"cluster_size\", \"Cluster Size\", np.concatenate([np.arange(0, 200, 20), np.arange(200, 1000, 100)]))\n",
    "bins_rechits_lowEta_highNStation10 = hist.Bin(\"cluster_size\", \"Cluster Size\", np.concatenate([np.arange(0, 100, 20), np.arange(100, 1000, 100)]))\n",
    "rechits_axis = hist.Cat(\"sample\", sample)\n"
   ]
  },
  {
   "cell_type": "code",
   "execution_count": 27,
   "id": "7a3bf5ee",
   "metadata": {},
   "outputs": [],
   "source": [
    "def make_plots_hits_efficiency(data, title, bins):\n",
    "    plt.style.use(hep.style.CMS) \n",
    "    num_rows = 1\n",
    "    num_cols = 3\n",
    "    fig, axes = plt.subplots(num_rows, num_cols, figsize=(8 * num_cols, 8 * num_rows))\n",
    "    fig.suptitle(sample + \" \" + title)\n",
    "    rechits_hist = hist.Hist(\"Counts\", rechits_axis, bins)\n",
    "    arr_to_plot = ak.flatten(data[\"Denominator\"].cscRechitClusterSize)\n",
    "    rechits_hist.fill(sample = f\"2022 - {ak.count(arr_to_plot)} entries\", cluster_size=arr_to_plot)\n",
    "    hist.plot1d(rechits_hist, density=False, ax = axes[0])\n",
    "    axes[0].legend()\n",
    "    axes[0].set_title(\"Z -> mu mu + MDS Events\", fontsize=24)\n",
    "    axes[0].set_xlim(0,400)\n",
    "    axes[0].set_xlabel(\"Cluster Size\", fontsize=20)\n",
    "    axes[0].set_ylabel(\"Counts\", fontsize=20)\n",
    "    \n",
    "\n",
    "    rechits_hist_HLTLoose = hist.Hist(\"Counts\", rechits_axis, bins)\n",
    "    arr_to_plot = ak.flatten(data[\"Numerator_Loose\"].cscRechitClusterSize)\n",
    "    rechits_hist_HLTLoose.fill(sample = f\"Loose - {ak.count(arr_to_plot)} entries\", cluster_size=arr_to_plot)\n",
    "    hist.plot1d(rechits_hist_HLTLoose, density=False, ax=axes[1], clear=False)\n",
    "\n",
    "    '''\n",
    "    rechits_hist_HLTMedium = hist.Hist(\"Counts\", rechits_axis, bins_rechits)\n",
    "    arr_to_plot = ak.flatten(data[\"Numerator_Medium\"].cscRechitClusterSize)\n",
    "    rechits_hist_HLTMedium.fill(sample = f\"Medium - {ak.count(arr_to_plot)} entries\", cluster_size=arr_to_plot)\n",
    "    hist.plot1d(rechits_hist_HLTMedium, density=False, ax=axes[1],clear=False)\n",
    "\n",
    "    rechits_hist_HLTTight = hist.Hist(\"Counts\", rechits_axis, bins_rechits)\n",
    "    arr_to_plot = ak.flatten(data[\"Numerator_Tight\"].cscRechitClusterSize)\n",
    "    rechits_hist_HLTTight.fill(sample = f\"Tight - {ak.count(arr_to_plot)} entries\", cluster_size=arr_to_plot)\n",
    "    hist.plot1d(rechits_hist_HLTTight, density=False, ax=axes[1], clear=False)\n",
    "    '''\n",
    "    \n",
    "    axes[1].set_title(\"Z -> mu mu + MDS + Fire HLT Events\", fontsize=24)\n",
    "    axes[1].legend()\n",
    "    axes[1].set_xlabel(\"Cluster Size\", fontsize=20)\n",
    "    axes[1].set_ylabel(\"Counts\", fontsize=20)\n",
    "    import matplotlib\n",
    "    \n",
    "    hist.plotratio(\n",
    "                ax=axes[2],\n",
    "                num  =rechits_hist_HLTLoose.project(bins),\n",
    "                denom=rechits_hist.project(bins),\n",
    "                error_opts={'marker': '.'},\n",
    "                unc='clopper-pearson',\n",
    "                label= \"Loose\",\n",
    "                clear=False\n",
    "            )\n",
    "    '''\n",
    "    hist.plotratio(\n",
    "                ax=axes[2],\n",
    "                num  =rechits_hist_HLTMedium.project(bins_rechits),\n",
    "                denom=rechits_hist.project(bins_rechits),\n",
    "                error_opts={'marker': '.'},\n",
    "                unc='clopper-pearson',\n",
    "                label= \"Medium\",\n",
    "                clear=False\n",
    "            )\n",
    "\n",
    "    hist.plotratio(\n",
    "                ax=axes[2],\n",
    "                num  =rechits_hist_HLTTight.project(bins_rechits),\n",
    "                denom=rechits_hist.project(bins_rechits),\n",
    "                error_opts={'marker': '.'},\n",
    "                unc='clopper-pearson',\n",
    "                label= \"Tight\",\n",
    "                clear=False\n",
    "            )\n",
    "    '''\n",
    "    axes[2].legend()\n",
    "    axes[2].set_title(\"Efficiency vs Cluster Size\", fontsize=24)\n",
    "    axes[2].set_xlabel(\"Cluster Size\", fontsize=20)\n",
    "    axes[2].set_ylabel(\"L1+HLT Efficiency\", fontsize=20)\n",
    "    plt.subplots_adjust(top=0.85)\n",
    "    plt.show()\n",
    "    \n",
    "    "
   ]
  },
  {
   "cell_type": "code",
   "execution_count": 28,
   "id": "06337069",
   "metadata": {},
   "outputs": [
    {
     "name": "stderr",
     "output_type": "stream",
     "text": [
      "/cvmfs/sft.cern.ch/lcg/views/LCG_103/x86_64-centos7-gcc11-opt/lib/python3.9/site-packages/coffea/hist/plot.py:427: RuntimeWarning: invalid value encountered in true_divide\n",
      "  rsumw = sumw_num / sumw_denom\n"
     ]
    },
    {
     "data": {
      "image/png": "[encoded data removed]",
      "text/plain": [
       "<Figure size 1728x576 with 3 Axes>"
      ]
     },
     "metadata": {
      "needs_background": "light"
     },
     "output_type": "display_data"
    }
   ],
   "source": [
    "make_plots_hits_efficiency(data=one_cluster_lowEta_lowNStation10, title=\"NRechits vs Efficiency, |Eta|<1.9 and NStation10<=1\",\n",
    "                          bins=bins_rechits_lowEta_lowNStation10)"
   ]
  },
  {
   "cell_type": "code",
   "execution_count": 29,
   "id": "d15a76a6",
   "metadata": {},
   "outputs": [
    {
     "name": "stderr",
     "output_type": "stream",
     "text": [
      "/cvmfs/sft.cern.ch/lcg/views/LCG_103/x86_64-centos7-gcc11-opt/lib/python3.9/site-packages/coffea/hist/plot.py:427: RuntimeWarning: invalid value encountered in true_divide\n",
      "  rsumw = sumw_num / sumw_denom\n"
     ]
    },
    {
     "data": {
      "image/png": "[encoded data removed]",
      "text/plain": [
       "<Figure size 1728x576 with 3 Axes>"
      ]
     },
     "metadata": {
      "needs_background": "light"
     },
     "output_type": "display_data"
    }
   ],
   "source": [
    "make_plots_hits_efficiency(data=one_cluster_lowEta_highNStation10, title=\"NRechits vs Efficiency, |Eta|<1.9 and NStation10>1\",\n",
    "                          bins=bins_rechits_lowEta_highNStation10)"
   ]
  },
  {
   "cell_type": "code",
   "execution_count": 30,
   "id": "c2fc07fa",
   "metadata": {},
   "outputs": [
    {
     "name": "stderr",
     "output_type": "stream",
     "text": [
      "/cvmfs/sft.cern.ch/lcg/views/LCG_103/x86_64-centos7-gcc11-opt/lib/python3.9/site-packages/coffea/hist/plot.py:427: RuntimeWarning: invalid value encountered in true_divide\n",
      "  rsumw = sumw_num / sumw_denom\n"
     ]
    },
    {
     "data": {
      "image/png": "[encoded data removed]",
      "text/plain": [
       "<Figure size 1728x576 with 3 Axes>"
      ]
     },
     "metadata": {
      "needs_background": "light"
     },
     "output_type": "display_data"
    }
   ],
   "source": [
    "make_plots_hits_efficiency(data=one_cluster_highEta_lowNStation10, title=\"NRechits vs Efficiency, |Eta|>=1.9 and NStation10<=1\",\n",
    "                          bins=bins_rechits_lowEta_lowNStation10)"
   ]
  },
  {
   "cell_type": "code",
   "execution_count": 31,
   "id": "efa68fa0",
   "metadata": {},
   "outputs": [
    {
     "name": "stderr",
     "output_type": "stream",
     "text": [
      "/cvmfs/sft.cern.ch/lcg/views/LCG_103/x86_64-centos7-gcc11-opt/lib/python3.9/site-packages/coffea/hist/plot.py:427: RuntimeWarning: invalid value encountered in true_divide\n",
      "  rsumw = sumw_num / sumw_denom\n"
     ]
    },
    {
     "data": {
      "image/png": "[encoded data removed]",
      "text/plain": [
       "<Figure size 1728x576 with 3 Axes>"
      ]
     },
     "metadata": {
      "needs_background": "light"
     },
     "output_type": "display_data"
    }
   ],
   "source": [
    "make_plots_hits_efficiency(data=one_cluster_highEta_highNStation10, title=\"NRechits vs Efficiency, |Eta|>=1.9 and NStation10>1\",\n",
    "                          bins=bins_rechits_lowEta_lowNStation10)"
   ]
  },
  {
   "cell_type": "markdown",
   "id": "dd79326e",
   "metadata": {},
   "source": [
    "### L1 Efficiency by Chamber"
   ]
  },
  {
   "cell_type": "code",
   "execution_count": 32,
   "id": "b06b960e",
   "metadata": {},
   "outputs": [],
   "source": [
    "chamber_locations = {\n",
    "    \"ME11\": {\"MinR\": 100, \"MaxR\": 275, \"minZ\": 580, \"maxZ\": 632, \"HLT_thresh\": 500, \"branch_names\": [\"cscRechitClusterNRechitChamberMinus11\", \"cscRechitClusterNRechitChamberPlus11\"]},\n",
    "    \"ME12\": {\"MinR\": 275, \"MaxR\": 465, \"minZ\": 668, \"maxZ\": 725, \"HLT_thresh\": 200, \"branch_names\": [\"cscRechitClusterNRechitChamberMinus12\", \"cscRechitClusterNRechitChamberPlus12\"]},\n",
    "    \"ME13\": {\"MinR\": 505, \"MaxR\": 700, \"minZ\": 668, \"maxZ\": 724, \"HLT_thresh\": 200, \"branch_names\": [\"cscRechitClusterNRechitChamberMinus13\", \"cscRechitClusterNRechitChamberPlus13\"]},\n",
    "    \"ME21\": {\"MinR\": 139, \"MaxR\": 345, \"minZ\": 789, \"maxZ\": 850, \"HLT_thresh\": 500, \"branch_names\": [\"cscRechitClusterNRechitChamberMinus21\", \"cscRechitClusterNRechitChamberPlus21\"]},\n",
    "    \"ME22\": {\"MinR\": 357, \"MaxR\": 700, \"minZ\": 791, \"maxZ\": 850, \"HLT_thresh\": 200, \"branch_names\": [\"cscRechitClusterNRechitChamberMinus22\", \"cscRechitClusterNRechitChamberPlus22\"]},\n",
    "    \"ME31\": {\"MinR\": 160, \"MaxR\": 345, \"minZ\": 915, \"maxZ\": 970, \"HLT_thresh\": 500, \"branch_names\": [\"cscRechitClusterNRechitChamberMinus31\", \"cscRechitClusterNRechitChamberPlus31\"]},\n",
    "    \"ME32\": {\"MinR\": 357, \"MaxR\": 700, \"minZ\": 911, \"maxZ\": 970, \"HLT_thresh\": 200, \"branch_names\": [\"cscRechitClusterNRechitChamberMinus32\", \"cscRechitClusterNRechitChamberPlus32\"]},\n",
    "    \"ME41\": {\"MinR\": 178, \"MaxR\": 345, \"minZ\": 1002, \"maxZ\": 1063, \"HLT_thresh\": 500, \"branch_names\": [\"cscRechitClusterNRechitChamberMinus41\", \"cscRechitClusterNRechitChamberPlus41\"]},\n",
    "    \"ME42\": {\"MinR\": 357, \"MaxR\": 700, \"minZ\": 1002, \"maxZ\": 1063, \"HLT_thresh\": 200, \"branch_names\": [\"cscRechitClusterNRechitChamberMinus42\", \"cscRechitClusterNRechitChamberPlus42\"]}\n",
    "}"
   ]
  },
  {
   "cell_type": "code",
   "execution_count": 33,
   "id": "4257de4d",
   "metadata": {},
   "outputs": [],
   "source": [
    "nRechits_branches = [\"cscRechitClusterNRechitChamberMinus11\", \"cscRechitClusterNRechitChamberPlus11\", \"cscRechitClusterNRechitChamberMinus12\", \"cscRechitClusterNRechitChamberPlus12\",\n",
    "                    \"cscRechitClusterNRechitChamberMinus13\", \"cscRechitClusterNRechitChamberPlus13\", \"cscRechitClusterNRechitChamberMinus21\", \"cscRechitClusterNRechitChamberPlus21\",\n",
    "                    \"cscRechitClusterNRechitChamberMinus22\", \"cscRechitClusterNRechitChamberPlus22\", \"cscRechitClusterNRechitChamberMinus31\", \"cscRechitClusterNRechitChamberPlus31\",\n",
    "                    \"cscRechitClusterNRechitChamberMinus32\", \"cscRechitClusterNRechitChamberPlus32\", \"cscRechitClusterNRechitChamberMinus41\", \"cscRechitClusterNRechitChamberPlus41\",\n",
    "                    \"cscRechitClusterNRechitChamberMinus42\", \"cscRechitClusterNRechitChamberPlus42\"]"
   ]
  },
  {
   "cell_type": "code",
   "execution_count": 34,
   "id": "7160730c",
   "metadata": {},
   "outputs": [],
   "source": [
    "chambers = [\"ME11\", \"ME12\", \"ME13\", \"ME21\", \"ME22\", \"ME31\", \"ME32\", \"ME41\", \"ME42\"]\n",
    "chamber_int = 0"
   ]
  },
  {
   "cell_type": "code",
   "execution_count": 35,
   "id": "1ac33059",
   "metadata": {},
   "outputs": [],
   "source": [
    "# plt.style.use(hep.style.CMS) \n",
    "# import matplotlib\n",
    "# num_rows = 3\n",
    "# num_cols = 3\n",
    "# fig, axes = plt.subplots(num_rows, num_cols, figsize=(8 * num_cols, 8 * num_rows))\n",
    "# fig.suptitle(\"2022 + 2023\" + \" L1 Efficiencies from HLT_IsoMuon24 Control Sample\")\n",
    "# sample = \"all\"\n",
    "# bins = bins_rechits_lowEta_lowNStation10\n",
    "# chambers = [\"ME11\", \"ME12\", \"ME13\", \"ME21\", \"ME22\", \"ME31\", \"ME32\", \"ME41\", \"ME42\"]\n",
    "# counter = 0\n",
    "# for i in range(num_rows):\n",
    "#     for j in range(num_cols):\n",
    "#         #chamber = list(chamber_locations.keys())[counter]\n",
    "#         chamber = chambers[counter]\n",
    "#         chamber_int = int(chamber[2:])\n",
    "        \n",
    "#         #maskZ = np.logical_and(abs(ak.flatten(oneClusterEvents[sample].cscRechitClusterZ))>chamber_locations[chamber][\"minZ\"], abs(ak.flatten(oneClusterEvents[sample].cscRechitClusterZ))<chamber_locations[chamber][\"maxZ\"])\n",
    "#         #maskR = ak.flatten(np.logical_and((np.sqrt(oneClusterEvents[sample].cscRechitClusterX**2+oneClusterEvents[sample].cscRechitClusterY**2))>chamber_locations[chamber][\"MinR\"], (np.sqrt(oneClusterEvents[sample].cscRechitClusterX**2+oneClusterEvents[sample].cscRechitClusterY**2))<chamber_locations[chamber][\"MaxR\"]))\n",
    "#         #total_mask = np.logical_and(np.logical_and(maskZ, maskR), ak.flatten(oneClusterEvents[sample][\"cscRechitClusterNStation10\"]==1))\n",
    "        \n",
    "#         total_mask = compute_chamber_mask(oneClusterEvents[sample], chamber, chamber_int, 0.9)\n",
    "#         denom = ak.mask(ak.flatten(oneClusterEvents[sample].cscRechitClusterSize), total_mask)\n",
    "        \n",
    "#         num = ak.mask(denom, ak.mask(np.logical_or(oneClusterEvents[sample].L1_SingleMuShower_Nominal, oneClusterEvents[sample].L1_SingleMuShower_Tight),total_mask))\n",
    "#         denom = denom[~ak.is_none(denom)]\n",
    "#         num = num[~ak.is_none(num)]\n",
    "#         counter+=1\n",
    "#         axes[i,j].set_title(chamber, fontsize=24)\n",
    "#         axes[i,j].axvline(chamber_locations[chamber][\"HLT_thresh\"], color=\"black\", label=\"HLT Threshold\")\n",
    "#         if ak.count(denom)==0: \n",
    "#             axes[i][j].set_xlabel(\"Cluster Size\", fontsize=20)\n",
    "#             axes[i,j].set_ylabel(\"L1 Efficiency\", fontsize=20)\n",
    "#             axes[i,j].set_xlim(0,900)\n",
    "#             continue\n",
    "#         num_hist = hist.Hist(\"Counts\", rechits_axis, bins)\n",
    "#         arr_to_fill = num\n",
    "#         num_hist.fill(sample = f\"{ak.count(arr_to_fill)} entries\", cluster_size=arr_to_fill)\n",
    "        \n",
    "#         denom_hist = hist.Hist(\"Counts\", rechits_axis, bins)\n",
    "#         arr_to_fill = denom\n",
    "#         denom_hist.fill(sample = f\"{ak.count(arr_to_fill)} entries\", cluster_size=arr_to_fill)\n",
    "#         print(chamber + \" \", ak.count(denom))\n",
    "#         hist.plotratio(\n",
    "#                     ax=axes[i,j],\n",
    "#                     num =num_hist.project(bins),\n",
    "#                     denom=denom_hist.project(bins),\n",
    "#                     error_opts={'marker': '.'},\n",
    "#                     unc='clopper-pearson',\n",
    "#                     label= \"L1 Efficiency\",\n",
    "#                     clear=False\n",
    "#                 )\n",
    "#         '''\n",
    "#         hist.plotratio(\n",
    "#                     ax=axes[2],\n",
    "#                     num  =rechits_hist_HLTMedium.project(bins_rechits),\n",
    "#                     denom=rechits_hist.project(bins_rechits),\n",
    "#                     error_opts={'marker': '.'},\n",
    "#                     unc='clopper-pearson',\n",
    "#                     label= \"Medium\",\n",
    "#                     clear=False\n",
    "#                 )\n",
    "\n",
    "#         hist.plotratio(\n",
    "#                     ax=axes[2],\n",
    "#                     num  =rechits_hist_HLTTight.project(bins_rechits),\n",
    "#                     denom=rechits_hist.project(bins_rechits),\n",
    "#                     error_opts={'marker': '.'},\n",
    "#                     unc='clopper-pearson',\n",
    "#                     label= \"Tight\",\n",
    "#                     clear=False\n",
    "#                 )\n",
    "#         '''\n",
    "#         axes[i,j].legend()\n",
    "#         #axes[i,j].set_title(chamber, fontsize=24)\n",
    "#         axes[i][j].set_xlabel(\"Cluster Size\", fontsize=20)\n",
    "#         axes[i,j].set_ylabel(\"L1 Efficiency\", fontsize=20)\n",
    "        \n",
    "# plt.subplots_adjust(top=0.93)\n",
    "# plt.savefig(\"L1_Efficiencies.png\")\n",
    "# plt.show()\n"
   ]
  },
  {
   "cell_type": "markdown",
   "id": "213d8dda",
   "metadata": {},
   "source": [
    "### Code to Make Plots for Paper\n",
    "Define function to return efficiency histogram for 2022, 2023, and combined "
   ]
  },
  {
   "cell_type": "code",
   "execution_count": 36,
   "id": "a239dd9f",
   "metadata": {},
   "outputs": [],
   "source": [
    "#code to mask for clusters for which majority of events are in designated chamber\n",
    "#require greater than 90% of hits to be in given chamber as well\n",
    "def compute_chamber_mask(data, chamber, chamber_int, threshold, endcap=None):\n",
    "    nRechits_byChamber = {}\n",
    "    final_masks = []\n",
    "    for x in range(2):\n",
    "        correct_chamber_branch = chamber_locations[chamber][\"branch_names\"][x]\n",
    "        incorrect_chamber_branches = []\n",
    "        for chamber_branch in nRechits_branches:\n",
    "            if chamber_branch != correct_chamber_branch:\n",
    "                incorrect_chamber_branches.append(chamber_branch)         \n",
    "        mask = ak.flatten(data[correct_chamber_branch])>ak.flatten(data[incorrect_chamber_branches[0]])\n",
    "        for idx in range(1, len(incorrect_chamber_branches)):\n",
    "            mask = np.logical_and(mask, ak.flatten(data[correct_chamber_branch])>ak.flatten(data[incorrect_chamber_branches[idx]]))\n",
    "        mask = np.logical_and(mask, (ak.flatten(data[correct_chamber_branch])/ak.flatten(data[\"cscRechitClusterSize\"])>=threshold))\n",
    "        #code to mask out negative endcap clusters in problematic region\n",
    "        #if x==0 and (chamber==\"ME31\" or chamber==\"ME41\"):\n",
    "        #    mask = np.logical_and(mask, np.logical_not(noisy_cluster_events(data)))\n",
    "        #print(ak.count_nonzero(mask))\n",
    "        final_masks.append(mask)\n",
    "    if endcap==None:\n",
    "        return np.logical_or(final_masks[0], final_masks[1])\n",
    "    else:\n",
    "        return final_masks[endcap]"
   ]
  },
  {
   "cell_type": "code",
   "execution_count": 37,
   "id": "ac1492f5",
   "metadata": {},
   "outputs": [],
   "source": [
    "def noisy_cluster_events(data):\n",
    "    #return (np.abs(ak.flatten(data.cscRechitClusterPhi))<0.2) & (ak.flatten(data.cscRechitClusterEta < -2)) & (ak.flatten(data.cscRechitClusterZ < -900)) & (data.runNum >367079)\n",
    "    return (np.abs(ak.flatten(data.cscRechitClusterPhi))>3) & (ak.flatten(data.cscRechitClusterEta < -1.9))\n",
    "    #return ((ak.flatten(data.cscRechitClusterPhi)>0.4) & (ak.flatten(data.cscRechitClusterPhi)<0.8)) | (ak.flatten(data.cscRechitClusterPhi)<-3)"
   ]
  },
  {
   "cell_type": "code",
   "execution_count": 38,
   "id": "d7a4f875",
   "metadata": {},
   "outputs": [],
   "source": [
    "#function to to return ratio histograms\n",
    "def get_efficiency_hists(data, chamber, bins, endcap=None):\n",
    "    total_mask = compute_chamber_mask(data, chamber, chamber_int, 0.9, endcap)\n",
    "    \n",
    "    #COMMENT OUT WHEN NOT DOING NOISE MASK INVERSION\n",
    "    #total_mask = np.logical_and(total_mask, noisy_cluster_events(data))\n",
    "    \n",
    "    denom = ak.mask(ak.flatten(data.cscRechitClusterSize), total_mask)\n",
    "    num = ak.mask(denom, ak.mask(np.logical_or(data.L1_SingleMuShower_Nominal, data.L1_SingleMuShower_Tight),total_mask))\n",
    "    denom = denom[~ak.is_none(denom)]\n",
    "    num = num[~ak.is_none(num)]\n",
    "    print(len(num))\n",
    "    print(len(denom))\n",
    "    \n",
    "    num_hist = hist.Hist(\"Counts\", rechits_axis, bins, xerr=True)\n",
    "    arr_to_fill = num\n",
    "    num_hist.fill(sample = f\"{ak.count(arr_to_fill)} entries\", cluster_size=arr_to_fill)\n",
    "\n",
    "    denom_hist = hist.Hist(\"Counts\", rechits_axis, bins)\n",
    "    arr_to_fill = denom\n",
    "    denom_hist.fill(sample = f\"{ak.count(arr_to_fill)} entries\", cluster_size=arr_to_fill)\n",
    "\n",
    "    return num_hist, denom_hist\n"
   ]
  },
  {
   "cell_type": "code",
   "execution_count": 39,
   "id": "7ee00303",
   "metadata": {},
   "outputs": [],
   "source": [
    "colors = [\"green\", \"red\", \"black\"]\n",
    "#colors = [\"black\"]\n",
    "center_of_mass_energy = 13.6"
   ]
  },
  {
   "cell_type": "code",
   "execution_count": 40,
   "id": "9c456db7",
   "metadata": {},
   "outputs": [],
   "source": [
    "#breakpoint"
   ]
  },
  {
   "cell_type": "code",
   "execution_count": 41,
   "id": "34e76374",
   "metadata": {},
   "outputs": [
    {
     "data": {
      "text/plain": [
       "<Array [False, False, False, ... False, False] type='436268 * bool'>"
      ]
     },
     "execution_count": 41,
     "metadata": {},
     "output_type": "execute_result"
    }
   ],
   "source": [
    "np.abs(ak.flatten(oneClusterEvents['all'].cscRechitClusterPhi))<0.2"
   ]
  },
  {
   "cell_type": "markdown",
   "id": "d454cfcf",
   "metadata": {},
   "source": [
    "### Scratch Work - Finding Runs with Extraneous hits (high eta in negative endcap, phi near 0)"
   ]
  },
  {
   "cell_type": "code",
   "execution_count": 42,
   "id": "9f8e04b8",
   "metadata": {},
   "outputs": [
    {
     "name": "stdout",
     "output_type": "stream",
     "text": [
      "360019\n",
      "370790\n"
     ]
    }
   ],
   "source": [
    "print(np.min(oneClusterEvents['all'].runNum))\n",
    "print(np.max(oneClusterEvents['all'].runNum))"
   ]
  },
  {
   "cell_type": "code",
   "execution_count": 43,
   "id": "e41f01d7",
   "metadata": {},
   "outputs": [
    {
     "name": "stdout",
     "output_type": "stream",
     "text": [
      "366727\n",
      "367079\n"
     ]
    }
   ],
   "source": [
    "print(np.min(oneClusterEvents['2023B'].runNum))\n",
    "print(np.max(oneClusterEvents['2023B'].runNum))"
   ]
  },
  {
   "cell_type": "code",
   "execution_count": 44,
   "id": "56902533",
   "metadata": {},
   "outputs": [
    {
     "name": "stdout",
     "output_type": "stream",
     "text": [
      "367095\n",
      "370790\n"
     ]
    }
   ],
   "source": [
    "print(np.min(oneClusterEvents['2023C'].runNum))\n",
    "print(np.max(oneClusterEvents['2023D'].runNum))"
   ]
  },
  {
   "cell_type": "code",
   "execution_count": 45,
   "id": "dd6aaa57",
   "metadata": {},
   "outputs": [],
   "source": [
    "runs_bins = hist.Bin(\"run_nums\", \"Run Numbers\", np.concatenate([np.array(range(360019, 366726+1, 300)), np.array(range(366727, 367079+1, 100)),np.array(range(367080, 370790+1, 300))]))"
   ]
  },
  {
   "cell_type": "code",
   "execution_count": 46,
   "id": "ea19b20f",
   "metadata": {},
   "outputs": [
    {
     "data": {
      "text/plain": [
       "array([366727., 367080.])"
      ]
     },
     "execution_count": 46,
     "metadata": {},
     "output_type": "execute_result"
    }
   ],
   "source": [
    "np.linspace(366727, 367079+1, 2)"
   ]
  },
  {
   "cell_type": "code",
   "execution_count": 47,
   "id": "46ce22c5",
   "metadata": {},
   "outputs": [],
   "source": [
    "# num = ak.mask(oneClusterEvents['all'].runNum, ((np.abs(ak.flatten(oneClusterEvents['all'].cscRechitClusterPhi))<0.2) & (ak.flatten(oneClusterEvents['all'].cscRechitClusterEta < -2)) & (ak.flatten(oneClusterEvents['all'].cscRechitClusterZ < -900)) &  (ak.flatten(oneClusterEvents['all'].cscRechitClusterSize > cluster_size_threshold))))\n",
    "# num = num[~ak.is_none(num)]\n",
    "# ak.count_nonzero(num[(num>366727) & (num<367079)])"
   ]
  },
  {
   "cell_type": "code",
   "execution_count": 48,
   "id": "2d2c1e7b",
   "metadata": {},
   "outputs": [],
   "source": [
    "#numerator: number of clusters with phi near 0 and phi at high value in given run bin\n",
    "#denominator: number of cluster in given run bin\n",
    "cluster_size_threshold=0\n",
    "num = ak.mask(oneClusterEvents['all'].runNum, ((np.abs(ak.flatten(oneClusterEvents['all'].cscRechitClusterPhi))<0.2) & (ak.flatten(oneClusterEvents['all'].cscRechitClusterEta < -2)) & (ak.flatten(oneClusterEvents['all'].cscRechitClusterZ < -900)) &  (ak.flatten(oneClusterEvents['all'].cscRechitClusterSize > cluster_size_threshold))))\n",
    "num = num[~ak.is_none(num)]\n",
    "#denom = oneClusterEvents['all'].runNum\n",
    "denom = ak.mask(oneClusterEvents['all'].runNum, ak.flatten(oneClusterEvents['all'].cscRechitClusterEta < 0))\n",
    "denom = denom[~ak.is_none(denom)]\n",
    "runs_axis = hist.Cat(\"sample\", \"sample\")\n",
    "run_hist_num = hist.Hist(\"Counts\", runs_axis, runs_bins)\n",
    "run_hist_denom = hist.Hist(\"Counts\", runs_axis, runs_bins)\n",
    "run_hist_num.fill(sample = f\"2022+2023 run nums\", run_nums=num)\n",
    "run_hist_denom.fill(sample = f\"2022+2023 run nums\", run_nums=denom)"
   ]
  },
  {
   "cell_type": "code",
   "execution_count": 49,
   "id": "00bbe114",
   "metadata": {},
   "outputs": [
    {
     "data": {
      "text/plain": [
       "0"
      ]
     },
     "execution_count": 49,
     "metadata": {},
     "output_type": "execute_result"
    }
   ],
   "source": [
    "ak.count_nonzero(denom[(num>366727) & (num<367079)])"
   ]
  },
  {
   "cell_type": "code",
   "execution_count": 50,
   "id": "d509575e",
   "metadata": {},
   "outputs": [
    {
     "name": "stderr",
     "output_type": "stream",
     "text": [
      "/cvmfs/sft.cern.ch/lcg/views/LCG_103/x86_64-centos7-gcc11-opt/lib/python3.9/site-packages/coffea/hist/plot.py:427: RuntimeWarning: invalid value encountered in true_divide\n",
      "  rsumw = sumw_num / sumw_denom\n"
     ]
    },
    {
     "data": {
      "text/plain": [
       "Text(0, 1, 'Noisy Cluster Ratio: Negative Endcap')"
      ]
     },
     "execution_count": 50,
     "metadata": {},
     "output_type": "execute_result"
    },
    {
     "data": {
      "image/png": "[encoded data removed]",
      "text/plain": [
       "<Figure size 1008x720 with 1 Axes>"
      ]
     },
     "metadata": {
      "needs_background": "light"
     },
     "output_type": "display_data"
    }
   ],
   "source": [
    "plt.style.use(hep.style.CMS) \n",
    "plt.figure(figsize=(14,10))\n",
    "plt.yscale(\"log\")\n",
    "hist.plotratio(\n",
    "        ax=plt.gca(),\n",
    "        num = run_hist_num.project(runs_bins),\n",
    "        denom=run_hist_denom.project(runs_bins),\n",
    "        error_opts={'marker': '.', 'markersize': 10},\n",
    "        unc='clopper-pearson',\n",
    "        label= \"2022+2023\",\n",
    "        clear=False,\n",
    "        xerr=True\n",
    "        )\n",
    "plt.ylabel(\"Noisy Cluster Ratio: Negative Endcap\")\n",
    "# plt.axvline(366727, color='purple')\n",
    "# plt.axvline(367079, color='purple')\n",
    "# plt.axvline(367095, color='red')\n",
    "# plt.axvline(368822, color='red')"
   ]
  },
  {
   "cell_type": "markdown",
   "id": "72b2f64f",
   "metadata": {},
   "source": [
    "### ME11"
   ]
  },
  {
   "cell_type": "code",
   "execution_count": null,
   "id": "9f9b734c",
   "metadata": {},
   "outputs": [],
   "source": [
    "myString = \"_NEWMERGE_negEndcap_separate_years_mask_phi>0\""
   ]
  },
  {
   "cell_type": "code",
   "execution_count": 80,
   "id": "8d4d4be8",
   "metadata": {},
   "outputs": [],
   "source": [
    "bins_ME11 = hist.Bin(\"cluster_size\", \"Cluster Size\", np.concatenate([np.arange(0, 200, 20), np.arange(200, 1000, 100)]))"
   ]
  },
  {
   "cell_type": "code",
   "execution_count": null,
   "id": "170554ce",
   "metadata": {
    "scrolled": false
   },
   "outputs": [],
   "source": [
    "plt.figure(figsize=(14,10))\n",
    "chamber=\"ME11\"\n",
    "chamber_with_slash = chamber[:3] + '/' + chamber[3]\n",
    "bins = bins_ME11\n",
    "for num, sample in enumerate(['2022', '2023']):\n",
    "    if sample=='all':\n",
    "        labelName = '2022 + 2023'\n",
    "    else:\n",
    "        labelName = sample\n",
    "    if num==0:\n",
    "        plt.axvline(chamber_locations[chamber][\"HLT_thresh\"], color=\"purple\", label=\"HLT Threshold\", linewidth=4)\n",
    "    \n",
    "    num_hist, denom_hist = get_efficiency_hists(oneClusterEvents[sample], chamber, bins)\n",
    "    \n",
    "    hist.plotratio(\n",
    "        ax=plt.gca(),\n",
    "        num =num_hist.project(bins),\n",
    "        denom=denom_hist.project(bins),\n",
    "        error_opts={'marker': '.', 'markersize': 20, 'color':colors[num]},\n",
    "        unc='clopper-pearson',\n",
    "        label= \"Data \" + sample,\n",
    "        clear=False,\n",
    "        xerr=True\n",
    "        )\n",
    "handles, labels = plt.gca().get_legend_handles_labels()\n",
    "order = [0,3]\n",
    "#plt.legend([handles[idx] for idx in order],[labels[idx] for idx in order], title=chamber_with_slash)\n",
    "plt.legend(title=chamber_with_slash)\n",
    "plt.xlabel(\"$\\mathregular{N_{hits}}$\", fontsize=30)\n",
    "plt.ylabel(\"L1 Efficiency\", fontsize=30)\n",
    "plt.tick_params(axis='both', which='major', labelsize=28)\n",
    "#hep.cms.label(ax=plt.gca(),data=True, lumi=\"50.8\", fontsize=28, loc=2,COM=13.6)\n",
    "plt.gca().text(1.0, 1.07, \"23.1 $\\mathregular{fb^{-1}}$(2022), 27.7 $\\mathregular{fb^{-1}}$(2023). 13.6 TeV\", transform=plt.gca().transAxes,\n",
    "        fontsize=24, verticalalignment='top', horizontalalignment='right')\n",
    "plt.gca().text(0.05, 0.95, r\"$\\bf{CMS}$\"+\"\\n\"+r\"$\\it{Preliminary}$\", transform=plt.gca().transAxes,\n",
    "       fontsize=36, verticalalignment='top', horizontalalignment='left')\n",
    "#plt.gca().text(\"Normal text $\\it{Italics}$\")\n",
    "plt.xlim(0,800)\n",
    "plt.ylim(0, 1.15)\n",
    "plt.savefig(f\"L1_Efficiency_Plots/{chamber}_{myString}.png\")"
   ]
  },
  {
   "cell_type": "markdown",
   "id": "e8fd609a",
   "metadata": {},
   "source": [
    "### ME12"
   ]
  },
  {
   "cell_type": "code",
   "execution_count": 81,
   "id": "2f285771",
   "metadata": {},
   "outputs": [],
   "source": [
    "bins_ME12 = hist.Bin(\"cluster_size\", \"Cluster Size\", np.concatenate([np.arange(0, 200, 20), np.arange(200, 1000, 100)]))"
   ]
  },
  {
   "cell_type": "code",
   "execution_count": null,
   "id": "d20eaf2c",
   "metadata": {},
   "outputs": [],
   "source": [
    "plt.figure(figsize=(14,10))\n",
    "chamber=\"ME12\"\n",
    "chamber_with_slash = chamber[:3] + '/' + chamber[3]\n",
    "bins = bins_ME12\n",
    "for num, sample in enumerate(['2022', '2023']):\n",
    "    #if sample=='all':\n",
    "        #labelName = '2022 + 2023'\n",
    "    if num==0:\n",
    "        plt.axvline(chamber_locations[chamber][\"HLT_thresh\"], color=\"purple\", label=\"HLT Threshold\", linewidth=4)\n",
    "    else:\n",
    "        labelName = sample\n",
    "    num_hist, denom_hist = get_efficiency_hists(oneClusterEvents[sample], chamber, bins)\n",
    "    \n",
    "    hist.plotratio(\n",
    "        ax=plt.gca(),\n",
    "        num =num_hist.project(bins),\n",
    "        denom=denom_hist.project(bins),\n",
    "        error_opts={'marker': '.', 'markersize': 20, 'color':colors[num]},\n",
    "        unc='clopper-pearson',\n",
    "        label= \"Data \" + labelName,\n",
    "        clear=False,\n",
    "        xerr=True\n",
    "        )\n",
    "handles, labels = plt.gca().get_legend_handles_labels()\n",
    "order = [0,3]\n",
    "#plt.legend([handles[idx] for idx in order],[labels[idx] for idx in order], title=chamber_with_slash)\n",
    "plt.legend(title=chamber_with_slash, fontsize=24, loc=4)\n",
    "plt.xlabel(\"$\\mathregular{N_{hits}}$\", fontsize=30)\n",
    "plt.ylabel(\"L1 Efficiency\", fontsize=30)\n",
    "plt.tick_params(axis='both', which='major', labelsize=28)\n",
    "#hep.cms.label(ax=plt.gca(),data=True, lumi=\"50.8\", fontsize=28, loc=2,COM=13.6)\n",
    "plt.gca().text(1.0, 1.07, \"23.1 $\\mathregular{fb^{-1}}$(2022), 27.7 $\\mathregular{fb^{-1}}$(2023). 13.6 TeV\", transform=plt.gca().transAxes,\n",
    "        fontsize=24, verticalalignment='top', horizontalalignment='right')\n",
    "plt.gca().text(0.02, 0.95, r\"$\\bf{CMS}$\"+\"\\n\"+r\"$\\it{Preliminary}$\", transform=plt.gca().transAxes,\n",
    "       fontsize=30, verticalalignment='top', horizontalalignment='left')\n",
    "plt.xlim(0,900)\n",
    "plt.ylim(0, 1.15)\n",
    "plt.savefig(f\"L1_Efficiency_Plots/{chamber}_{myString}.png\")"
   ]
  },
  {
   "cell_type": "markdown",
   "id": "d94b43d4",
   "metadata": {},
   "source": [
    "### ME13"
   ]
  },
  {
   "cell_type": "code",
   "execution_count": 82,
   "id": "0d96db42",
   "metadata": {},
   "outputs": [],
   "source": [
    "bins_ME13 = hist.Bin(\"cluster_size\", \"Cluster Size\", np.concatenate([np.arange(0, 200, 20), np.arange(200, 1000, 100)]))"
   ]
  },
  {
   "cell_type": "code",
   "execution_count": null,
   "id": "2058bbcc",
   "metadata": {},
   "outputs": [],
   "source": [
    "plt.figure(figsize=(14,10))\n",
    "chamber=\"ME13\"\n",
    "chamber_with_slash = chamber[:3] + '/' + chamber[3]\n",
    "bins = bins_ME13\n",
    "for num, sample in enumerate(['2022', '2023']):\n",
    "    #if sample=='all':\n",
    "        #labelName = '2022 + 2023'\n",
    "    if num==0:\n",
    "        plt.axvline(chamber_locations[chamber][\"HLT_thresh\"], color=\"purple\", label=\"HLT Threshold\", linewidth=4)\n",
    "    else:\n",
    "        labelName = sample\n",
    "    num_hist, denom_hist = get_efficiency_hists(oneClusterEvents[sample], chamber, bins)\n",
    "    \n",
    "    hist.plotratio(\n",
    "        ax=plt.gca(),\n",
    "        num =num_hist.project(bins),\n",
    "        denom=denom_hist.project(bins),\n",
    "        error_opts={'marker': '.', 'markersize': 20, 'color':colors[num]},\n",
    "        unc='clopper-pearson',\n",
    "        label= \"Data \" + labelName,\n",
    "        clear=False,\n",
    "        xerr=True\n",
    "        )\n",
    "handles, labels = plt.gca().get_legend_handles_labels()\n",
    "order = [0,3]\n",
    "#plt.legend([handles[idx] for idx in order],[labels[idx] for idx in order], title=chamber_with_slash)\n",
    "plt.legend(title=chamber_with_slash, fontsize=24)\n",
    "plt.xlabel(\"$\\mathregular{N_{hits}}$\", fontsize=30)\n",
    "plt.ylabel(\"L1 Efficiency\", fontsize=30)\n",
    "plt.tick_params(axis='both', which='major', labelsize=28)\n",
    "#hep.cms.label(ax=plt.gca(),data=True, lumi=\"50.8\", fontsize=28, loc=2,COM=13.6)\n",
    "plt.gca().text(1.0, 1.07, \"23.1 $\\mathregular{fb^{-1}}$(2022), 27.7 $\\mathregular{fb^{-1}}$(2023). 13.6 TeV\", transform=plt.gca().transAxes,\n",
    "        fontsize=24, verticalalignment='top', horizontalalignment='right')\n",
    "plt.gca().text(0.02, 0.95, r\"$\\bf{CMS}$\"+\"\\n\"+r\"$\\it{Preliminary}$\", transform=plt.gca().transAxes,\n",
    "       fontsize=34, verticalalignment='top', horizontalalignment='left')\n",
    "plt.xlim(0,800)\n",
    "plt.ylim(0, 1.25)\n",
    "plt.savefig(f\"L1_Efficiency_Plots/{chamber}_{myString}.png\")"
   ]
  },
  {
   "cell_type": "markdown",
   "id": "1a7af102",
   "metadata": {},
   "source": [
    "### ME21"
   ]
  },
  {
   "cell_type": "code",
   "execution_count": 83,
   "id": "91619b19",
   "metadata": {},
   "outputs": [],
   "source": [
    "bins_ME21 = hist.Bin(\"cluster_size\", \"Cluster Size\", np.concatenate([np.arange(0, 500, 100), np.arange(500, 1000, 400)]))"
   ]
  },
  {
   "cell_type": "code",
   "execution_count": null,
   "id": "017cc2ee",
   "metadata": {},
   "outputs": [],
   "source": [
    "plt.figure(figsize=(14,10))\n",
    "chamber=\"ME21\"\n",
    "chamber_with_slash = chamber[:3] + '/' + chamber[3]\n",
    "bins = bins_ME21\n",
    "for num, sample in enumerate(['2022', '2023']):\n",
    "    #if sample=='all':\n",
    "        #labelName = '2022 + 2023'\n",
    "    if num==0:\n",
    "        plt.axvline(chamber_locations[chamber][\"HLT_thresh\"], color=\"purple\", label=\"HLT Threshold\", linewidth=4)\n",
    "    else:\n",
    "        labelName = sample\n",
    "    num_hist, denom_hist = get_efficiency_hists(oneClusterEvents[sample], chamber, bins)\n",
    "    \n",
    "    hist.plotratio(\n",
    "        ax=plt.gca(),\n",
    "        num =num_hist.project(bins),\n",
    "        denom=denom_hist.project(bins),\n",
    "        error_opts={'marker': '.', 'markersize': 20, 'color':colors[num]},\n",
    "        unc='clopper-pearson',\n",
    "        label= \"Data \" + labelName,\n",
    "        clear=False,\n",
    "        xerr=True\n",
    "        )\n",
    "handles, labels = plt.gca().get_legend_handles_labels()\n",
    "order = [0,3]\n",
    "#plt.legend([handles[idx] for idx in order],[labels[idx] for idx in order], title=chamber_with_slash)\n",
    "plt.legend(title=chamber_with_slash, fontsize=24)\n",
    "plt.xlabel(\"$\\mathregular{N_{hits}}$\", fontsize=30)\n",
    "plt.ylabel(\"L1 Efficiency\", fontsize=30)\n",
    "plt.tick_params(axis='both', which='major', labelsize=28)\n",
    "#hep.cms.label(ax=plt.gca(),data=True, lumi=\"50.8\", fontsize=28, loc=2,COM=13.6)\n",
    "plt.gca().text(1.0, 1.07, \"23.1 $\\mathregular{fb^{-1}}$(2022), 27.7 $\\mathregular{fb^{-1}}$(2023). 13.6 TeV\", transform=plt.gca().transAxes,\n",
    "        fontsize=24, verticalalignment='top', horizontalalignment='right')\n",
    "plt.gca().text(0.02, 0.95, r\"$\\bf{CMS}$\"+\"\\n\"+r\"$\\it{Preliminary}$\", transform=plt.gca().transAxes,\n",
    "       fontsize=34, verticalalignment='top', horizontalalignment='left')\n",
    "plt.xlim(0,900)\n",
    "plt.ylim(0, 1.25)\n",
    "plt.savefig(f\"L1_Efficiency_Plots/{chamber}_{myString}.png\")"
   ]
  },
  {
   "cell_type": "markdown",
   "id": "82bde24e",
   "metadata": {},
   "source": [
    "### ME22"
   ]
  },
  {
   "cell_type": "code",
   "execution_count": 84,
   "id": "c1e5ae5b",
   "metadata": {},
   "outputs": [],
   "source": [
    "bins_ME22 = hist.Bin(\"cluster_size\", \"Cluster Size\", np.concatenate([np.arange(0, 200, 50), np.arange(200, 1000, 100)]))"
   ]
  },
  {
   "cell_type": "code",
   "execution_count": null,
   "id": "8af0449d",
   "metadata": {},
   "outputs": [],
   "source": [
    "plt.figure(figsize=(14,10))\n",
    "chamber=\"ME22\"\n",
    "chamber_with_slash = chamber[:3] + '/' + chamber[3]\n",
    "bins = bins_ME22\n",
    "for num, sample in enumerate(['2022', '2023']):\n",
    "    #if sample=='all':\n",
    "        #labelName = '2022 + 2023'\n",
    "    if num==0:\n",
    "        plt.axvline(chamber_locations[chamber][\"HLT_thresh\"], color=\"purple\", label=\"HLT Threshold\", linewidth=4)\n",
    "    else:\n",
    "        labelName = sample\n",
    "    num_hist, denom_hist = get_efficiency_hists(oneClusterEvents[sample], chamber, bins)\n",
    "    \n",
    "    hist.plotratio(\n",
    "        ax=plt.gca(),\n",
    "        num =num_hist.project(bins),\n",
    "        denom=denom_hist.project(bins),\n",
    "        error_opts={'marker': '.', 'markersize': 20, 'color':colors[num]},\n",
    "        unc='clopper-pearson',\n",
    "        label= \"Data \" + labelName,\n",
    "        clear=False,\n",
    "        xerr=True\n",
    "        )\n",
    "handles, labels = plt.gca().get_legend_handles_labels()\n",
    "order = [0,3,1,2]\n",
    "\n",
    "#plt.legend([handles[idx] for idx in order],[labels[idx] for idx in order], title=chamber_with_slash, loc=8)\n",
    "plt.legend(title=chamber_with_slash)\n",
    "plt.xlabel(\"$\\mathregular{N_{hits}}$\", fontsize=30)\n",
    "plt.ylabel(\"L1 Efficiency\", fontsize=30)\n",
    "plt.tick_params(axis='both', which='major', labelsize=28)\n",
    "#hep.cms.label(ax=plt.gca(),data=True, lumi=\"50.8\", fontsize=28, loc=2,COM=13.6)\n",
    "plt.gca().text(1.0, 1.07, \"23.1 $\\mathregular{fb^{-1}}$(2022), 27.7 $\\mathregular{fb^{-1}}$(2023). 13.6 TeV\", transform=plt.gca().transAxes,\n",
    "        fontsize=24, verticalalignment='top', horizontalalignment='right')\n",
    "plt.gca().text(0.02, 0.95, r\"$\\bf{CMS}$\"+\"\\n\"+r\"$\\it{Preliminary}$\", transform=plt.gca().transAxes,\n",
    "       fontsize=34, verticalalignment='top', horizontalalignment='left')\n",
    "plt.xlim(0,800)\n",
    "plt.ylim(0, 1.25)\n",
    "plt.savefig(f\"L1_Efficiency_Plots/{chamber}_{myString}.png\")"
   ]
  },
  {
   "cell_type": "markdown",
   "id": "21f1ba3f",
   "metadata": {},
   "source": [
    "### ME31"
   ]
  },
  {
   "cell_type": "code",
   "execution_count": 156,
   "id": "c047d4e5",
   "metadata": {},
   "outputs": [],
   "source": [
    "bins_ME31 = hist.Bin(\"cluster_size\", \"Cluster Size\", np.concatenate([np.arange(0, 500, 100), np.arange(500, 1000, 400)]))"
   ]
  },
  {
   "cell_type": "code",
   "execution_count": null,
   "id": "b33191b2",
   "metadata": {},
   "outputs": [],
   "source": [
    "chamber_int=0"
   ]
  },
  {
   "cell_type": "code",
   "execution_count": null,
   "id": "b54ec11c",
   "metadata": {},
   "outputs": [],
   "source": [
    "plt.figure(figsize=(14,10))\n",
    "chamber=\"ME31\"\n",
    "chamber_with_slash = chamber[:3] + '/' + chamber[3]\n",
    "bins = bins_ME31\n",
    "for num, sample in enumerate(['2022', '2023']):\n",
    "    #if sample=='all':\n",
    "        #labelName = '2022 + 2023'\n",
    "    if num==0:\n",
    "        plt.axvline(chamber_locations[chamber][\"HLT_thresh\"], color=\"purple\", label=\"HLT Threshold\", linewidth=4)\n",
    "    \n",
    "    labelName = sample\n",
    "    num_hist, denom_hist = get_efficiency_hists(oneClusterEvents[sample], chamber, bins, endcap=0)\n",
    "    \n",
    "    hist.plotratio(\n",
    "        ax=plt.gca(),\n",
    "        num =num_hist.project(bins),\n",
    "        denom=denom_hist.project(bins),\n",
    "        error_opts={'marker': '.', 'markersize': 20, 'color':colors[num]},\n",
    "        unc='clopper-pearson',\n",
    "        label= \"Data \" + labelName,\n",
    "        clear=False,\n",
    "        xerr=True\n",
    "        )\n",
    "handles, labels = plt.gca().get_legend_handles_labels()\n",
    "order = [0,3]\n",
    "#plt.legend([handles[idx] for idx in order],[labels[idx] for idx in order], title=chamber_with_slash)\n",
    "plt.legend(title=chamber_with_slash, fontsize=24)\n",
    "plt.xlabel(\"$\\mathregular{N_{hits}}$\", fontsize=30)\n",
    "plt.ylabel(\"L1 Efficiency\", fontsize=30)\n",
    "plt.tick_params(axis='both', which='major', labelsize=28)\n",
    "#hep.cms.label(ax=plt.gca(),data=True, lumi=\"50.8\", fontsize=28, loc=2,COM=13.6)\n",
    "plt.gca().text(1.0, 1.07, \"23.1 $\\mathregular{fb^{-1}}$(2022), 27.7 $\\mathregular{fb^{-1}}$(2023). 13.6 TeV\", transform=plt.gca().transAxes,\n",
    "        fontsize=24, verticalalignment='top', horizontalalignment='right')\n",
    "plt.gca().text(0.02, 0.95, r\"$\\bf{CMS}$\"+\"\\n\"+r\"$\\it{Preliminary}$\", transform=plt.gca().transAxes,\n",
    "       fontsize=34, verticalalignment='top', horizontalalignment='left')\n",
    "plt.xlim(0,900)\n",
    "plt.ylim(0, 1.25)\n",
    "plt.savefig(f\"L1_Efficiency_Plots/{chamber}_{myString}.png\")"
   ]
  },
  {
   "cell_type": "markdown",
   "id": "3be7e60d",
   "metadata": {},
   "source": [
    "### ME32"
   ]
  },
  {
   "cell_type": "code",
   "execution_count": 155,
   "id": "94e12d28",
   "metadata": {},
   "outputs": [],
   "source": [
    "bins_ME32 = hist.Bin(\"cluster_size\", \"Cluster Size\", np.concatenate([np.arange(0, 200, 50), np.arange(200, 1000, 100)]))"
   ]
  },
  {
   "cell_type": "code",
   "execution_count": null,
   "id": "3cfa59d8",
   "metadata": {},
   "outputs": [],
   "source": [
    "plt.figure(figsize=(14,10))\n",
    "chamber=\"ME32\"\n",
    "chamber_with_slash = chamber[:3] + '/' + chamber[3]\n",
    "bins = bins_ME32\n",
    "for num, sample in enumerate(['2022', '2023']):\n",
    "    #if sample=='all':\n",
    "        #labelName = '2022 + 2023'\n",
    "    if num==0:\n",
    "        plt.axvline(chamber_locations[chamber][\"HLT_thresh\"], color=\"purple\", label=\"HLT Threshold\", linewidth=4)\n",
    "    else:\n",
    "        labelName = sample\n",
    "    num_hist, denom_hist = get_efficiency_hists(oneClusterEvents[sample], chamber, bins)\n",
    "    \n",
    "    hist.plotratio(\n",
    "        ax=plt.gca(),\n",
    "        num =num_hist.project(bins),\n",
    "        denom=denom_hist.project(bins),\n",
    "        error_opts={'marker': '.', 'markersize': 20, 'color':colors[num]},\n",
    "        unc='clopper-pearson',\n",
    "        label= \"Data \" + labelName,\n",
    "        clear=False,\n",
    "        xerr=True\n",
    "        )\n",
    "handles, labels = plt.gca().get_legend_handles_labels()\n",
    "order = [0,3,1,2]\n",
    "\n",
    "#plt.legend([handles[idx] for idx in order],[labels[idx] for idx in order], title=chamber_with_slash, loc=8)\n",
    "plt.legend(title=chamber_with_slash)\n",
    "plt.xlabel(\"$\\mathregular{N_{hits}}$\", fontsize=30)\n",
    "plt.ylabel(\"L1 Efficiency\", fontsize=30)\n",
    "plt.tick_params(axis='both', which='major', labelsize=28)\n",
    "#hep.cms.label(ax=plt.gca(),data=True, lumi=\"50.8\", fontsize=28, loc=2,COM=13.6)\n",
    "plt.gca().text(1.0, 1.07, \"23.1 $\\mathregular{fb^{-1}}$(2022), 27.7 $\\mathregular{fb^{-1}}$(2023). 13.6 TeV\", transform=plt.gca().transAxes,\n",
    "        fontsize=24, verticalalignment='top', horizontalalignment='right')\n",
    "plt.gca().text(0.02, 0.95, r\"$\\bf{CMS}$\"+\"\\n\"+r\"$\\it{Preliminary}$\", transform=plt.gca().transAxes,\n",
    "       fontsize=34, verticalalignment='top', horizontalalignment='left')\n",
    "plt.xlim(0,800)\n",
    "plt.ylim(0, 1.25)\n",
    "plt.savefig(f\"L1_Efficiency_Plots/{chamber}_{myString}.png\")"
   ]
  },
  {
   "cell_type": "markdown",
   "id": "9660d37f",
   "metadata": {},
   "source": [
    "### ME 4/1"
   ]
  },
  {
   "cell_type": "code",
   "execution_count": 87,
   "id": "f89b62d9",
   "metadata": {},
   "outputs": [],
   "source": [
    "bins_ME41 = hist.Bin(\"cluster_size\", \"Cluster Size\", np.concatenate([np.arange(0, 500, 100), np.arange(500, 1000, 400)]))"
   ]
  },
  {
   "cell_type": "code",
   "execution_count": null,
   "id": "cd9ae5ac",
   "metadata": {},
   "outputs": [],
   "source": [
    "myString = \"negEndcap_bothyears_noPhi>3\"\n",
    "plt.figure(figsize=(14,10))\n",
    "chamber=\"ME41\"\n",
    "chamber_with_slash = chamber[:3] + '/' + chamber[3]\n",
    "bins = bins_ME41\n",
    "for num, sample in enumerate(['all']):\n",
    "    #if sample=='all':\n",
    "        #labelName = '2022 + 2023'\n",
    "    if num==0:\n",
    "        plt.axvline(chamber_locations[chamber][\"HLT_thresh\"], color=\"purple\", label=\"HLT Threshold\", linewidth=4)\n",
    "    \n",
    "    labelName = sample\n",
    "    num_hist, denom_hist = get_efficiency_hists(oneClusterEvents[sample], chamber, bins, endcap=0)\n",
    "    \n",
    "    hist.plotratio(\n",
    "        ax=plt.gca(),\n",
    "        num =num_hist.project(bins),\n",
    "        denom=denom_hist.project(bins),\n",
    "        error_opts={'marker': '.', 'markersize': 20, 'color':colors[num]},\n",
    "        unc='clopper-pearson',\n",
    "        label= \"Data \" + labelName,\n",
    "        clear=False,\n",
    "        xerr=True\n",
    "        )\n",
    "handles, labels = plt.gca().get_legend_handles_labels()\n",
    "order = [0,3,1,2]\n",
    "\n",
    "#plt.legend([handles[idx] for idx in order],[labels[idx] for idx in order], title=chamber_with_slash, loc=8)\n",
    "plt.legend(title=chamber_with_slash)\n",
    "plt.xlabel(\"$\\mathregular{N_{hits}}$\", fontsize=30)\n",
    "plt.ylabel(\"L1 Efficiency\", fontsize=30)\n",
    "plt.tick_params(axis='both', which='major', labelsize=28)\n",
    "#hep.cms.label(ax=plt.gca(),data=True, lumi=\"50.8\", fontsize=28, loc=2,COM=13.6)\n",
    "plt.gca().text(1.0, 1.07, \"23.1 $\\mathregular{fb^{-1}}$(2022), 27.7 $\\mathregular{fb^{-1}}$(2023). 13.6 TeV\", transform=plt.gca().transAxes,\n",
    "        fontsize=24, verticalalignment='top', horizontalalignment='right')\n",
    "plt.gca().text(0.02, 0.95, r\"$\\bf{CMS}$\"+\"\\n\"+r\"$\\it{Preliminary}$\", transform=plt.gca().transAxes,\n",
    "       fontsize=34, verticalalignment='top', horizontalalignment='left')\n",
    "plt.xlim(0,900)\n",
    "plt.ylim(0, 1.25)\n",
    "plt.savefig(f\"L1_Efficiency_Plots/{chamber}_{myString}.png\")"
   ]
  },
  {
   "cell_type": "markdown",
   "id": "ac2d8983",
   "metadata": {},
   "source": [
    "### ME4/2"
   ]
  },
  {
   "cell_type": "code",
   "execution_count": 88,
   "id": "ccb4543a",
   "metadata": {},
   "outputs": [],
   "source": [
    "bins_ME42 = hist.Bin(\"cluster_size\", \"Cluster Size\", np.concatenate([np.arange(0, 200, 50), np.arange(200, 1000, 100)]))"
   ]
  },
  {
   "cell_type": "code",
   "execution_count": null,
   "id": "4de2297c",
   "metadata": {},
   "outputs": [],
   "source": [
    "plt.figure(figsize=(14,10))\n",
    "chamber=\"ME42\"\n",
    "chamber_with_slash = chamber[:3] + '/' + chamber[3]\n",
    "bins = bins_ME42\n",
    "for num, sample in enumerate(['2022', '2023']):\n",
    "    #if sample=='all':\n",
    "        #labelName = '2022 + 2023'\n",
    "    if num==0:\n",
    "        plt.axvline(chamber_locations[chamber][\"HLT_thresh\"], color=\"purple\", label=\"HLT Threshold\", linewidth=4)\n",
    "    else:\n",
    "        labelName = sample\n",
    "    num_hist, denom_hist = get_efficiency_hists(oneClusterEvents[sample], chamber, bins)\n",
    "    \n",
    "    hist.plotratio(\n",
    "        ax=plt.gca(),\n",
    "        num =num_hist.project(bins),\n",
    "        denom=denom_hist.project(bins),\n",
    "        error_opts={'marker': '.', 'markersize': 20, 'color':colors[num]},\n",
    "        unc='clopper-pearson',\n",
    "        label= \"Data \" + labelName,\n",
    "        clear=False,\n",
    "        xerr=True\n",
    "        )\n",
    "handles, labels = plt.gca().get_legend_handles_labels()\n",
    "order = [0,3,1,2]\n",
    "\n",
    "#plt.legend([handles[idx] for idx in order],[labels[idx] for idx in order], title=chamber_with_slash, loc=8)\n",
    "plt.legend(title=chamber_with_slash)\n",
    "plt.xlabel(\"$\\mathregular{N_{hits}}$\", fontsize=30)\n",
    "plt.ylabel(\"L1 Efficiency\", fontsize=30)\n",
    "plt.tick_params(axis='both', which='major', labelsize=28)\n",
    "#hep.cms.label(ax=plt.gca(),data=True, lumi=\"50.8\", fontsize=28, loc=2,COM=13.6)\n",
    "plt.gca().text(1.0, 1.07, \"23.1 $\\mathregular{fb^{-1}}$(2022), 27.7 $\\mathregular{fb^{-1}}$(2023). 13.6 TeV\", transform=plt.gca().transAxes,\n",
    "        fontsize=24, verticalalignment='top', horizontalalignment='right')\n",
    "plt.gca().text(0.02, 0.95, r\"$\\bf{CMS}$\"+\"\\n\"+r\"$\\it{Preliminary}$\", transform=plt.gca().transAxes,\n",
    "       fontsize=34, verticalalignment='top', horizontalalignment='left')\n",
    "plt.xlim(0,800)\n",
    "plt.ylim(0, 1.25)\n",
    "plt.savefig(f\"L1_Efficiency_Plots/{chamber}_{myString}.png\")"
   ]
  },
  {
   "cell_type": "code",
   "execution_count": null,
   "id": "61a51f38",
   "metadata": {},
   "outputs": [],
   "source": [
    "plt.figure(figsize=(14,10))\n",
    "num_hist, denom_hist = get_efficiency_hists(oneClusterEvents['all'], \"ME41\", bins_ME31, endcap=0)\n",
    "hist.plot1d(denom_hist)\n",
    "plt.title(\"Cluster Size Distribution for ME4/1Noise Clusters, abs(phi)>3\", fontsize=24)"
   ]
  },
  {
   "cell_type": "markdown",
   "id": "dc40af2c",
   "metadata": {},
   "source": [
    "### Separate Inner Ring Chambers by Endcap"
   ]
  },
  {
   "cell_type": "code",
   "execution_count": null,
   "id": "a3ea3472",
   "metadata": {},
   "outputs": [],
   "source": [
    "endcap_str = \"by_endcap_allData\""
   ]
  },
  {
   "cell_type": "code",
   "execution_count": null,
   "id": "728b476e",
   "metadata": {},
   "outputs": [],
   "source": [
    "plt.figure(figsize=(14,10))\n",
    "chamber=\"ME21\"\n",
    "chamber_with_slash = chamber[:3] + '/' + chamber[3]\n",
    "bins = bins_ME21\n",
    "for num, sample in enumerate(['all']):\n",
    "    if num==0:\n",
    "        plt.axvline(chamber_locations[chamber][\"HLT_thresh\"], color=\"purple\", label=\"HLT Threshold\", linewidth=4)\n",
    "    for x in range(2):\n",
    "        num_hist, denom_hist = get_efficiency_hists(oneClusterEvents[sample], chamber, bins, endcap=x)\n",
    "        if x==0:\n",
    "            label=\"negative endcap\"\n",
    "        if x==1:\n",
    "            label=\"positive endcap\"\n",
    "        hist.plotratio(\n",
    "            ax=plt.gca(),\n",
    "            num =num_hist.project(bins),\n",
    "            denom=denom_hist.project(bins),\n",
    "            error_opts={'marker': '.', 'markersize': 20, 'color':colors[x]},\n",
    "            unc='clopper-pearson',\n",
    "            label= label,\n",
    "            clear=False,\n",
    "            xerr=True\n",
    "            )\n",
    "handles, labels = plt.gca().get_legend_handles_labels()\n",
    "order = [0,3]\n",
    "#plt.legend([handles[idx] for idx in order],[labels[idx] for idx in order], title=chamber_with_slash)\n",
    "plt.legend(title=chamber_with_slash, fontsize=24)\n",
    "plt.xlabel(\"$\\mathregular{N_{hits}}$\", fontsize=30)\n",
    "plt.ylabel(\"L1 Efficiency\", fontsize=30)\n",
    "plt.tick_params(axis='both', which='major', labelsize=28)\n",
    "#hep.cms.label(ax=plt.gca(),data=True, lumi=\"50.8\", fontsize=28, loc=2,COM=13.6)\n",
    "plt.gca().text(1.0, 1.07, \"23.1 $\\mathregular{fb^{-1}}$(2022), 27.7 $\\mathregular{fb^{-1}}$(2023). 13.6 TeV\", transform=plt.gca().transAxes,\n",
    "        fontsize=24, verticalalignment='top', horizontalalignment='right')\n",
    "plt.gca().text(0.02, 0.95, r\"$\\bf{CMS}$\"+\"\\n\"+r\"$\\it{Preliminary}$\", transform=plt.gca().transAxes,\n",
    "       fontsize=34, verticalalignment='top', horizontalalignment='left')\n",
    "plt.xlim(0,900)\n",
    "plt.ylim(0, 1.25)\n",
    "plt.savefig(f\"L1_Efficiency_Plots/{chamber}_{endcap_str}.png\")"
   ]
  },
  {
   "cell_type": "code",
   "execution_count": null,
   "id": "4e2acd97",
   "metadata": {},
   "outputs": [],
   "source": [
    "plt.figure(figsize=(14,10))\n",
    "chamber=\"ME31\"\n",
    "chamber_with_slash = chamber[:3] + '/' + chamber[3]\n",
    "bins = bins_ME31\n",
    "for num, sample in enumerate(['all']):\n",
    "    if num==0:\n",
    "        plt.axvline(chamber_locations[chamber][\"HLT_thresh\"], color=\"purple\", label=\"HLT Threshold\", linewidth=4)\n",
    "    for x in range(2):\n",
    "        num_hist, denom_hist = get_efficiency_hists(oneClusterEvents[sample], chamber, bins, endcap=x)\n",
    "        if x==0:\n",
    "            label=\"negative endcap\"\n",
    "        if x==1:\n",
    "            label=\"positive endcap\"\n",
    "        hist.plotratio(\n",
    "            ax=plt.gca(),\n",
    "            num =num_hist.project(bins),\n",
    "            denom=denom_hist.project(bins),\n",
    "            error_opts={'marker': '.', 'markersize': 20, 'color':colors[x]},\n",
    "            unc='clopper-pearson',\n",
    "            label= label,\n",
    "            clear=False,\n",
    "            xerr=True\n",
    "            )\n",
    "handles, labels = plt.gca().get_legend_handles_labels()\n",
    "order = [0,3]\n",
    "#plt.legend([handles[idx] for idx in order],[labels[idx] for idx in order], title=chamber_with_slash)\n",
    "plt.legend(title=chamber_with_slash, fontsize=24)\n",
    "plt.xlabel(\"$\\mathregular{N_{hits}}$\", fontsize=30)\n",
    "plt.ylabel(\"L1 Efficiency\", fontsize=30)\n",
    "plt.tick_params(axis='both', which='major', labelsize=28)\n",
    "#hep.cms.label(ax=plt.gca(),data=True, lumi=\"50.8\", fontsize=28, loc=2,COM=13.6)\n",
    "plt.gca().text(1.0, 1.07, \"23.1 $\\mathregular{fb^{-1}}$(2022), 27.7 $\\mathregular{fb^{-1}}$(2023). 13.6 TeV\", transform=plt.gca().transAxes,\n",
    "        fontsize=24, verticalalignment='top', horizontalalignment='right')\n",
    "plt.gca().text(0.02, 0.95, r\"$\\bf{CMS}$\"+\"\\n\"+r\"$\\it{Preliminary}$\", transform=plt.gca().transAxes,\n",
    "       fontsize=34, verticalalignment='top', horizontalalignment='left')\n",
    "plt.xlim(0,900)\n",
    "plt.ylim(0, 1.25)\n",
    "plt.savefig(f\"L1_Efficiency_Plots/{chamber}_{endcap_str}.png\")"
   ]
  },
  {
   "cell_type": "code",
   "execution_count": null,
   "id": "4ee10d46",
   "metadata": {},
   "outputs": [],
   "source": [
    "plt.figure(figsize=(14,10))\n",
    "chamber=\"ME41\"\n",
    "chamber_with_slash = chamber[:3] + '/' + chamber[3]\n",
    "bins = bins_ME41\n",
    "for num, sample in enumerate(['all']):\n",
    "    if num==0:\n",
    "        plt.axvline(chamber_locations[chamber][\"HLT_thresh\"], color=\"purple\", label=\"HLT Threshold\", linewidth=4)\n",
    "    for x in range(2):\n",
    "        num_hist, denom_hist = get_efficiency_hists(oneClusterEvents[sample], chamber, bins, endcap=x)\n",
    "        if x==0:\n",
    "            label=\"negative endcap\"\n",
    "        if x==1:\n",
    "            label=\"positive endcap\"\n",
    "        hist.plotratio(\n",
    "            ax=plt.gca(),\n",
    "            num =num_hist.project(bins),\n",
    "            denom=denom_hist.project(bins),\n",
    "            error_opts={'marker': '.', 'markersize': 20, 'color':colors[x]},\n",
    "            unc='clopper-pearson',\n",
    "            label= label,\n",
    "            clear=False,\n",
    "            xerr=True\n",
    "            )\n",
    "handles, labels = plt.gca().get_legend_handles_labels()\n",
    "order = [0,3]\n",
    "#plt.legend([handles[idx] for idx in order],[labels[idx] for idx in order], title=chamber_with_slash)\n",
    "plt.legend(title=chamber_with_slash, fontsize=24)\n",
    "plt.xlabel(\"$\\mathregular{N_{hits}}$\", fontsize=30)\n",
    "plt.ylabel(\"L1 Efficiency\", fontsize=30)\n",
    "plt.tick_params(axis='both', which='major', labelsize=28)\n",
    "#hep.cms.label(ax=plt.gca(),data=True, lumi=\"50.8\", fontsize=28, loc=2,COM=13.6)\n",
    "plt.gca().text(1.0, 1.07, \"23.1 $\\mathregular{fb^{-1}}$(2022), 27.7 $\\mathregular{fb^{-1}}$(2023). 13.6 TeV\", transform=plt.gca().transAxes,\n",
    "        fontsize=24, verticalalignment='top', horizontalalignment='right')\n",
    "plt.gca().text(0.02, 0.95, r\"$\\bf{CMS}$\"+\"\\n\"+r\"$\\it{Preliminary}$\", transform=plt.gca().transAxes,\n",
    "       fontsize=34, verticalalignment='top', horizontalalignment='left')\n",
    "plt.xlim(0,900)\n",
    "plt.ylim(0, 1.25)\n",
    "plt.savefig(f\"L1_Efficiency_Plots/{chamber}_{endcap_str}.png\")"
   ]
  },
  {
   "cell_type": "code",
   "execution_count": 51,
   "id": "3cf134c7",
   "metadata": {},
   "outputs": [
    {
     "data": {
      "text/plain": [
       "<Array [3081763313, 2726931327, ... 3416482702] type='50 * ?uint32'>"
      ]
     },
     "execution_count": 51,
     "metadata": {},
     "output_type": "execute_result"
    }
   ],
   "source": [
    "#explore events with clusters in ME4/1 with >500 cscRechits\n",
    "event_mask = np.logical_and(compute_chamber_mask(oneClusterEvents['all'], \"ME41\", 41, 0.9, endcap=0), ak.flatten(oneClusterEvents['all'].cscRechitClusterSize)>=500)\n",
    "weird_data = ak.mask(oneClusterEvents['all'], event_mask)\n",
    "weird_data = weird_data[~ak.is_none(weird_data)]\n",
    "weird_data.evtNum"
   ]
  },
  {
   "cell_type": "code",
   "execution_count": 52,
   "id": "987cf8db",
   "metadata": {},
   "outputs": [],
   "source": [
    "with open('ME41_weird_events.npy', 'wb') as f:\n",
    "    np.save(f, np.array(weird_data.evtNum))\n"
   ]
  },
  {
   "cell_type": "code",
   "execution_count": null,
   "id": "1dc86848",
   "metadata": {},
   "outputs": [],
   "source": [
    "#for control group, look at positive endcap\n",
    "event_mask = np.logical_and(compute_chamber_mask(oneClusterEvents['all'], \"ME41\", 41, 0.9, endcap=0), ak.flatten(oneClusterEvents['all'].cscRechitClusterSize)>=500)\n",
    "weird_data = ak.mask(oneClusterEvents['all'], event_mask)\n",
    "weird_data = weird_data[~ak.is_none(weird_data)]\n",
    "weird_data.evtNum"
   ]
  },
  {
   "cell_type": "code",
   "execution_count": null,
   "id": "c89e1eb1",
   "metadata": {},
   "outputs": [],
   "source": [
    "list(chamber_locations.keys())"
   ]
  },
  {
   "cell_type": "code",
   "execution_count": null,
   "id": "02160f0e",
   "metadata": {},
   "outputs": [],
   "source": [
    "#For all chambers\n",
    "events_list_2022 = []\n",
    "for chamber in list(chamber_locations.keys()):\n",
    "    event_mask = compute_chamber_mask(oneClusterEvents['2022'], chamber, 41, 0.9)\n",
    "    my_data = ak.mask(oneClusterEvents['2022'], event_mask)\n",
    "    my_data = my_data[~ak.is_none(my_data)]\n",
    "    events_list_2022.append(np.array(my_data.evtNum))\n",
    "    \n",
    "with open('all_chambers_events_2022.npy', 'wb') as f:\n",
    "    np.save(f, np.concatenate(events_list_2022))\n",
    "    \n",
    "events_list_2023 = []\n",
    "for chamber in list(chamber_locations.keys()):\n",
    "    event_mask = compute_chamber_mask(oneClusterEvents['2023'], chamber, 41, 0.9)\n",
    "    my_data = ak.mask(oneClusterEvents['2023'], event_mask)\n",
    "    my_data = my_data[~ak.is_none(my_data)]\n",
    "    events_list_2023.append(np.array(my_data.evtNum))\n",
    "    \n",
    "with open('all_chambers_events_2023.npy', 'wb') as f:\n",
    "    np.save(f, np.concatenate(events_list_2023))"
   ]
  },
  {
   "cell_type": "markdown",
   "id": "31f8e067",
   "metadata": {},
   "source": []
  },
  {
   "cell_type": "code",
   "execution_count": 60,
   "id": "11305a20",
   "metadata": {},
   "outputs": [
    {
     "data": {
      "text/plain": [
       "'all'"
      ]
     },
     "execution_count": 60,
     "metadata": {},
     "output_type": "execute_result"
    }
   ],
   "source": [
    "sample"
   ]
  },
  {
   "cell_type": "code",
   "execution_count": 65,
   "id": "ae8553b1",
   "metadata": {},
   "outputs": [],
   "source": [
    "num = 0\n",
    "colors= [\"black\"]"
   ]
  },
  {
   "cell_type": "code",
   "execution_count": 81,
   "id": "79889b3b",
   "metadata": {},
   "outputs": [
    {
     "data": {
      "text/plain": [
       "array([ 50., 150., 250., 350., 450., 700.])"
      ]
     },
     "execution_count": 81,
     "metadata": {},
     "output_type": "execute_result"
    }
   ],
   "source": [
    "bins_ME41.centers()"
   ]
  },
  {
   "cell_type": "markdown",
   "id": "6a5cd3e3",
   "metadata": {},
   "source": [
    "### Extracting Efficiencies to store in ROOT Files"
   ]
  },
  {
   "cell_type": "code",
   "execution_count": 154,
   "id": "3b654fd3",
   "metadata": {},
   "outputs": [
    {
     "name": "stdout",
     "output_type": "stream",
     "text": [
      "216\n",
      "1009\n"
     ]
    },
    {
     "data": {
      "text/plain": [
       "(0.0, 900.0)"
      ]
     },
     "execution_count": 154,
     "metadata": {},
     "output_type": "execute_result"
    },
    {
     "data": {
      "image/png": "[encoded data removed]",
      "text/plain": [
       "<Figure size 720x720 with 1 Axes>"
      ]
     },
     "metadata": {
      "needs_background": "light"
     },
     "output_type": "display_data"
    }
   ],
   "source": [
    "labelName = '2022 + 2023'\n",
    "chamber=\"ME31\"\n",
    "num=0\n",
    "chamber_with_slash = chamber[:3] + '/' + chamber[3]\n",
    "bins = bins_ME31\n",
    "num_hist, denom_hist = get_efficiency_hists(oneClusterEvents[sample], chamber, bins)\n",
    "\n",
    "efficiency_plot = hist.plotratio(\n",
    "    ax=plt.gca(),\n",
    "    num =num_hist.project(bins),\n",
    "    denom=denom_hist.project(bins),\n",
    "    error_opts={'marker': '.', 'markersize': 12, 'color':colors[num]},\n",
    "    unc='clopper-pearson',\n",
    "    label= \"Data \" + labelName,\n",
    "    clear=False,\n",
    "    xerr=True\n",
    "    )\n",
    "plt.xlim(0,900)"
   ]
  },
  {
   "cell_type": "code",
   "execution_count": 89,
   "id": "32fc49a6",
   "metadata": {},
   "outputs": [],
   "source": [
    "def dump_chamber_efficiency_plot(chamber, num_hist, denom_hist, bins):  \n",
    "    bin_centers = bins.centers()\n",
    "    efficiencies, xerrs, yerrs_low, yerrs_high = [],[],[],[]\n",
    "    #print(list(denom_hist.project(bins).values().values()))[0]\n",
    "    num_values = list(num_hist.project(bins).values().values())[0]\n",
    "    denom_values = list(denom_hist.project(bins).values().values())[0]\n",
    "    for bin_idx in range(len(bin_centers)):\n",
    "        if bin_idx==0:\n",
    "            xerrs.append((bin_centers[bin_idx+1]-bin_centers[bin_idx])/2)\n",
    "        #elif bin_idx==len(bin_centers)-1:\n",
    "        #    xerrs.append((bin_centers[bin_idx]-bin_centers[bin_idx-1])/2)\n",
    "        #elif (bin_centers[bin_idx+1]-bin_centers[bin_idx])/2 > (bin_centers[bin_idx]-bin_centers[bin_idx-1])/2:\n",
    "        #    xerrs.append((bin_centers[bin_idx]-bin_centers[bin_idx-1])/2)\n",
    "        #elif (bin_centers[bin_idx+1]-bin_centers[bin_idx])/2  (bin_centers[bin_idx]-bin_centers[bin_idx-1])/2:\n",
    "        #    xerrs.append((bin_centers[bin_idx]-bin_centers[bin_idx-1])/2)\n",
    "        else:\n",
    "            #xerrs.append(((bin_centers[bin_idx+1]-bin_centers[bin_idx])/2 + (bin_centers[bin_idx]-bin_centers[bin_idx-1])/2)/2)\n",
    "            #print(\"here\")\n",
    "            xerrs.append(bin_centers[bin_idx]-bin_centers[bin_idx-1]-xerrs[len(xerrs)-1])\n",
    "        #efficiencies.append(float(num_values[bin_idx])/denom_values[bin_idx])\n",
    "        #code to recompute errors bars\n",
    "        eff = ROOT.TEfficiency()\n",
    "        eff.SetStatisticOption(ROOT.TEfficiency.kFCP)  # Use Clopper-Pearson\n",
    "        passed = int(num_values[bin_idx])\n",
    "        total = int(denom_values[bin_idx])\n",
    "        if total > 0:\n",
    "            eff.SetTotalEvents(1, total)\n",
    "            eff.SetPassedEvents(1, passed)\n",
    "            efficiencies.append(eff.GetEfficiency(1))\n",
    "            yerrs_low.append(eff.GetEfficiencyErrorLow(1))\n",
    "            yerrs_high.append(eff.GetEfficiencyErrorUp(1))\n",
    "        else:\n",
    "            efficiencies.append(0)\n",
    "            yerrs_low.append(0)\n",
    "            yerrs_high.append(0)\n",
    "\n",
    "    x_values = np.array(bin_centers, dtype='float64')\n",
    "    y_values = np.array(efficiencies, dtype='float64')\n",
    "    x_errors = np.array(xerrs)  # Using half the bin width as the error in x\n",
    "    y_errors_low = np.array(yerrs_low, dtype='float64')\n",
    "    y_errors_high = np.array(yerrs_high, dtype='float64')\n",
    "    n_bins = len(bin_centers)\n",
    "    # Create a TGraphAsymmErrors object\n",
    "    root_graph = ROOT.TGraphAsymmErrors(n_bins, x_values, y_values, x_errors, x_errors, y_errors_low, y_errors_high)\n",
    "    root_graph.SetTitle(f\"{chamber};Cluster Size;L1 Efficiency\")\n",
    "    return root_graph"
   ]
  },
  {
   "cell_type": "code",
   "execution_count": 143,
   "id": "07d030d5",
   "metadata": {},
   "outputs": [],
   "source": [
    "def dump_chamber_efficiency_plot(chamber, num_hist, denom_hist, bins):  \n",
    "    bin_centers = bins.centers()\n",
    "    efficiencies, xerrs, yerrs_low, yerrs_high = [],[],[],[]\n",
    "    #print(list(denom_hist.project(bins).values().values()))[0]\n",
    "    num_values = list(num_hist.project(bins).values().values())[0]\n",
    "    denom_values = list(denom_hist.project(bins).values().values())[0]\n",
    "    for bin_idx in range(len(bin_centers)):\n",
    "        if bin_idx==0:\n",
    "            xerrs.append((bin_centers[bin_idx+1]-bin_centers[bin_idx])/2)\n",
    "        #elif bin_idx==len(bin_centers)-1:\n",
    "        #    xerrs.append((bin_centers[bin_idx]-bin_centers[bin_idx-1])/2)\n",
    "        #elif (bin_centers[bin_idx+1]-bin_centers[bin_idx])/2 > (bin_centers[bin_idx]-bin_centers[bin_idx-1])/2:\n",
    "        #    xerrs.append((bin_centers[bin_idx]-bin_centers[bin_idx-1])/2)\n",
    "        #elif (bin_centers[bin_idx+1]-bin_centers[bin_idx])/2  (bin_centers[bin_idx]-bin_centers[bin_idx-1])/2:\n",
    "        #    xerrs.append((bin_centers[bin_idx]-bin_centers[bin_idx-1])/2)\n",
    "        else:\n",
    "            #xerrs.append(((bin_centers[bin_idx+1]-bin_centers[bin_idx])/2 + (bin_centers[bin_idx]-bin_centers[bin_idx-1])/2)/2)\n",
    "            #print(\"here\")\n",
    "            xerrs.append(bin_centers[bin_idx]-bin_centers[bin_idx-1]-xerrs[len(xerrs)-1])\n",
    "        #efficiencies.append(float(num_values[bin_idx])/denom_values[bin_idx])\n",
    "        #code to recompute errors bars\n",
    "        eff = ROOT.TEfficiency()\n",
    "        eff.SetStatisticOption(ROOT.TEfficiency.kFCP)  # Use Clopper-Pearson\n",
    "        passed = int(num_values[bin_idx])\n",
    "        total = int(denom_values[bin_idx])\n",
    "        if total > 0:\n",
    "            eff.SetTotalEvents(1, total)\n",
    "            eff.SetPassedEvents(1, passed)\n",
    "            efficiencies.append(eff.GetEfficiency(1))\n",
    "            yerrs_low.append(eff.GetEfficiencyErrorLow(1))\n",
    "            yerrs_high.append(eff.GetEfficiencyErrorUp(1))\n",
    "        else:\n",
    "            efficiencies.append(0)\n",
    "            yerrs_low.append(0)\n",
    "            yerrs_high.append(0)\n",
    "\n",
    "    x_values = np.array(bin_centers, dtype='float64')\n",
    "    y_values = np.array(efficiencies, dtype='float64')\n",
    "    x_errors = np.array(xerrs)  # Using half the bin width as the error in x\n",
    "    y_errors_low = np.array(yerrs_low, dtype='float64')\n",
    "    y_errors_high = np.array(yerrs_high, dtype='float64')\n",
    "    n_bins = len(bin_centers)\n",
    "    # Create a TGraphAsymmErrors object\n",
    "    root_graph = ROOT.TGraphAsymmErrors(n_bins, x_values, y_values, x_errors, x_errors, y_errors_low, y_errors_high)\n",
    "    root_graph.SetTitle(f\"{chamber};Cluster Size;L1 Efficiency\")\n",
    "    return root_graph"
   ]
  },
  {
   "cell_type": "code",
   "execution_count": 90,
   "id": "9f4851cb",
   "metadata": {},
   "outputs": [],
   "source": [
    "chamber_bins = [bins_ME11, bins_ME12, bins_ME13, bins_ME21, bins_ME22, bins_ME31, bins_ME32, bins_ME41, bins_ME42]"
   ]
  },
  {
   "cell_type": "code",
   "execution_count": 148,
   "id": "d672ef28",
   "metadata": {},
   "outputs": [],
   "source": [
    "def get_efficiency_hists_ROOT(data, chamber, bins, endcap=None):\n",
    "    total_mask = compute_chamber_mask(data, chamber, chamber_int, 0.9, endcap)\n",
    "    \n",
    "    #COMMENT OUT WHEN NOT DOING NOISE MASK INVERSION\n",
    "    #total_mask = np.logical_and(total_mask, noisy_cluster_events(data))\n",
    "    \n",
    "    denom = ak.mask(ak.flatten(data.cscRechitClusterSize), total_mask)\n",
    "    num = ak.mask(denom, ak.mask(np.logical_or(data.L1_SingleMuShower_Nominal, data.L1_SingleMuShower_Tight),total_mask))\n",
    "    denom = denom[~ak.is_none(denom)]\n",
    "    num = num[~ak.is_none(num)]\n",
    "    \n",
    "    denom = ak.to_numpy(denom)\n",
    "    num = ak.to_numpy(num)\n",
    "    \n",
    "    print(len(num))\n",
    "    print(len(denom))\n",
    "    inner_bins = np.concatenate([np.arange(0, 500, 100), np.arange(500, 1000, 400)])\n",
    "    outer_bins = np.concatenate([np.arange(0, 200, 50), np.arange(200, 1000, 100)])\n",
    "    \n",
    "    \n",
    "    if chamber[-1:]=='1':\n",
    "        bins = inner_bins\n",
    "    else:\n",
    "        bins = outer_bins\n",
    "        \n",
    "    bins_arr = [binEdge for binEdge in bins]\n",
    "    \n",
    "    num_hist = ROOT.TH1F(\"num\", \"num\", len(bins_arr)-1, array('f', bins_arr))\n",
    "    denom_hist = ROOT.TH1F(\"denom\", \"denom\", len(bins_arr)-1, array('f', bins_arr))\n",
    "    \n",
    "    for val in num:\n",
    "        num_hist.Fill(val)\n",
    "    for val in denom:\n",
    "        denom_hist.Fill(val)\n",
    "\n",
    "    return num_hist, denom_hist"
   ]
  },
  {
   "cell_type": "code",
   "execution_count": 149,
   "id": "679d2f0e",
   "metadata": {},
   "outputs": [
    {
     "name": "stdout",
     "output_type": "stream",
     "text": [
      "ME13\n",
      "92831\n",
      "93753\n",
      "ME21\n",
      "131\n",
      "1311\n",
      "ME22\n",
      "54075\n",
      "91407\n",
      "ME31\n",
      "216\n",
      "1009\n",
      "ME32\n",
      "13736\n",
      "20170\n",
      "ME41\n",
      "146\n",
      "678\n",
      "ME42\n",
      "459\n",
      "568\n"
     ]
    },
    {
     "name": "stderr",
     "output_type": "stream",
     "text": [
      "Warning in <TFile::Append>: Replacing existing TH1: num (Potential memory leak).\n",
      "Warning in <TFile::Append>: Replacing existing TH1: denom (Potential memory leak).\n",
      "Warning in <TFile::Append>: Replacing existing TH1: num (Potential memory leak).\n",
      "Warning in <TFile::Append>: Replacing existing TH1: denom (Potential memory leak).\n",
      "Warning in <TFile::Append>: Replacing existing TH1: num (Potential memory leak).\n",
      "Warning in <TFile::Append>: Replacing existing TH1: denom (Potential memory leak).\n",
      "Warning in <TFile::Append>: Replacing existing TH1: num (Potential memory leak).\n",
      "Warning in <TFile::Append>: Replacing existing TH1: denom (Potential memory leak).\n",
      "Warning in <TFile::Append>: Replacing existing TH1: num (Potential memory leak).\n",
      "Warning in <TFile::Append>: Replacing existing TH1: denom (Potential memory leak).\n",
      "Warning in <TFile::Append>: Replacing existing TH1: num (Potential memory leak).\n",
      "Warning in <TFile::Append>: Replacing existing TH1: denom (Potential memory leak).\n"
     ]
    }
   ],
   "source": [
    "from array import array\n",
    "chamber_int = 0\n",
    "sample = 'all'\n",
    "output_file = \"L1_efficiencies_2022_2023_082324-TEff.root\"\n",
    "root_file = ROOT.TFile(output_file, \"RECREATE\")\n",
    "root_plots = []\n",
    "for chamber_idx, chamber in enumerate(chambers):\n",
    "    if chamber in [\"ME11\", \"ME12\"]:\n",
    "        continue\n",
    "    print(chamber)\n",
    "    bins = chamber_bins[chamber_idx]\n",
    "    num_hist, denom_hist = get_efficiency_hists_ROOT(oneClusterEvents[sample], chamber, bins)\n",
    "    #print(type(num_hist))\n",
    "    eff = ROOT.TEfficiency(num_hist, denom_hist)\n",
    "    eff.SetStatisticOption(ROOT.TEfficiency.kFCP) \n",
    "    \n",
    "    #current_plot = dump_chamber_efficiency_plot(chamber, num_hist, denom_hist, bins)\n",
    "    eff.SetTitle(f\"{chamber};Cluster Size;L1 Efficiency\")\n",
    "    eff.Write(chamber)\n",
    "    \n",
    "root_file.Close()"
   ]
  },
  {
   "cell_type": "code",
   "execution_count": 150,
   "id": "b06f660f",
   "metadata": {
    "scrolled": false
   },
   "outputs": [
    {
     "name": "stdout",
     "output_type": "stream",
     "text": [
      "ME11\n",
      "0\n",
      "0\n",
      "ME12\n",
      "0\n",
      "0\n",
      "ME13\n",
      "92831\n",
      "93753\n",
      "ME21\n",
      "131\n",
      "1311\n",
      "ME22\n",
      "54075\n",
      "91407\n",
      "ME31\n",
      "216\n",
      "1009\n",
      "ME32\n",
      "13736\n",
      "20170\n",
      "ME41\n",
      "146\n",
      "678\n",
      "ME42\n",
      "459\n",
      "568\n"
     ]
    },
    {
     "name": "stderr",
     "output_type": "stream",
     "text": [
      "Warning in <TFile::Append>: Replacing existing TH1: h_passed (Potential memory leak).\n",
      "Warning in <TFile::Append>: Replacing existing TH1: h_total (Potential memory leak).\n",
      "Warning in <TFile::Append>: Replacing existing TH1: h_passed (Potential memory leak).\n",
      "Warning in <TFile::Append>: Replacing existing TH1: h_total (Potential memory leak).\n",
      "Warning in <TFile::Append>: Replacing existing TH1: h_passed (Potential memory leak).\n",
      "Warning in <TFile::Append>: Replacing existing TH1: h_total (Potential memory leak).\n",
      "Warning in <TFile::Append>: Replacing existing TH1: h_passed (Potential memory leak).\n",
      "Warning in <TFile::Append>: Replacing existing TH1: h_total (Potential memory leak).\n",
      "Warning in <TFile::Append>: Replacing existing TH1: h_passed (Potential memory leak).\n",
      "Warning in <TFile::Append>: Replacing existing TH1: h_total (Potential memory leak).\n",
      "Warning in <TFile::Append>: Replacing existing TH1: h_passed (Potential memory leak).\n",
      "Warning in <TFile::Append>: Replacing existing TH1: h_total (Potential memory leak).\n",
      "Warning in <TFile::Append>: Replacing existing TH1: h_passed (Potential memory leak).\n",
      "Warning in <TFile::Append>: Replacing existing TH1: h_total (Potential memory leak).\n",
      "Warning in <TFile::Append>: Replacing existing TH1: h_passed (Potential memory leak).\n",
      "Warning in <TFile::Append>: Replacing existing TH1: h_total (Potential memory leak).\n",
      "Warning in <TFile::Append>: Replacing existing TH1: h_passed (Potential memory leak).\n",
      "Warning in <TFile::Append>: Replacing existing TH1: h_total (Potential memory leak).\n",
      "Warning in <TFile::Append>: Replacing existing TH1: h_passed (Potential memory leak).\n",
      "Warning in <TFile::Append>: Replacing existing TH1: h_total (Potential memory leak).\n",
      "Warning in <TFile::Append>: Replacing existing TH1: h_passed (Potential memory leak).\n",
      "Warning in <TFile::Append>: Replacing existing TH1: h_total (Potential memory leak).\n",
      "Warning in <TFile::Append>: Replacing existing TH1: h_passed (Potential memory leak).\n",
      "Warning in <TFile::Append>: Replacing existing TH1: h_total (Potential memory leak).\n",
      "Warning in <TFile::Append>: Replacing existing TH1: h_passed (Potential memory leak).\n",
      "Warning in <TFile::Append>: Replacing existing TH1: h_total (Potential memory leak).\n",
      "Warning in <TFile::Append>: Replacing existing TH1: h_passed (Potential memory leak).\n",
      "Warning in <TFile::Append>: Replacing existing TH1: h_total (Potential memory leak).\n",
      "Warning in <TFile::Append>: Replacing existing TH1: h_passed (Potential memory leak).\n",
      "Warning in <TFile::Append>: Replacing existing TH1: h_total (Potential memory leak).\n",
      "Warning in <TFile::Append>: Replacing existing TH1: h_passed (Potential memory leak).\n",
      "Warning in <TFile::Append>: Replacing existing TH1: h_total (Potential memory leak).\n",
      "Warning in <TFile::Append>: Replacing existing TH1: h_passed (Potential memory leak).\n",
      "Warning in <TFile::Append>: Replacing existing TH1: h_total (Potential memory leak).\n",
      "Warning in <TFile::Append>: Replacing existing TH1: h_passed (Potential memory leak).\n",
      "Warning in <TFile::Append>: Replacing existing TH1: h_total (Potential memory leak).\n",
      "Warning in <TFile::Append>: Replacing existing TH1: h_passed (Potential memory leak).\n",
      "Warning in <TFile::Append>: Replacing existing TH1: h_total (Potential memory leak).\n",
      "Warning in <TFile::Append>: Replacing existing TH1: h_passed (Potential memory leak).\n",
      "Warning in <TFile::Append>: Replacing existing TH1: h_total (Potential memory leak).\n",
      "Warning in <TFile::Append>: Replacing existing TH1: h_passed (Potential memory leak).\n",
      "Warning in <TFile::Append>: Replacing existing TH1: h_total (Potential memory leak).\n",
      "Warning in <TFile::Append>: Replacing existing TH1: h_passed (Potential memory leak).\n",
      "Warning in <TFile::Append>: Replacing existing TH1: h_total (Potential memory leak).\n",
      "Warning in <TFile::Append>: Replacing existing TH1: h_passed (Potential memory leak).\n",
      "Warning in <TFile::Append>: Replacing existing TH1: h_total (Potential memory leak).\n",
      "Warning in <TFile::Append>: Replacing existing TH1: h_passed (Potential memory leak).\n",
      "Warning in <TFile::Append>: Replacing existing TH1: h_total (Potential memory leak).\n",
      "Warning in <TFile::Append>: Replacing existing TH1: h_passed (Potential memory leak).\n",
      "Warning in <TFile::Append>: Replacing existing TH1: h_total (Potential memory leak).\n",
      "Warning in <TFile::Append>: Replacing existing TH1: h_passed (Potential memory leak).\n",
      "Warning in <TFile::Append>: Replacing existing TH1: h_total (Potential memory leak).\n",
      "Warning in <TFile::Append>: Replacing existing TH1: h_passed (Potential memory leak).\n",
      "Warning in <TFile::Append>: Replacing existing TH1: h_total (Potential memory leak).\n",
      "Warning in <TFile::Append>: Replacing existing TH1: h_passed (Potential memory leak).\n",
      "Warning in <TFile::Append>: Replacing existing TH1: h_total (Potential memory leak).\n",
      "Warning in <TFile::Append>: Replacing existing TH1: h_passed (Potential memory leak).\n",
      "Warning in <TFile::Append>: Replacing existing TH1: h_total (Potential memory leak).\n",
      "Warning in <TFile::Append>: Replacing existing TH1: h_passed (Potential memory leak).\n",
      "Warning in <TFile::Append>: Replacing existing TH1: h_total (Potential memory leak).\n",
      "Warning in <TFile::Append>: Replacing existing TH1: h_passed (Potential memory leak).\n",
      "Warning in <TFile::Append>: Replacing existing TH1: h_total (Potential memory leak).\n",
      "Warning in <TFile::Append>: Replacing existing TH1: h_passed (Potential memory leak).\n",
      "Warning in <TFile::Append>: Replacing existing TH1: h_total (Potential memory leak).\n",
      "Warning in <TFile::Append>: Replacing existing TH1: h_passed (Potential memory leak).\n",
      "Warning in <TFile::Append>: Replacing existing TH1: h_total (Potential memory leak).\n",
      "Warning in <TFile::Append>: Replacing existing TH1: h_passed (Potential memory leak).\n",
      "Warning in <TFile::Append>: Replacing existing TH1: h_total (Potential memory leak).\n",
      "Warning in <TFile::Append>: Replacing existing TH1: h_passed (Potential memory leak).\n",
      "Warning in <TFile::Append>: Replacing existing TH1: h_total (Potential memory leak).\n",
      "Warning in <TFile::Append>: Replacing existing TH1: h_passed (Potential memory leak).\n",
      "Warning in <TFile::Append>: Replacing existing TH1: h_total (Potential memory leak).\n",
      "Warning in <TFile::Append>: Replacing existing TH1: h_passed (Potential memory leak).\n",
      "Warning in <TFile::Append>: Replacing existing TH1: h_total (Potential memory leak).\n",
      "Warning in <TFile::Append>: Replacing existing TH1: h_passed (Potential memory leak).\n",
      "Warning in <TFile::Append>: Replacing existing TH1: h_total (Potential memory leak).\n",
      "Warning in <TFile::Append>: Replacing existing TH1: h_passed (Potential memory leak).\n",
      "Warning in <TFile::Append>: Replacing existing TH1: h_total (Potential memory leak).\n",
      "Warning in <TFile::Append>: Replacing existing TH1: h_passed (Potential memory leak).\n",
      "Warning in <TFile::Append>: Replacing existing TH1: h_total (Potential memory leak).\n",
      "Warning in <TFile::Append>: Replacing existing TH1: h_passed (Potential memory leak).\n",
      "Warning in <TFile::Append>: Replacing existing TH1: h_total (Potential memory leak).\n",
      "Warning in <TFile::Append>: Replacing existing TH1: h_passed (Potential memory leak).\n",
      "Warning in <TFile::Append>: Replacing existing TH1: h_total (Potential memory leak).\n",
      "Warning in <TFile::Append>: Replacing existing TH1: h_passed (Potential memory leak).\n",
      "Warning in <TFile::Append>: Replacing existing TH1: h_total (Potential memory leak).\n",
      "Warning in <TFile::Append>: Replacing existing TH1: h_passed (Potential memory leak).\n",
      "Warning in <TFile::Append>: Replacing existing TH1: h_total (Potential memory leak).\n",
      "Warning in <TFile::Append>: Replacing existing TH1: h_passed (Potential memory leak).\n",
      "Warning in <TFile::Append>: Replacing existing TH1: h_total (Potential memory leak).\n",
      "Warning in <TFile::Append>: Replacing existing TH1: h_passed (Potential memory leak).\n",
      "Warning in <TFile::Append>: Replacing existing TH1: h_total (Potential memory leak).\n",
      "Warning in <TFile::Append>: Replacing existing TH1: h_passed (Potential memory leak).\n",
      "Warning in <TFile::Append>: Replacing existing TH1: h_total (Potential memory leak).\n",
      "Warning in <TFile::Append>: Replacing existing TH1: h_passed (Potential memory leak).\n",
      "Warning in <TFile::Append>: Replacing existing TH1: h_total (Potential memory leak).\n",
      "Warning in <TFile::Append>: Replacing existing TH1: h_passed (Potential memory leak).\n",
      "Warning in <TFile::Append>: Replacing existing TH1: h_total (Potential memory leak).\n",
      "Warning in <TFile::Append>: Replacing existing TH1: h_passed (Potential memory leak).\n",
      "Warning in <TFile::Append>: Replacing existing TH1: h_total (Potential memory leak).\n",
      "Warning in <TFile::Append>: Replacing existing TH1: h_passed (Potential memory leak).\n",
      "Warning in <TFile::Append>: Replacing existing TH1: h_total (Potential memory leak).\n",
      "Warning in <TFile::Append>: Replacing existing TH1: h_passed (Potential memory leak).\n",
      "Warning in <TFile::Append>: Replacing existing TH1: h_total (Potential memory leak).\n",
      "Warning in <TFile::Append>: Replacing existing TH1: h_passed (Potential memory leak).\n",
      "Warning in <TFile::Append>: Replacing existing TH1: h_total (Potential memory leak).\n",
      "Warning in <TFile::Append>: Replacing existing TH1: h_passed (Potential memory leak).\n",
      "Warning in <TFile::Append>: Replacing existing TH1: h_total (Potential memory leak).\n",
      "Warning in <TFile::Append>: Replacing existing TH1: h_passed (Potential memory leak).\n",
      "Warning in <TFile::Append>: Replacing existing TH1: h_total (Potential memory leak).\n",
      "Warning in <TFile::Append>: Replacing existing TH1: h_passed (Potential memory leak).\n",
      "Warning in <TFile::Append>: Replacing existing TH1: h_total (Potential memory leak).\n",
      "Warning in <TFile::Append>: Replacing existing TH1: h_passed (Potential memory leak).\n",
      "Warning in <TFile::Append>: Replacing existing TH1: h_total (Potential memory leak).\n",
      "Warning in <TFile::Append>: Replacing existing TH1: h_passed (Potential memory leak).\n",
      "Warning in <TFile::Append>: Replacing existing TH1: h_total (Potential memory leak).\n",
      "Warning in <TFile::Append>: Replacing existing TH1: h_passed (Potential memory leak).\n",
      "Warning in <TFile::Append>: Replacing existing TH1: h_total (Potential memory leak).\n",
      "Warning in <TFile::Append>: Replacing existing TH1: h_passed (Potential memory leak).\n",
      "Warning in <TFile::Append>: Replacing existing TH1: h_total (Potential memory leak).\n",
      "Warning in <TFile::Append>: Replacing existing TH1: h_passed (Potential memory leak).\n",
      "Warning in <TFile::Append>: Replacing existing TH1: h_total (Potential memory leak).\n",
      "Warning in <TFile::Append>: Replacing existing TH1: h_passed (Potential memory leak).\n",
      "Warning in <TFile::Append>: Replacing existing TH1: h_total (Potential memory leak).\n",
      "Warning in <TFile::Append>: Replacing existing TH1: h_passed (Potential memory leak).\n",
      "Warning in <TFile::Append>: Replacing existing TH1: h_total (Potential memory leak).\n",
      "Warning in <TFile::Append>: Replacing existing TH1: h_passed (Potential memory leak).\n",
      "Warning in <TFile::Append>: Replacing existing TH1: h_total (Potential memory leak).\n",
      "Warning in <TFile::Append>: Replacing existing TH1: h_passed (Potential memory leak).\n",
      "Warning in <TFile::Append>: Replacing existing TH1: h_total (Potential memory leak).\n",
      "Warning in <TFile::Append>: Replacing existing TH1: h_passed (Potential memory leak).\n",
      "Warning in <TFile::Append>: Replacing existing TH1: h_total (Potential memory leak).\n",
      "Warning in <TFile::Append>: Replacing existing TH1: h_passed (Potential memory leak).\n",
      "Warning in <TFile::Append>: Replacing existing TH1: h_total (Potential memory leak).\n",
      "Warning in <TFile::Append>: Replacing existing TH1: h_passed (Potential memory leak).\n",
      "Warning in <TFile::Append>: Replacing existing TH1: h_total (Potential memory leak).\n",
      "Warning in <TFile::Append>: Replacing existing TH1: h_passed (Potential memory leak).\n",
      "Warning in <TFile::Append>: Replacing existing TH1: h_total (Potential memory leak).\n",
      "Warning in <TFile::Append>: Replacing existing TH1: h_passed (Potential memory leak).\n",
      "Warning in <TFile::Append>: Replacing existing TH1: h_total (Potential memory leak).\n",
      "Warning in <TFile::Append>: Replacing existing TH1: h_passed (Potential memory leak).\n",
      "Warning in <TFile::Append>: Replacing existing TH1: h_total (Potential memory leak).\n",
      "Warning in <TFile::Append>: Replacing existing TH1: h_passed (Potential memory leak).\n",
      "Warning in <TFile::Append>: Replacing existing TH1: h_total (Potential memory leak).\n",
      "Warning in <TFile::Append>: Replacing existing TH1: h_passed (Potential memory leak).\n",
      "Warning in <TFile::Append>: Replacing existing TH1: h_total (Potential memory leak).\n",
      "Warning in <TFile::Append>: Replacing existing TH1: h_passed (Potential memory leak).\n",
      "Warning in <TFile::Append>: Replacing existing TH1: h_total (Potential memory leak).\n",
      "Warning in <TFile::Append>: Replacing existing TH1: h_passed (Potential memory leak).\n",
      "Warning in <TFile::Append>: Replacing existing TH1: h_total (Potential memory leak).\n",
      "Warning in <TFile::Append>: Replacing existing TH1: h_passed (Potential memory leak).\n",
      "Warning in <TFile::Append>: Replacing existing TH1: h_total (Potential memory leak).\n",
      "Warning in <TFile::Append>: Replacing existing TH1: h_passed (Potential memory leak).\n",
      "Warning in <TFile::Append>: Replacing existing TH1: h_total (Potential memory leak).\n",
      "Warning in <TFile::Append>: Replacing existing TH1: h_passed (Potential memory leak).\n",
      "Warning in <TFile::Append>: Replacing existing TH1: h_total (Potential memory leak).\n",
      "Warning in <TFile::Append>: Replacing existing TH1: h_passed (Potential memory leak).\n",
      "Warning in <TFile::Append>: Replacing existing TH1: h_total (Potential memory leak).\n",
      "Warning in <TFile::Append>: Replacing existing TH1: h_passed (Potential memory leak).\n",
      "Warning in <TFile::Append>: Replacing existing TH1: h_total (Potential memory leak).\n",
      "Warning in <TFile::Append>: Replacing existing TH1: h_passed (Potential memory leak).\n",
      "Warning in <TFile::Append>: Replacing existing TH1: h_total (Potential memory leak).\n",
      "Warning in <TFile::Append>: Replacing existing TH1: h_passed (Potential memory leak).\n",
      "Warning in <TFile::Append>: Replacing existing TH1: h_total (Potential memory leak).\n",
      "Warning in <TFile::Append>: Replacing existing TH1: h_passed (Potential memory leak).\n",
      "Warning in <TFile::Append>: Replacing existing TH1: h_total (Potential memory leak).\n",
      "Warning in <TFile::Append>: Replacing existing TH1: h_passed (Potential memory leak).\n",
      "Warning in <TFile::Append>: Replacing existing TH1: h_total (Potential memory leak).\n",
      "Warning in <TFile::Append>: Replacing existing TH1: h_passed (Potential memory leak).\n",
      "Warning in <TFile::Append>: Replacing existing TH1: h_total (Potential memory leak).\n",
      "Warning in <TFile::Append>: Replacing existing TH1: h_passed (Potential memory leak).\n",
      "Warning in <TFile::Append>: Replacing existing TH1: h_total (Potential memory leak).\n",
      "Warning in <TFile::Append>: Replacing existing TH1: h_passed (Potential memory leak).\n",
      "Warning in <TFile::Append>: Replacing existing TH1: h_total (Potential memory leak).\n",
      "Warning in <TFile::Append>: Replacing existing TH1: h_passed (Potential memory leak).\n",
      "Warning in <TFile::Append>: Replacing existing TH1: h_total (Potential memory leak).\n",
      "Warning in <TFile::Append>: Replacing existing TH1: h_passed (Potential memory leak).\n",
      "Warning in <TFile::Append>: Replacing existing TH1: h_total (Potential memory leak).\n",
      "Warning in <TFile::Append>: Replacing existing TH1: h_passed (Potential memory leak).\n",
      "Warning in <TFile::Append>: Replacing existing TH1: h_total (Potential memory leak).\n",
      "Warning in <TFile::Append>: Replacing existing TH1: h_passed (Potential memory leak).\n",
      "Warning in <TFile::Append>: Replacing existing TH1: h_total (Potential memory leak).\n",
      "Warning in <TFile::Append>: Replacing existing TH1: h_passed (Potential memory leak).\n",
      "Warning in <TFile::Append>: Replacing existing TH1: h_total (Potential memory leak).\n",
      "Warning in <TFile::Append>: Replacing existing TH1: h_passed (Potential memory leak).\n",
      "Warning in <TFile::Append>: Replacing existing TH1: h_total (Potential memory leak).\n"
     ]
    }
   ],
   "source": [
    "chamber_int = 0\n",
    "sample = 'all'\n",
    "output_file = \"L1_efficiencies_2022_2023_081924_checkME1.root\"\n",
    "root_file = ROOT.TFile(output_file, \"RECREATE\")\n",
    "root_plots = []\n",
    "for chamber_idx, chamber in enumerate(chambers):\n",
    "    print(chamber)\n",
    "    bins = chamber_bins[chamber_idx]\n",
    "    num_hist, denom_hist = get_efficiency_hists(oneClusterEvents[sample], chamber, bins)\n",
    "    current_plot = dump_chamber_efficiency_plot(chamber, num_hist, denom_hist, bins)\n",
    "    current_plot.Write(chamber)\n",
    "root_file.Close()"
   ]
  },
  {
   "cell_type": "code",
   "execution_count": 61,
   "id": "51b85184",
   "metadata": {},
   "outputs": [
    {
     "ename": "NameError",
     "evalue": "name 'efficiencies' is not defined",
     "output_type": "error",
     "traceback": [
      "\u001b[0;31m---------------------------------------------------------------------------\u001b[0m",
      "\u001b[0;31mNameError\u001b[0m                                 Traceback (most recent call last)",
      "\u001b[0;32m/tmp/ipykernel_518/4121365803.py\u001b[0m in \u001b[0;36m<module>\u001b[0;34m\u001b[0m\n\u001b[0;32m----> 1\u001b[0;31m \u001b[0mefficiencies\u001b[0m\u001b[0;34m,\u001b[0m \u001b[0mxerrs\u001b[0m\u001b[0;34m,\u001b[0m \u001b[0myerrs_low\u001b[0m\u001b[0;34m,\u001b[0m \u001b[0myerrs_high\u001b[0m\u001b[0;34m\u001b[0m\u001b[0;34m\u001b[0m\u001b[0m\n\u001b[0m",
      "\u001b[0;31mNameError\u001b[0m: name 'efficiencies' is not defined"
     ]
    }
   ],
   "source": [
    "efficiencies, xerrs, yerrs_low, yerrs_high"
   ]
  },
  {
   "cell_type": "code",
   "execution_count": null,
   "id": "15a9e6e3",
   "metadata": {},
   "outputs": [],
   "source": []
  },
  {
   "cell_type": "markdown",
   "id": "4f6541d7",
   "metadata": {
    "scrolled": true
   },
   "source": [
    "### Debugging 2023C L1 Inefficiencies"
   ]
  },
  {
   "cell_type": "code",
   "execution_count": null,
   "id": "485a8c2f",
   "metadata": {},
   "outputs": [],
   "source": [
    "sample=\"2023C\"\n",
    "runNum_arr = np.array(oneClusterEvents[sample].runNum)\n",
    "unique_values, counts = np.unique(runNum_arr, return_counts=True)\n",
    "runCount_dict = {}\n",
    "for value, count in zip(unique_values, counts):\n",
    "    print(f\"{value} occurs {count} times\")\n",
    "    runCount_dict[value] = count\n",
    "runList = list(runCount_dict.keys())"
   ]
  },
  {
   "cell_type": "code",
   "execution_count": null,
   "id": "b389fcf8",
   "metadata": {},
   "outputs": [],
   "source": [
    "#break data into sections of at least 3000 events and determine ME22 efficiency\n",
    "num_ME22_events = {}\n",
    "for run in runList:\n",
    "    chamber = \"ME41\"\n",
    "    maskZ = np.logical_and(abs(ak.flatten(oneClusterEvents[sample].cscRechitClusterZ))>chamber_locations[chamber][\"minZ\"], abs(ak.flatten(oneClusterEvents[sample].cscRechitClusterZ))<chamber_locations[chamber][\"maxZ\"])\n",
    "    maskR = ak.flatten(np.logical_and((np.sqrt(oneClusterEvents[sample].cscRechitClusterX**2+oneClusterEvents[sample].cscRechitClusterY**2))>chamber_locations[chamber][\"MinR\"], (np.sqrt(oneClusterEvents[sample].cscRechitClusterX**2+oneClusterEvents[sample].cscRechitClusterY**2))<chamber_locations[chamber][\"MaxR\"]))\n",
    "    total_mask = np.logical_and(np.logical_and(np.logical_and(maskZ, maskR), ak.flatten(oneClusterEvents[sample][\"cscRechitClusterNStation10\"]==1)), oneClusterEvents[sample][\"runNum\"]==run)\n",
    "    denom = ak.mask(ak.flatten(oneClusterEvents[sample].cscRechitClusterSize), total_mask)\n",
    "    denom = denom[~ak.is_none(denom)]\n",
    "    num_ME22_events[run] =  ak.count(denom)\n",
    "num_ME22_events \n",
    "        "
   ]
  },
  {
   "cell_type": "code",
   "execution_count": null,
   "id": "f3fc859e",
   "metadata": {},
   "outputs": [],
   "source": [
    "#group runs together such that there is at least 500 L1 fires per set\n",
    "run_groupings = []\n",
    "num_events = []\n",
    "processed_runs = []\n",
    "event_thresh = 1000\n",
    "for runIdx, (run, count) in enumerate(num_ME22_events.items()):\n",
    "    event_tally = 0\n",
    "    current_grouping = []\n",
    "    if run in processed_runs: continue;\n",
    "    for runIdx2 in range(runIdx, len(runList)):\n",
    "        event_tally+=num_ME22_events[runList[runIdx2]]\n",
    "        current_grouping.append(runList[runIdx2])\n",
    "        processed_runs.append(runList[runIdx2])\n",
    "        if event_tally > event_thresh:\n",
    "            run_groupings.append(current_grouping)\n",
    "            num_events.append(event_tally)\n",
    "            break\n",
    "#run_groupings, num_events"
   ]
  },
  {
   "cell_type": "code",
   "execution_count": null,
   "id": "28c3213b",
   "metadata": {},
   "outputs": [],
   "source": [
    "len(num_events)"
   ]
  },
  {
   "cell_type": "code",
   "execution_count": null,
   "id": "2662b418",
   "metadata": {
    "scrolled": false
   },
   "outputs": [],
   "source": [
    "plt.style.use(hep.style.CMS) \n",
    "import matplotlib\n",
    "num_rows = 4\n",
    "num_cols = 7\n",
    "fig, axes = plt.subplots(num_rows, num_cols, figsize=(8 * num_cols, 8 * num_rows))\n",
    "\n",
    "#sample = \"2023D\"\n",
    "bins = bins_rechits_lowEta_lowNStation10\n",
    "\n",
    "counter = 0\n",
    "for i in range(num_rows):\n",
    "    for j in range(num_cols):\n",
    "        run_grouping = run_groupings[counter]\n",
    "        chamber = 'ME41'\n",
    "        maskZ = np.logical_and(abs(ak.flatten(oneClusterEvents[sample].cscRechitClusterZ))>chamber_locations[chamber][\"minZ\"], abs(ak.flatten(oneClusterEvents[sample].cscRechitClusterZ))<chamber_locations[chamber][\"maxZ\"])\n",
    "        maskR = ak.flatten(np.logical_and((np.sqrt(oneClusterEvents[sample].cscRechitClusterX**2+oneClusterEvents[sample].cscRechitClusterY**2))>chamber_locations[chamber][\"MinR\"], (np.sqrt(oneClusterEvents[sample].cscRechitClusterX**2+oneClusterEvents[sample].cscRechitClusterY**2))<chamber_locations[chamber][\"MaxR\"]))\n",
    "        total_mask = np.logical_and(np.logical_and(maskZ, maskR), ak.flatten(oneClusterEvents[sample][\"cscRechitClusterNStation10\"]==1))\n",
    "        total_mask = np.logical_and(total_mask, oneClusterEvents[sample][\"runNum\"]>=run_grouping[0])\n",
    "        total_mask = np.logical_and(total_mask, oneClusterEvents[sample][\"runNum\"]<=run_grouping[len(run_grouping)-1])\n",
    "        '''\n",
    "        run_masks = []\n",
    "        for run in run_grouping:\n",
    "            run_masks.append(oneClusterEvents[sample][\"runNum\"]==run)\n",
    "        run_mask = np.logical_or.reduce(run_masks)\n",
    "        '''\n",
    "        #total_mask = np.logical_and(total_mask, run_mask)\n",
    "\n",
    "        denom = ak.mask(ak.flatten(oneClusterEvents[sample].cscRechitClusterSize), total_mask)\n",
    "\n",
    "        num = ak.mask(denom, ak.mask(np.logical_or(oneClusterEvents[sample].L1_SingleMuShower_Nominal, oneClusterEvents[sample].L1_SingleMuShower_Tight),total_mask))\n",
    "        denom = denom[~ak.is_none(denom)]\n",
    "        num = num[~ak.is_none(num)]\n",
    "        counter+=1\n",
    "        axes[i,j].set_title(f\"{run_grouping[0]} - {run_grouping[len(run_grouping)-1]}\", fontsize=30)\n",
    "        axes[i,j].axvline(chamber_locations[chamber][\"HLT_thresh\"], color=\"black\", label=\"HLT Threshold\")\n",
    "        if ak.count(denom)==0: \n",
    "            axes[i][j].set_xlabel(\"Cluster Size\", fontsize=20)\n",
    "            axes[i,j].set_ylabel(\"L1 Efficiency\", fontsize=20)\n",
    "            axes[i,j].set_xlim(0,900)\n",
    "            continue\n",
    "        num_hist = hist.Hist(\"Counts\", rechits_axis, bins)\n",
    "        arr_to_fill = num\n",
    "        num_hist.fill(sample = f\"{ak.count(arr_to_fill)} entries\", cluster_size=arr_to_fill)\n",
    "\n",
    "        denom_hist = hist.Hist(\"Counts\", rechits_axis, bins)\n",
    "        arr_to_fill = denom\n",
    "        denom_hist.fill(sample = f\"{ak.count(arr_to_fill)} entries\", cluster_size=arr_to_fill)\n",
    "\n",
    "        hist.plotratio(\n",
    "                    ax=axes[i,j],\n",
    "                    num =num_hist.project(bins),\n",
    "                    denom=denom_hist.project(bins),\n",
    "                    error_opts={'marker': '.'},\n",
    "                    unc='clopper-pearson',\n",
    "                    label= \"L1 Efficiency\",\n",
    "                    clear=False\n",
    "                )\n",
    "        '''\n",
    "        hist.plotratio(\n",
    "                    ax=axes[2],\n",
    "                    num  =rechits_hist_HLTMedium.project(bins_rechits),\n",
    "                    denom=rechits_hist.project(bins_rechits),\n",
    "                    error_opts={'marker': '.'},\n",
    "                    unc='clopper-pearson',\n",
    "                    label= \"Medium\",\n",
    "                    clear=False\n",
    "                )\n",
    "\n",
    "        hist.plotratio(\n",
    "                    ax=axes[2],\n",
    "                    num  =rechits_hist_HLTTight.project(bins_rechits),\n",
    "                    denom=rechits_hist.project(bins_rechits),\n",
    "                    error_opts={'marker': '.'},\n",
    "                    unc='clopper-pearson',\n",
    "                    label= \"Tight\",\n",
    "                    clear=False\n",
    "                )\n",
    "        '''\n",
    "        axes[i,j].set_ylim(0,1)\n",
    "        axes[i,j].legend()\n",
    "        #axes[i,j].set_title(chamber, fontsize=24)\n",
    "        axes[i][j].set_xlabel(\"Cluster Size\", fontsize=20)\n",
    "        axes[i,j].set_ylabel(\"L1 Efficiency\", fontsize=20)\n",
    "fig.suptitle(\"L1 Efficiencies in ME22 for 2023C - by run #\", size=50)\n",
    "plt.tight_layout()\n",
    "plt.savefig(\"L1_2023C_ME41_Run_fix.png\")"
   ]
  },
  {
   "cell_type": "markdown",
   "id": "2b5687be",
   "metadata": {},
   "source": [
    "### Other chambers"
   ]
  },
  {
   "cell_type": "code",
   "execution_count": null,
   "id": "49d7ecfa",
   "metadata": {},
   "outputs": [],
   "source": [
    "#break data into sections of at least 3000 events and determine ME22 efficiency\n",
    "num_ME22_events = {}\n",
    "for run in runList:\n",
    "    chamber = \"ME13\"\n",
    "    maskZ = np.logical_and(abs(ak.flatten(oneClusterEvents[sample].cscRechitClusterZ))>chamber_locations[chamber][\"minZ\"], abs(ak.flatten(oneClusterEvents[sample].cscRechitClusterZ))<chamber_locations[chamber][\"maxZ\"])\n",
    "    maskR = ak.flatten(np.logical_and((np.sqrt(oneClusterEvents[sample].cscRechitClusterX**2+oneClusterEvents[sample].cscRechitClusterY**2))>chamber_locations[chamber][\"MinR\"], (np.sqrt(oneClusterEvents[sample].cscRechitClusterX**2+oneClusterEvents[sample].cscRechitClusterY**2))<chamber_locations[chamber][\"MaxR\"]))\n",
    "    total_mask = np.logical_and(np.logical_and(np.logical_and(maskZ, maskR), ak.flatten(oneClusterEvents[sample][\"cscRechitClusterNStation10\"]==1)), oneClusterEvents[sample][\"runNum\"]==run)\n",
    "    denom = ak.mask(ak.flatten(oneClusterEvents[sample].cscRechitClusterSize), total_mask)\n",
    "    denom = denom[~ak.is_none(denom)]\n",
    "    num_ME22_events[run] =  ak.count(denom)\n",
    "num_ME22_events \n",
    "        "
   ]
  },
  {
   "cell_type": "code",
   "execution_count": null,
   "id": "7042746b",
   "metadata": {},
   "outputs": [],
   "source": [
    "#group runs together such that there is at least 500 L1 fires per set\n",
    "run_groupings = []\n",
    "num_events = []\n",
    "processed_runs = []\n",
    "event_thresh = 1000\n",
    "for runIdx, (run, count) in enumerate(num_ME22_events.items()):\n",
    "    event_tally = 0\n",
    "    current_grouping = []\n",
    "    if run in processed_runs: continue;\n",
    "    for runIdx2 in range(runIdx, len(runList)):\n",
    "        event_tally+=num_ME22_events[runList[runIdx2]]\n",
    "        current_grouping.append(runList[runIdx2])\n",
    "        processed_runs.append(runList[runIdx2])\n",
    "        if event_tally > event_thresh:\n",
    "            run_groupings.append(current_grouping)\n",
    "            num_events.append(event_tally)\n",
    "            break\n",
    "#run_groupings, num_events"
   ]
  },
  {
   "cell_type": "code",
   "execution_count": null,
   "id": "adc219ae",
   "metadata": {},
   "outputs": [],
   "source": [
    "len(num_events)"
   ]
  },
  {
   "cell_type": "code",
   "execution_count": null,
   "id": "28b2c466",
   "metadata": {},
   "outputs": [],
   "source": [
    "plt.style.use(hep.style.CMS) \n",
    "import matplotlib\n",
    "num_rows = 4\n",
    "num_cols = 6\n",
    "fig, axes = plt.subplots(num_rows, num_cols, figsize=(8 * num_cols, 8 * num_rows))\n",
    "fig.suptitle(sample + \" L1 Efficiencies from HLT_IsoMuon24 Control Sample\")\n",
    "#sample = \"2023D\"\n",
    "bins = bins_rechits_lowEta_lowNStation10\n",
    "\n",
    "counter = 0\n",
    "for i in range(num_rows):\n",
    "    for j in range(num_cols):\n",
    "        run_grouping = run_groupings[counter]\n",
    "        chamber = 'ME13'\n",
    "        maskZ = np.logical_and(abs(ak.flatten(oneClusterEvents[sample].cscRechitClusterZ))>chamber_locations[chamber][\"minZ\"], abs(ak.flatten(oneClusterEvents[sample].cscRechitClusterZ))<chamber_locations[chamber][\"maxZ\"])\n",
    "        maskR = ak.flatten(np.logical_and((np.sqrt(oneClusterEvents[sample].cscRechitClusterX**2+oneClusterEvents[sample].cscRechitClusterY**2))>chamber_locations[chamber][\"MinR\"], (np.sqrt(oneClusterEvents[sample].cscRechitClusterX**2+oneClusterEvents[sample].cscRechitClusterY**2))<chamber_locations[chamber][\"MaxR\"]))\n",
    "        total_mask = np.logical_and(np.logical_and(maskZ, maskR), ak.flatten(oneClusterEvents[sample][\"cscRechitClusterNStation10\"]==1))\n",
    "        total_mask = np.logical_and(total_mask, oneClusterEvents[sample][\"runNum\"]>=run_grouping[0])\n",
    "        total_mask = np.logical_and(total_mask, oneClusterEvents[sample][\"runNum\"]<=run_grouping[len(run_grouping)-1])\n",
    "        '''\n",
    "        run_masks = []\n",
    "        for run in run_grouping:\n",
    "            run_masks.append(oneClusterEvents[sample][\"runNum\"]==run)\n",
    "        run_mask = np.logical_or.reduce(run_masks)\n",
    "        '''\n",
    "        #total_mask = np.logical_and(total_mask, run_mask)\n",
    "\n",
    "        denom = ak.mask(ak.flatten(oneClusterEvents[sample].cscRechitClusterSize), total_mask)\n",
    "\n",
    "        num = ak.mask(denom, ak.mask(np.logical_or(oneClusterEvents[sample].L1_SingleMuShower_Nominal, oneClusterEvents[sample].L1_SingleMuShower_Tight),total_mask))\n",
    "        denom = denom[~ak.is_none(denom)]\n",
    "        num = num[~ak.is_none(num)]\n",
    "        counter+=1\n",
    "        axes[i,j].set_title(f\"{run_grouping[0]} - {run_grouping[len(run_grouping)-1]}\", fontsize=24)\n",
    "        axes[i,j].axvline(chamber_locations[chamber][\"HLT_thresh\"], color=\"black\", label=\"HLT Threshold\")\n",
    "        if ak.count(denom)==0: \n",
    "            axes[i][j].set_xlabel(\"Cluster Size\", fontsize=20)\n",
    "            axes[i,j].set_ylabel(\"L1 Efficiency\", fontsize=20)\n",
    "            axes[i,j].set_xlim(0,900)\n",
    "            continue\n",
    "        num_hist = hist.Hist(\"Counts\", rechits_axis, bins)\n",
    "        arr_to_fill = num\n",
    "        num_hist.fill(sample = f\"{ak.count(arr_to_fill)} entries\", cluster_size=arr_to_fill)\n",
    "\n",
    "        denom_hist = hist.Hist(\"Counts\", rechits_axis, bins)\n",
    "        arr_to_fill = denom\n",
    "        denom_hist.fill(sample = f\"{ak.count(arr_to_fill)} entries\", cluster_size=arr_to_fill)\n",
    "\n",
    "        hist.plotratio(\n",
    "                    ax=axes[i,j],\n",
    "                    num =num_hist.project(bins),\n",
    "                    denom=denom_hist.project(bins),\n",
    "                    error_opts={'marker': '.'},\n",
    "                    unc='clopper-pearson',\n",
    "                    label= \"L1 Efficiency\",\n",
    "                    clear=False\n",
    "                )\n",
    "        '''\n",
    "        hist.plotratio(\n",
    "                    ax=axes[2],\n",
    "                    num  =rechits_hist_HLTMedium.project(bins_rechits),\n",
    "                    denom=rechits_hist.project(bins_rechits),\n",
    "                    error_opts={'marker': '.'},\n",
    "                    unc='clopper-pearson',\n",
    "                    label= \"Medium\",\n",
    "                    clear=False\n",
    "                )\n",
    "\n",
    "        hist.plotratio(\n",
    "                    ax=axes[2],\n",
    "                    num  =rechits_hist_HLTTight.project(bins_rechits),\n",
    "                    denom=rechits_hist.project(bins_rechits),\n",
    "                    error_opts={'marker': '.'},\n",
    "                    unc='clopper-pearson',\n",
    "                    label= \"Tight\",\n",
    "                    clear=False\n",
    "                )\n",
    "        '''\n",
    "        axes[i,j].legend()\n",
    "        #axes[i,j].set_title(chamber, fontsize=24)\n",
    "        axes[i][j].set_xlabel(\"Cluster Size\", fontsize=20)\n",
    "        axes[i,j].set_ylabel(\"L1 Efficiency\", fontsize=20)"
   ]
  },
  {
   "cell_type": "code",
   "execution_count": null,
   "id": "f327f3fc",
   "metadata": {},
   "outputs": [],
   "source": []
  }
 ],
 "metadata": {
  "kernelspec": {
   "display_name": "Python 3 (ipykernel)",
   "language": "python",
   "name": "python3"
  },
  "language_info": {
   "codemirror_mode": {
    "name": "ipython",
    "version": 3
   },
   "file_extension": ".py",
   "mimetype": "text/x-python",
   "name": "python",
   "nbconvert_exporter": "python",
   "pygments_lexer": "ipython3",
   "version": "3.9.12"
  }
 },
 "nbformat": 4,
 "nbformat_minor": 5
}
