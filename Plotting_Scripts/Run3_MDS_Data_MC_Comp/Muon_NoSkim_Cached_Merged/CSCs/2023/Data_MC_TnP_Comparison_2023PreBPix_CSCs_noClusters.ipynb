{
 "cells": [
  {
   "cell_type": "code",
   "execution_count": 1,
   "id": "d1a48333",
   "metadata": {},
   "outputs": [
    {
     "name": "stdout",
     "output_type": "stream",
     "text": [
      "Welcome to JupyROOT 6.28/00\n"
     ]
    }
   ],
   "source": [
    "import numpy as np\n",
    "import pandas as pd\n",
    "import uproot\n",
    "import matplotlib.pyplot as plt\n",
    "import sys\n",
    "sys.path.insert(0,\"../\")\n",
    "import mplhep as hep\n",
    "import pickle\n",
    "import glob\n",
    "import ROOT as rt\n",
    "import coffea\n",
    "import awkward as ak\n",
    "from coffea import hist, processor\n",
    "from coffea.nanoevents.methods import candidate\n",
    "from coffea.nanoevents.methods import vector\n",
    "import pandas as pd"
   ]
  },
  {
   "cell_type": "code",
   "execution_count": 2,
   "id": "7ef4aac4",
   "metadata": {},
   "outputs": [],
   "source": [
    "sys.path.append(\"/uscms/home/amalbert/nobackup/CMSSW_14_1_0_pre4/src/RazorCommon/Tools/bin\")\n",
    "import importlib\n",
    "import getMuonScaleFactor"
   ]
  },
  {
   "cell_type": "code",
   "execution_count": 3,
   "id": "accab3d9",
   "metadata": {},
   "outputs": [],
   "source": [
    "#paths\n",
    "MC_path = \"/store/group/lpclonglived/amalbert/Data_MC_Comp_TnP/results_from_cache_noSkim/MC_noClusters/MC_Summer23/DYto2Mu_MLL-50to120_Merged/DYto2Mu_MLL-50to120_Merged_18666pb_weighted.root\"\n",
    "\n",
    "data_path_list = [\"/store/group/lpclonglived/amalbert/Data_MC_Comp_TnP/results_from_cache_noSkim/Data_noClusters/2023_Merged/Muon0_Run2023B_PromptReco-v1_goodLumi.root\",\n",
    "                 \"/store/group/lpclonglived/amalbert/Data_MC_Comp_TnP/results_from_cache_noSkim/Data_noClusters/2023_Merged/Muon1_Run2023B_PromptReco-v1_goodLumi.root\",\n",
    "                 \"/store/group/lpclonglived/amalbert/Data_MC_Comp_TnP/results_from_cache_noSkim/Data_noClusters/2023_Merged/Muon0_Run2023C_PromptReco-v1_goodLumi.root\",\n",
    "                 \"/store/group/lpclonglived/amalbert/Data_MC_Comp_TnP/results_from_cache_noSkim/Data_noClusters/2023_Merged/Muon1_Run2023C_PromptReco-v1_goodLumi.root\",\n",
    "                 \"/store/group/lpclonglived/amalbert/Data_MC_Comp_TnP/results_from_cache_noSkim/Data_noClusters/2023_Merged/Muon0_Run2023C_PromptReco-v2_goodLumi.root\",\n",
    "                 \"/store/group/lpclonglived/amalbert/Data_MC_Comp_TnP/results_from_cache_noSkim/Data_noClusters/2023_Merged/Muon1_Run2023C_PromptReco-v2_goodLumi.root\",\n",
    "                 \"/store/group/lpclonglived/amalbert/Data_MC_Comp_TnP/results_from_cache_noSkim/Data_noClusters/2023_Merged/Muon0_Run2023C_PromptReco-v3_goodLumi.root\",\n",
    "                 \"/store/group/lpclonglived/amalbert/Data_MC_Comp_TnP/results_from_cache_noSkim/Data_noClusters/2023_Merged/Muon1_Run2023C_PromptReco-v3_goodLumi.root\",\n",
    "                 \"/store/group/lpclonglived/amalbert/Data_MC_Comp_TnP/results_from_cache_noSkim/Data_noClusters/2023_Merged/Muon0_Run2023C_PromptReco-v4_goodLumi.root\",\n",
    "                 \"/store/group/lpclonglived/amalbert/Data_MC_Comp_TnP/results_from_cache_noSkim/Data_noClusters/2023_Merged/Muon1_Run2023C_PromptReco-v4_goodLumi.root\"]"
   ]
  },
  {
   "cell_type": "code",
   "execution_count": 4,
   "id": "f70f9f54",
   "metadata": {},
   "outputs": [],
   "source": [
    "ak.behavior.update(candidate.behavior)\n",
    "\n",
    "def getLZDF(f,nEvents=-1,version=\"new\"): #lazy dataframe with events that have cluster matched to probe muon\n",
    "    events_raw = uproot.open(f)['MuonSystem']\n",
    "    df = coffea.processor.LazyDataFrame(events_raw,entrystop=nEvents)\n",
    "    start,stop = df._branchargs['entry_start'],df._branchargs['entry_stop']\n",
    "    events = uproot.lazy(df._tree)\n",
    "    #events = events[start:stop]\n",
    "    return events"
   ]
  },
  {
   "cell_type": "code",
   "execution_count": 5,
   "id": "0701ff06",
   "metadata": {},
   "outputs": [],
   "source": [
    "#events_data = getLZDF(data_path)\n",
    "events_MC_full = getLZDF(\"root://cmseos.fnal.gov/\"+MC_path)"
   ]
  },
  {
   "cell_type": "code",
   "execution_count": 6,
   "id": "54499ca8",
   "metadata": {},
   "outputs": [],
   "source": [
    "data_events = [getLZDF(\"root://cmseos.fnal.gov/\"+data_path) for data_path in data_path_list]"
   ]
  },
  {
   "cell_type": "code",
   "execution_count": 7,
   "id": "74e357db",
   "metadata": {},
   "outputs": [],
   "source": [
    "events_data_full = ak.concatenate(data_events, axis=0)\n",
    "\n",
    "#events_data_full = events_data_full[events_data_full.nCscRechitClusters>0]\n",
    "events_data_full = events_data_full[np.logical_and(events_data_full.ZMass>50, events_data_full.ZMass<120)]"
   ]
  },
  {
   "cell_type": "code",
   "execution_count": 62,
   "id": "92c65110",
   "metadata": {},
   "outputs": [
    {
     "name": "stdout",
     "output_type": "stream",
     "text": [
      "[[False, True], [True, True], [True, True, ... True], [True, True], [True, True]]\n",
      "[[False  True]\n",
      " [False  True]\n",
      " [ True False]\n",
      " ...\n",
      " [ True False]\n",
      " [False  True]\n",
      " [ True False]]\n"
     ]
    }
   ],
   "source": [
    "events_data_full[\"lepTag\"]\n",
    "lepTag_array = events_data_full[\"lepTag\"]\n",
    "lepTag_array = np.repeat(lepTag_array,np.array(events_data_full[\"numTag\"]), axis=0)\n",
    "arr = np.zeros(np.shape(lepTag_array)[0], dtype=bool)\n",
    "arr[::2] = 1  # Set even indices to 1\n",
    "mask = ak.all(lepTag_array, axis=1)\n",
    "print(lepTag_array)\n",
    "#print(mask)\n",
    "mask_T_F = np.logical_and(arr, mask)\n",
    "mask_F_T = np.logical_and(np.logical_not(arr), mask)\n",
    "\n",
    "#indices_T_F = np.zip()\n",
    "lepTag_array = np.array(lepTag_array)\n",
    "lepTag_array.reshape((np.array(mask_T_F).shape[0],2))\n",
    "#print(mask_T_F)\n",
    "#print(mask_F_T)\n",
    "lepTag_array[mask_T_F] = [True, False]\n",
    "lepTag_array[mask_F_T] = [False, True]\n",
    "print(lepTag_array)"
   ]
  },
  {
   "cell_type": "code",
   "execution_count": 67,
   "id": "c3fb082d",
   "metadata": {},
   "outputs": [
    {
     "data": {
      "text/plain": [
       "array([1, 1, 0, ..., 0, 1, 0])"
      ]
     },
     "execution_count": 67,
     "metadata": {},
     "output_type": "execute_result"
    }
   ],
   "source": [
    "np.where(lepTag_array==True)[1]"
   ]
  },
  {
   "cell_type": "code",
   "execution_count": 68,
   "id": "599e645d",
   "metadata": {},
   "outputs": [
    {
     "data": {
      "text/plain": [
       "array([0, 0, 1, ..., 1, 0, 1])"
      ]
     },
     "execution_count": 68,
     "metadata": {},
     "output_type": "execute_result"
    }
   ],
   "source": [
    "np.where(lepTag_array==False)[1]"
   ]
  },
  {
   "cell_type": "code",
   "execution_count": 9,
   "id": "b48b439c",
   "metadata": {},
   "outputs": [],
   "source": [
    "branch_names = [\"weight\", \"pileupWeight\", \"ZMass\", \"met\", \"metPhi\", \"Flag_all\", \"Flag_ecalBadCalibFilter\", \"jetVeto\"]"
   ]
  },
  {
   "cell_type": "code",
   "execution_count": null,
   "id": "583be95b",
   "metadata": {},
   "outputs": [],
   "source": [
    "def getBranches(LZDF, isMC=False):\n",
    "    for branch in branch_names:\n",
    "        if (not isMC) and (branch in [\"weight\", \"pileupWeight\"]):\n",
    "            continue\n",
    "        new_df = ak.with_field(new_df, np.repeat(LZDF[branch],LZDF[\"numTag\"]), branch)\n",
    "    print(\"finished event level variables\")\n",
    "    \n",
    "    lepTag_array = LZDF[\"lepTag\"]\n",
    "    lepTag_array = np.repeat(lepTag_array,np.array(LZDF[\"numTag\"]), axis=0)\n",
    "    arr = np.zeros(np.shape(lepTag_array)[0], dtype=bool)\n",
    "    arr[::2] = 1  # Set even indices to 1\n",
    "    mask = ak.all(lepTag_array, axis=1)\n",
    "    mask_T_F = np.logical_and(arr, mask)\n",
    "    mask_F_T = np.logical_and(np.logical_not(arr), mask)\n",
    "    lepTag_array = np.array(lepTag_array)\n",
    "    lepTag_array.reshape((np.array(mask_T_F).shape[0],2))\n",
    "    lepTag_array[mask_T_F] = [True, False]\n",
    "    lepTag_array[mask_F_T] = [False, True]\n",
    "    \n",
    "    row_indices = np.arange(lepTag_array.shape[0], dtype=int)\n",
    "    column_indices_probe =np.where(lepTag_array==False)[1]\n",
    "    column_indices_tag =np.where(lepTag_array==True)[1]\n",
    "    \n",
    "    \n",
    "    if isMC:\n",
    "        MC_SF_LooseID = getMuonScaleFactor.getLooseIDEffArr_preBPix(np.array(LZDF.lepPt), np.array(LZDF.lepEta))\n",
    "        MC_SF_LooseISO = getMuonScaleFactor.getLooseISOEffArr_preBPix(np.array(LZDF.lepPt), np.array(LZDF.lepEta))\n",
    "        MC_SF_TightID = getMuonScaleFactor.getTightIDEffArr_preBPix(np.array(LZDF.lepPt), np.array(LZDF.lepEta))\n",
    "        MC_SF_TightISO = getMuonScaleFactor.getTightISOEffArr_preBPix(np.array(LZDF.lepPt), np.array(LZDF.lepEta))\n",
    "        MC_SF_HLT = getMuonScaleFactor.getHLTEffArr_preBPix(np.array(LZDF.lepPt), np.array(LZDF.lepEta))\n",
    "        \n",
    "        MC_SF_LooseID = np.repeat(MC_SF_LooseID,np.array(LZDF[\"numTag\"]), axis=0)[row_indices,column_indices_probe]\n",
    "        MC_SF_LooseISO = np.repeat(np.array(MC_SF_LooseISO),np.array(LZDF[\"numTag\"]), axis=0)[row_indices,column_indices_probe]\n",
    "        MC_SF_TightID = np.repeat(MC_SF_TightID,np.array(LZDF[\"numTag\"]), axis=0)[row_indices,column_indices_tag]\n",
    "        MC_SF_TightISO = np.repeat(MC_SF_TightISO,np.array(LZDF[\"numTag\"]), axis=0)[row_indices,column_indices_tag]\n",
    "        MC_SF_HLT = np.repeat(MC_SF_HLT,np.array(LZDF[\"numTag\"]), axis=0)[row_indices,column_indices_tag]\n",
    "        \n",
    "        MC_Weight_Total = new_df[\"weight\"]*MC_SF_LooseID*MC_SF_LooseISO*MC_SF_TightID*MC_SF_TightISO*MC_SF_HLT\n",
    "        new_df = ak.with_field(new_df, MC_Weight_Total, \"weight_total\")\n",
    "    \n",
    "    print(\"at muon variables\")\n",
    "    #load pT, eta, and phi for tag and probe muons\n",
    "    probe_pT = np.repeat(np.array(LZDF[\"lepPt\"]),np.array(LZDF[\"numTag\"]), axis=0)[row_indices,column_indices_probe]\n",
    "    probe_eta = np.repeat(np.array(LZDF[\"lepEta\"]),np.array(LZDF[\"numTag\"]), axis=0)[row_indices,column_indices_probe]\n",
    "    probe_phi = np.repeat(np.array(LZDF[\"lepPhi\"]),np.array(LZDF[\"numTag\"]), axis=0)[row_indices,column_indices_probe]\n",
    "    \n",
    "    tag_pT = np.repeat(np.array(LZDF[\"lepPt\"]),np.array(LZDF[\"numTag\"]), axis=0)[row_indices,column_indices_tag]\n",
    "    tag_eta = np.repeat(np.array(LZDF[\"lepEta\"]),np.array(LZDF[\"numTag\"]), axis=0)[row_indices,column_indices_tag]\n",
    "    tag_phi = np.repeat(np.array(LZDF[\"lepPhi\"]),np.array(LZDF[\"numTag\"]), axis=0)[row_indices,column_indices_tag]\n",
    "    \n",
    "    new_df = ak.with_field(new_df, probe_pT, \"probe_pT\")\n",
    "    new_df = ak.with_field(new_df, probe_eta, \"probe_eta\")\n",
    "    new_df = ak.with_field(new_df, probe_phi, \"probe_phi\")\n",
    "    \n",
    "    new_df = ak.with_field(new_df, tag_pT, \"tag_pT\")\n",
    "    new_df = ak.with_field(new_df, tag_eta, \"tag_eta\")\n",
    "    new_df = ak.with_field(new_df, tag_phi, \"tag_phi\")\n",
    "    \n",
    "    return new_df"
   ]
  }
 ],
 "metadata": {
  "kernelspec": {
   "display_name": "Python 3 (ipykernel)",
   "language": "python",
   "name": "python3"
  },
  "language_info": {
   "codemirror_mode": {
    "name": "ipython",
    "version": 3
   },
   "file_extension": ".py",
   "mimetype": "text/x-python",
   "name": "python",
   "nbconvert_exporter": "python",
   "pygments_lexer": "ipython3",
   "version": "3.9.12"
  }
 },
 "nbformat": 4,
 "nbformat_minor": 5
}
