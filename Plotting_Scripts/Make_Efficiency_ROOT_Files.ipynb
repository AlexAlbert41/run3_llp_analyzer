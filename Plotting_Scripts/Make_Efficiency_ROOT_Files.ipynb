{
 "cells": [
  {
   "cell_type": "code",
   "execution_count": 1,
   "id": "e13ffe43",
   "metadata": {},
   "outputs": [
    {
     "name": "stderr",
     "output_type": "stream",
     "text": [
      "Warning in <TInterpreter::ReadRootmapFile>: class  HepMC::FourVector found in libSimDataFormatsGeneratorProducts.so  is already in libHepMC3rootIO.so \n"
     ]
    },
    {
     "name": "stdout",
     "output_type": "stream",
     "text": [
      "Welcome to JupyROOT 6.28/00\n"
     ]
    },
    {
     "name": "stderr",
     "output_type": "stream",
     "text": [
      "/cvmfs/sft.cern.ch/lcg/views/LCG_103/x86_64-centos7-gcc11-opt/lib/python3.9/site-packages/numpy/core/getlimits.py:499: UserWarning: The value of the smallest subnormal for <class 'numpy.float64'> type is zero.\n",
      "  setattr(self, word, getattr(machar, word).flat[0])\n",
      "/cvmfs/sft.cern.ch/lcg/views/LCG_103/x86_64-centos7-gcc11-opt/lib/python3.9/site-packages/numpy/core/getlimits.py:89: UserWarning: The value of the smallest subnormal for <class 'numpy.float64'> type is zero.\n",
      "  return self._float_to_str(self.smallest_subnormal)\n",
      "/cvmfs/sft.cern.ch/lcg/views/LCG_103/x86_64-centos7-gcc11-opt/lib/python3.9/site-packages/numpy/core/getlimits.py:499: UserWarning: The value of the smallest subnormal for <class 'numpy.float32'> type is zero.\n",
      "  setattr(self, word, getattr(machar, word).flat[0])\n",
      "/cvmfs/sft.cern.ch/lcg/views/LCG_103/x86_64-centos7-gcc11-opt/lib/python3.9/site-packages/numpy/core/getlimits.py:89: UserWarning: The value of the smallest subnormal for <class 'numpy.float32'> type is zero.\n",
      "  return self._float_to_str(self.smallest_subnormal)\n"
     ]
    }
   ],
   "source": [
    "import numpy as np\n",
    "import pandas as pd\n",
    "import uproot\n",
    "import matplotlib.pyplot as plt\n",
    "import sys\n",
    "sys.path.insert(0,\"../\")\n",
    "import mplhep as hep\n",
    "import pickle\n",
    "import glob\n",
    "import ROOT\n",
    "import coffea\n",
    "import awkward as ak\n",
    "from coffea import hist, processor\n",
    "from coffea.nanoevents.methods import candidate\n",
    "from coffea.nanoevents.methods import vector\n"
   ]
  },
  {
   "cell_type": "code",
   "execution_count": 2,
   "id": "75960267",
   "metadata": {},
   "outputs": [],
   "source": [
    "eras = [\"all\", \"2022\", \"2023\"]"
   ]
  },
  {
   "cell_type": "code",
   "execution_count": 3,
   "id": "f659a4a7",
   "metadata": {},
   "outputs": [],
   "source": [
    "ak.behavior.update(candidate.behavior)\n",
    "\n",
    "def getLZDF(f,nEvents=-1,version=\"new\"): #lazy dataframe with events that have cluster matched to probe muon\n",
    "    events_raw = uproot.open(f)['MuonSystem']\n",
    "    df = coffea.processor.LazyDataFrame(events_raw,entrystop=nEvents)\n",
    "    start,stop = df._branchargs['entry_start'],df._branchargs['entry_stop']\n",
    "    events = uproot.lazy(df._tree)\n",
    "    events = events[start:stop]\n",
    "    return events"
   ]
  },
  {
   "cell_type": "code",
   "execution_count": 4,
   "id": "5ad2ff44",
   "metadata": {},
   "outputs": [],
   "source": [
    "paths = {\n",
    "\"path_Run2022E\": \"/eos/uscms/store/group/lpclonglived/amalbert/HMT_L1_Eff_Output/Run2022E_TrigEff.root\",\n",
    "\"path_Run2022F\": \"/eos/uscms/store/group/lpclonglived/amalbert/HMT_L1_Eff_Output/Run2022F_TrigEff.root\",\n",
    "\"path_Run2022G\": \"/eos/uscms/store/group/lpclonglived/amalbert/HMT_L1_Eff_Output/Run2022G_TrigEff.root\",\n",
    "\"path_Run2023B\": \"/eos/uscms/store/group/lpclonglived/amalbert/HMT_L1_Eff_Output/Run2023B_Muon0_Muon1_TrigEff.root\",\n",
    "\"path_Run2023C_Muon0_v1\": \"/eos/uscms/store/group/lpclonglived/amalbert/HMT_L1_Eff_Output/TrigEffOutput_Run2023C_Muon0_v1.root\",\n",
    "\"path_Run2023C_Muon0_v2\": \"/eos/uscms/store/group/lpclonglived/amalbert/HMT_L1_Eff_Output/TrigEffOutput_Run2023C_Muon0_v2.root\",\n",
    "\"path_Run2023C_Muon0_v3\": \"/eos/uscms/store/group/lpclonglived/amalbert/HMT_L1_Eff_Output/TrigEffOutput_Run2023C_Muon0_v3.root\",\n",
    "\"path_Run2023C_Muon0_v4\": \"/eos/uscms/store/group/lpclonglived/amalbert/HMT_L1_Eff_Output/TrigEffOutput_Run2023C_Muon0_v4.root\",\n",
    "\"path_Run2023C_Muon1_v1\": \"/eos/uscms/store/group/lpclonglived/amalbert/HMT_L1_Eff_Output/TrigEffOutput_Run2023C_Muon1_v1.root\",\n",
    "\"path_Run2023C_Muon1_v2\": \"/eos/uscms/store/group/lpclonglived/amalbert/HMT_L1_Eff_Output/TrigEffOutput_Run2023C_Muon1_v2.root\",\n",
    "\"path_Run2023C_Muon1_v3\": \"/eos/uscms/store/group/lpclonglived/amalbert/HMT_L1_Eff_Output/TrigEffOutput_Run2023C_Muon1_v3.root\",\n",
    "\"path_Run2023C_Muon1_v4\": \"/eos/uscms/store/group/lpclonglived/amalbert/HMT_L1_Eff_Output/TrigEffOutput_Run2023C_Muon1_v4.root\",\n",
    "\"path_Run2023D_Muon0_v1\": \"/eos/uscms/store/group/lpclonglived/amalbert/HMT_L1_Eff_Output/TrigEffOutput_Run2023D_Muon0_v1.root\",\n",
    "\"path_Run2023D_Muon0_v2\": \"/eos/uscms/store/group/lpclonglived/amalbert/HMT_L1_Eff_Output/TrigEffOutput_Run2023D_Muon0_v2.root\",\n",
    "\"path_Run2023D_Muon1_v1\": \"/eos/uscms/store/group/lpclonglived/amalbert/HMT_L1_Eff_Output/TrigEffOutput_Run2023D_Muon1_v1.root\",\n",
    "\"path_Run2023D_Muon1_v2\": \"/eos/uscms/store/group/lpclonglived/amalbert/HMT_L1_Eff_Output/TrigEffOutput_Run2023D_Muon1_v2.root\"\n",
    "}"
   ]
  },
  {
   "cell_type": "code",
   "execution_count": 5,
   "id": "e0a6ba53",
   "metadata": {},
   "outputs": [],
   "source": [
    "LZDFs = {}\n",
    "for key, value in paths.items():\n",
    "    LZDFs[key[5:]] = getLZDF(value)\n",
    "LZDFs[\"Run2022E\"] = LZDFs[\"Run2022E\"][LZDFs[\"Run2022E\"][\"runNum\"]>=360019]\n",
    "\n",
    "events_2022 = ak.concatenate([LZDFs[\"Run2022E\"], LZDFs[\"Run2022F\"], LZDFs[\"Run2022G\"]])\n",
    "events_2023 = ak.concatenate([LZDFs[\"Run2023B\"], LZDFs[\"Run2023C_Muon0_v1\"], LZDFs[\"Run2023C_Muon0_v2\"], LZDFs[\"Run2023C_Muon0_v3\"], LZDFs[\"Run2023C_Muon0_v4\"],\n",
    "                             LZDFs[\"Run2023C_Muon1_v1\"], LZDFs[\"Run2023C_Muon1_v2\"], LZDFs[\"Run2023C_Muon1_v3\"], LZDFs[\"Run2023C_Muon1_v4\"],\n",
    "                             LZDFs[\"Run2023D_Muon0_v1\"], LZDFs[\"Run2023D_Muon0_v2\"], LZDFs[\"Run2023D_Muon1_v1\"], LZDFs[\"Run2023D_Muon1_v2\"]])\n",
    "events_all = ak.concatenate([events_2022, events_2023])\n"
   ]
  },
  {
   "cell_type": "code",
   "execution_count": 15,
   "id": "6fdf2c9a",
   "metadata": {},
   "outputs": [],
   "source": [
    "oneClusterEvents = {\n",
    "    \"all\": events_all[events_all[\"nCscRechitClusters\"]==1],\n",
    "    \"2022\": events_2022[events_2022[\"nCscRechitClusters\"]==1],\n",
    "    \"2023\": events_2023[events_2023[\"nCscRechitClusters\"]==1],\n",
    "}\n",
    "\n",
    "moreClusterEvents= {\n",
    "    \"all\": events_all[events_all[\"nCscRechitClusters\"]>1],\n",
    "    \"2022\": events_2022[events_2022[\"nCscRechitClusters\"]>1],\n",
    "    \"2023\": events_2023[events_2023[\"nCscRechitClusters\"]>1],\n",
    "}"
   ]
  },
  {
   "cell_type": "code",
   "execution_count": 22,
   "id": "c2b2955b",
   "metadata": {},
   "outputs": [],
   "source": [
    "chamber_locations = {\n",
    "    \"ME11\": {\"MinR\": 100, \"MaxR\": 275, \"minZ\": 580, \"maxZ\": 632, \"HLT_thresh\": 500, \"branch_names\": [\"cscRechitClusterNRechitChamberMinus11\", \"cscRechitClusterNRechitChamberPlus11\"]},\n",
    "    \"ME12\": {\"MinR\": 275, \"MaxR\": 465, \"minZ\": 668, \"maxZ\": 725, \"HLT_thresh\": 200, \"branch_names\": [\"cscRechitClusterNRechitChamberMinus12\", \"cscRechitClusterNRechitChamberPlus12\"]},\n",
    "    \"ME13\": {\"MinR\": 505, \"MaxR\": 700, \"minZ\": 668, \"maxZ\": 724, \"HLT_thresh\": 200, \"branch_names\": [\"cscRechitClusterNRechitChamberMinus13\", \"cscRechitClusterNRechitChamberPlus13\"]},\n",
    "    \"ME21\": {\"MinR\": 139, \"MaxR\": 345, \"minZ\": 789, \"maxZ\": 850, \"HLT_thresh\": 500, \"branch_names\": [\"cscRechitClusterNRechitChamberMinus21\", \"cscRechitClusterNRechitChamberPlus21\"]},\n",
    "    \"ME22\": {\"MinR\": 357, \"MaxR\": 700, \"minZ\": 791, \"maxZ\": 850, \"HLT_thresh\": 200, \"branch_names\": [\"cscRechitClusterNRechitChamberMinus22\", \"cscRechitClusterNRechitChamberPlus22\"]},\n",
    "    \"ME31\": {\"MinR\": 160, \"MaxR\": 345, \"minZ\": 915, \"maxZ\": 970, \"HLT_thresh\": 500, \"branch_names\": [\"cscRechitClusterNRechitChamberMinus31\", \"cscRechitClusterNRechitChamberPlus31\"]},\n",
    "    \"ME32\": {\"MinR\": 357, \"MaxR\": 700, \"minZ\": 911, \"maxZ\": 970, \"HLT_thresh\": 200, \"branch_names\": [\"cscRechitClusterNRechitChamberMinus32\", \"cscRechitClusterNRechitChamberPlus32\"]},\n",
    "    \"ME41\": {\"MinR\": 178, \"MaxR\": 345, \"minZ\": 1002, \"maxZ\": 1063, \"HLT_thresh\": 500, \"branch_names\": [\"cscRechitClusterNRechitChamberMinus41\", \"cscRechitClusterNRechitChamberPlus41\"]},\n",
    "    \"ME42\": {\"MinR\": 357, \"MaxR\": 700, \"minZ\": 1002, \"maxZ\": 1063, \"HLT_thresh\": 200, \"branch_names\": [\"cscRechitClusterNRechitChamberMinus42\", \"cscRechitClusterNRechitChamberPlus42\"]}\n",
    "}"
   ]
  },
  {
   "cell_type": "code",
   "execution_count": 24,
   "id": "e4fc3d1d",
   "metadata": {},
   "outputs": [],
   "source": [
    "nRechits_branches = [\"cscRechitClusterNRechitChamberMinus11\", \"cscRechitClusterNRechitChamberPlus11\", \"cscRechitClusterNRechitChamberMinus12\", \"cscRechitClusterNRechitChamberPlus12\",\n",
    "                    \"cscRechitClusterNRechitChamberMinus13\", \"cscRechitClusterNRechitChamberPlus13\", \"cscRechitClusterNRechitChamberMinus21\", \"cscRechitClusterNRechitChamberPlus21\",\n",
    "                    \"cscRechitClusterNRechitChamberMinus22\", \"cscRechitClusterNRechitChamberPlus22\", \"cscRechitClusterNRechitChamberMinus31\", \"cscRechitClusterNRechitChamberPlus31\",\n",
    "                    \"cscRechitClusterNRechitChamberMinus32\", \"cscRechitClusterNRechitChamberPlus32\", \"cscRechitClusterNRechitChamberMinus41\", \"cscRechitClusterNRechitChamberPlus41\",\n",
    "                    \"cscRechitClusterNRechitChamberMinus42\", \"cscRechitClusterNRechitChamberPlus42\"]"
   ]
  },
  {
   "cell_type": "code",
   "execution_count": 6,
   "id": "0990180d",
   "metadata": {},
   "outputs": [],
   "source": [
    "all_data = {\"all\": events_all, \"2022\": events_2022, \"2023\": events_2023}"
   ]
  },
  {
   "cell_type": "code",
   "execution_count": 14,
   "id": "c4248aac",
   "metadata": {},
   "outputs": [],
   "source": [
    "chambers = [\"ME11\", \"ME12\", \"ME13\", \"ME21\", \"ME22\", \"ME31\", \"ME32\", \"ME41\", \"ME42\"]\n",
    "\n",
    "chamber_bins = [hist.Bin(\"cluster_size\", \"Cluster Size\", np.concatenate([np.arange(0, 200, 20), np.arange(200, 1000, 100)])), \n",
    "                hist.Bin(\"cluster_size\", \"Cluster Size\", np.concatenate([np.arange(0, 200, 20), np.arange(200, 1000, 100)])), \n",
    "                hist.Bin(\"cluster_size\", \"Cluster Size\", np.concatenate([np.arange(0, 200, 20), np.arange(200, 1000, 100)])), \n",
    "                hist.Bin(\"cluster_size\", \"Cluster Size\", np.concatenate([np.arange(0, 500, 100), np.arange(500, 1000, 400)])), \n",
    "                hist.Bin(\"cluster_size\", \"Cluster Size\", np.concatenate([np.arange(0, 200, 50), np.arange(200, 1000, 100)])), \n",
    "                hist.Bin(\"cluster_size\", \"Cluster Size\", np.concatenate([np.arange(0, 500, 100), np.arange(500, 1000, 400)])), \n",
    "                hist.Bin(\"cluster_size\", \"Cluster Size\", np.concatenate([np.arange(0, 200, 50), np.arange(200, 1000, 100)])), \n",
    "                hist.Bin(\"cluster_size\", \"Cluster Size\", np.concatenate([np.arange(0, 500, 100), np.arange(500, 1000, 400)])), \n",
    "                hist.Bin(\"cluster_size\", \"Cluster Size\", np.concatenate([np.arange(0, 200, 50), np.arange(200, 1000, 100)]))]"
   ]
  },
  {
   "cell_type": "code",
   "execution_count": 16,
   "id": "2017a1c8",
   "metadata": {},
   "outputs": [],
   "source": [
    "def noisy_cluster_events(data):\n",
    "    #return (np.abs(ak.flatten(data.cscRechitClusterPhi))<0.2) & (ak.flatten(data.cscRechitClusterEta < -2)) & (ak.flatten(data.cscRechitClusterZ < -900)) & (data.runNum >367079)\n",
    "    #return (np.abs(ak.flatten(data.cscRechitClusterPhi))>3) & (ak.flatten(data.cscRechitClusterEta < -1.9))\n",
    "    return ((ak.flatten(data.cscRechitClusterPhi)>0.4) & (ak.flatten(data.cscRechitClusterPhi)<0.8)) | abs((ak.flatten(data.cscRechitClusterPhi)>2.8))"
   ]
  },
  {
   "cell_type": "code",
   "execution_count": 34,
   "id": "697ed8f2",
   "metadata": {},
   "outputs": [],
   "source": [
    "#code to mask for clusters for which majority of events are in designated chamber\n",
    "#require greater than 90% of hits to be in given chamber as well\n",
    "def compute_chamber_mask(data, chamber, chamber_int, threshold, endcap=None):\n",
    "    nRechits_byChamber = {}\n",
    "    final_masks = []\n",
    "    for x in range(2):\n",
    "        correct_chamber_branch = chamber_locations[chamber][\"branch_names\"][x]\n",
    "        incorrect_chamber_branches = []\n",
    "        for chamber_branch in nRechits_branches:\n",
    "            if chamber_branch != correct_chamber_branch:\n",
    "                incorrect_chamber_branches.append(chamber_branch)         \n",
    "        mask = ak.flatten(data[correct_chamber_branch])>ak.flatten(data[incorrect_chamber_branches[0]])\n",
    "        for idx in range(1, len(incorrect_chamber_branches)):\n",
    "            mask = np.logical_and(mask, ak.flatten(data[correct_chamber_branch])>ak.flatten(data[incorrect_chamber_branches[idx]]))\n",
    "        mask = np.logical_and(mask, (ak.flatten(data[correct_chamber_branch])/ak.flatten(data[\"cscRechitClusterSize\"])>=threshold))\n",
    "        mask = np.logical_and(mask, ak.flatten(data[\"cscRechitClusterNStation10\"])==1)\n",
    "        #code to mask out negative endcap clusters in problematic region\n",
    "        if x==0 and (chamber==\"ME31\" or chamber==\"ME41\"):\n",
    "            mask = np.logical_and(mask, np.logical_not(noisy_cluster_events(data)))\n",
    "        #print(ak.count_nonzero(mask))\n",
    "        final_masks.append(mask)\n",
    "    if endcap==None:\n",
    "        return np.logical_or(final_masks[0], final_masks[1])\n",
    "    else:\n",
    "        return final_masks[endcap]"
   ]
  },
  {
   "cell_type": "code",
   "execution_count": 35,
   "id": "ef56862c",
   "metadata": {},
   "outputs": [],
   "source": [
    "def get_efficiency_hists_ROOT(data, chamber, bins, endcap=None):\n",
    "    total_mask = compute_chamber_mask(data, chamber, chamber_int, 0.9, endcap)\n",
    "    \n",
    "    #COMMENT OUT WHEN NOT DOING NOISE MASK INVERSION\n",
    "    #total_mask = np.logical_and(total_mask, noisy_cluster_events(data))\n",
    "    \n",
    "    denom = ak.mask(ak.flatten(data.cscRechitClusterSize), total_mask)\n",
    "    num = ak.mask(denom, ak.mask(np.logical_or(data.L1_SingleMuShower_Nominal, data.L1_SingleMuShower_Tight),total_mask))\n",
    "    denom = denom[~ak.is_none(denom)]\n",
    "    num = num[~ak.is_none(num)]\n",
    "    \n",
    "    denom = ak.to_numpy(denom)\n",
    "    num = ak.to_numpy(num)\n",
    "    \n",
    "    print(len(num))\n",
    "    print(len(denom))\n",
    "    inner_bins = np.concatenate([np.arange(0, 500, 100), np.arange(500, 1000, 400)])\n",
    "    outer_bins = np.concatenate([np.arange(0, 200, 50), np.arange(200, 1000, 100)])\n",
    "    \n",
    "    \n",
    "    if chamber[-1:]=='1':\n",
    "        bins = inner_bins\n",
    "    else:\n",
    "        bins = outer_bins\n",
    "        \n",
    "    bins_arr = [binEdge for binEdge in bins]\n",
    "    \n",
    "    num_hist = ROOT.TH1F(\"num\", \"num\", len(bins_arr)-1, array('f', bins_arr))\n",
    "    denom_hist = ROOT.TH1F(\"denom\", \"denom\", len(bins_arr)-1, array('f', bins_arr))\n",
    "    \n",
    "    for val in num:\n",
    "        num_hist.Fill(val)\n",
    "    for val in denom:\n",
    "        denom_hist.Fill(val)\n",
    "\n",
    "    return num_hist, denom_hist"
   ]
  },
  {
   "cell_type": "code",
   "execution_count": 36,
   "id": "04bd4aa4",
   "metadata": {},
   "outputs": [
    {
     "name": "stdout",
     "output_type": "stream",
     "text": [
      "ME13\n",
      "172181\n",
      "175453\n",
      "ME21\n",
      "1568\n",
      "893665\n",
      "ME22\n",
      "100439\n",
      "223063\n",
      "ME31\n",
      "817\n",
      "184756\n",
      "ME32\n",
      "25683\n",
      "58229\n",
      "ME41\n",
      "668\n",
      "259707\n",
      "ME42\n",
      "3474\n",
      "54891\n",
      "1849764.0\n"
     ]
    },
    {
     "name": "stderr",
     "output_type": "stream",
     "text": [
      "Warning in <TFile::Append>: Replacing existing TH1: num (Potential memory leak).\n",
      "Warning in <TFile::Append>: Replacing existing TH1: denom (Potential memory leak).\n",
      "Warning in <TFile::Append>: Replacing existing TH1: num (Potential memory leak).\n",
      "Warning in <TFile::Append>: Replacing existing TH1: denom (Potential memory leak).\n",
      "Warning in <TFile::Append>: Replacing existing TH1: num (Potential memory leak).\n",
      "Warning in <TFile::Append>: Replacing existing TH1: denom (Potential memory leak).\n",
      "Warning in <TFile::Append>: Replacing existing TH1: num (Potential memory leak).\n",
      "Warning in <TFile::Append>: Replacing existing TH1: denom (Potential memory leak).\n",
      "Warning in <TFile::Append>: Replacing existing TH1: num (Potential memory leak).\n",
      "Warning in <TFile::Append>: Replacing existing TH1: denom (Potential memory leak).\n",
      "Warning in <TFile::Append>: Replacing existing TH1: num (Potential memory leak).\n",
      "Warning in <TFile::Append>: Replacing existing TH1: denom (Potential memory leak).\n"
     ]
    }
   ],
   "source": [
    "from array import array\n",
    "chamber_int = 0\n",
    "sample = 'all'\n",
    "output_file = \"L1_efficiencies_2022_2023_022725-Hists-TEff-NStation10Test.root\"\n",
    "root_file = ROOT.TFile(output_file, \"RECREATE\")\n",
    "root_plots = []\n",
    "denom_counts=0\n",
    "for chamber_idx, chamber in enumerate(chambers):\n",
    "    if chamber in [\"ME11\", \"ME12\"]:\n",
    "        continue\n",
    "    print(chamber)\n",
    "    bins = chamber_bins[chamber_idx]\n",
    "    num_hist, denom_hist = get_efficiency_hists_ROOT(oneClusterEvents[sample], chamber, bins)\n",
    "    #print(type(num_hist))\n",
    "    denom_counts+=denom_hist.GetEntries()\n",
    "    num_hist.Write(f\"{chamber}_num\")\n",
    "    denom_hist.Write(f\"{chamber}_denom\")\n",
    "    eff = ROOT.TEfficiency(num_hist, denom_hist)\n",
    "    eff.SetStatisticOption(ROOT.TEfficiency.kFCP) \n",
    "    \n",
    "    #current_plot = dump_chamber_efficiency_plot(chamber, num_hist, denom_hist, bins)\n",
    "    eff.SetTitle(f\"{chamber};Cluster Size;L1 Efficiency\")\n",
    "    eff.Write(chamber)\n",
    "    \n",
    "root_file.Close()\n",
    "print(denom_counts)"
   ]
  },
  {
   "cell_type": "code",
   "execution_count": null,
   "id": "34aa33bb",
   "metadata": {},
   "outputs": [],
   "source": []
  }
 ],
 "metadata": {
  "kernelspec": {
   "display_name": "Python 3 (ipykernel)",
   "language": "python",
   "name": "python3"
  },
  "language_info": {
   "codemirror_mode": {
    "name": "ipython",
    "version": 3
   },
   "file_extension": ".py",
   "mimetype": "text/x-python",
   "name": "python",
   "nbconvert_exporter": "python",
   "pygments_lexer": "ipython3",
   "version": "3.9.12"
  }
 },
 "nbformat": 4,
 "nbformat_minor": 5
}
