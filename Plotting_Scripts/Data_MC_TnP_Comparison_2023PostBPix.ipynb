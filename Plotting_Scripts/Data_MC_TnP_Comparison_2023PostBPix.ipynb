{
 "cells": [
  {
   "cell_type": "markdown",
   "id": "fd23fcbe",
   "metadata": {},
   "source": [
    "## Data/MC Comparison for Brem-Induced Clusters\n",
    "\n",
    "#### Comparison of Clusters in Data vs MC. This is to validate the signal reconstruction process. We compare cluster from Z->MuMu events in Data vs those from a DY->ZMuMu (50-120 GeV for MLL). Data is from 2023D, and MC is from the postBPix, normalized to the appropriate value with an initial DBSCAN skim applied"
   ]
  },
  {
   "cell_type": "code",
   "execution_count": 1,
   "id": "15ea2e80",
   "metadata": {},
   "outputs": [
    {
     "name": "stdout",
     "output_type": "stream",
     "text": [
      "Welcome to JupyROOT 6.28/00\n"
     ]
    }
   ],
   "source": [
    "import numpy as np\n",
    "import pandas as pd\n",
    "import uproot\n",
    "import matplotlib.pyplot as plt\n",
    "import sys\n",
    "sys.path.insert(0,\"../\")\n",
    "import mplhep as hep\n",
    "import pickle\n",
    "import glob\n",
    "import ROOT as rt\n",
    "import coffea\n",
    "import awkward as ak\n",
    "from coffea import hist, processor\n",
    "from coffea.nanoevents.methods import candidate\n",
    "from coffea.nanoevents.methods import vector\n"
   ]
  },
  {
   "cell_type": "code",
   "execution_count": 2,
   "id": "3c600602",
   "metadata": {},
   "outputs": [],
   "source": [
    "sys.path.append(\"/uscms/home/amalbert/nobackup/CMSSW_14_1_0_pre4/src/RazorCommon/Tools/bin\")\n",
    "import importlib\n",
    "import getMuonScaleFactor"
   ]
  },
  {
   "cell_type": "code",
   "execution_count": 3,
   "id": "626273c8",
   "metadata": {},
   "outputs": [],
   "source": [
    "#paths\n",
    "#data_path = \"/eos/uscms/store/group/lpclonglived/amalbert/Data_MC_Comp_TnP/Run2023B_skim_TnPOutput_MuonFilters_goodLumi.root\"\n",
    "#MC_path = \"/uscms/home/amalbert/nobackup/CMSSW_10_6_20/src/run3_llp_analyzer/MCSummer23_DY50to120_postBPix_TnP_Output_DNNVariables_forDNN_617pb_weighted.root\"\n",
    "MC_path = \"/eos/uscms/store/group/lpclonglived/amalbert/Data_MC_Comp_TnP/MC_Summer23_postBPix/CSC_Comparison/MCSummer23BPix_DYMLL50-120_TnPOutput_updateTagPt_9451pb_weighted.root\"\n",
    "#data_path = \"/eos/uscms/store/group/lpclonglived/amalbert/Data_MC_Comp_TnP/MCSummer23_DY50to120_postBPix_newestTnP_Output_617pb_weighted.root\"\n",
    "data_path= \"/eos/uscms/store/group/lpclonglived/amalbert/Data_MC_Comp_TnP/Data_2023_postBPix/CSC_Comparison/TnP_Ouput_postBPix_updateTagPt_goodLumi.root\""
   ]
  },
  {
   "cell_type": "code",
   "execution_count": 4,
   "id": "30b8fdb2",
   "metadata": {},
   "outputs": [],
   "source": [
    "data_TFile = rt.TFile(data_path)\n",
    "MC_TFile = rt.TFile(MC_path)\n",
    "\n",
    "data_tree = data_TFile.Get(\"MuonSystem\")\n",
    "MC_tree = MC_TFile.Get(\"MuonSystem\")"
   ]
  },
  {
   "cell_type": "code",
   "execution_count": 5,
   "id": "4c8ef673",
   "metadata": {},
   "outputs": [],
   "source": [
    "ak.behavior.update(candidate.behavior)\n",
    "\n",
    "def getLZDF(f,nEvents=-1,version=\"new\"): #lazy dataframe with events that have cluster matched to probe muon\n",
    "    events_raw = uproot.open(f)['MuonSystem']\n",
    "    df = coffea.processor.LazyDataFrame(events_raw,entrystop=nEvents)\n",
    "    start,stop = df._branchargs['entry_start'],df._branchargs['entry_stop']\n",
    "    events = uproot.lazy(df._tree)\n",
    "    #events = events[start:stop]\n",
    "    return events"
   ]
  },
  {
   "cell_type": "code",
   "execution_count": 6,
   "id": "42ba9050",
   "metadata": {},
   "outputs": [],
   "source": [
    "events_data = getLZDF(data_path)\n",
    "events_MC = getLZDF(MC_path)"
   ]
  },
  {
   "cell_type": "code",
   "execution_count": 7,
   "id": "b682cddf",
   "metadata": {},
   "outputs": [
    {
     "data": {
      "text/plain": [
       "['runNum',\n",
       " 'MC_condition',\n",
       " 'lumiSec',\n",
       " 'evtNum',\n",
       " 'mH',\n",
       " 'mX',\n",
       " 'ctau',\n",
       " 'category',\n",
       " 'npv',\n",
       " 'npu',\n",
       " 'weight',\n",
       " 'lepOverallSF',\n",
       " 'pileupWeight',\n",
       " 'pileupWeightUp',\n",
       " 'pileupWeightDown',\n",
       " 'numProbeMuons',\n",
       " 'numTag',\n",
       " 'Flag_HBHENoiseFilter',\n",
       " 'Flag_BadPFMuonFilter',\n",
       " 'Flag_BadPFMuonDzFilter',\n",
       " 'Flag_HBHEIsoNoiseFilter',\n",
       " 'Flag_CSCTightHaloFilter',\n",
       " 'Flag_globalSuperTightHalo2016Filter',\n",
       " 'Flag_goodVertices',\n",
       " 'Flag_ecalBadCalibFilter',\n",
       " 'Flag_BadChargedCandidateFilter',\n",
       " 'Flag_eeBadScFilter',\n",
       " 'Flag_hfNoisyHitsFilter',\n",
       " 'Flag_all',\n",
       " 'Flag2_HBHENoiseFilter',\n",
       " 'Flag2_HBHEIsoNoiseFilter',\n",
       " 'Flag2_BadPFMuonFilter',\n",
       " 'Flag2_globalSuperTightHalo2016Filter',\n",
       " 'Flag2_globalTightHalo2016Filter',\n",
       " 'Flag2_BadChargedCandidateFilter',\n",
       " 'Flag2_EcalDeadCellTriggerPrimitiveFilter',\n",
       " 'Flag2_ecalBadCalibFilter',\n",
       " 'Flag2_eeBadScFilter',\n",
       " 'Flag2_all',\n",
       " 'rho',\n",
       " 'met',\n",
       " 'metPhi',\n",
       " 'gHiggsPt',\n",
       " 'gHiggsE',\n",
       " 'gHiggsEta',\n",
       " 'gHiggsPhi',\n",
       " 'nCscRings',\n",
       " 'nDtRings',\n",
       " 'nCscRechitClusters',\n",
       " 'cscRechitCluster_match_gLLP',\n",
       " 'cscRechitCluster_match_gLLP_minDeltaR',\n",
       " 'cscRechitCluster_match_gLLP_index',\n",
       " 'cscRechitCluster_match_gLLP_eta',\n",
       " 'cscRechitCluster_match_gLLP_phi',\n",
       " 'cscRechitCluster_match_gLLP_decay_r',\n",
       " 'cscRechitCluster_match_gLLP_decay_z',\n",
       " 'cscRechitCluster_match_gLLP_csc',\n",
       " 'cscRechitCluster_match_gLLP_dt',\n",
       " 'cscRechitCluster_match_gLLP_e',\n",
       " 'cscRechitClusterX',\n",
       " 'cscRechitClusterY',\n",
       " 'cscRechitClusterZ',\n",
       " 'cscRechitClusterTimeWeighted',\n",
       " 'cscRechitClusternXY',\n",
       " 'cscRechitClusternZ',\n",
       " 'cscRechitClusterXSpread',\n",
       " 'cscRechitClusterYSpread',\n",
       " 'cscRechitClusterZSpread',\n",
       " 'cscRechitClusterXYSpread',\n",
       " 'cscRechitClusterRSpread',\n",
       " 'cscRechitClusterEtaPhiSpread',\n",
       " 'cscRechitClusterEtaSpread',\n",
       " 'cscRechitClusterPhiSpread',\n",
       " 'cscRechitClusterDeltaRSpread',\n",
       " 'cscRechitClusterMajorAxis',\n",
       " 'cscRechitClusterMinorAxis',\n",
       " 'cscRechitClusterSkewX',\n",
       " 'cscRechitClusterSkewY',\n",
       " 'cscRechitClusterSkewZ',\n",
       " 'cscRechitClusterKurtX',\n",
       " 'cscRechitClusterKurtY',\n",
       " 'cscRechitClusterKurtZ',\n",
       " 'cscRechitClusterTimeSpreadWeightedAll',\n",
       " 'cscRechitClusterTime',\n",
       " 'cscRechitClusterTimeSpread',\n",
       " 'cscRechitClusterPhi',\n",
       " 'cscRechitClusterEta',\n",
       " 'cscRechitClusterJetVetoPt',\n",
       " 'cscRechitClusterJetVetoLooseId',\n",
       " 'cscRechitClusterJetVetoTightId',\n",
       " 'cscRechitClusterJetVetoE',\n",
       " 'cscRechitClusterMuonVetoPt',\n",
       " 'cscRechitClusterMuonVetoE',\n",
       " 'cscRechitClusterMuonVetoLooseId',\n",
       " 'cscRechitClusterMuonVetoGlobal',\n",
       " 'cscRechitCluster_match_dtSeg_0p4',\n",
       " 'cscRechitCluster_match_MB1Seg_0p4',\n",
       " 'cscRechitCluster_match_RE12_0p4',\n",
       " 'cscRechitCluster_match_RB1_0p4',\n",
       " 'cscRechitClusterSize',\n",
       " 'cscRechitClusterNStation10',\n",
       " 'cscRechitClusterAvgStation10',\n",
       " 'cscRechitClusterMaxStation',\n",
       " 'cscRechitClusterMaxStationRatio',\n",
       " 'cscRechitClusterNChamber',\n",
       " 'cscRechitClusterMaxChamber',\n",
       " 'cscRechitClusterMaxChamberRatio',\n",
       " 'cscRechitClusterNRechitChamberPlus11',\n",
       " 'cscRechitClusterNRechitChamberPlus12',\n",
       " 'cscRechitClusterNRechitChamberPlus13',\n",
       " 'cscRechitClusterNRechitChamberPlus21',\n",
       " 'cscRechitClusterNRechitChamberPlus22',\n",
       " 'cscRechitClusterNRechitChamberPlus31',\n",
       " 'cscRechitClusterNRechitChamberPlus32',\n",
       " 'cscRechitClusterNRechitChamberPlus41',\n",
       " 'cscRechitClusterNRechitChamberPlus42',\n",
       " 'cscRechitClusterNRechitChamberMinus11',\n",
       " 'cscRechitClusterNRechitChamberMinus12',\n",
       " 'cscRechitClusterNRechitChamberMinus13',\n",
       " 'cscRechitClusterNRechitChamberMinus21',\n",
       " 'cscRechitClusterNRechitChamberMinus22',\n",
       " 'cscRechitClusterNRechitChamberMinus31',\n",
       " 'cscRechitClusterNRechitChamberMinus32',\n",
       " 'cscRechitClusterNRechitChamberMinus41',\n",
       " 'cscRechitClusterNRechitChamberMinus42',\n",
       " 'cscRechitClusterMet_dPhi',\n",
       " 'cscRechitCluster_matchToProbeMuon',\n",
       " 'cscRechitCluster_matchToMuon1',\n",
       " 'cscRechitCluster_matchToMuon2',\n",
       " 'cscRechitCluster_matchToProbeAndJet',\n",
       " 'cscRechitCluster_matchToNotProbeMuon',\n",
       " 'cscRechitCluster_matchToHighPtJet',\n",
       " 'cscRechitCluster_matchToLowPtJet',\n",
       " 'cscRechitCluster_notMatched',\n",
       " 'cscRechitCluster_passME1112Veto',\n",
       " 'cscRechitCluster_PassTimeVeto',\n",
       " 'cscRechitCluster_HLTCscCluster_Loose_Decision',\n",
       " 'cscRechitCluster_HLTCscCluster_Medium_Decision',\n",
       " 'cscRechitCluster_HLTCscCluster_Tight_Decision',\n",
       " 'cscRechitCluster_match_gParticle_id',\n",
       " 'cscRechitCluster_match_gParticle_mother_id',\n",
       " 'cscRechitCluster_match_gParticle_cluster_deltaR',\n",
       " 'cscRechitCluster_match_gParticle_pt',\n",
       " 'nDtRechitClusters',\n",
       " 'dtRechitClusterNSegStation1',\n",
       " 'dtRechitClusterNSegStation2',\n",
       " 'dtRechitClusterNSegStation3',\n",
       " 'dtRechitClusterNSegStation4',\n",
       " 'dtRechitClusterNOppositeSegStation1',\n",
       " 'dtRechitClusterNOppositeSegStation2',\n",
       " 'dtRechitClusterNOppositeSegStation3',\n",
       " 'dtRechitClusterNOppositeSegStation4',\n",
       " 'dtRechitCluster_match_gLLP',\n",
       " 'dtRechitCluster_match_gLLP_minDeltaR',\n",
       " 'dtRechitCluster_match_gLLP_index',\n",
       " 'dtRechitCluster_match_gLLP_eta',\n",
       " 'dtRechitCluster_match_gLLP_phi',\n",
       " 'dtRechitCluster_match_gLLP_decay_r',\n",
       " 'dtRechitCluster_match_gLLP_decay_z',\n",
       " 'dtRechitCluster_match_gLLP_csc',\n",
       " 'dtRechitCluster_match_gLLP_dt',\n",
       " 'dtRechitCluster_match_gLLP_e',\n",
       " 'dtRechitClusterX',\n",
       " 'dtRechitClusterY',\n",
       " 'dtRechitClusterZ',\n",
       " 'dtRechitClusterWheel',\n",
       " 'dtRechitClusterPhi',\n",
       " 'dtRechitClusterEta',\n",
       " 'dtRechitClusterJetVetoPt',\n",
       " 'dtRechitClusterJetVetoLooseId',\n",
       " 'dtRechitClusterJetVetoTightId',\n",
       " 'dtRechitClusterJetVetoE',\n",
       " 'dtRechitClusterMuonVetoPt',\n",
       " 'dtRechitClusterMuonVetoE',\n",
       " 'dtRechitClusterMuonVetoTightId',\n",
       " 'dtRechitClusterMuonVetoLooseId',\n",
       " 'dtRechitClusterMuonVetoGlobal',\n",
       " 'dtRechitClusterOverlap',\n",
       " 'dtRechitClusterSize',\n",
       " 'dtRechitClusterNoiseHit',\n",
       " 'dtRechitClusterNoiseHitStation1',\n",
       " 'dtRechitClusterNoiseHitStation2',\n",
       " 'dtRechitClusterNoiseHitStation3',\n",
       " 'dtRechitClusterNoiseHitStation4',\n",
       " 'dtRechitClusterNStation10',\n",
       " 'dtRechitClusterAvgStation10',\n",
       " 'dtRechitClusterMaxStation',\n",
       " 'dtRechitClusterMaxStationRatio',\n",
       " 'dtRechitClusterNChamber',\n",
       " 'dtRechitClusterMaxChamber',\n",
       " 'dtRechitClusterMaxChamberRatio',\n",
       " 'dtRechitClusterNHitStation1',\n",
       " 'dtRechitClusterNHitStation2',\n",
       " 'dtRechitClusterNHitStation3',\n",
       " 'dtRechitClusterNHitStation4',\n",
       " 'dtRechitClusterMet_dPhi',\n",
       " 'dtRechitClusternXY',\n",
       " 'dtRechitClusternZ',\n",
       " 'dtRechitClusterXSpread',\n",
       " 'dtRechitClusterYSpread',\n",
       " 'dtRechitClusterZSpread',\n",
       " 'dtRechitClusterXYSpread',\n",
       " 'dtRechitClusterRSpread',\n",
       " 'dtRechitClusterEtaPhiSpread',\n",
       " 'dtRechitClusterEtaSpread',\n",
       " 'dtRechitClusterPhiSpread',\n",
       " 'dtRechitClusterDeltaRSpread',\n",
       " 'dtRechitClusterMajorAxis',\n",
       " 'dtRechitClusterMinorAxis',\n",
       " 'dtRechitClusterSkewX',\n",
       " 'dtRechitClusterSkewY',\n",
       " 'dtRechitClusterSkewZ',\n",
       " 'dtRechitClusterKurtX',\n",
       " 'dtRechitClusterKurtY',\n",
       " 'dtRechitClusterKurtZ',\n",
       " 'dtRechitCluster_match_RPChits_dPhi0p5',\n",
       " 'dtRechitCluster_match_RPCBx_dPhi0p5',\n",
       " 'dtRechitCluster_match_RB1_0p4',\n",
       " 'dtRechitCluster_match_RB1_dPhi0p5',\n",
       " 'dtRechitCluster_match_MB1Seg_0p4',\n",
       " 'dtRechitCluster_match_MB1Seg_0p5',\n",
       " 'dtRechitCluster_match_MB1hits_0p4',\n",
       " 'dtRechitCluster_match_MB1hits_0p5',\n",
       " 'dtRechitCluster_match_MB1hits_cosmics_plus',\n",
       " 'dtRechitCluster_match_MB1hits_cosmics_minus',\n",
       " 'dtRechitCluster_matchToProbeMuon',\n",
       " 'nGLLP',\n",
       " 'gLLP_eta',\n",
       " 'gLLP_phi',\n",
       " 'gLLP_csc',\n",
       " 'gLLP_dt',\n",
       " 'gLLP_beta',\n",
       " 'gLLP_e',\n",
       " 'gLLP_pt',\n",
       " 'gLLP_ctau',\n",
       " 'gLLP_decay_vertex_r',\n",
       " 'gLLP_decay_vertex_x',\n",
       " 'gLLP_decay_vertex_y',\n",
       " 'gLLP_decay_vertex_z',\n",
       " 'nLeptons',\n",
       " 'lepE',\n",
       " 'lepPt',\n",
       " 'lepEta',\n",
       " 'lepPhi',\n",
       " 'lepPdgId',\n",
       " 'lepDZ',\n",
       " 'lepTightId',\n",
       " 'lepPassId',\n",
       " 'lepFromZ',\n",
       " 'lepEff',\n",
       " 'lepSF',\n",
       " 'lepTriggerSF',\n",
       " 'lepTightIdSF',\n",
       " 'lepLooseIdSF',\n",
       " 'lepTightIsoSF',\n",
       " 'lepLooseIsoSF',\n",
       " 'lepTriggerMCEfficiency',\n",
       " 'lepTightIdMCEfficiency',\n",
       " 'lepLooseIdMCEfficiency',\n",
       " 'lepTightIsoMCEfficiency',\n",
       " 'lepLooseIsoMCEfficiency',\n",
       " 'lepTag',\n",
       " 'lepPassProbe',\n",
       " 'lepPassLooseIso',\n",
       " 'lepPassTightIso',\n",
       " 'lepPassVTightIso',\n",
       " 'lepPassVVTightIso',\n",
       " 'lepPassVetoId',\n",
       " 'MT',\n",
       " 'ZMass1',\n",
       " 'ZMass',\n",
       " 'ZPt',\n",
       " 'ZEta',\n",
       " 'ZPhi',\n",
       " 'ZleptonIndex1',\n",
       " 'ZleptonIndex2',\n",
       " 'nJets',\n",
       " 'jetE',\n",
       " 'jetPt',\n",
       " 'jetEta',\n",
       " 'jetPhi',\n",
       " 'jetTightPassId',\n",
       " 'HLT_CscCluster_Loose',\n",
       " 'HLT_CscCluster_Medium',\n",
       " 'HLT_CscCluster_Tight',\n",
       " 'HLT_IsoMu20',\n",
       " 'HLT_IsoMu24',\n",
       " 'L1_SingleMuShower_Nominal',\n",
       " 'L1_SingleMuShower_Tight',\n",
       " 'cscRechitClusterDNN_bkgMC_plusBeamHalo']"
      ]
     },
     "execution_count": 7,
     "metadata": {},
     "output_type": "execute_result"
    }
   ],
   "source": [
    "events_data.fields"
   ]
  },
  {
   "cell_type": "code",
   "execution_count": 8,
   "id": "ca18cb1c",
   "metadata": {},
   "outputs": [
    {
     "data": {
      "text/plain": [
       "25516"
      ]
     },
     "execution_count": 8,
     "metadata": {},
     "output_type": "execute_result"
    }
   ],
   "source": [
    "data_tree.GetEntries()"
   ]
  },
  {
   "cell_type": "code",
   "execution_count": 9,
   "id": "a02499e8",
   "metadata": {},
   "outputs": [
    {
     "data": {
      "text/plain": [
       "22721.71"
      ]
     },
     "execution_count": 9,
     "metadata": {},
     "output_type": "execute_result"
    }
   ],
   "source": [
    "MC_tree.GetEntries()*7.37"
   ]
  },
  {
   "cell_type": "code",
   "execution_count": 10,
   "id": "6fa33e17",
   "metadata": {},
   "outputs": [],
   "source": [
    "def makeEventMask(events, noMaskList: list=[], noCuts=False):\n",
    "    mask = ak.flatten(events.cscRechitCluster_matchToProbeMuon)\n",
    "    if \"forward_veto\" not in noMaskList:\n",
    "        mask = ak.mask(mask, ak.flatten(events.cscRechitCluster_passME1112Veto))\n",
    "    if noCuts:\n",
    "        return mask\n",
    "    if \"timespread_veto\" not in noMaskList:\n",
    "        mask = ak.mask(mask, ak.flatten(events.cscRechitClusterTimeSpreadWeightedAll)<20)\n",
    "    if \"time_veto\" not in noMaskList:\n",
    "        mask = ak.mask(mask, ak.flatten(events.cscRechitClusterTimeWeighted)<12.5)\n",
    "        mask = ak.mask(mask, ak.flatten(events.cscRechitClusterTimeWeighted)>-5)\n",
    "    if \"DNN_veto\" not in noMaskList:\n",
    "        remove9999 = ak.mask(ak.flatten(events.cscRechitClusterDNN_bkgMC_plusBeamHalo), ak.flatten(events.cscRechitClusterDNN_bkgMC_plusBeamHalo)>0)\n",
    "        remove9999 = remove9999[~ak.is_none(remove9999)]\n",
    "        DNNMask = remove9999>0.96\n",
    "        mask = ak.mask(mask, DNNMask)\n",
    "    if \"clusterSize_veto\" not in noMaskList:\n",
    "        mask = ak.mask(mask, ak.flatten(events.cscRechitClusterSize)>160)\n",
    "    \n",
    "    return mask"
   ]
  },
  {
   "cell_type": "code",
   "execution_count": 11,
   "id": "6fab838d",
   "metadata": {},
   "outputs": [
    {
     "name": "stdout",
     "output_type": "stream",
     "text": [
      "Data Numerator:  373\n",
      "Forward Veto Efficiency:  89.66346153846155\n",
      "Timespread Veto Efficiency:  87.55868544600939\n",
      "Time Veto Efficiency:  99.46666666666667\n",
      "DNN Veto Efficiency:  39.935760171306214\n",
      "ClusterSize Veto Efficiency:  18.266405484818804\n"
     ]
    }
   ],
   "source": [
    "# data efficiencies\n",
    "oneClusterData = ak.mask(events_data, events_data.nCscRechitClusters==1)\n",
    "oneClusterData = oneClusterData[~ak.is_none(oneClusterData)]\n",
    "num = ak.count_nonzero(makeEventMask(events_data))\n",
    "print(\"Data Numerator: \", num)\n",
    "\n",
    "denom_forward = ak.count_nonzero(makeEventMask(events_data, ['forward_veto']))\n",
    "print(\"Forward Veto Efficiency: \", num/denom_forward*100)\n",
    "\n",
    "denom_timespread = ak.count_nonzero(makeEventMask(events_data, ['timespread_veto']))\n",
    "print(\"Timespread Veto Efficiency: \", num/denom_timespread*100)\n",
    "\n",
    "denom_time = ak.count_nonzero(makeEventMask(events_data, ['time_veto']))\n",
    "print(\"Time Veto Efficiency: \", num/denom_time*100)\n",
    "\n",
    "denom_DNN = ak.count_nonzero(makeEventMask(events_data, ['DNN_veto']))\n",
    "print(\"DNN Veto Efficiency: \", num/denom_DNN*100)\n",
    "\n",
    "denom_clusterSize = ak.count_nonzero(makeEventMask(events_data, ['clusterSize_veto']))\n",
    "print(\"ClusterSize Veto Efficiency: \", num/denom_clusterSize*100)"
   ]
  },
  {
   "cell_type": "code",
   "execution_count": 13,
   "id": "e5d05991",
   "metadata": {},
   "outputs": [
    {
     "name": "stdout",
     "output_type": "stream",
     "text": [
      "computing other efficiency definition\n",
      "Data Denominator:  19091\n",
      "Timespread Veto Efficiency:  77.17248965481117\n",
      "Time Veto Efficiency:  98.57524487978628\n",
      "DNN Veto Efficiency:  14.3523126080352\n",
      "ClusterSize Veto Efficiency:  5.840448378817244\n"
     ]
    }
   ],
   "source": [
    "# data efficiencies\n",
    "print(\"computing other efficiency definition\")\n",
    "oneClusterData = ak.mask(events_data, events_data.nCscRechitClusters==1)\n",
    "oneClusterData = oneClusterData[~ak.is_none(oneClusterData)]\n",
    "denom = ak.count_nonzero(makeEventMask(events_data, [], True))\n",
    "print(\"Data Denominator: \", denom)\n",
    "\n",
    "#num_forward = ak.count_nonzero(makeEventMask(events_data, ['forward_veto']))\n",
    "#print(\"Forward Veto Efficiency: \", num/denom_forward*100)\n",
    "\n",
    "num_timespread = ak.count_nonzero(makeEventMask(events_data, ['clusterSize_veto','DNN_veto','time_veto']))\n",
    "print(\"Timespread Veto Efficiency: \", num_timespread/denom*100)\n",
    "\n",
    "num_time = ak.count_nonzero(makeEventMask(events_data, ['clusterSize_veto','DNN_veto','timespread_veto']))\n",
    "print(\"Time Veto Efficiency: \", num_time/denom*100)\n",
    "\n",
    "num_DNN = ak.count_nonzero(makeEventMask(events_data, ['timespread_veto','clusterSize_veto','time_veto']))\n",
    "print(\"DNN Veto Efficiency: \", num_DNN/denom*100)\n",
    "\n",
    "num_clusterSize = ak.count_nonzero(makeEventMask(events_data, ['timespread_veto','DNN_veto','time_veto']))\n",
    "print(\"ClusterSize Veto Efficiency: \", num_clusterSize/denom*100)"
   ]
  },
  {
   "cell_type": "code",
   "execution_count": 16,
   "id": "737fbffe",
   "metadata": {},
   "outputs": [],
   "source": [
    "importlib.reload(getMuonScaleFactor)\n",
    "\n",
    "#loose ID\n",
    "#data_SF_LooseID = getMuonScaleFactor.getLooseIDEffArr_BPix(np.array(events_data.lepPt), np.array(events_data.lepEta))\n",
    "MC_SF_LooseID = getMuonScaleFactor.getLooseIDEffArr_BPix(np.array(events_MC.lepPt), np.array(events_MC.lepEta))\n",
    "\n",
    "#looseISO\n",
    "#data_SF_LooseISO = getMuonScaleFactor.getLooseISOEffArr_BPix(np.array(events_data.lepPt), np.array(events_data.lepEta))\n",
    "MC_SF_LooseISO = getMuonScaleFactor.getLooseISOEffArr_BPix(np.array(events_MC.lepPt), np.array(events_MC.lepEta))\n",
    "\n",
    "#tightID\n",
    "#data_SF_TightID = getMuonScaleFactor.getTightIDEffArr_BPix(np.array(events_data.lepPt), np.array(events_data.lepEta))\n",
    "MC_SF_TightID = getMuonScaleFactor.getTightIDEffArr_BPix(np.array(events_MC.lepPt), np.array(events_MC.lepEta))\n",
    "\n",
    "#tightISO\n",
    "#data_SF_TightISO = getMuonScaleFactor.getTightISOEffArr_BPix(np.array(events_data.lepPt), np.array(events_data.lepEta))\n",
    "MC_SF_TightISO = getMuonScaleFactor.getTightISOEffArr_BPix(np.array(events_MC.lepPt), np.array(events_MC.lepEta))\n",
    "\n",
    "#HLT\n",
    "#data_SF_HLT = getMuonScaleFactor.getHLTEffArr_BPix(np.array(events_data.lepPt), np.array(events_data.lepEta))\n",
    "MC_SF_HLT = getMuonScaleFactor.getHLTEffArr_BPix(np.array(events_MC.lepPt), np.array(events_MC.lepEta))\n"
   ]
  },
  {
   "cell_type": "code",
   "execution_count": 17,
   "id": "88369c20",
   "metadata": {},
   "outputs": [],
   "source": [
    "def computeOtherMCEfficiency(MCTree, arrayMC, cutsList, noCuts=False):\n",
    "    sumOfWeights=0\n",
    "    mask = makeEventMask(arrayMC, cutsList, noCuts)\n",
    "    #print(ak.count_nonzero(mask[~ak.is_none(mask)]))\n",
    "    clusterIndex=-1\n",
    "    for evtNum, entry in enumerate(MC_tree):\n",
    "        for i in range(MC_tree.nCscRechitClusters):\n",
    "            clusterIndex+=1\n",
    "            if mask[clusterIndex]:\n",
    "                if MC_tree.cscRechitCluster_matchToMuon1[i]==1:\n",
    "                    probeIndex=0; tagIndex=1\n",
    "                else:\n",
    "                    probeIndex=1; tagIndex=0\n",
    "                weight = getattr(MC_tree, \"weight\")*getattr(MC_tree, \"pileupWeight\")*MC_SF_LooseID[evtNum][probeIndex]*MC_SF_LooseISO[evtNum][probeIndex]*MC_SF_TightID[evtNum][tagIndex]*MC_SF_TightID[evtNum][tagIndex]\n",
    "                #weight = MC_SF_LooseID[evtNum][probeIndex]\n",
    "                if data_tree.lepPt[tagIndex]>26:\n",
    "                    weight=weight*MC_SF_HLT[evtNum][tagIndex]\n",
    "                #print(weight)\n",
    "                sumOfWeights+=weight\n",
    "    return sumOfWeights"
   ]
  },
  {
   "cell_type": "code",
   "execution_count": 18,
   "id": "69488f07",
   "metadata": {},
   "outputs": [
    {
     "name": "stdout",
     "output_type": "stream",
     "text": [
      "MC Denominator:  20470.130503256863\n",
      "Timespread Veto Efficiency:  98.35775970939767\n",
      "Time Veto Efficiency:  99.40249532585005\n",
      "DNN Veto Efficiency:  20.506232826394065\n",
      "ClusterSize Veto Efficiency:  8.560320350477351\n"
     ]
    }
   ],
   "source": [
    "denom = computeOtherMCEfficiency(MC_tree, events_MC, [], True)\n",
    "print(\"MC Denominator: \", denom)\n",
    "\n",
    "#num_forward = ak.count_nonzero(makeEventMask(events_data, ['forward_veto']))\n",
    "#print(\"Forward Veto Efficiency: \", num/denom_forward*100)\n",
    "\n",
    "num_timespread = computeOtherMCEfficiency(MC_tree, events_MC, ['clusterSize_veto','DNN_veto','time_veto'])\n",
    "print(\"Timespread Veto Efficiency: \", num_timespread/denom*100)\n",
    "\n",
    "num_time =computeOtherMCEfficiency(MC_tree, events_MC, ['clusterSize_veto','DNN_veto','timespread_veto'])\n",
    "print(\"Time Veto Efficiency: \", num_time/denom*100)\n",
    "\n",
    "num_DNN = computeOtherMCEfficiency(MC_tree, events_MC, ['timespread_veto','clusterSize_veto','time_veto'])\n",
    "print(\"DNN Veto Efficiency: \", num_DNN/denom*100)\n",
    "\n",
    "num_clusterSize = computeOtherMCEfficiency(MC_tree, events_MC, ['timespread_veto','DNN_veto','time_veto'])\n",
    "print(\"ClusterSize Veto Efficiency: \", num_clusterSize/denom*100)"
   ]
  },
  {
   "cell_type": "code",
   "execution_count": 12,
   "id": "f9b137a6",
   "metadata": {},
   "outputs": [
    {
     "data": {
      "text/plain": [
       "3083"
      ]
     },
     "execution_count": 12,
     "metadata": {},
     "output_type": "execute_result"
    }
   ],
   "source": [
    "MC_tree.GetEntries()"
   ]
  },
  {
   "cell_type": "markdown",
   "id": "62542e38",
   "metadata": {},
   "source": [
    "### Make Appropriately-Style Plots"
   ]
  },
  {
   "cell_type": "code",
   "execution_count": 534,
   "id": "5b26b218",
   "metadata": {},
   "outputs": [],
   "source": [
    "rt.gStyle.SetOptStat(0)\n",
    "def make_ratio_plot(h_list_in, title = \"\", label = \"\", fit = False, in_tags = None, ratio_bounds = [0.1, 4], logy = False, ratio_index = 0, draw_opt = ['E2','E1'], text = \"\", scale=False, scales = [1,1]):\n",
    "    h_list = []\n",
    "    if in_tags == None:\n",
    "        tag = []\n",
    "    else:\n",
    "        tag = in_tags\n",
    "    for i, h in enumerate(h_list_in):\n",
    "        h_list.append(h.Clone('h{}aux{}'.format(i, label)))\n",
    "        if in_tags == None:\n",
    "            tag.append(h.GetTitle())\n",
    "    #print(\"tags: \", tag)\n",
    "    c_out = rt.TCanvas(\"c_out_ratio\"+label, \"c_out_ratio\"+label, 800, 800)\n",
    "    pad1 = rt.TPad(\"pad1\", \"pad1\", 0, 0.3, 1, 1.0)\n",
    "    pad1.SetBottomMargin(0.03)\n",
    "    pad1.SetLeftMargin(0.15)\n",
    "    pad1.SetRightMargin(0.04)# pad2.SetGrid()\n",
    "    if logy:\n",
    "        pad1.SetLogy()\n",
    "\n",
    "    pad1.Draw()\n",
    "    pad1.cd()\n",
    "\n",
    "    leg = rt.TLegend(0.5, 0.65, 0.9, 0.92)\n",
    "    leg = rt.TLegend(0.7, 0.65, 0.9, 0.92)\n",
    "\n",
    "    #leg = rt.TLegend(0.2, 0.7, 0.5, 0.9)\n",
    "    # leg = rt.TLegend(0.7, 0.2, 0.9, 0.4)\n",
    "    leg.SetBorderSize(0)\n",
    "    leg.SetTextSize(0.045)\n",
    "    leg.SetFillStyle(0)\n",
    "    c_out.cd(1)\n",
    "\n",
    "    scaled_h_list = []\n",
    "    if scale:\n",
    "        for i, h_unscaled in enumerate(h_list):\n",
    "            #h = h_unscaled.Clone()\n",
    "            #h = h_unscaled.Scale(1/scales[i])\n",
    "            #scaled_h_list.append(h_unscaled.Clone())\n",
    "            h_unscaled.Scale(1/scales[i])\n",
    "            scaled_h_list.append(h_unscaled)\n",
    "    else:\n",
    "        #for i, h_unscaled in enumerate(h_list):\n",
    "            #h = h_unscaled.Clone()\n",
    "            #scaled_h_list.append(h)\n",
    "        scaled_h_list = h_list\n",
    "    for i, h in enumerate(scaled_h_list):\n",
    "        h.GetXaxis().SetLabelSize(0)\n",
    "        h.GetXaxis().SetTitle(label)\n",
    "        h.GetYaxis().SetRangeUser(0, 1.1*max(map(lambda x: x.GetMaximum(), scaled_h_list)))\n",
    "        if logy and not scale:\n",
    "            h.GetYaxis().SetRangeUser(10e-2, 2*max(map(lambda x: x.GetMaximum(), scaled_h_list)))\n",
    "        if logy and scale:\n",
    "            h.GetYaxis().SetRangeUser(10e-4, 1)\n",
    "        h.GetYaxis().SetTitleOffset(1.0)\n",
    "        h.GetYaxis().SetTitleSize(0.06)\n",
    "        h.GetYaxis().SetLabelSize(0.05)\n",
    "        \n",
    "        if scale:\n",
    "            y_title = \"Fraction of Events\"\n",
    "        else:\n",
    "            y_title = \"Events\"\n",
    "        \n",
    "        h.GetYaxis().SetTitle()\n",
    "        h.SetTitle(f\"{title};adsf;{y_title}\")\n",
    "        #if ratio_index == 0:h.DrawCopy(\"hist\")\n",
    "        '''\n",
    "        h.SetFillColor(h_list_in[i].GetLineColor())\n",
    "        h.SetFillStyle(3002)\n",
    "        #h.SetStats(1)\n",
    "        h.SetLineColor(h_list_in[i].GetLineColor())\n",
    "        h.SetLineWidth(2)\n",
    "        h.SetMarkerColor(h_list_in[i].GetLineColor())\n",
    "        h.SetMarkerSize(2)\n",
    "        # if ratio_index == 0:\n",
    "        #     # h.DrawCopy(\"hist\")\n",
    "        #     h.DrawCopy(draw_opt[i]+'same')\n",
    "        # else:h.DrawCopy(draw_opt[i])\n",
    "        #if ratio_index == 0 :h.DrawCopy(draw_opt[i]+\"same\")\n",
    "        #h.DrawCopy(\"E2 HIST\")\n",
    "        '''\n",
    "        if i==0:\n",
    "            h.SetLineWidth(4)\n",
    "            h.DrawCopy(\"hist\")\n",
    "            #h.SetFillStyle(0)\n",
    "            h.SetFillColor(h_list_in[i].GetLineColor())\n",
    "            h.SetFillStyle(3002)\n",
    "            #h.SetStats(1)\n",
    "            h.SetLineColor(h_list_in[i].GetLineColor())\n",
    "            h.SetLineWidth(2)\n",
    "            h.SetMarkerColor(h_list_in[i].GetLineColor())\n",
    "            h.SetMarkerSize(2)\n",
    "            h.DrawCopy(draw_opt[i] + \"same\")\n",
    "            #h.SetFillStyle(0)\n",
    "        else:\n",
    "            h.SetLineWidth(2)\n",
    "            h.DrawCopy(draw_opt[i] + \"same\")\n",
    "        #else:h.DrawCopy(draw_opt[i])\n",
    "        if len(text)>0:\n",
    "            l = rt.TLatex()\n",
    "            l.SetTextSize(0.045)\n",
    "            if logy:l.DrawLatex((h.GetXaxis().GetXmax()-h.GetXaxis().GetXmin())*0.1+h.GetXaxis().GetXmin() , h.GetMaximum()/10, text)\n",
    "            else:l.DrawLatex((h.GetXaxis().GetXmax()-h.GetXaxis().GetXmin())*0.1+h.GetXaxis().GetXmin() , h.GetMaximum()*0.8, text)\n",
    "        #if i==1:\n",
    "            #h.DrawCopy(draw_opt[i]+\"same\")\n",
    "       #     h.Draw(\"E1 same\")\n",
    "\n",
    "        leg.AddEntry(h, tag[i], \"lep\")\n",
    "    leg.Draw(\"same\")\n",
    "\n",
    "    c_out.cd()\n",
    "    pad2 = rt.TPad(\"pad2\", \"pad2\", 0, 0, 1, 0.3)\n",
    "    pad2.SetTopMargin(0.03)\n",
    "    pad2.SetBottomMargin(0.25)\n",
    "    pad2.SetLeftMargin(0.15)\n",
    "    pad2.SetRightMargin(0.04)# pad2.SetGrid()\n",
    "    pad2.Draw()\n",
    "    pad2.cd()\n",
    "    band = scaled_h_list[ratio_index].Clone('h_band')\n",
    "    for j in range(band.GetXaxis().GetNbins()):\n",
    "        band.SetBinContent(j+1, 1.0)\n",
    "        if h_list[ratio_index].GetBinContent(j+1) == 0:\n",
    "            band.SetBinError(j+1, 0.0)\n",
    "        else:\n",
    "            band.SetBinError(j+1, scaled_h_list[ratio_index].GetBinError(j+1)/scaled_h_list[ratio_index].GetBinContent(j+1))\n",
    "            #print(j, h_list_in[0].GetBinError(j+1)/h_list_in[0].GetBinContent(j+1))\n",
    "    band.SetFillColor(scaled_h_list[ratio_index].GetLineColor())\n",
    "\n",
    "    band.SetFillStyle(3002)\n",
    "    band.SetLineColor(scaled_h_list[ratio_index].GetLineColor())\n",
    "    #band.SetFillColorAlpha(0,0)\n",
    "    #band.SetLineColor(0)\n",
    "    \n",
    "    band.GetYaxis().SetTitleOffset(0.5)\n",
    "    band.GetYaxis().SetRangeUser(ratio_bounds[0], ratio_bounds[1])\n",
    "    band.GetYaxis().SetTitleSize(0.11)\n",
    "    band.GetYaxis().SetLabelSize(0.12)\n",
    "    band.GetYaxis().SetNdivisions(506)\n",
    "    band.GetXaxis().SetTitleOffset(0.95)\n",
    "    band.GetXaxis().SetTitleSize(0.12)\n",
    "    band.GetXaxis().SetLabelSize(0.12)\n",
    "    band.GetXaxis().SetTickSize(0.07)\n",
    "    \n",
    "    band.SetYTitle('Ratio with {}'.format(tag[ratio_index]))\n",
    "    band.SetXTitle(label)\n",
    "    band.SetTitle(\"\")\n",
    "    band.DrawCopy('E2')\n",
    "    ln = rt.TLine(h.GetXaxis().GetXmin(), 1, h.GetXaxis().GetXmax(), 1)\n",
    "    ln.SetLineWidth(3)\n",
    "    ln.SetLineColor(scaled_h_list[ratio_index].GetLineColor())\n",
    "    ln.DrawLine(h.GetXaxis().GetXmin(), 1, h.GetXaxis().GetXmax(), 1)\n",
    "     \n",
    "    #print(ratio_index)\n",
    "    for i, h in enumerate(scaled_h_list):\n",
    "        if i == ratio_index:\n",
    "            continue\n",
    "        else:\n",
    "            if fit:h.GetFunction(\"expo\")\n",
    "            h.Divide(scaled_h_list[ratio_index])\n",
    "            # h.GetYaxis().SetTitleOffset(0.6)\n",
    "            # h.GetYaxis().SetRangeUser(ratio_bounds[0], ratio_bounds[1])\n",
    "            # h.GetYaxis().SetTitleSize(0.12)\n",
    "            # h.GetYaxis().SetLabelSize(0.12)\n",
    "            # h.GetYaxis().SetNdivisions(506)\n",
    "            # h.GetXaxis().SetTitleOffset(0.95)\n",
    "            # h.GetXaxis().SetTitleSize(0.12)\n",
    "            # h.GetXaxis().SetLabelSize(0.12)\n",
    "            # h.GetXaxis().SetTickSize(0.07)\n",
    "            # h.SetYTitle('Ratio with {}'.format(tag[0]))\n",
    "            # h.SetTitle(\"\")\n",
    "            #set relative error of ratio to be the relative error of data\n",
    "            for j in range(h.GetXaxis().GetNbins()):\n",
    "                if h_list[i].GetBinContent(j+1) == 0:\n",
    "                    h.SetBinError(j+1, 0.0)\n",
    "                else:\n",
    "                    h.SetBinError(j+1, h_list_in[i].GetBinError(j+1)/h_list_in[i].GetBinContent(j+1)*h.GetBinContent(j+1))\n",
    "            h.Draw('same'+draw_opt[i])\n",
    "    \n",
    "    pad2.Update()\n",
    "    \n",
    "    c_out.pad1 = pad1\n",
    "    c_out.pad2 = pad2\n",
    "    c_out.h_list = h_list\n",
    "    c_out.leg = leg\n",
    "    \n",
    "    return c_out"
   ]
  },
  {
   "cell_type": "markdown",
   "id": "2e53c826",
   "metadata": {},
   "source": [
    "### Compute MC Scale Factors"
   ]
  },
  {
   "cell_type": "markdown",
   "id": "60e9383d",
   "metadata": {},
   "source": [
    "### Compute Hit Fraction Variables (DNN input variable)"
   ]
  },
  {
   "cell_type": "code",
   "execution_count": 536,
   "id": "56f5781d",
   "metadata": {},
   "outputs": [],
   "source": [
    "#for data\n",
    "frac_s1_data = (events_data.cscRechitClusterNRechitChamberPlus11+events_data.cscRechitClusterNRechitChamberMinus11+events_data.cscRechitClusterNRechitChamberPlus12+events_data.cscRechitClusterNRechitChamberMinus12+events_data.cscRechitClusterNRechitChamberPlus13+events_data.cscRechitClusterNRechitChamberMinus13)/events_data.cscRechitClusterSize\n",
    "frac_s2_data = (events_data.cscRechitClusterNRechitChamberPlus21+events_data.cscRechitClusterNRechitChamberMinus21+events_data.cscRechitClusterNRechitChamberPlus22+events_data.cscRechitClusterNRechitChamberMinus22)/events_data.cscRechitClusterSize\n",
    "frac_s3_data = (events_data.cscRechitClusterNRechitChamberPlus31+events_data.cscRechitClusterNRechitChamberMinus31+events_data.cscRechitClusterNRechitChamberPlus32+events_data.cscRechitClusterNRechitChamberMinus32)/events_data.cscRechitClusterSize\n",
    "frac_s4_data = (events_data.cscRechitClusterNRechitChamberPlus41+events_data.cscRechitClusterNRechitChamberMinus41+events_data.cscRechitClusterNRechitChamberPlus42+events_data.cscRechitClusterNRechitChamberMinus42)/events_data.cscRechitClusterSize\n",
    "\n",
    "frac_rw1_data = (events_data.cscRechitClusterNRechitChamberPlus11+events_data.cscRechitClusterNRechitChamberMinus11+events_data.cscRechitClusterNRechitChamberPlus21+events_data.cscRechitClusterNRechitChamberMinus21+events_data.cscRechitClusterNRechitChamberPlus31+events_data.cscRechitClusterNRechitChamberMinus31+events_data.cscRechitClusterNRechitChamberPlus41+events_data.cscRechitClusterNRechitChamberMinus41)/events_data.cscRechitClusterSize\n",
    "frac_rw2_data = (events_data.cscRechitClusterNRechitChamberPlus12+events_data.cscRechitClusterNRechitChamberMinus12+events_data.cscRechitClusterNRechitChamberPlus22+events_data.cscRechitClusterNRechitChamberMinus22+events_data.cscRechitClusterNRechitChamberPlus32+events_data.cscRechitClusterNRechitChamberMinus32+events_data.cscRechitClusterNRechitChamberPlus42+events_data.cscRechitClusterNRechitChamberMinus42)/events_data.cscRechitClusterSize\n",
    "frac_rw3_data = (events_data.cscRechitClusterNRechitChamberPlus13+events_data.cscRechitClusterNRechitChamberMinus13)/events_data.cscRechitClusterSize"
   ]
  },
  {
   "cell_type": "code",
   "execution_count": 537,
   "id": "c4734848",
   "metadata": {},
   "outputs": [],
   "source": [
    "#for data\n",
    "frac_s1_MC = (events_MC.cscRechitClusterNRechitChamberPlus11+events_MC.cscRechitClusterNRechitChamberMinus11+events_MC.cscRechitClusterNRechitChamberPlus12+events_MC.cscRechitClusterNRechitChamberMinus12+events_MC.cscRechitClusterNRechitChamberPlus13+events_MC.cscRechitClusterNRechitChamberMinus13)/events_MC.cscRechitClusterSize\n",
    "frac_s2_MC = (events_MC.cscRechitClusterNRechitChamberPlus21+events_MC.cscRechitClusterNRechitChamberMinus21+events_MC.cscRechitClusterNRechitChamberPlus22+events_MC.cscRechitClusterNRechitChamberMinus22)/events_MC.cscRechitClusterSize\n",
    "frac_s3_MC = (events_MC.cscRechitClusterNRechitChamberPlus31+events_MC.cscRechitClusterNRechitChamberMinus31+events_MC.cscRechitClusterNRechitChamberPlus32+events_MC.cscRechitClusterNRechitChamberMinus32)/events_MC.cscRechitClusterSize\n",
    "frac_s4_MC = (events_MC.cscRechitClusterNRechitChamberPlus41+events_MC.cscRechitClusterNRechitChamberMinus41+events_MC.cscRechitClusterNRechitChamberPlus42+events_MC.cscRechitClusterNRechitChamberMinus42)/events_MC.cscRechitClusterSize\n",
    "\n",
    "frac_rw1_MC = (events_MC.cscRechitClusterNRechitChamberPlus11+events_MC.cscRechitClusterNRechitChamberMinus11+events_MC.cscRechitClusterNRechitChamberPlus21+events_MC.cscRechitClusterNRechitChamberMinus21+events_MC.cscRechitClusterNRechitChamberPlus31+events_MC.cscRechitClusterNRechitChamberMinus31+events_MC.cscRechitClusterNRechitChamberPlus41+events_MC.cscRechitClusterNRechitChamberMinus41)/events_MC.cscRechitClusterSize\n",
    "frac_rw2_MC = (events_MC.cscRechitClusterNRechitChamberPlus12+events_MC.cscRechitClusterNRechitChamberMinus12+events_MC.cscRechitClusterNRechitChamberPlus22+events_MC.cscRechitClusterNRechitChamberMinus22+events_MC.cscRechitClusterNRechitChamberPlus32+events_MC.cscRechitClusterNRechitChamberMinus32+events_MC.cscRechitClusterNRechitChamberPlus42+events_MC.cscRechitClusterNRechitChamberMinus42)/events_MC.cscRechitClusterSize\n",
    "frac_rw3_MC = (events_MC.cscRechitClusterNRechitChamberPlus13+events_MC.cscRechitClusterNRechitChamberMinus13)/events_MC.cscRechitClusterSize"
   ]
  },
  {
   "cell_type": "markdown",
   "id": "26f20b4d",
   "metadata": {},
   "source": [
    "### Make Data/MC Plots"
   ]
  },
  {
   "cell_type": "code",
   "execution_count": 583,
   "id": "153980be",
   "metadata": {},
   "outputs": [],
   "source": [
    "plot_info = {}\n",
    "plot_output = \"Run2023_postBPix_Data_MC_Comp_TProf\""
   ]
  },
  {
   "cell_type": "code",
   "execution_count": 539,
   "id": "7e000188",
   "metadata": {},
   "outputs": [],
   "source": [
    "branch = \"ZMass\"\n",
    "name = branch\n",
    "data = rt.TH1F(\"LeadingPt_Data\", \"Data\", nbinsx=80, xlow = 0, xup=150)\n",
    "#data_LeadingPt.Project(\"LeadingPt_Data\", \"LeadingPt\")\n",
    "mask = makeEventMask(events_data)\n",
    "clusterIndex=-1\n",
    "\n",
    "for entry in data_tree:\n",
    "    #if clusterIndex>=\n",
    "    plottedCluster=False\n",
    "    for i in range(data_tree.nCscRechitClusters):\n",
    "        clusterIndex+=1\n",
    "        #print(clusterIndex)\n",
    "        if mask[clusterIndex] and not plottedCluster:\n",
    "            data.Fill(getattr(data_tree, branch))\n",
    "            plottedCluster=True\n",
    "data.SetLineColor(rt.kBlack)\n",
    "data.SetFillStyle(0)\n",
    "\n",
    "MC = rt.TH1F(\"LeadingPt_MC\", \"MC\", nbinsx=80, xlow = 0, xup=150)\n",
    "mask = makeEventMask(events_MC)\n",
    "clusterIndex=-1\n",
    "sumOfWeights=0\n",
    "for evtNum, entry in enumerate(MC_tree):\n",
    "    plottedCluster=False\n",
    "    for i in range(data_tree.nCscRechitClusters):\n",
    "        clusterIndex+=1\n",
    "        if mask[clusterIndex] and not plottedCluster:\n",
    "            if MC_tree.cscRechitCluster_matchToMuon1[i]==1:\n",
    "                probeIndex=0; tagIndex=1\n",
    "            else:\n",
    "                probeIndex=1; tagIndex=0\n",
    "            weight = getattr(MC_tree, \"weight\")*getattr(MC_tree, \"pileupWeight\")*MC_SF_LooseID[evtNum][probeIndex]*MC_SF_LooseISO[evtNum][probeIndex]*MC_SF_TightID[evtNum][tagIndex]*MC_SF_TightID[evtNum][tagIndex]\n",
    "            if data_tree.lepPt[tagIndex]>26:\n",
    "                weight=weight*MC_SF_HLT[evtNum][tagIndex]\n",
    "            MC.Fill(getattr(MC_tree, branch), weight)\n",
    "            plottedCluster=True\n",
    "            sumOfWeights+=weight\n",
    "MC.SetLineColor(rt.kRed)\n",
    "MC.SetFillStyle(0)\n",
    "plot_info[branch] = {\"MC_hist\": MC, \"data_hist\": data, \"file_name\": name, \"title\": \"Z Candidate Mass\", \"label\": \"Z Candidate Mass [GeV]\", \"scales\": [sumOfWeights, data.GetEntries()], \"logy\": False}"
   ]
  },
  {
   "cell_type": "code",
   "execution_count": 540,
   "id": "24113523",
   "metadata": {},
   "outputs": [
    {
     "name": "stderr",
     "output_type": "stream",
     "text": [
      "Warning in <TFile::Append>: Replacing existing TH1: LeadingPt_Data (Potential memory leak).\n",
      "Warning in <TFile::Append>: Replacing existing TH1: LeadingPt_MC (Potential memory leak).\n"
     ]
    }
   ],
   "source": [
    "branch = \"ZMass\"\n",
    "name = branch+\"_noCuts\"\n",
    "data = rt.TH1F(\"LeadingPt_Data\", \"Data\", nbinsx=80, xlow = 0, xup=150)\n",
    "#data_LeadingPt.Project(\"LeadingPt_Data\", \"LeadingPt\")\n",
    "mask = makeEventMask(events_data, [], True)\n",
    "clusterIndex=-1\n",
    "\n",
    "for entry in data_tree:\n",
    "    #if clusterIndex>=\n",
    "    plottedCluster=False\n",
    "    for i in range(data_tree.nCscRechitClusters):\n",
    "        clusterIndex+=1\n",
    "        #print(clusterIndex)\n",
    "        if mask[clusterIndex] and not plottedCluster:\n",
    "            data.Fill(getattr(data_tree, branch))\n",
    "            plottedCluster=True\n",
    "data.SetLineColor(rt.kBlack)\n",
    "data.SetFillStyle(0)\n",
    "\n",
    "MC = rt.TH1F(\"LeadingPt_MC\", \"MC\", nbinsx=80, xlow = 0, xup=150)\n",
    "mask = makeEventMask(events_MC, [],True)\n",
    "clusterIndex=-1\n",
    "sumOfWeights=0\n",
    "for evtNum, entry in enumerate(MC_tree):\n",
    "    plottedCluster=False\n",
    "    for i in range(data_tree.nCscRechitClusters):\n",
    "        clusterIndex+=1\n",
    "        if mask[clusterIndex] and not plottedCluster:\n",
    "            if MC_tree.cscRechitCluster_matchToMuon1[i]==1:\n",
    "                probeIndex=0; tagIndex=1\n",
    "            else:\n",
    "                probeIndex=1; tagIndex=0\n",
    "            weight = getattr(MC_tree, \"weight\")*getattr(MC_tree, \"pileupWeight\")*MC_SF_LooseID[evtNum][probeIndex]*MC_SF_LooseISO[evtNum][probeIndex]*MC_SF_TightID[evtNum][tagIndex]*MC_SF_TightID[evtNum][tagIndex]\n",
    "            if data_tree.lepPt[tagIndex]>26:\n",
    "                weight=weight*MC_SF_HLT[evtNum][tagIndex]\n",
    "            MC.Fill(getattr(MC_tree, branch), weight)\n",
    "            plottedCluster=True\n",
    "            sumOfWeights+=weight\n",
    "MC.SetLineColor(rt.kRed)\n",
    "MC.SetFillStyle(0)\n",
    "plot_info[branch] = {\"MC_hist\": MC, \"data_hist\": data, \"file_name\": name, \"title\": \"Z Candidate Mass\", \"label\": \"Z Candidate Mass [GeV]\", \"scales\": [sumOfWeights, data.GetEntries()], \"logy\": False}"
   ]
  },
  {
   "cell_type": "code",
   "execution_count": 541,
   "id": "282ac9f6",
   "metadata": {},
   "outputs": [
    {
     "name": "stdout",
     "output_type": "stream",
     "text": [
      "numerator:  970.1164075334774\n"
     ]
    },
    {
     "name": "stderr",
     "output_type": "stream",
     "text": [
      "Warning in <TFile::Append>: Replacing existing TH1: LeadingPt_Data (Potential memory leak).\n",
      "Warning in <TFile::Append>: Replacing existing TH1: LeadingPt_MC (Potential memory leak).\n"
     ]
    }
   ],
   "source": [
    "branch = \"cscRechitClusterMuonVetoPt\"\n",
    "name = \"MuonVetoPt\"\n",
    "data = rt.TH1F(\"LeadingPt_Data\", \"Data\", nbinsx=80, xlow = 0, xup=120)\n",
    "mask = makeEventMask(events_data, [])\n",
    "clusterIndex=-1\n",
    "for entry in data_tree:\n",
    "    for i in range(data_tree.nCscRechitClusters):\n",
    "        clusterIndex+=1\n",
    "        if mask[clusterIndex]:\n",
    "            data.Fill(getattr(data_tree, branch)[i])\n",
    "data.SetLineColor(rt.kBlack)\n",
    "\n",
    "sumOfWeights=0\n",
    "mask = makeEventMask(events_MC)\n",
    "#print(ak.count_nonzero(mask[~ak.is_none(mask)]))\n",
    "MC = rt.TH1F(\"LeadingPt_MC\", \"MC\", nbinsx=80, xlow = 0, xup=120)\n",
    "clusterIndex=-1\n",
    "for evtNum, entry in enumerate(MC_tree):\n",
    "    for i in range(MC_tree.nCscRechitClusters):\n",
    "        clusterIndex+=1\n",
    "        if mask[clusterIndex]:\n",
    "            if MC_tree.cscRechitCluster_matchToMuon1[i]==1:\n",
    "                probeIndex=0; tagIndex=1\n",
    "            else:\n",
    "                probeIndex=1; tagIndex=0\n",
    "            weight = getattr(MC_tree, \"weight\")*getattr(MC_tree, \"pileupWeight\")*MC_SF_LooseID[evtNum][probeIndex]*MC_SF_LooseISO[evtNum][probeIndex]*MC_SF_TightID[evtNum][tagIndex]*MC_SF_TightID[evtNum][tagIndex]\n",
    "            #weight = MC_SF_LooseID[evtNum][probeIndex]\n",
    "            if data_tree.lepPt[tagIndex]>26:\n",
    "                weight=weight*MC_SF_HLT[evtNum][tagIndex]\n",
    "            #print(weight)\n",
    "            MC.Fill(getattr(MC_tree, branch)[i], weight)\n",
    "            sumOfWeights+=weight\n",
    "num=sumOfWeights   \n",
    "print(\"numerator: \", num)\n",
    "MC.SetLineColor(rt.kRed)\n",
    "plot_info[name] = {\"MC_hist\": MC, \"data_hist\": data, \"file_name\": name, \"title\": \"Muon Veto Pt\", \"label\": \"Muon Veto Pt [GeV]\", \"scales\": [sumOfWeights, data.GetEntries()], \"logy\": False}"
   ]
  },
  {
   "cell_type": "code",
   "execution_count": 542,
   "id": "894cb16c",
   "metadata": {},
   "outputs": [
    {
     "name": "stdout",
     "output_type": "stream",
     "text": [
      "numerator:  970.1164075334774\n"
     ]
    },
    {
     "name": "stderr",
     "output_type": "stream",
     "text": [
      "Warning in <TFile::Append>: Replacing existing TH1: LeadingPt_Data (Potential memory leak).\n",
      "Warning in <TFile::Append>: Replacing existing TH1: LeadingPt_MC (Potential memory leak).\n"
     ]
    }
   ],
   "source": [
    "branch = \"cscRechitClusterMuonVetoPt\"\n",
    "name = \"MuonVetoPt_noCuts\"\n",
    "data = rt.TH1F(\"LeadingPt_Data\", \"Data\", nbinsx=80, xlow = 0, xup=120)\n",
    "mask = makeEventMask(events_data, [], True)\n",
    "clusterIndex=-1\n",
    "for entry in data_tree:\n",
    "    for i in range(data_tree.nCscRechitClusters):\n",
    "        clusterIndex+=1\n",
    "        if mask[clusterIndex]:\n",
    "            data.Fill(getattr(data_tree, branch)[i])\n",
    "data.SetLineColor(rt.kBlack)\n",
    "\n",
    "sumOfWeights=0\n",
    "mask = makeEventMask(events_MC, [],True)\n",
    "#print(ak.count_nonzero(mask[~ak.is_none(mask)]))\n",
    "MC = rt.TH1F(\"LeadingPt_MC\", \"MC\", nbinsx=80, xlow = 0, xup=120)\n",
    "clusterIndex=-1\n",
    "for evtNum, entry in enumerate(MC_tree):\n",
    "    for i in range(MC_tree.nCscRechitClusters):\n",
    "        clusterIndex+=1\n",
    "        if mask[clusterIndex]:\n",
    "            if MC_tree.cscRechitCluster_matchToMuon1[i]==1:\n",
    "                probeIndex=0; tagIndex=1\n",
    "            else:\n",
    "                probeIndex=1; tagIndex=0\n",
    "            weight = getattr(MC_tree, \"weight\")*getattr(MC_tree, \"pileupWeight\")*MC_SF_LooseID[evtNum][probeIndex]*MC_SF_LooseISO[evtNum][probeIndex]*MC_SF_TightID[evtNum][tagIndex]*MC_SF_TightID[evtNum][tagIndex]\n",
    "            #weight = MC_SF_LooseID[evtNum][probeIndex]\n",
    "            if data_tree.lepPt[tagIndex]>26:\n",
    "                weight=weight*MC_SF_HLT[evtNum][tagIndex]\n",
    "            #print(weight)\n",
    "            MC.Fill(getattr(MC_tree, branch)[i], weight)\n",
    "            sumOfWeights+=weight\n",
    "#num=sumOfWeights   \n",
    "print(\"numerator: \", num)\n",
    "MC.SetLineColor(rt.kRed)\n",
    "plot_info[name] = {\"MC_hist\": MC, \"data_hist\": data, \"file_name\": name, \"title\": \"Muon Veto Pt\", \"label\": \"Muon Veto Pt [GeV]\", \"scales\": [sumOfWeights, data.GetEntries()], \"logy\": False}"
   ]
  },
  {
   "cell_type": "code",
   "execution_count": 543,
   "id": "42383c94",
   "metadata": {},
   "outputs": [
    {
     "name": "stdout",
     "output_type": "stream",
     "text": [
      "cscRechitClusterDNN_bkgMC_plusBeamHalo efficiency  =  0.5671849642020145\n"
     ]
    },
    {
     "name": "stderr",
     "output_type": "stream",
     "text": [
      "Warning in <TFile::Append>: Replacing existing TH1: LeadingPt_Data (Potential memory leak).\n",
      "Warning in <TFile::Append>: Replacing existing TH1: LeadingPt_MC (Potential memory leak).\n"
     ]
    }
   ],
   "source": [
    "branch = \"cscRechitClusterDNN_bkgMC_plusBeamHalo\"\n",
    "name = \"DNNScore\"\n",
    "data = rt.TH1F(\"LeadingPt_Data\", \"Data\", nbinsx=50, xlow = 0, xup=1)\n",
    "mask = makeEventMask(events_data, ['DNN_veto'])\n",
    "clusterIndex=-1\n",
    "for entry in data_tree:\n",
    "    for i in range(data_tree.nCscRechitClusters):\n",
    "        clusterIndex+=1\n",
    "        if mask[clusterIndex]:\n",
    "            data.Fill(getattr(data_tree, branch)[i])\n",
    "data.SetLineColor(rt.kBlack)\n",
    "\n",
    "sumOfWeights=0\n",
    "mask = makeEventMask(events_MC, ['DNN_veto'])\n",
    "#print(ak.count_nonzero(mask[~ak.is_none(mask)]))\n",
    "MC = rt.TH1F(\"LeadingPt_MC\", \"MC\", nbinsx=50, xlow = 0, xup=1)\n",
    "clusterIndex=-1\n",
    "for evtNum, entry in enumerate(MC_tree):\n",
    "    for i in range(MC_tree.nCscRechitClusters):\n",
    "        clusterIndex+=1\n",
    "        if mask[clusterIndex]:\n",
    "            if MC_tree.cscRechitCluster_matchToMuon1[i]==1:\n",
    "                probeIndex=0; tagIndex=1\n",
    "            else:\n",
    "                probeIndex=1; tagIndex=0\n",
    "            weight = getattr(MC_tree, \"weight\")*getattr(MC_tree, \"pileupWeight\")*MC_SF_LooseID[evtNum][probeIndex]*MC_SF_LooseISO[evtNum][probeIndex]*MC_SF_TightID[evtNum][tagIndex]*MC_SF_TightID[evtNum][tagIndex]\n",
    "            #weight = MC_SF_LooseID[evtNum][probeIndex]\n",
    "            if data_tree.lepPt[tagIndex]>26:\n",
    "                weight=weight*MC_SF_HLT[evtNum][tagIndex]\n",
    "            #print(weight)\n",
    "            MC.Fill(getattr(MC_tree, branch)[i], weight)\n",
    "            sumOfWeights+=weight\n",
    "print(branch + \" efficiency  = \", num/sumOfWeights)\n",
    "MC.SetLineColor(rt.kRed)\n",
    "plot_info[name] = {\"MC_hist\": MC, \"data_hist\": data, \"file_name\": name, \"title\": \"DNN Score\", \"label\": \"DNN Score\", \"scales\": [sumOfWeights, data.GetEntries()], \"logy\": True}"
   ]
  },
  {
   "cell_type": "code",
   "execution_count": 544,
   "id": "a02ee468",
   "metadata": {},
   "outputs": [
    {
     "name": "stdout",
     "output_type": "stream",
     "text": [
      "cscRechitClusterDNN_bkgMC_plusBeamHalo efficiency  =  0.5671849642020145\n"
     ]
    },
    {
     "name": "stderr",
     "output_type": "stream",
     "text": [
      "Warning in <TFile::Append>: Replacing existing TH1: LeadingPt_Data (Potential memory leak).\n",
      "Warning in <TFile::Append>: Replacing existing TH1: LeadingPt_MC (Potential memory leak).\n"
     ]
    }
   ],
   "source": [
    "branch = \"cscRechitClusterDNN_bkgMC_plusBeamHalo\"\n",
    "name = \"DNNScore_noCuts\"\n",
    "data = rt.TH1F(\"LeadingPt_Data\", \"Data\", nbinsx=50, xlow = 0, xup=1)\n",
    "mask = makeEventMask(events_data, ['DNN_veto'], True)\n",
    "clusterIndex=-1\n",
    "for entry in data_tree:\n",
    "    for i in range(data_tree.nCscRechitClusters):\n",
    "        clusterIndex+=1\n",
    "        if mask[clusterIndex]:\n",
    "            data.Fill(getattr(data_tree, branch)[i])\n",
    "data.SetLineColor(rt.kBlack)\n",
    "\n",
    "sumOfWeights=0\n",
    "mask = makeEventMask(events_MC, ['DNN_veto'])\n",
    "#print(ak.count_nonzero(mask[~ak.is_none(mask)]))\n",
    "MC = rt.TH1F(\"LeadingPt_MC\", \"MC\", nbinsx=50, xlow = 0, xup=1)\n",
    "clusterIndex=-1\n",
    "for evtNum, entry in enumerate(MC_tree):\n",
    "    for i in range(MC_tree.nCscRechitClusters):\n",
    "        clusterIndex+=1\n",
    "        if mask[clusterIndex]:\n",
    "            if MC_tree.cscRechitCluster_matchToMuon1[i]==1:\n",
    "                probeIndex=0; tagIndex=1\n",
    "            else:\n",
    "                probeIndex=1; tagIndex=0\n",
    "            weight = getattr(MC_tree, \"weight\")*getattr(MC_tree, \"pileupWeight\")*MC_SF_LooseID[evtNum][probeIndex]*MC_SF_LooseISO[evtNum][probeIndex]*MC_SF_TightID[evtNum][tagIndex]*MC_SF_TightID[evtNum][tagIndex]\n",
    "            #weight = MC_SF_LooseID[evtNum][probeIndex]\n",
    "            if data_tree.lepPt[tagIndex]>26:\n",
    "                weight=weight*MC_SF_HLT[evtNum][tagIndex]\n",
    "            #print(weight)\n",
    "            MC.Fill(getattr(MC_tree, branch)[i], weight)\n",
    "            sumOfWeights+=weight\n",
    "print(branch + \" efficiency  = \", num/sumOfWeights)\n",
    "MC.SetLineColor(rt.kRed)\n",
    "plot_info[name] = {\"MC_hist\": MC, \"data_hist\": data, \"file_name\": name, \"title\": \"DNN Score\", \"label\": \"DNN Score\", \"scales\": [sumOfWeights, data.GetEntries()], \"logy\": True}"
   ]
  },
  {
   "cell_type": "code",
   "execution_count": 545,
   "id": "8e04b769",
   "metadata": {},
   "outputs": [
    {
     "name": "stdout",
     "output_type": "stream",
     "text": [
      "cscRechitClusterSize efficiency  =  0.24630124639526657\n"
     ]
    },
    {
     "name": "stderr",
     "output_type": "stream",
     "text": [
      "Warning in <TFile::Append>: Replacing existing TH1: LeadingPt_Data (Potential memory leak).\n",
      "Warning in <TFile::Append>: Replacing existing TH1: LeadingPt_MC (Potential memory leak).\n"
     ]
    }
   ],
   "source": [
    "branch = \"cscRechitClusterSize\"\n",
    "name = \"clusterSize\"\n",
    "data = rt.TH1F(\"LeadingPt_Data\", \"Data\", nbinsx=40, xlow = 0, xup=400)\n",
    "mask = makeEventMask(events_data, ['clusterSize_veto'])\n",
    "clusterIndex=-1\n",
    "for entry in data_tree:\n",
    "    for i in range(data_tree.nCscRechitClusters):\n",
    "        clusterIndex+=1\n",
    "        if mask[clusterIndex]:\n",
    "            data.Fill(getattr(data_tree, branch)[i])\n",
    "data.SetLineColor(rt.kBlack)\n",
    "\n",
    "sumOfWeights=0\n",
    "mask = makeEventMask(events_MC, ['clusterSize_veto'])\n",
    "#print(ak.count_nonzero(mask[~ak.is_none(mask)]))\n",
    "MC = rt.TH1F(\"LeadingPt_MC\", \"MC\", nbinsx=40, xlow = 0, xup=400)\n",
    "clusterIndex=-1\n",
    "for evtNum, entry in enumerate(MC_tree):\n",
    "    for i in range(MC_tree.nCscRechitClusters):\n",
    "        clusterIndex+=1\n",
    "        if mask[clusterIndex]:\n",
    "            if MC_tree.cscRechitCluster_matchToMuon1[i]==1:\n",
    "                probeIndex=0; tagIndex=1\n",
    "            else:\n",
    "                probeIndex=1; tagIndex=0\n",
    "            weight = getattr(MC_tree, \"weight\")*getattr(MC_tree, \"pileupWeight\")*MC_SF_LooseID[evtNum][probeIndex]*MC_SF_LooseISO[evtNum][probeIndex]*MC_SF_TightID[evtNum][tagIndex]*MC_SF_TightID[evtNum][tagIndex]\n",
    "            #weight = MC_SF_LooseID[evtNum][probeIndex]\n",
    "            if data_tree.lepPt[tagIndex]>26:\n",
    "                weight=weight*MC_SF_HLT[evtNum][tagIndex]\n",
    "            #print(weight)\n",
    "            MC.Fill(getattr(MC_tree, branch)[i], weight)\n",
    "            sumOfWeights+=weight\n",
    "        \n",
    "MC.SetLineColor(rt.kRed)\n",
    "print(branch + \" efficiency  = \", num/sumOfWeights)\n",
    "plot_info[name] = {\"MC_hist\": MC, \"data_hist\": data, \"file_name\": name, \"title\": \"Cluster Size\", \"label\": \"N_{rechits}\", \"scales\": [sumOfWeights, data.GetEntries()], \"logy\": True}"
   ]
  },
  {
   "cell_type": "code",
   "execution_count": 546,
   "id": "20fd8af7",
   "metadata": {},
   "outputs": [
    {
     "name": "stdout",
     "output_type": "stream",
     "text": [
      "cscRechitClusterSize efficiency  =  0.048606609205187286\n"
     ]
    },
    {
     "name": "stderr",
     "output_type": "stream",
     "text": [
      "Warning in <TFile::Append>: Replacing existing TH1: LeadingPt_Data (Potential memory leak).\n",
      "Warning in <TFile::Append>: Replacing existing TH1: LeadingPt_MC (Potential memory leak).\n"
     ]
    }
   ],
   "source": [
    "branch = \"cscRechitClusterSize\"\n",
    "name = \"clusterSize_noCuts\"\n",
    "data = rt.TH1F(\"LeadingPt_Data\", \"Data\", nbinsx=40, xlow = 0, xup=400)\n",
    "mask = makeEventMask(events_data, ['clusterSize_veto'], True)\n",
    "clusterIndex=-1\n",
    "for entry in data_tree:\n",
    "    for i in range(data_tree.nCscRechitClusters):\n",
    "        clusterIndex+=1\n",
    "        if mask[clusterIndex]:\n",
    "            data.Fill(getattr(data_tree, branch)[i])\n",
    "data.SetLineColor(rt.kBlack)\n",
    "\n",
    "sumOfWeights=0\n",
    "mask = makeEventMask(events_MC, ['clusterSize_veto'], True)\n",
    "#print(ak.count_nonzero(mask[~ak.is_none(mask)]))\n",
    "MC = rt.TH1F(\"LeadingPt_MC\", \"MC\", nbinsx=40, xlow = 0, xup=400)\n",
    "clusterIndex=-1\n",
    "for evtNum, entry in enumerate(MC_tree):\n",
    "    for i in range(MC_tree.nCscRechitClusters):\n",
    "        clusterIndex+=1\n",
    "        if mask[clusterIndex]:\n",
    "            if MC_tree.cscRechitCluster_matchToMuon1[i]==1:\n",
    "                probeIndex=0; tagIndex=1\n",
    "            else:\n",
    "                probeIndex=1; tagIndex=0\n",
    "            weight = getattr(MC_tree, \"weight\")*getattr(MC_tree, \"pileupWeight\")*MC_SF_LooseID[evtNum][probeIndex]*MC_SF_LooseISO[evtNum][probeIndex]*MC_SF_TightID[evtNum][tagIndex]*MC_SF_TightID[evtNum][tagIndex]\n",
    "            #weight = MC_SF_LooseID[evtNum][probeIndex]\n",
    "            if data_tree.lepPt[tagIndex]>26:\n",
    "                weight=weight*MC_SF_HLT[evtNum][tagIndex]\n",
    "            #print(weight)\n",
    "            MC.Fill(getattr(MC_tree, branch)[i], weight)\n",
    "            sumOfWeights+=weight\n",
    "        \n",
    "MC.SetLineColor(rt.kRed)\n",
    "print(branch + \" efficiency  = \", num/sumOfWeights)\n",
    "plot_info[name] = {\"MC_hist\": MC, \"data_hist\": data, \"file_name\": name, \"title\": \"Cluster Size\", \"label\": \"N_{rechits}\", \"scales\": [sumOfWeights, data.GetEntries()], \"logy\": True}"
   ]
  },
  {
   "cell_type": "code",
   "execution_count": 547,
   "id": "1d289e4a",
   "metadata": {},
   "outputs": [
    {
     "name": "stdout",
     "output_type": "stream",
     "text": [
      "cscRechitClusterEta efficiency  =  1.0\n"
     ]
    },
    {
     "name": "stderr",
     "output_type": "stream",
     "text": [
      "Warning in <TFile::Append>: Replacing existing TH1: LeadingPt_Data (Potential memory leak).\n",
      "Warning in <TFile::Append>: Replacing existing TH1: LeadingPt_MC (Potential memory leak).\n"
     ]
    }
   ],
   "source": [
    "branch = \"cscRechitClusterEta\"\n",
    "name = \"clusterEta\"\n",
    "data = rt.TH1F(\"LeadingPt_Data\", \"Data\", nbinsx=60, xlow = -4, xup=4)\n",
    "mask = makeEventMask(events_data)\n",
    "clusterIndex=-1\n",
    "for entry in data_tree:\n",
    "    for i in range(data_tree.nCscRechitClusters):\n",
    "        clusterIndex+=1\n",
    "        if mask[clusterIndex]:\n",
    "            data.Fill(getattr(data_tree, branch)[i])\n",
    "data.SetLineColor(rt.kBlack)\n",
    "\n",
    "sumOfWeights=0\n",
    "mask = makeEventMask(events_MC)\n",
    "#print(ak.count_nonzero(mask[~ak.is_none(mask)]))\n",
    "MC = rt.TH1F(\"LeadingPt_MC\", \"MC\", nbinsx=60, xlow = -4, xup=4)\n",
    "clusterIndex=-1\n",
    "for evtNum, entry in enumerate(MC_tree):\n",
    "    for i in range(MC_tree.nCscRechitClusters):\n",
    "        clusterIndex+=1\n",
    "        if mask[clusterIndex]:\n",
    "            if MC_tree.cscRechitCluster_matchToMuon1[i]==1:\n",
    "                probeIndex=0; tagIndex=1\n",
    "            else:\n",
    "                probeIndex=1; tagIndex=0\n",
    "            weight = getattr(MC_tree, \"weight\")*getattr(MC_tree, \"pileupWeight\")*MC_SF_LooseID[evtNum][probeIndex]*MC_SF_LooseISO[evtNum][probeIndex]*MC_SF_TightID[evtNum][tagIndex]*MC_SF_TightID[evtNum][tagIndex]\n",
    "            #weight = MC_SF_LooseID[evtNum][probeIndex]\n",
    "            if data_tree.lepPt[tagIndex]>26:\n",
    "                weight=weight*MC_SF_HLT[evtNum][tagIndex]\n",
    "            #print(weight)\n",
    "            MC.Fill(getattr(MC_tree, branch)[i], weight)\n",
    "            sumOfWeights+=weight\n",
    "print(branch + \" efficiency  = \", num/sumOfWeights)        \n",
    "MC.SetLineColor(rt.kRed)\n",
    "plot_info[name] = {\"MC_hist\": MC, \"data_hist\": data, \"file_name\": name, \"title\": \"Cluster Eta\", \"label\": \"Cluster Eta\", \"scales\": [sumOfWeights, data.GetEntries()], \"logy\": False}"
   ]
  },
  {
   "cell_type": "code",
   "execution_count": 548,
   "id": "1e4734c8",
   "metadata": {},
   "outputs": [
    {
     "name": "stdout",
     "output_type": "stream",
     "text": [
      "cscRechitClusterEta efficiency  =  0.048606609205187286\n"
     ]
    },
    {
     "name": "stderr",
     "output_type": "stream",
     "text": [
      "Warning in <TFile::Append>: Replacing existing TH1: LeadingPt_Data (Potential memory leak).\n",
      "Warning in <TFile::Append>: Replacing existing TH1: LeadingPt_MC (Potential memory leak).\n"
     ]
    }
   ],
   "source": [
    "branch = \"cscRechitClusterEta\"\n",
    "name = \"clusterEta_noCuts\"\n",
    "data = rt.TH1F(\"LeadingPt_Data\", \"Data\", nbinsx=60, xlow = -4, xup=4)\n",
    "mask = makeEventMask(events_data, [], True)\n",
    "clusterIndex=-1\n",
    "for entry in data_tree:\n",
    "    for i in range(data_tree.nCscRechitClusters):\n",
    "        clusterIndex+=1\n",
    "        if mask[clusterIndex]:\n",
    "            data.Fill(getattr(data_tree, branch)[i])\n",
    "data.SetLineColor(rt.kBlack)\n",
    "\n",
    "sumOfWeights=0\n",
    "mask = makeEventMask(events_MC, [], True)\n",
    "#print(ak.count_nonzero(mask[~ak.is_none(mask)]))\n",
    "MC = rt.TH1F(\"LeadingPt_MC\", \"MC\", nbinsx=60, xlow = -4, xup=4)\n",
    "clusterIndex=-1\n",
    "for evtNum, entry in enumerate(MC_tree):\n",
    "    for i in range(MC_tree.nCscRechitClusters):\n",
    "        clusterIndex+=1\n",
    "        if mask[clusterIndex]:\n",
    "            if MC_tree.cscRechitCluster_matchToMuon1[i]==1:\n",
    "                probeIndex=0; tagIndex=1\n",
    "            else:\n",
    "                probeIndex=1; tagIndex=0\n",
    "            weight = getattr(MC_tree, \"weight\")*getattr(MC_tree, \"pileupWeight\")*MC_SF_LooseID[evtNum][probeIndex]*MC_SF_LooseISO[evtNum][probeIndex]*MC_SF_TightID[evtNum][tagIndex]*MC_SF_TightID[evtNum][tagIndex]\n",
    "            #weight = MC_SF_LooseID[evtNum][probeIndex]\n",
    "            if data_tree.lepPt[tagIndex]>26:\n",
    "                weight=weight*MC_SF_HLT[evtNum][tagIndex]\n",
    "            #print(weight)\n",
    "            MC.Fill(getattr(MC_tree, branch)[i], weight)\n",
    "            sumOfWeights+=weight\n",
    "print(branch + \" efficiency  = \", num/sumOfWeights)        \n",
    "MC.SetLineColor(rt.kRed)\n",
    "plot_info[name] = {\"MC_hist\": MC, \"data_hist\": data, \"file_name\": name, \"title\": \"Cluster Eta\", \"label\": \"Cluster Eta\", \"scales\": [sumOfWeights, data.GetEntries()], \"logy\": False}"
   ]
  },
  {
   "cell_type": "code",
   "execution_count": 549,
   "id": "8460be20",
   "metadata": {},
   "outputs": [
    {
     "name": "stdout",
     "output_type": "stream",
     "text": [
      "cscRechitClusterPhi efficiency  =  1.0\n"
     ]
    },
    {
     "name": "stderr",
     "output_type": "stream",
     "text": [
      "Warning in <TFile::Append>: Replacing existing TH1: LeadingPt_Data (Potential memory leak).\n",
      "Warning in <TFile::Append>: Replacing existing TH1: LeadingPt_MC (Potential memory leak).\n"
     ]
    }
   ],
   "source": [
    "branch = \"cscRechitClusterPhi\"\n",
    "name = \"clusterPhi\"\n",
    "data = rt.TH1F(\"LeadingPt_Data\", \"Data\", nbinsx=30, xlow = -4, xup=4)\n",
    "mask = makeEventMask(events_data)\n",
    "clusterIndex=-1\n",
    "for entry in data_tree:\n",
    "    for i in range(data_tree.nCscRechitClusters):\n",
    "        clusterIndex+=1\n",
    "        if mask[clusterIndex]:\n",
    "            data.Fill(getattr(data_tree, branch)[i])\n",
    "data.SetLineColor(rt.kBlack)\n",
    "\n",
    "sumOfWeights=0\n",
    "mask = makeEventMask(events_MC)\n",
    "#print(ak.count_nonzero(mask[~ak.is_none(mask)]))\n",
    "MC = rt.TH1F(\"LeadingPt_MC\", \"MC\", nbinsx=30, xlow = -4, xup=4)\n",
    "clusterIndex=-1\n",
    "for evtNum, entry in enumerate(MC_tree):\n",
    "    for i in range(MC_tree.nCscRechitClusters):\n",
    "        clusterIndex+=1\n",
    "        if mask[clusterIndex]:\n",
    "            if MC_tree.cscRechitCluster_matchToMuon1[i]==1:\n",
    "                probeIndex=0; tagIndex=1\n",
    "            else:\n",
    "                probeIndex=1; tagIndex=0\n",
    "            weight = getattr(MC_tree, \"weight\")*getattr(MC_tree, \"pileupWeight\")*MC_SF_LooseID[evtNum][probeIndex]*MC_SF_LooseISO[evtNum][probeIndex]*MC_SF_TightID[evtNum][tagIndex]*MC_SF_TightID[evtNum][tagIndex]\n",
    "            #weight = MC_SF_LooseID[evtNum][probeIndex]\n",
    "            if data_tree.lepPt[tagIndex]>26:\n",
    "                weight=weight*MC_SF_HLT[evtNum][tagIndex]\n",
    "            #print(weight)\n",
    "            MC.Fill(getattr(MC_tree, branch)[i], weight)\n",
    "            sumOfWeights+=weight\n",
    "print(branch + \" efficiency  = \", num/sumOfWeights)        \n",
    "MC.SetLineColor(rt.kRed)\n",
    "plot_info[name] = {\"MC_hist\": MC, \"data_hist\": data, \"file_name\": name, \"title\": \"Cluster Phi\", \"label\": \"Cluster Phi\", \"scales\": [sumOfWeights, data.GetEntries()], \"logy\": False}"
   ]
  },
  {
   "cell_type": "code",
   "execution_count": 550,
   "id": "9af6600a",
   "metadata": {},
   "outputs": [
    {
     "name": "stdout",
     "output_type": "stream",
     "text": [
      "cscRechitClusterPhi efficiency  =  0.048606609205187286\n"
     ]
    },
    {
     "name": "stderr",
     "output_type": "stream",
     "text": [
      "Warning in <TFile::Append>: Replacing existing TH1: LeadingPt_Data (Potential memory leak).\n",
      "Warning in <TFile::Append>: Replacing existing TH1: LeadingPt_MC (Potential memory leak).\n"
     ]
    }
   ],
   "source": [
    "branch = \"cscRechitClusterPhi\"\n",
    "name = \"clusterPhi_noCuts\"\n",
    "data = rt.TH1F(\"LeadingPt_Data\", \"Data\", nbinsx=30, xlow = -4, xup=4)\n",
    "mask = makeEventMask(events_data, [], True)\n",
    "clusterIndex=-1\n",
    "for entry in data_tree:\n",
    "    for i in range(data_tree.nCscRechitClusters):\n",
    "        clusterIndex+=1\n",
    "        if mask[clusterIndex]:\n",
    "            data.Fill(getattr(data_tree, branch)[i])\n",
    "data.SetLineColor(rt.kBlack)\n",
    "\n",
    "sumOfWeights=0\n",
    "mask = makeEventMask(events_MC, [], True)\n",
    "#print(ak.count_nonzero(mask[~ak.is_none(mask)]))\n",
    "MC = rt.TH1F(\"LeadingPt_MC\", \"MC\", nbinsx=30, xlow = -4, xup=4)\n",
    "clusterIndex=-1\n",
    "for evtNum, entry in enumerate(MC_tree):\n",
    "    for i in range(MC_tree.nCscRechitClusters):\n",
    "        clusterIndex+=1\n",
    "        if mask[clusterIndex]:\n",
    "            if MC_tree.cscRechitCluster_matchToMuon1[i]==1:\n",
    "                probeIndex=0; tagIndex=1\n",
    "            else:\n",
    "                probeIndex=1; tagIndex=0\n",
    "            weight = getattr(MC_tree, \"weight\")*getattr(MC_tree, \"pileupWeight\")*MC_SF_LooseID[evtNum][probeIndex]*MC_SF_LooseISO[evtNum][probeIndex]*MC_SF_TightID[evtNum][tagIndex]*MC_SF_TightID[evtNum][tagIndex]\n",
    "            #weight = MC_SF_LooseID[evtNum][probeIndex]\n",
    "            if data_tree.lepPt[tagIndex]>26:\n",
    "                weight=weight*MC_SF_HLT[evtNum][tagIndex]\n",
    "            #print(weight)\n",
    "            MC.Fill(getattr(MC_tree, branch)[i], weight)\n",
    "            sumOfWeights+=weight\n",
    "print(branch + \" efficiency  = \", num/sumOfWeights)        \n",
    "MC.SetLineColor(rt.kRed)\n",
    "plot_info[name] = {\"MC_hist\": MC, \"data_hist\": data, \"file_name\": name, \"title\": \"Cluster Phi\", \"label\": \"Cluster Phi\", \"scales\": [sumOfWeights, data.GetEntries()], \"logy\": False}"
   ]
  },
  {
   "cell_type": "code",
   "execution_count": 551,
   "id": "75dd0adf",
   "metadata": {},
   "outputs": [
    {
     "name": "stdout",
     "output_type": "stream",
     "text": [
      "cscRechitClusterTimeWeighted efficiency  =  1.0\n"
     ]
    },
    {
     "name": "stderr",
     "output_type": "stream",
     "text": [
      "Warning in <TFile::Append>: Replacing existing TH1: LeadingPt_Data (Potential memory leak).\n",
      "Warning in <TFile::Append>: Replacing existing TH1: LeadingPt_MC (Potential memory leak).\n"
     ]
    }
   ],
   "source": [
    "branch = \"cscRechitClusterTimeWeighted\"\n",
    "name = \"clusterTime\"\n",
    "data = rt.TH1F(\"LeadingPt_Data\", \"Data\", nbinsx=60, xlow = -8, xup=20)\n",
    "mask = makeEventMask(events_data, ['time_veto'])\n",
    "clusterIndex=-1\n",
    "for entry in data_tree:\n",
    "    for i in range(data_tree.nCscRechitClusters):\n",
    "        clusterIndex+=1\n",
    "        if mask[clusterIndex]:\n",
    "            data.Fill(getattr(data_tree, branch)[i])\n",
    "data.SetLineColor(rt.kBlack)\n",
    "\n",
    "sumOfWeights=0\n",
    "mask = makeEventMask(events_MC, ['time_veto'])\n",
    "#print(ak.count_nonzero(mask[~ak.is_none(mask)]))\n",
    "MC = rt.TH1F(\"LeadingPt_MC\", \"MC\", nbinsx=60, xlow = -8, xup=20)\n",
    "clusterIndex=-1\n",
    "for evtNum, entry in enumerate(MC_tree):\n",
    "    for i in range(MC_tree.nCscRechitClusters):\n",
    "        clusterIndex+=1\n",
    "        if mask[clusterIndex]:\n",
    "            if MC_tree.cscRechitCluster_matchToMuon1[i]==1:\n",
    "                probeIndex=0; tagIndex=1\n",
    "            else:\n",
    "                probeIndex=1; tagIndex=0\n",
    "            weight = getattr(MC_tree, \"weight\")*getattr(MC_tree, \"pileupWeight\")*MC_SF_LooseID[evtNum][probeIndex]*MC_SF_LooseISO[evtNum][probeIndex]*MC_SF_TightID[evtNum][tagIndex]*MC_SF_TightID[evtNum][tagIndex]\n",
    "            #weight = MC_SF_LooseID[evtNum][probeIndex]\n",
    "            if data_tree.lepPt[tagIndex]>26:\n",
    "                weight=weight*MC_SF_HLT[evtNum][tagIndex]\n",
    "            #print(weight)\n",
    "            MC.Fill(getattr(MC_tree, branch)[i], weight)\n",
    "            sumOfWeights+=weight\n",
    "print(branch + \" efficiency  = \", num/sumOfWeights)       \n",
    "MC.SetLineColor(rt.kRed)\n",
    "plot_info[name] = {\"MC_hist\": MC, \"data_hist\": data, \"file_name\": name, \"title\": \"Weighted Cluster Time\", \"label\": \"Weighted Cluster Time [ns]\", \"scales\": [sumOfWeights, data.GetEntries()], \"logy\": False}"
   ]
  },
  {
   "cell_type": "code",
   "execution_count": 552,
   "id": "b07bf841",
   "metadata": {},
   "outputs": [
    {
     "name": "stdout",
     "output_type": "stream",
     "text": [
      "cscRechitClusterTimeWeighted efficiency  =  0.048606609205187286\n"
     ]
    },
    {
     "name": "stderr",
     "output_type": "stream",
     "text": [
      "Warning in <TFile::Append>: Replacing existing TH1: LeadingPt_Data (Potential memory leak).\n",
      "Warning in <TFile::Append>: Replacing existing TH1: LeadingPt_MC (Potential memory leak).\n"
     ]
    }
   ],
   "source": [
    "branch = \"cscRechitClusterTimeWeighted\"\n",
    "name = \"clusterTime_noCuts\"\n",
    "data = rt.TH1F(\"LeadingPt_Data\", \"Data\", nbinsx=60, xlow = -8, xup=20)\n",
    "mask = makeEventMask(events_data, ['time_veto'], True)\n",
    "clusterIndex=-1\n",
    "for entry in data_tree:\n",
    "    for i in range(data_tree.nCscRechitClusters):\n",
    "        clusterIndex+=1\n",
    "        if mask[clusterIndex]:\n",
    "            data.Fill(getattr(data_tree, branch)[i])\n",
    "data.SetLineColor(rt.kBlack)\n",
    "\n",
    "sumOfWeights=0\n",
    "mask = makeEventMask(events_MC, ['time_veto'], True)\n",
    "#print(ak.count_nonzero(mask[~ak.is_none(mask)]))\n",
    "MC = rt.TH1F(\"LeadingPt_MC\", \"MC\", nbinsx=60, xlow = -8, xup=20)\n",
    "clusterIndex=-1\n",
    "for evtNum, entry in enumerate(MC_tree):\n",
    "    for i in range(MC_tree.nCscRechitClusters):\n",
    "        clusterIndex+=1\n",
    "        if mask[clusterIndex]:\n",
    "            if MC_tree.cscRechitCluster_matchToMuon1[i]==1:\n",
    "                probeIndex=0; tagIndex=1\n",
    "            else:\n",
    "                probeIndex=1; tagIndex=0\n",
    "            weight = getattr(MC_tree, \"weight\")*getattr(MC_tree, \"pileupWeight\")*MC_SF_LooseID[evtNum][probeIndex]*MC_SF_LooseISO[evtNum][probeIndex]*MC_SF_TightID[evtNum][tagIndex]*MC_SF_TightID[evtNum][tagIndex]\n",
    "            #weight = MC_SF_LooseID[evtNum][probeIndex]\n",
    "            if data_tree.lepPt[tagIndex]>26:\n",
    "                weight=weight*MC_SF_HLT[evtNum][tagIndex]\n",
    "            #print(weight)\n",
    "            MC.Fill(getattr(MC_tree, branch)[i], weight)\n",
    "            sumOfWeights+=weight\n",
    "print(branch + \" efficiency  = \", num/sumOfWeights)       \n",
    "MC.SetLineColor(rt.kRed)\n",
    "plot_info[name] = {\"MC_hist\": MC, \"data_hist\": data, \"file_name\": name, \"title\": \"Weighted Cluster Time\", \"label\": \"Weighted Cluster Time [ns]\", \"scales\": [sumOfWeights, data.GetEntries()], \"logy\": False}"
   ]
  },
  {
   "cell_type": "code",
   "execution_count": 587,
   "id": "0617ee4c",
   "metadata": {},
   "outputs": [
    {
     "name": "stdout",
     "output_type": "stream",
     "text": [
      "cscRechitClusterTimeSpreadWeightedAll efficiency  =  1.0\n"
     ]
    },
    {
     "name": "stderr",
     "output_type": "stream",
     "text": [
      "Warning in <TFile::Append>: Replacing existing TH1: LeadingPt_Data (Potential memory leak).\n",
      "Warning in <TFile::Append>: Replacing existing TH1: LeadingPt_MC (Potential memory leak).\n"
     ]
    }
   ],
   "source": [
    "branch = \"cscRechitClusterTimeSpreadWeightedAll\"\n",
    "name = \"clusterTimeSpreadWeightedAll\"\n",
    "data = rt.TH1F(\"LeadingPt_Data\", \"Data\", nbinsx=60, xlow = -8, xup=50)\n",
    "mask = makeEventMask(events_data, [\"timespread_veto\"])\n",
    "clusterIndex=-1\n",
    "for entry in data_tree:\n",
    "    for i in range(data_tree.nCscRechitClusters):\n",
    "        clusterIndex+=1\n",
    "        if mask[clusterIndex]:\n",
    "            data.Fill(getattr(data_tree, branch)[i])\n",
    "data.SetLineColor(rt.kBlack)\n",
    "\n",
    "sumOfWeights=0\n",
    "mask = makeEventMask(events_MC, [\"timespread_veto\"])\n",
    "#print(ak.count_nonzero(mask[~ak.is_none(mask)]))\n",
    "MC = rt.TH1F(\"LeadingPt_MC\", \"MC\", nbinsx=60, xlow = -8, xup=50)\n",
    "clusterIndex=-1\n",
    "for evtNum, entry in enumerate(MC_tree):\n",
    "    for i in range(MC_tree.nCscRechitClusters):\n",
    "        clusterIndex+=1\n",
    "        if mask[clusterIndex]:\n",
    "            if MC_tree.cscRechitCluster_matchToMuon1[i]==1:\n",
    "                probeIndex=0; tagIndex=1\n",
    "            else:\n",
    "                probeIndex=1; tagIndex=0\n",
    "            weight = getattr(MC_tree, \"weight\")*getattr(MC_tree, \"pileupWeight\")*MC_SF_LooseID[evtNum][probeIndex]*MC_SF_LooseISO[evtNum][probeIndex]*MC_SF_TightID[evtNum][tagIndex]*MC_SF_TightID[evtNum][tagIndex]\n",
    "            #weight = MC_SF_LooseID[evtNum][probeIndex]\n",
    "            if data_tree.lepPt[tagIndex]>26:\n",
    "                weight=weight*MC_SF_HLT[evtNum][tagIndex]\n",
    "            #print(weight)\n",
    "            MC.Fill(getattr(MC_tree, branch)[i], weight)\n",
    "            sumOfWeights+=weight\n",
    "print(branch + \" efficiency  = \", num/sumOfWeights)        \n",
    "MC.SetLineColor(rt.kRed)\n",
    "plot_info[name] = {\"MC_hist\": MC, \"data_hist\": data, \"file_name\": name, \"title\": \"Weighted Cluster Time Spread\", \"label\": \"Weighted Cluster Time Spread [ns]\", \"scales\": [sumOfWeights, data.GetEntries()], \"logy\": False}"
   ]
  },
  {
   "cell_type": "code",
   "execution_count": 588,
   "id": "8e623949",
   "metadata": {},
   "outputs": [
    {
     "name": "stdout",
     "output_type": "stream",
     "text": [
      "cscRechitClusterTimeSpreadWeightedAll efficiency  =  0.048606609205187286\n"
     ]
    },
    {
     "name": "stderr",
     "output_type": "stream",
     "text": [
      "Warning in <TFile::Append>: Replacing existing TH1: LeadingPt_Data (Potential memory leak).\n",
      "Warning in <TFile::Append>: Replacing existing TH1: LeadingPt_MC (Potential memory leak).\n"
     ]
    }
   ],
   "source": [
    "branch = \"cscRechitClusterTimeSpreadWeightedAll\"\n",
    "name = \"clusterTimeSpreadWeightedAll_noCuts\"\n",
    "data = rt.TH1F(\"LeadingPt_Data\", \"Data\", nbinsx=60, xlow = -8, xup=50)\n",
    "mask = makeEventMask(events_data, [], True)\n",
    "clusterIndex=-1\n",
    "for entry in data_tree:\n",
    "    for i in range(data_tree.nCscRechitClusters):\n",
    "        clusterIndex+=1\n",
    "        if mask[clusterIndex]:\n",
    "            data.Fill(getattr(data_tree, branch)[i])\n",
    "data.SetLineColor(rt.kBlack)\n",
    "\n",
    "sumOfWeights=0\n",
    "mask = makeEventMask(events_MC, [], True)\n",
    "#print(ak.count_nonzero(mask[~ak.is_none(mask)]))\n",
    "MC = rt.TH1F(\"LeadingPt_MC\", \"MC\", nbinsx=60, xlow = -8, xup=50)\n",
    "clusterIndex=-1\n",
    "for evtNum, entry in enumerate(MC_tree):\n",
    "    for i in range(MC_tree.nCscRechitClusters):\n",
    "        clusterIndex+=1\n",
    "        if mask[clusterIndex]:\n",
    "            if MC_tree.cscRechitCluster_matchToMuon1[i]==1:\n",
    "                probeIndex=0; tagIndex=1\n",
    "            else:\n",
    "                probeIndex=1; tagIndex=0\n",
    "            weight = getattr(MC_tree, \"weight\")*getattr(MC_tree, \"pileupWeight\")*MC_SF_LooseID[evtNum][probeIndex]*MC_SF_LooseISO[evtNum][probeIndex]*MC_SF_TightID[evtNum][tagIndex]*MC_SF_TightID[evtNum][tagIndex]\n",
    "            #weight = MC_SF_LooseID[evtNum][probeIndex]\n",
    "            if data_tree.lepPt[tagIndex]>26:\n",
    "                weight=weight*MC_SF_HLT[evtNum][tagIndex]\n",
    "            #print(weight)\n",
    "            MC.Fill(getattr(MC_tree, branch)[i], weight)\n",
    "            sumOfWeights+=weight\n",
    "print(branch + \" efficiency  = \", num/sumOfWeights)        \n",
    "MC.SetLineColor(rt.kRed)\n",
    "plot_info[name] = {\"MC_hist\": MC, \"data_hist\": data, \"file_name\": name, \"title\": \"Weighted Cluster Time Spread\", \"label\": \"Weighted Cluster Time Spread [ns]\", \"scales\": [sumOfWeights, data.GetEntries()], \"logy\": False}"
   ]
  },
  {
   "cell_type": "code",
   "execution_count": 555,
   "id": "fd8ed6a9",
   "metadata": {},
   "outputs": [
    {
     "name": "stdout",
     "output_type": "stream",
     "text": [
      "cscRechitClusterNStation10 efficiency  =  1.0\n"
     ]
    },
    {
     "name": "stderr",
     "output_type": "stream",
     "text": [
      "Warning in <TFile::Append>: Replacing existing TH1: LeadingPt_Data (Potential memory leak).\n",
      "Warning in <TFile::Append>: Replacing existing TH1: LeadingPt_MC (Potential memory leak).\n"
     ]
    }
   ],
   "source": [
    "branch = \"cscRechitClusterNStation10\"\n",
    "name = \"clusterNStation10\"\n",
    "data = rt.TH1F(\"LeadingPt_Data\", \"Data\", nbinsx=5, xlow = 0, xup=5)\n",
    "mask = makeEventMask(events_data)\n",
    "clusterIndex=-1\n",
    "for entry in data_tree:\n",
    "    for i in range(data_tree.nCscRechitClusters):\n",
    "        clusterIndex+=1\n",
    "        if mask[clusterIndex]:\n",
    "            data.Fill(getattr(data_tree, branch)[i])\n",
    "data.SetLineColor(rt.kBlack)\n",
    "\n",
    "sumOfWeights=0\n",
    "mask = makeEventMask(events_MC)\n",
    "#print(ak.count_nonzero(mask[~ak.is_none(mask)]))\n",
    "MC = rt.TH1F(\"LeadingPt_MC\", \"MC\", nbinsx=5, xlow = 0, xup=5)\n",
    "clusterIndex=-1\n",
    "for evtNum, entry in enumerate(MC_tree):\n",
    "    for i in range(MC_tree.nCscRechitClusters):\n",
    "        clusterIndex+=1\n",
    "        if mask[clusterIndex]:\n",
    "            if MC_tree.cscRechitCluster_matchToMuon1[i]==1:\n",
    "                probeIndex=0; tagIndex=1\n",
    "            else:\n",
    "                probeIndex=1; tagIndex=0\n",
    "            weight = getattr(MC_tree, \"weight\")*getattr(MC_tree, \"pileupWeight\")*MC_SF_LooseID[evtNum][probeIndex]*MC_SF_LooseISO[evtNum][probeIndex]*MC_SF_TightID[evtNum][tagIndex]*MC_SF_TightID[evtNum][tagIndex]\n",
    "            #weight = MC_SF_LooseID[evtNum][probeIndex]\n",
    "            if data_tree.lepPt[tagIndex]>26:\n",
    "                weight=weight*MC_SF_HLT[evtNum][tagIndex]\n",
    "            #print(weight)\n",
    "            MC.Fill(getattr(MC_tree, branch)[i], weight)\n",
    "            sumOfWeights+=weight\n",
    "print(branch + \" efficiency  = \", num/sumOfWeights)        \n",
    "MC.SetLineColor(rt.kRed)\n",
    "plot_info[name] = {\"MC_hist\": MC, \"data_hist\": data, \"file_name\": name, \"title\": \"Number of Stations with >=10 Rechits\", \"label\": \"NStation10\", \"scales\": [sumOfWeights, data.GetEntries()], \"logy\": False}"
   ]
  },
  {
   "cell_type": "code",
   "execution_count": 556,
   "id": "ede52943",
   "metadata": {},
   "outputs": [
    {
     "name": "stdout",
     "output_type": "stream",
     "text": [
      "cscRechitClusterNStation10 efficiency  =  0.048606609205187286\n"
     ]
    },
    {
     "name": "stderr",
     "output_type": "stream",
     "text": [
      "Warning in <TFile::Append>: Replacing existing TH1: LeadingPt_Data (Potential memory leak).\n",
      "Warning in <TFile::Append>: Replacing existing TH1: LeadingPt_MC (Potential memory leak).\n"
     ]
    }
   ],
   "source": [
    "branch = \"cscRechitClusterNStation10\"\n",
    "name = \"clusterNStation10_noCuts\"\n",
    "data = rt.TH1F(\"LeadingPt_Data\", \"Data\", nbinsx=5, xlow = 0, xup=5)\n",
    "mask = makeEventMask(events_data, [], True)\n",
    "clusterIndex=-1\n",
    "for entry in data_tree:\n",
    "    for i in range(data_tree.nCscRechitClusters):\n",
    "        clusterIndex+=1\n",
    "        if mask[clusterIndex]:\n",
    "            data.Fill(getattr(data_tree, branch)[i])\n",
    "data.SetLineColor(rt.kBlack)\n",
    "\n",
    "sumOfWeights=0\n",
    "mask = makeEventMask(events_MC, [], True)\n",
    "#print(ak.count_nonzero(mask[~ak.is_none(mask)]))\n",
    "MC = rt.TH1F(\"LeadingPt_MC\", \"MC\", nbinsx=5, xlow = 0, xup=5)\n",
    "clusterIndex=-1\n",
    "for evtNum, entry in enumerate(MC_tree):\n",
    "    for i in range(MC_tree.nCscRechitClusters):\n",
    "        clusterIndex+=1\n",
    "        if mask[clusterIndex]:\n",
    "            if MC_tree.cscRechitCluster_matchToMuon1[i]==1:\n",
    "                probeIndex=0; tagIndex=1\n",
    "            else:\n",
    "                probeIndex=1; tagIndex=0\n",
    "            weight = getattr(MC_tree, \"weight\")*getattr(MC_tree, \"pileupWeight\")*MC_SF_LooseID[evtNum][probeIndex]*MC_SF_LooseISO[evtNum][probeIndex]*MC_SF_TightID[evtNum][tagIndex]*MC_SF_TightID[evtNum][tagIndex]\n",
    "            #weight = MC_SF_LooseID[evtNum][probeIndex]\n",
    "            if data_tree.lepPt[tagIndex]>26:\n",
    "                weight=weight*MC_SF_HLT[evtNum][tagIndex]\n",
    "            #print(weight)\n",
    "            MC.Fill(getattr(MC_tree, branch)[i], weight)\n",
    "            sumOfWeights+=weight\n",
    "print(branch + \" efficiency  = \", num/sumOfWeights)        \n",
    "MC.SetLineColor(rt.kRed)\n",
    "plot_info[name] = {\"MC_hist\": MC, \"data_hist\": data, \"file_name\": name, \"title\": \"Number of Stations with >=10 Rechits\", \"label\": \"NStation10\", \"scales\": [sumOfWeights, data.GetEntries()], \"logy\": False}"
   ]
  },
  {
   "cell_type": "code",
   "execution_count": 557,
   "id": "5bc3cdfb",
   "metadata": {},
   "outputs": [
    {
     "name": "stdout",
     "output_type": "stream",
     "text": [
      "cscRechitClusterXSpread efficiency  =  1.0\n"
     ]
    },
    {
     "name": "stderr",
     "output_type": "stream",
     "text": [
      "Warning in <TFile::Append>: Replacing existing TH1: LeadingPt_Data (Potential memory leak).\n",
      "Warning in <TFile::Append>: Replacing existing TH1: LeadingPt_MC (Potential memory leak).\n"
     ]
    }
   ],
   "source": [
    "branch = \"cscRechitClusterXSpread\"\n",
    "name = \"clusterXSpread\"\n",
    "data = rt.TH1F(\"LeadingPt_Data\", \"Data\", nbinsx=25, xlow = -5, xup=75)\n",
    "mask = makeEventMask(events_data)\n",
    "clusterIndex=-1\n",
    "for entry in data_tree:\n",
    "    for i in range(data_tree.nCscRechitClusters):\n",
    "        clusterIndex+=1\n",
    "        if mask[clusterIndex]:\n",
    "            data.Fill(getattr(data_tree, branch)[i])\n",
    "data.SetLineColor(rt.kBlack)\n",
    "\n",
    "sumOfWeights=0\n",
    "mask = makeEventMask(events_MC)\n",
    "#print(ak.count_nonzero(mask[~ak.is_none(mask)]))\n",
    "MC = rt.TH1F(\"LeadingPt_MC\", \"MC\", nbinsx=25, xlow = -5, xup=75)\n",
    "clusterIndex=-1\n",
    "for evtNum, entry in enumerate(MC_tree):\n",
    "    for i in range(MC_tree.nCscRechitClusters):\n",
    "        clusterIndex+=1\n",
    "        if mask[clusterIndex]:\n",
    "            if MC_tree.cscRechitCluster_matchToMuon1[i]==1:\n",
    "                probeIndex=0; tagIndex=1\n",
    "            else:\n",
    "                probeIndex=1; tagIndex=0\n",
    "            weight = getattr(MC_tree, \"weight\")*getattr(MC_tree, \"pileupWeight\")*MC_SF_LooseID[evtNum][probeIndex]*MC_SF_LooseISO[evtNum][probeIndex]*MC_SF_TightID[evtNum][tagIndex]*MC_SF_TightID[evtNum][tagIndex]\n",
    "            #weight = MC_SF_LooseID[evtNum][probeIndex]\n",
    "            if data_tree.lepPt[tagIndex]>26:\n",
    "                weight=weight*MC_SF_HLT[evtNum][tagIndex]\n",
    "            #print(weight)\n",
    "            MC.Fill(getattr(MC_tree, branch)[i], weight)\n",
    "            sumOfWeights+=weight\n",
    "print(branch + \" efficiency  = \", num/sumOfWeights)        \n",
    "MC.SetLineColor(rt.kRed)\n",
    "plot_info[name] = {\"MC_hist\": MC, \"data_hist\": data, \"file_name\": name, \"title\": \"Cluster X Spread\", \"label\": \"Cluster X Spread [cm]\", \"scales\": [sumOfWeights, data.GetEntries()], \"logy\": False}"
   ]
  },
  {
   "cell_type": "code",
   "execution_count": 558,
   "id": "d4ae9255",
   "metadata": {},
   "outputs": [
    {
     "name": "stdout",
     "output_type": "stream",
     "text": [
      "cscRechitClusterXSpread efficiency  =  0.048606609205187286\n"
     ]
    },
    {
     "name": "stderr",
     "output_type": "stream",
     "text": [
      "Warning in <TFile::Append>: Replacing existing TH1: LeadingPt_Data (Potential memory leak).\n",
      "Warning in <TFile::Append>: Replacing existing TH1: LeadingPt_MC (Potential memory leak).\n"
     ]
    }
   ],
   "source": [
    "branch = \"cscRechitClusterXSpread\"\n",
    "name = \"clusterXSpread_noCuts\"\n",
    "data = rt.TH1F(\"LeadingPt_Data\", \"Data\", nbinsx=25, xlow = -5, xup=75)\n",
    "mask = makeEventMask(events_data,[],True)\n",
    "clusterIndex=-1\n",
    "for entry in data_tree:\n",
    "    for i in range(data_tree.nCscRechitClusters):\n",
    "        clusterIndex+=1\n",
    "        if mask[clusterIndex]:\n",
    "            data.Fill(getattr(data_tree, branch)[i])\n",
    "data.SetLineColor(rt.kBlack)\n",
    "\n",
    "sumOfWeights=0\n",
    "mask = makeEventMask(events_MC,[],True)\n",
    "#print(ak.count_nonzero(mask[~ak.is_none(mask)]))\n",
    "MC = rt.TH1F(\"LeadingPt_MC\", \"MC\", nbinsx=25, xlow = -5, xup=75)\n",
    "clusterIndex=-1\n",
    "for evtNum, entry in enumerate(MC_tree):\n",
    "    for i in range(MC_tree.nCscRechitClusters):\n",
    "        clusterIndex+=1\n",
    "        if mask[clusterIndex]:\n",
    "            if MC_tree.cscRechitCluster_matchToMuon1[i]==1:\n",
    "                probeIndex=0; tagIndex=1\n",
    "            else:\n",
    "                probeIndex=1; tagIndex=0\n",
    "            weight = getattr(MC_tree, \"weight\")*getattr(MC_tree, \"pileupWeight\")*MC_SF_LooseID[evtNum][probeIndex]*MC_SF_LooseISO[evtNum][probeIndex]*MC_SF_TightID[evtNum][tagIndex]*MC_SF_TightID[evtNum][tagIndex]\n",
    "            #weight = MC_SF_LooseID[evtNum][probeIndex]\n",
    "            if data_tree.lepPt[tagIndex]>26:\n",
    "                weight=weight*MC_SF_HLT[evtNum][tagIndex]\n",
    "            #print(weight)\n",
    "            MC.Fill(getattr(MC_tree, branch)[i], weight)\n",
    "            sumOfWeights+=weight\n",
    "print(branch + \" efficiency  = \", num/sumOfWeights)        \n",
    "MC.SetLineColor(rt.kRed)\n",
    "plot_info[name] = {\"MC_hist\": MC, \"data_hist\": data, \"file_name\": name, \"title\": \"Cluster X Spread\", \"label\": \"Cluster X Spread [cm]\", \"scales\": [sumOfWeights, data.GetEntries()], \"logy\": False}"
   ]
  },
  {
   "cell_type": "code",
   "execution_count": 559,
   "id": "98a69a1d",
   "metadata": {},
   "outputs": [
    {
     "name": "stdout",
     "output_type": "stream",
     "text": [
      "cscRechitClusterYSpread efficiency  =  1.0\n"
     ]
    },
    {
     "name": "stderr",
     "output_type": "stream",
     "text": [
      "Warning in <TFile::Append>: Replacing existing TH1: LeadingPt_Data (Potential memory leak).\n",
      "Warning in <TFile::Append>: Replacing existing TH1: LeadingPt_MC (Potential memory leak).\n"
     ]
    }
   ],
   "source": [
    "branch = \"cscRechitClusterYSpread\"\n",
    "name = \"clusterYSpread\"\n",
    "data = rt.TH1F(\"LeadingPt_Data\", \"Data\", nbinsx=25, xlow = -5, xup=75)\n",
    "mask = makeEventMask(events_data)\n",
    "clusterIndex=-1\n",
    "for entry in data_tree:\n",
    "    for i in range(data_tree.nCscRechitClusters):\n",
    "        clusterIndex+=1\n",
    "        if mask[clusterIndex]:\n",
    "            data.Fill(getattr(data_tree, branch)[i])\n",
    "data.SetLineColor(rt.kBlack)\n",
    "\n",
    "sumOfWeights=0\n",
    "mask = makeEventMask(events_MC)\n",
    "#print(ak.count_nonzero(mask[~ak.is_none(mask)]))\n",
    "MC = rt.TH1F(\"LeadingPt_MC\", \"MC\", nbinsx=25, xlow = -5, xup=75)\n",
    "clusterIndex=-1\n",
    "for evtNum, entry in enumerate(MC_tree):\n",
    "    for i in range(MC_tree.nCscRechitClusters):\n",
    "        clusterIndex+=1\n",
    "        if mask[clusterIndex]:\n",
    "            if MC_tree.cscRechitCluster_matchToMuon1[i]==1:\n",
    "                probeIndex=0; tagIndex=1\n",
    "            else:\n",
    "                probeIndex=1; tagIndex=0\n",
    "            weight = getattr(MC_tree, \"weight\")*getattr(MC_tree, \"pileupWeight\")*MC_SF_LooseID[evtNum][probeIndex]*MC_SF_LooseISO[evtNum][probeIndex]*MC_SF_TightID[evtNum][tagIndex]*MC_SF_TightID[evtNum][tagIndex]\n",
    "            #weight = MC_SF_LooseID[evtNum][probeIndex]\n",
    "            if data_tree.lepPt[tagIndex]>26:\n",
    "                weight=weight*MC_SF_HLT[evtNum][tagIndex]\n",
    "            #print(weight)\n",
    "            MC.Fill(getattr(MC_tree, branch)[i], weight)\n",
    "            sumOfWeights+=weight\n",
    "print(branch + \" efficiency  = \", num/sumOfWeights)        \n",
    "MC.SetLineColor(rt.kRed)\n",
    "plot_info[name] = {\"MC_hist\": MC, \"data_hist\": data, \"file_name\": name, \"title\": \"Cluster Y Spread\", \"label\": \"Cluster Y Spread [cm]\", \"scales\": [sumOfWeights, data.GetEntries()], \"logy\": False}"
   ]
  },
  {
   "cell_type": "code",
   "execution_count": 560,
   "id": "ba78ef54",
   "metadata": {},
   "outputs": [
    {
     "name": "stdout",
     "output_type": "stream",
     "text": [
      "cscRechitClusterYSpread efficiency  =  0.048606609205187286\n"
     ]
    },
    {
     "name": "stderr",
     "output_type": "stream",
     "text": [
      "Warning in <TFile::Append>: Replacing existing TH1: LeadingPt_Data (Potential memory leak).\n",
      "Warning in <TFile::Append>: Replacing existing TH1: LeadingPt_MC (Potential memory leak).\n"
     ]
    }
   ],
   "source": [
    "branch = \"cscRechitClusterYSpread\"\n",
    "name = \"clusterYSpread_noCuts\"\n",
    "data = rt.TH1F(\"LeadingPt_Data\", \"Data\", nbinsx=25, xlow = -5, xup=75)\n",
    "mask = makeEventMask(events_data,[],True)\n",
    "clusterIndex=-1\n",
    "for entry in data_tree:\n",
    "    for i in range(data_tree.nCscRechitClusters):\n",
    "        clusterIndex+=1\n",
    "        if mask[clusterIndex]:\n",
    "            data.Fill(getattr(data_tree, branch)[i])\n",
    "data.SetLineColor(rt.kBlack)\n",
    "\n",
    "sumOfWeights=0\n",
    "mask = makeEventMask(events_MC,[],True)\n",
    "#print(ak.count_nonzero(mask[~ak.is_none(mask)]))\n",
    "MC = rt.TH1F(\"LeadingPt_MC\", \"MC\", nbinsx=25, xlow = -5, xup=75)\n",
    "clusterIndex=-1\n",
    "for evtNum, entry in enumerate(MC_tree):\n",
    "    for i in range(MC_tree.nCscRechitClusters):\n",
    "        clusterIndex+=1\n",
    "        if mask[clusterIndex]:\n",
    "            if MC_tree.cscRechitCluster_matchToMuon1[i]==1:\n",
    "                probeIndex=0; tagIndex=1\n",
    "            else:\n",
    "                probeIndex=1; tagIndex=0\n",
    "            weight = getattr(MC_tree, \"weight\")*getattr(MC_tree, \"pileupWeight\")*MC_SF_LooseID[evtNum][probeIndex]*MC_SF_LooseISO[evtNum][probeIndex]*MC_SF_TightID[evtNum][tagIndex]*MC_SF_TightID[evtNum][tagIndex]\n",
    "            #weight = MC_SF_LooseID[evtNum][probeIndex]\n",
    "            if data_tree.lepPt[tagIndex]>26:\n",
    "                weight=weight*MC_SF_HLT[evtNum][tagIndex]\n",
    "            #print(weight)\n",
    "            MC.Fill(getattr(MC_tree, branch)[i], weight)\n",
    "            sumOfWeights+=weight\n",
    "print(branch + \" efficiency  = \", num/sumOfWeights)        \n",
    "MC.SetLineColor(rt.kRed)\n",
    "plot_info[name] = {\"MC_hist\": MC, \"data_hist\": data, \"file_name\": name, \"title\": \"Cluster Y Spread\", \"label\": \"Cluster Y Spread [cm]\", \"scales\": [sumOfWeights, data.GetEntries()], \"logy\": False}"
   ]
  },
  {
   "cell_type": "code",
   "execution_count": 561,
   "id": "7c28576e",
   "metadata": {},
   "outputs": [
    {
     "name": "stdout",
     "output_type": "stream",
     "text": [
      "cscRechitClusterZSpread efficiency  =  1.0\n"
     ]
    },
    {
     "name": "stderr",
     "output_type": "stream",
     "text": [
      "Warning in <TFile::Append>: Replacing existing TH1: LeadingPt_Data (Potential memory leak).\n",
      "Warning in <TFile::Append>: Replacing existing TH1: LeadingPt_MC (Potential memory leak).\n"
     ]
    }
   ],
   "source": [
    "branch = \"cscRechitClusterZSpread\"\n",
    "name = \"clusterZSpread\"\n",
    "data = rt.TH1F(\"LeadingPt_Data\", \"Data\", nbinsx=25, xlow = -5, xup=75)\n",
    "mask = makeEventMask(events_data)\n",
    "clusterIndex=-1\n",
    "for entry in data_tree:\n",
    "    for i in range(data_tree.nCscRechitClusters):\n",
    "        clusterIndex+=1\n",
    "        if mask[clusterIndex]:\n",
    "            data.Fill(getattr(data_tree, branch)[i])\n",
    "data.SetLineColor(rt.kBlack)\n",
    "\n",
    "sumOfWeights=0\n",
    "mask = makeEventMask(events_MC)\n",
    "#print(ak.count_nonzero(mask[~ak.is_none(mask)]))\n",
    "MC = rt.TH1F(\"LeadingPt_MC\", \"MC\", nbinsx=25, xlow = -5, xup=75)\n",
    "clusterIndex=-1\n",
    "for evtNum, entry in enumerate(MC_tree):\n",
    "    for i in range(MC_tree.nCscRechitClusters):\n",
    "        clusterIndex+=1\n",
    "        if mask[clusterIndex]:\n",
    "            if MC_tree.cscRechitCluster_matchToMuon1[i]==1:\n",
    "                probeIndex=0; tagIndex=1\n",
    "            else:\n",
    "                probeIndex=1; tagIndex=0\n",
    "            weight = getattr(MC_tree, \"weight\")*getattr(MC_tree, \"pileupWeight\")*MC_SF_LooseID[evtNum][probeIndex]*MC_SF_LooseISO[evtNum][probeIndex]*MC_SF_TightID[evtNum][tagIndex]*MC_SF_TightID[evtNum][tagIndex]\n",
    "            #weight = MC_SF_LooseID[evtNum][probeIndex]\n",
    "            if data_tree.lepPt[tagIndex]>26:\n",
    "                weight=weight*MC_SF_HLT[evtNum][tagIndex]\n",
    "            #print(weight)\n",
    "            MC.Fill(getattr(MC_tree, branch)[i], weight)\n",
    "            sumOfWeights+=weight\n",
    "print(branch + \" efficiency  = \", num/sumOfWeights)        \n",
    "MC.SetLineColor(rt.kRed)\n",
    "plot_info[name] = {\"MC_hist\": MC, \"data_hist\": data, \"file_name\": name, \"title\": \"Cluster Z Spread\", \"label\": \"Cluster Z Spread [cm]\", \"scales\": [sumOfWeights, data.GetEntries()], \"logy\": False}"
   ]
  },
  {
   "cell_type": "code",
   "execution_count": 562,
   "id": "17261b78",
   "metadata": {},
   "outputs": [
    {
     "name": "stdout",
     "output_type": "stream",
     "text": [
      "cscRechitClusterZSpread efficiency  =  0.048606609205187286\n"
     ]
    },
    {
     "name": "stderr",
     "output_type": "stream",
     "text": [
      "Warning in <TFile::Append>: Replacing existing TH1: LeadingPt_Data (Potential memory leak).\n",
      "Warning in <TFile::Append>: Replacing existing TH1: LeadingPt_MC (Potential memory leak).\n"
     ]
    }
   ],
   "source": [
    "branch = \"cscRechitClusterZSpread\"\n",
    "name = \"clusterZSpread_noCuts\"\n",
    "data = rt.TH1F(\"LeadingPt_Data\", \"Data\", nbinsx=25, xlow = -5, xup=75)\n",
    "mask = makeEventMask(events_data, [], True)\n",
    "clusterIndex=-1\n",
    "for entry in data_tree:\n",
    "    for i in range(data_tree.nCscRechitClusters):\n",
    "        clusterIndex+=1\n",
    "        if mask[clusterIndex]:\n",
    "            data.Fill(getattr(data_tree, branch)[i])\n",
    "data.SetLineColor(rt.kBlack)\n",
    "\n",
    "sumOfWeights=0\n",
    "mask = makeEventMask(events_MC, [], True)\n",
    "#print(ak.count_nonzero(mask[~ak.is_none(mask)]))\n",
    "MC = rt.TH1F(\"LeadingPt_MC\", \"MC\", nbinsx=25, xlow = -5, xup=75)\n",
    "clusterIndex=-1\n",
    "for evtNum, entry in enumerate(MC_tree):\n",
    "    for i in range(MC_tree.nCscRechitClusters):\n",
    "        clusterIndex+=1\n",
    "        if mask[clusterIndex]:\n",
    "            if MC_tree.cscRechitCluster_matchToMuon1[i]==1:\n",
    "                probeIndex=0; tagIndex=1\n",
    "            else:\n",
    "                probeIndex=1; tagIndex=0\n",
    "            weight = getattr(MC_tree, \"weight\")*getattr(MC_tree, \"pileupWeight\")*MC_SF_LooseID[evtNum][probeIndex]*MC_SF_LooseISO[evtNum][probeIndex]*MC_SF_TightID[evtNum][tagIndex]*MC_SF_TightID[evtNum][tagIndex]\n",
    "            #weight = MC_SF_LooseID[evtNum][probeIndex]\n",
    "            if data_tree.lepPt[tagIndex]>26:\n",
    "                weight=weight*MC_SF_HLT[evtNum][tagIndex]\n",
    "            #print(weight)\n",
    "            MC.Fill(getattr(MC_tree, branch)[i], weight)\n",
    "            sumOfWeights+=weight\n",
    "print(branch + \" efficiency  = \", num/sumOfWeights)        \n",
    "MC.SetLineColor(rt.kRed)\n",
    "plot_info[name] = {\"MC_hist\": MC, \"data_hist\": data, \"file_name\": name, \"title\": \"Cluster Z Spread\", \"label\": \"Cluster Z Spread [cm]\", \"scales\": [sumOfWeights, data.GetEntries()], \"logy\": False}"
   ]
  },
  {
   "cell_type": "code",
   "execution_count": 563,
   "id": "c06de582",
   "metadata": {},
   "outputs": [
    {
     "name": "stdout",
     "output_type": "stream",
     "text": [
      "cscRechitClusterXYSpread efficiency  =  1.0\n"
     ]
    },
    {
     "name": "stderr",
     "output_type": "stream",
     "text": [
      "Warning in <TFile::Append>: Replacing existing TH1: LeadingPt_Data (Potential memory leak).\n",
      "Warning in <TFile::Append>: Replacing existing TH1: LeadingPt_MC (Potential memory leak).\n"
     ]
    }
   ],
   "source": [
    "branch = \"cscRechitClusterXYSpread\"\n",
    "name = \"clusterXYSpread\"\n",
    "data = rt.TH1F(\"LeadingPt_Data\", \"Data\", nbinsx=25, xlow = -5, xup=75)\n",
    "mask = makeEventMask(events_data)\n",
    "clusterIndex=-1\n",
    "for entry in data_tree:\n",
    "    for i in range(data_tree.nCscRechitClusters):\n",
    "        clusterIndex+=1\n",
    "        if mask[clusterIndex]:\n",
    "            data.Fill(getattr(data_tree, branch)[i])\n",
    "data.SetLineColor(rt.kBlack)\n",
    "\n",
    "sumOfWeights=0\n",
    "mask = makeEventMask(events_MC)\n",
    "#print(ak.count_nonzero(mask[~ak.is_none(mask)]))\n",
    "MC = rt.TH1F(\"LeadingPt_MC\", \"MC\", nbinsx=25, xlow = -5, xup=75)\n",
    "clusterIndex=-1\n",
    "for evtNum, entry in enumerate(MC_tree):\n",
    "    for i in range(MC_tree.nCscRechitClusters):\n",
    "        clusterIndex+=1\n",
    "        if mask[clusterIndex]:\n",
    "            if MC_tree.cscRechitCluster_matchToMuon1[i]==1:\n",
    "                probeIndex=0; tagIndex=1\n",
    "            else:\n",
    "                probeIndex=1; tagIndex=0\n",
    "            weight = getattr(MC_tree, \"weight\")*getattr(MC_tree, \"pileupWeight\")*MC_SF_LooseID[evtNum][probeIndex]*MC_SF_LooseISO[evtNum][probeIndex]*MC_SF_TightID[evtNum][tagIndex]*MC_SF_TightID[evtNum][tagIndex]\n",
    "            #weight = MC_SF_LooseID[evtNum][probeIndex]\n",
    "            if data_tree.lepPt[tagIndex]>26:\n",
    "                weight=weight*MC_SF_HLT[evtNum][tagIndex]\n",
    "            #print(weight)\n",
    "            MC.Fill(getattr(MC_tree, branch)[i], weight)\n",
    "            sumOfWeights+=weight\n",
    "print(branch + \" efficiency  = \", num/sumOfWeights)        \n",
    "MC.SetLineColor(rt.kRed)\n",
    "plot_info[name] = {\"MC_hist\": MC, \"data_hist\": data, \"file_name\": name, \"title\": \"Cluster XY Spread\", \"label\": \"Cluster XY Spread [cm]\", \"scales\": [sumOfWeights, data.GetEntries()], \"logy\": False}"
   ]
  },
  {
   "cell_type": "code",
   "execution_count": 564,
   "id": "fbc6de5e",
   "metadata": {},
   "outputs": [
    {
     "name": "stdout",
     "output_type": "stream",
     "text": [
      "cscRechitClusterXYSpread efficiency  =  0.048606609205187286\n"
     ]
    },
    {
     "name": "stderr",
     "output_type": "stream",
     "text": [
      "Warning in <TFile::Append>: Replacing existing TH1: LeadingPt_Data (Potential memory leak).\n",
      "Warning in <TFile::Append>: Replacing existing TH1: LeadingPt_MC (Potential memory leak).\n"
     ]
    }
   ],
   "source": [
    "branch = \"cscRechitClusterXYSpread\"\n",
    "name = \"clusterXYSpread_noCuts\"\n",
    "data = rt.TH1F(\"LeadingPt_Data\", \"Data\", nbinsx=25, xlow = -5, xup=75)\n",
    "mask = makeEventMask(events_data,[],True)\n",
    "clusterIndex=-1\n",
    "for entry in data_tree:\n",
    "    for i in range(data_tree.nCscRechitClusters):\n",
    "        clusterIndex+=1\n",
    "        if mask[clusterIndex]:\n",
    "            data.Fill(getattr(data_tree, branch)[i])\n",
    "data.SetLineColor(rt.kBlack)\n",
    "\n",
    "sumOfWeights=0\n",
    "mask = makeEventMask(events_MC,[],True)\n",
    "#print(ak.count_nonzero(mask[~ak.is_none(mask)]))\n",
    "MC = rt.TH1F(\"LeadingPt_MC\", \"MC\", nbinsx=25, xlow = -5, xup=75)\n",
    "clusterIndex=-1\n",
    "for evtNum, entry in enumerate(MC_tree):\n",
    "    for i in range(MC_tree.nCscRechitClusters):\n",
    "        clusterIndex+=1\n",
    "        if mask[clusterIndex]:\n",
    "            if MC_tree.cscRechitCluster_matchToMuon1[i]==1:\n",
    "                probeIndex=0; tagIndex=1\n",
    "            else:\n",
    "                probeIndex=1; tagIndex=0\n",
    "            weight = getattr(MC_tree, \"weight\")*getattr(MC_tree, \"pileupWeight\")*MC_SF_LooseID[evtNum][probeIndex]*MC_SF_LooseISO[evtNum][probeIndex]*MC_SF_TightID[evtNum][tagIndex]*MC_SF_TightID[evtNum][tagIndex]\n",
    "            #weight = MC_SF_LooseID[evtNum][probeIndex]\n",
    "            if data_tree.lepPt[tagIndex]>26:\n",
    "                weight=weight*MC_SF_HLT[evtNum][tagIndex]\n",
    "            #print(weight)\n",
    "            MC.Fill(getattr(MC_tree, branch)[i], weight)\n",
    "            sumOfWeights+=weight\n",
    "print(branch + \" efficiency  = \", num/sumOfWeights)        \n",
    "MC.SetLineColor(rt.kRed)\n",
    "plot_info[name] = {\"MC_hist\": MC, \"data_hist\": data, \"file_name\": name, \"title\": \"Cluster XY Spread\", \"label\": \"Cluster XY Spread [cm]\", \"scales\": [sumOfWeights, data.GetEntries()], \"logy\": False}"
   ]
  },
  {
   "cell_type": "code",
   "execution_count": 593,
   "id": "a50b1e62",
   "metadata": {},
   "outputs": [
    {
     "name": "stdout",
     "output_type": "stream",
     "text": [
      "cscRechitClusterRSpread efficiency  =  1.0\n"
     ]
    },
    {
     "name": "stderr",
     "output_type": "stream",
     "text": [
      "Warning in <TFile::Append>: Replacing existing TH1: LeadingPt_Data (Potential memory leak).\n",
      "Warning in <TFile::Append>: Replacing existing TH1: LeadingPt_MC (Potential memory leak).\n"
     ]
    }
   ],
   "source": [
    "branch = \"cscRechitClusterRSpread\"\n",
    "name = \"clusterRSpread\"\n",
    "data = rt.TH1F(\"LeadingPt_Data\", \"Data\", nbinsx=25, xlow = -5, xup=75)\n",
    "mask = makeEventMask(events_data)\n",
    "clusterIndex=-1\n",
    "for entry in data_tree:\n",
    "    for i in range(data_tree.nCscRechitClusters):\n",
    "        clusterIndex+=1\n",
    "        if mask[clusterIndex]:\n",
    "            data.Fill(getattr(data_tree, branch)[i])\n",
    "data.SetLineColor(rt.kBlack)\n",
    "\n",
    "sumOfWeights=0\n",
    "mask = makeEventMask(events_MC)\n",
    "#print(ak.count_nonzero(mask[~ak.is_none(mask)]))\n",
    "MC = rt.TH1F(\"LeadingPt_MC\", \"MC\", nbinsx=25, xlow = -5, xup=75)\n",
    "clusterIndex=-1\n",
    "for evtNum, entry in enumerate(MC_tree):\n",
    "    for i in range(MC_tree.nCscRechitClusters):\n",
    "        clusterIndex+=1\n",
    "        if mask[clusterIndex]:\n",
    "            if MC_tree.cscRechitCluster_matchToMuon1[i]==1:\n",
    "                probeIndex=0; tagIndex=1\n",
    "            else:\n",
    "                probeIndex=1; tagIndex=0\n",
    "            weight = getattr(MC_tree, \"weight\")*getattr(MC_tree, \"pileupWeight\")*MC_SF_LooseID[evtNum][probeIndex]*MC_SF_LooseISO[evtNum][probeIndex]*MC_SF_TightID[evtNum][tagIndex]*MC_SF_TightID[evtNum][tagIndex]\n",
    "            #weight = MC_SF_LooseID[evtNum][probeIndex]\n",
    "            if data_tree.lepPt[tagIndex]>26:\n",
    "                weight=weight*MC_SF_HLT[evtNum][tagIndex]\n",
    "            #print(weight)\n",
    "            MC.Fill(getattr(MC_tree, branch)[i], weight)\n",
    "            sumOfWeights+=weight\n",
    "print(branch + \" efficiency  = \", num/sumOfWeights)        \n",
    "MC.SetLineColor(rt.kRed)\n",
    "plot_info[name] = {\"MC_hist\": MC, \"data_hist\": data, \"file_name\": name, \"title\": \"Cluster R Spread\", \"label\": \"Cluster R Spread [cm]\", \"scales\": [sumOfWeights, data.GetEntries()], \"logy\": False}"
   ]
  },
  {
   "cell_type": "code",
   "execution_count": 594,
   "id": "a4bc4e9a",
   "metadata": {},
   "outputs": [
    {
     "name": "stdout",
     "output_type": "stream",
     "text": [
      "cscRechitClusterRSpread efficiency  =  0.048606609205187286\n"
     ]
    },
    {
     "name": "stderr",
     "output_type": "stream",
     "text": [
      "Warning in <TFile::Append>: Replacing existing TH1: LeadingPt_Data (Potential memory leak).\n",
      "Warning in <TFile::Append>: Replacing existing TH1: LeadingPt_MC (Potential memory leak).\n"
     ]
    }
   ],
   "source": [
    "branch = \"cscRechitClusterRSpread\"\n",
    "name = \"clusterRSpread_noCuts\"\n",
    "data = rt.TH1F(\"LeadingPt_Data\", \"Data\", nbinsx=25, xlow = -5, xup=75)\n",
    "mask = makeEventMask(events_data, [], True)\n",
    "clusterIndex=-1\n",
    "for entry in data_tree:\n",
    "    for i in range(data_tree.nCscRechitClusters):\n",
    "        clusterIndex+=1\n",
    "        if mask[clusterIndex]:\n",
    "            data.Fill(getattr(data_tree, branch)[i])\n",
    "data.SetLineColor(rt.kBlack)\n",
    "\n",
    "sumOfWeights=0\n",
    "mask = makeEventMask(events_MC, [], True)\n",
    "#print(ak.count_nonzero(mask[~ak.is_none(mask)]))\n",
    "MC = rt.TH1F(\"LeadingPt_MC\", \"MC\", nbinsx=25, xlow = -5, xup=75)\n",
    "clusterIndex=-1\n",
    "for evtNum, entry in enumerate(MC_tree):\n",
    "    for i in range(MC_tree.nCscRechitClusters):\n",
    "        clusterIndex+=1\n",
    "        if mask[clusterIndex]:\n",
    "            if MC_tree.cscRechitCluster_matchToMuon1[i]==1:\n",
    "                probeIndex=0; tagIndex=1\n",
    "            else:\n",
    "                probeIndex=1; tagIndex=0\n",
    "            weight = getattr(MC_tree, \"weight\")*getattr(MC_tree, \"pileupWeight\")*MC_SF_LooseID[evtNum][probeIndex]*MC_SF_LooseISO[evtNum][probeIndex]*MC_SF_TightID[evtNum][tagIndex]*MC_SF_TightID[evtNum][tagIndex]\n",
    "            #weight = MC_SF_LooseID[evtNum][probeIndex]\n",
    "            if data_tree.lepPt[tagIndex]>26:\n",
    "                weight=weight*MC_SF_HLT[evtNum][tagIndex]\n",
    "            #print(weight)\n",
    "            MC.Fill(getattr(MC_tree, branch)[i], weight)\n",
    "            sumOfWeights+=weight\n",
    "print(branch + \" efficiency  = \", num/sumOfWeights)        \n",
    "MC.SetLineColor(rt.kRed)\n",
    "plot_info[name] = {\"MC_hist\": MC, \"data_hist\": data, \"file_name\": name, \"title\": \"Cluster R Spread\", \"label\": \"Cluster R Spread [cm]\", \"scales\": [sumOfWeights, data.GetEntries()], \"logy\": False}"
   ]
  },
  {
   "cell_type": "code",
   "execution_count": 565,
   "id": "fe2bee39",
   "metadata": {},
   "outputs": [
    {
     "name": "stdout",
     "output_type": "stream",
     "text": [
      "cscRechitClusterSkewX efficiency  =  1.0\n"
     ]
    },
    {
     "name": "stderr",
     "output_type": "stream",
     "text": [
      "Warning in <TFile::Append>: Replacing existing TH1: LeadingPt_Data (Potential memory leak).\n",
      "Warning in <TFile::Append>: Replacing existing TH1: LeadingPt_MC (Potential memory leak).\n"
     ]
    }
   ],
   "source": [
    "branch = \"cscRechitClusterSkewX\"\n",
    "name = \"clusterSkewX\"\n",
    "data = rt.TH1F(\"LeadingPt_Data\", \"Data\", nbinsx=25, xlow = -5, xup=75)\n",
    "mask = makeEventMask(events_data)\n",
    "clusterIndex=-1\n",
    "for entry in data_tree:\n",
    "    for i in range(data_tree.nCscRechitClusters):\n",
    "        clusterIndex+=1\n",
    "        if mask[clusterIndex]:\n",
    "            data.Fill(getattr(data_tree, branch)[i])\n",
    "data.SetLineColor(rt.kBlack)\n",
    "\n",
    "sumOfWeights=0\n",
    "mask = makeEventMask(events_MC)\n",
    "#print(ak.count_nonzero(mask[~ak.is_none(mask)]))\n",
    "MC = rt.TH1F(\"LeadingPt_MC\", \"MC\", nbinsx=25, xlow = -5, xup=75)\n",
    "clusterIndex=-1\n",
    "for evtNum, entry in enumerate(MC_tree):\n",
    "    for i in range(MC_tree.nCscRechitClusters):\n",
    "        clusterIndex+=1\n",
    "        if mask[clusterIndex]:\n",
    "            if MC_tree.cscRechitCluster_matchToMuon1[i]==1:\n",
    "                probeIndex=0; tagIndex=1\n",
    "            else:\n",
    "                probeIndex=1; tagIndex=0\n",
    "            weight = getattr(MC_tree, \"weight\")*getattr(MC_tree, \"pileupWeight\")*MC_SF_LooseID[evtNum][probeIndex]*MC_SF_LooseISO[evtNum][probeIndex]*MC_SF_TightID[evtNum][tagIndex]*MC_SF_TightID[evtNum][tagIndex]\n",
    "            #weight = MC_SF_LooseID[evtNum][probeIndex]\n",
    "            if data_tree.lepPt[tagIndex]>26:\n",
    "                weight=weight*MC_SF_HLT[evtNum][tagIndex]\n",
    "            #print(weight)\n",
    "            MC.Fill(getattr(MC_tree, branch)[i], weight)\n",
    "            sumOfWeights+=weight\n",
    "print(branch + \" efficiency  = \", num/sumOfWeights)        \n",
    "MC.SetLineColor(rt.kRed)\n",
    "plot_info[name] = {\"MC_hist\": MC, \"data_hist\": data, \"file_name\": name, \"title\": \"Cluster Skew X\", \"label\": \"Cluster X Skew [cm]\", \"scales\": [sumOfWeights, data.GetEntries()], \"logy\": False}"
   ]
  },
  {
   "cell_type": "code",
   "execution_count": 566,
   "id": "561c1bdb",
   "metadata": {},
   "outputs": [
    {
     "name": "stdout",
     "output_type": "stream",
     "text": [
      "cscRechitClusterSkewX efficiency  =  0.048606609205187286\n"
     ]
    },
    {
     "name": "stderr",
     "output_type": "stream",
     "text": [
      "Warning in <TFile::Append>: Replacing existing TH1: LeadingPt_Data (Potential memory leak).\n",
      "Warning in <TFile::Append>: Replacing existing TH1: LeadingPt_MC (Potential memory leak).\n"
     ]
    }
   ],
   "source": [
    "branch = \"cscRechitClusterSkewX\"\n",
    "name = \"clusterSkewX_noCuts\"\n",
    "data = rt.TH1F(\"LeadingPt_Data\", \"Data\", nbinsx=25, xlow = -5, xup=75)\n",
    "mask = makeEventMask(events_data,[],True)\n",
    "clusterIndex=-1\n",
    "for entry in data_tree:\n",
    "    for i in range(data_tree.nCscRechitClusters):\n",
    "        clusterIndex+=1\n",
    "        if mask[clusterIndex]:\n",
    "            data.Fill(getattr(data_tree, branch)[i])\n",
    "data.SetLineColor(rt.kBlack)\n",
    "\n",
    "sumOfWeights=0\n",
    "mask = makeEventMask(events_MC,[],True)\n",
    "#print(ak.count_nonzero(mask[~ak.is_none(mask)]))\n",
    "MC = rt.TH1F(\"LeadingPt_MC\", \"MC\", nbinsx=25, xlow = -5, xup=75)\n",
    "clusterIndex=-1\n",
    "for evtNum, entry in enumerate(MC_tree):\n",
    "    for i in range(MC_tree.nCscRechitClusters):\n",
    "        clusterIndex+=1\n",
    "        if mask[clusterIndex]:\n",
    "            if MC_tree.cscRechitCluster_matchToMuon1[i]==1:\n",
    "                probeIndex=0; tagIndex=1\n",
    "            else:\n",
    "                probeIndex=1; tagIndex=0\n",
    "            weight = getattr(MC_tree, \"weight\")*getattr(MC_tree, \"pileupWeight\")*MC_SF_LooseID[evtNum][probeIndex]*MC_SF_LooseISO[evtNum][probeIndex]*MC_SF_TightID[evtNum][tagIndex]*MC_SF_TightID[evtNum][tagIndex]\n",
    "            #weight = MC_SF_LooseID[evtNum][probeIndex]\n",
    "            if data_tree.lepPt[tagIndex]>26:\n",
    "                weight=weight*MC_SF_HLT[evtNum][tagIndex]\n",
    "            #print(weight)\n",
    "            MC.Fill(getattr(MC_tree, branch)[i], weight)\n",
    "            sumOfWeights+=weight\n",
    "print(branch + \" efficiency  = \", num/sumOfWeights)        \n",
    "MC.SetLineColor(rt.kRed)\n",
    "plot_info[name] = {\"MC_hist\": MC, \"data_hist\": data, \"file_name\": name, \"title\": \"Cluster Skew X\", \"label\": \"Cluster X Skew [cm]\", \"scales\": [sumOfWeights, data.GetEntries()], \"logy\": False}"
   ]
  },
  {
   "cell_type": "code",
   "execution_count": 598,
   "id": "72ffd1d3",
   "metadata": {},
   "outputs": [
    {
     "name": "stdout",
     "output_type": "stream",
     "text": [
      "cscRechitClusterSkewY efficiency  =  1.0\n"
     ]
    },
    {
     "name": "stderr",
     "output_type": "stream",
     "text": [
      "Warning in <TFile::Append>: Replacing existing TH1: LeadingPt_Data (Potential memory leak).\n",
      "Warning in <TFile::Append>: Replacing existing TH1: LeadingPt_MC (Potential memory leak).\n"
     ]
    }
   ],
   "source": [
    "branch = \"cscRechitClusterSkewY\"\n",
    "name = \"clusterSkewY\"\n",
    "data = rt.TH1F(\"LeadingPt_Data\", \"Data\", nbinsx=25, xlow = -5, xup=75)\n",
    "mask = makeEventMask(events_data)\n",
    "clusterIndex=-1\n",
    "for entry in data_tree:\n",
    "    for i in range(data_tree.nCscRechitClusters):\n",
    "        clusterIndex+=1\n",
    "        if mask[clusterIndex]:\n",
    "            data.Fill(getattr(data_tree, branch)[i])\n",
    "data.SetLineColor(rt.kBlack)\n",
    "\n",
    "sumOfWeights=0\n",
    "mask = makeEventMask(events_MC)\n",
    "#print(ak.count_nonzero(mask[~ak.is_none(mask)]))\n",
    "MC = rt.TH1F(\"LeadingPt_MC\", \"MC\", nbinsx=25, xlow = -5, xup=75)\n",
    "clusterIndex=-1\n",
    "for evtNum, entry in enumerate(MC_tree):\n",
    "    for i in range(MC_tree.nCscRechitClusters):\n",
    "        clusterIndex+=1\n",
    "        if mask[clusterIndex]:\n",
    "            if MC_tree.cscRechitCluster_matchToMuon1[i]==1:\n",
    "                probeIndex=0; tagIndex=1\n",
    "            else:\n",
    "                probeIndex=1; tagIndex=0\n",
    "            weight = getattr(MC_tree, \"weight\")*getattr(MC_tree, \"pileupWeight\")*MC_SF_LooseID[evtNum][probeIndex]*MC_SF_LooseISO[evtNum][probeIndex]*MC_SF_TightID[evtNum][tagIndex]*MC_SF_TightID[evtNum][tagIndex]\n",
    "            #weight = MC_SF_LooseID[evtNum][probeIndex]\n",
    "            if data_tree.lepPt[tagIndex]>26:\n",
    "                weight=weight*MC_SF_HLT[evtNum][tagIndex]\n",
    "            #print(weight)\n",
    "            MC.Fill(getattr(MC_tree, branch)[i], weight)\n",
    "            sumOfWeights+=weight\n",
    "print(branch + \" efficiency  = \", num/sumOfWeights)        \n",
    "MC.SetLineColor(rt.kRed)\n",
    "plot_info[name] = {\"MC_hist\": MC, \"data_hist\": data, \"file_name\": name, \"title\": \"Cluster Skew Y\", \"label\": \"Cluster Y Skew [cm]\", \"scales\": [sumOfWeights, data.GetEntries()], \"logy\": False}"
   ]
  },
  {
   "cell_type": "code",
   "execution_count": 599,
   "id": "fc113c5e",
   "metadata": {},
   "outputs": [
    {
     "name": "stdout",
     "output_type": "stream",
     "text": [
      "cscRechitClusterSkewY efficiency  =  0.048606609205187286\n"
     ]
    },
    {
     "name": "stderr",
     "output_type": "stream",
     "text": [
      "Warning in <TFile::Append>: Replacing existing TH1: LeadingPt_Data (Potential memory leak).\n",
      "Warning in <TFile::Append>: Replacing existing TH1: LeadingPt_MC (Potential memory leak).\n"
     ]
    }
   ],
   "source": [
    "branch = \"cscRechitClusterSkewY\"\n",
    "name = \"clusterSkewY_noCuts\"\n",
    "data = rt.TH1F(\"LeadingPt_Data\", \"Data\", nbinsx=25, xlow = -5, xup=75)\n",
    "mask = makeEventMask(events_data,[],True)\n",
    "clusterIndex=-1\n",
    "for entry in data_tree:\n",
    "    for i in range(data_tree.nCscRechitClusters):\n",
    "        clusterIndex+=1\n",
    "        if mask[clusterIndex]:\n",
    "            data.Fill(getattr(data_tree, branch)[i])\n",
    "data.SetLineColor(rt.kBlack)\n",
    "\n",
    "sumOfWeights=0\n",
    "mask = makeEventMask(events_MC,[],True)\n",
    "#print(ak.count_nonzero(mask[~ak.is_none(mask)]))\n",
    "MC = rt.TH1F(\"LeadingPt_MC\", \"MC\", nbinsx=25, xlow = -5, xup=75)\n",
    "clusterIndex=-1\n",
    "for evtNum, entry in enumerate(MC_tree):\n",
    "    for i in range(MC_tree.nCscRechitClusters):\n",
    "        clusterIndex+=1\n",
    "        if mask[clusterIndex]:\n",
    "            if MC_tree.cscRechitCluster_matchToMuon1[i]==1:\n",
    "                probeIndex=0; tagIndex=1\n",
    "            else:\n",
    "                probeIndex=1; tagIndex=0\n",
    "            weight = getattr(MC_tree, \"weight\")*getattr(MC_tree, \"pileupWeight\")*MC_SF_LooseID[evtNum][probeIndex]*MC_SF_LooseISO[evtNum][probeIndex]*MC_SF_TightID[evtNum][tagIndex]*MC_SF_TightID[evtNum][tagIndex]\n",
    "            #weight = MC_SF_LooseID[evtNum][probeIndex]\n",
    "            if data_tree.lepPt[tagIndex]>26:\n",
    "                weight=weight*MC_SF_HLT[evtNum][tagIndex]\n",
    "            #print(weight)\n",
    "            MC.Fill(getattr(MC_tree, branch)[i], weight)\n",
    "            sumOfWeights+=weight\n",
    "print(branch + \" efficiency  = \", num/sumOfWeights)        \n",
    "MC.SetLineColor(rt.kRed)\n",
    "plot_info[name] = {\"MC_hist\": MC, \"data_hist\": data, \"file_name\": name, \"title\": \"Cluster Skew Y\", \"label\": \"Cluster Y Skew [cm]\", \"scales\": [sumOfWeights, data.GetEntries()], \"logy\": False}"
   ]
  },
  {
   "cell_type": "code",
   "execution_count": 569,
   "id": "192876af",
   "metadata": {},
   "outputs": [
    {
     "name": "stdout",
     "output_type": "stream",
     "text": [
      "cscRechitClusterSkewZ efficiency  =  1.0\n"
     ]
    },
    {
     "name": "stderr",
     "output_type": "stream",
     "text": [
      "Warning in <TFile::Append>: Replacing existing TH1: LeadingPt_Data (Potential memory leak).\n",
      "Warning in <TFile::Append>: Replacing existing TH1: LeadingPt_MC (Potential memory leak).\n"
     ]
    }
   ],
   "source": [
    "branch = \"cscRechitClusterSkewZ\"\n",
    "name = \"clusterSkewZ\"\n",
    "data = rt.TH1F(\"LeadingPt_Data\", \"Data\", nbinsx=25, xlow = -5, xup=75)\n",
    "mask = makeEventMask(events_data)\n",
    "clusterIndex=-1\n",
    "for entry in data_tree:\n",
    "    for i in range(data_tree.nCscRechitClusters):\n",
    "        clusterIndex+=1\n",
    "        if mask[clusterIndex]:\n",
    "            data.Fill(getattr(data_tree, branch)[i])\n",
    "data.SetLineColor(rt.kBlack)\n",
    "\n",
    "sumOfWeights=0\n",
    "mask = makeEventMask(events_MC)\n",
    "#print(ak.count_nonzero(mask[~ak.is_none(mask)]))\n",
    "MC = rt.TH1F(\"LeadingPt_MC\", \"MC\", nbinsx=25, xlow = -5, xup=75)\n",
    "clusterIndex=-1\n",
    "for evtNum, entry in enumerate(MC_tree):\n",
    "    for i in range(MC_tree.nCscRechitClusters):\n",
    "        clusterIndex+=1\n",
    "        if mask[clusterIndex]:\n",
    "            if MC_tree.cscRechitCluster_matchToMuon1[i]==1:\n",
    "                probeIndex=0; tagIndex=1\n",
    "            else:\n",
    "                probeIndex=1; tagIndex=0\n",
    "            weight = getattr(MC_tree, \"weight\")*getattr(MC_tree, \"pileupWeight\")*MC_SF_LooseID[evtNum][probeIndex]*MC_SF_LooseISO[evtNum][probeIndex]*MC_SF_TightID[evtNum][tagIndex]*MC_SF_TightID[evtNum][tagIndex]\n",
    "            #weight = MC_SF_LooseID[evtNum][probeIndex]\n",
    "            if data_tree.lepPt[tagIndex]>26:\n",
    "                weight=weight*MC_SF_HLT[evtNum][tagIndex]\n",
    "            #print(weight)\n",
    "            MC.Fill(getattr(MC_tree, branch)[i], weight)\n",
    "            sumOfWeights+=weight\n",
    "print(branch + \" efficiency  = \", num/sumOfWeights)        \n",
    "MC.SetLineColor(rt.kRed)\n",
    "plot_info[name] = {\"MC_hist\": MC, \"data_hist\": data, \"file_name\": name, \"title\": \"Cluster Skew Z\", \"label\": \"Cluster Z Skew [cm]\", \"scales\": [sumOfWeights, data.GetEntries()], \"logy\": False}"
   ]
  },
  {
   "cell_type": "code",
   "execution_count": 570,
   "id": "5dbc65c5",
   "metadata": {},
   "outputs": [
    {
     "name": "stdout",
     "output_type": "stream",
     "text": [
      "cscRechitClusterSkewZ efficiency  =  0.048606609205187286\n"
     ]
    },
    {
     "name": "stderr",
     "output_type": "stream",
     "text": [
      "Warning in <TFile::Append>: Replacing existing TH1: LeadingPt_Data (Potential memory leak).\n",
      "Warning in <TFile::Append>: Replacing existing TH1: LeadingPt_MC (Potential memory leak).\n"
     ]
    }
   ],
   "source": [
    "branch = \"cscRechitClusterSkewZ\"\n",
    "name = \"clusterSkewZ_noCuts\"\n",
    "data = rt.TH1F(\"LeadingPt_Data\", \"Data\", nbinsx=25, xlow = -5, xup=75)\n",
    "mask = makeEventMask(events_data,[],True)\n",
    "clusterIndex=-1\n",
    "for entry in data_tree:\n",
    "    for i in range(data_tree.nCscRechitClusters):\n",
    "        clusterIndex+=1\n",
    "        if mask[clusterIndex]:\n",
    "            data.Fill(getattr(data_tree, branch)[i])\n",
    "data.SetLineColor(rt.kBlack)\n",
    "\n",
    "sumOfWeights=0\n",
    "mask = makeEventMask(events_MC,[],True)\n",
    "#print(ak.count_nonzero(mask[~ak.is_none(mask)]))\n",
    "MC = rt.TH1F(\"LeadingPt_MC\", \"MC\", nbinsx=25, xlow = -5, xup=75)\n",
    "clusterIndex=-1\n",
    "for evtNum, entry in enumerate(MC_tree):\n",
    "    for i in range(MC_tree.nCscRechitClusters):\n",
    "        clusterIndex+=1\n",
    "        if mask[clusterIndex]:\n",
    "            if MC_tree.cscRechitCluster_matchToMuon1[i]==1:\n",
    "                probeIndex=0; tagIndex=1\n",
    "            else:\n",
    "                probeIndex=1; tagIndex=0\n",
    "            weight = getattr(MC_tree, \"weight\")*getattr(MC_tree, \"pileupWeight\")*MC_SF_LooseID[evtNum][probeIndex]*MC_SF_LooseISO[evtNum][probeIndex]*MC_SF_TightID[evtNum][tagIndex]*MC_SF_TightID[evtNum][tagIndex]\n",
    "            #weight = MC_SF_LooseID[evtNum][probeIndex]\n",
    "            if data_tree.lepPt[tagIndex]>26:\n",
    "                weight=weight*MC_SF_HLT[evtNum][tagIndex]\n",
    "            #print(weight)\n",
    "            MC.Fill(getattr(MC_tree, branch)[i], weight)\n",
    "            sumOfWeights+=weight\n",
    "print(branch + \" efficiency  = \", num/sumOfWeights)        \n",
    "MC.SetLineColor(rt.kRed)\n",
    "plot_info[name] = {\"MC_hist\": MC, \"data_hist\": data, \"file_name\": name, \"title\": \"Cluster Skew Z\", \"label\": \"Cluster Z Skew [cm]\", \"scales\": [sumOfWeights, data.GetEntries()], \"logy\": False}"
   ]
  },
  {
   "cell_type": "code",
   "execution_count": 571,
   "id": "479879fe",
   "metadata": {},
   "outputs": [
    {
     "name": "stdout",
     "output_type": "stream",
     "text": [
      "cscRechitClusterSkewZ efficiency  =  0.048606609205187286\n"
     ]
    },
    {
     "name": "stderr",
     "output_type": "stream",
     "text": [
      "Warning in <TFile::Append>: Replacing existing TH1: LeadingPt_Data (Potential memory leak).\n",
      "Warning in <TFile::Append>: Replacing existing TH1: LeadingPt_MC (Potential memory leak).\n"
     ]
    }
   ],
   "source": [
    "#branch = \"cscRechitClusterSkewZ\"\n",
    "name = \"clusterFrac_s1_noCuts\"\n",
    "data = rt.TH1F(\"LeadingPt_Data\", \"Data\", nbinsx=25, xlow = 0, xup=1.1)\n",
    "mask = makeEventMask(events_data,[],True)\n",
    "clusterIndex=-1\n",
    "for evtNum, entry in enumerate(data_tree):\n",
    "    for i in range(data_tree.nCscRechitClusters):\n",
    "        clusterIndex+=1\n",
    "        if mask[clusterIndex]:\n",
    "            data.Fill(frac_s1_data[evtNum][i])\n",
    "data.SetLineColor(rt.kBlack)\n",
    "\n",
    "sumOfWeights=0\n",
    "mask = makeEventMask(events_MC,[],True)\n",
    "#print(ak.count_nonzero(mask[~ak.is_none(mask)]))\n",
    "MC = rt.TH1F(\"LeadingPt_MC\", \"MC\", nbinsx=25, xlow = 0, xup=1.1)\n",
    "clusterIndex=-1\n",
    "for evtNum, entry in enumerate(MC_tree):\n",
    "    for i in range(MC_tree.nCscRechitClusters):\n",
    "        clusterIndex+=1\n",
    "        if mask[clusterIndex]:\n",
    "            if MC_tree.cscRechitCluster_matchToMuon1[i]==1:\n",
    "                probeIndex=0; tagIndex=1\n",
    "            else:\n",
    "                probeIndex=1; tagIndex=0\n",
    "            weight = getattr(MC_tree, \"weight\")*getattr(MC_tree, \"pileupWeight\")*MC_SF_LooseID[evtNum][probeIndex]*MC_SF_LooseISO[evtNum][probeIndex]*MC_SF_TightID[evtNum][tagIndex]*MC_SF_TightID[evtNum][tagIndex]\n",
    "            #weight = MC_SF_LooseID[evtNum][probeIndex]\n",
    "            if data_tree.lepPt[tagIndex]>26:\n",
    "                weight=weight*MC_SF_HLT[evtNum][tagIndex]\n",
    "            #print(weight)\n",
    "            MC.Fill(frac_s1_MC[evtNum][i], weight)\n",
    "            sumOfWeights+=weight\n",
    "print(branch + \" efficiency  = \", num/sumOfWeights)        \n",
    "MC.SetLineColor(rt.kRed)\n",
    "plot_info[name] = {\"MC_hist\": MC, \"data_hist\": data, \"file_name\": name, \"title\": \"Fraction of Hits in Station 1\", \"label\": \"Station 1 Hits/Total Hits\", \"scales\": [sumOfWeights, data.GetEntries()], \"logy\": False}"
   ]
  },
  {
   "cell_type": "code",
   "execution_count": 572,
   "id": "9552dc97",
   "metadata": {},
   "outputs": [
    {
     "name": "stdout",
     "output_type": "stream",
     "text": [
      "cscRechitClusterSkewZ efficiency  =  1.0\n"
     ]
    },
    {
     "name": "stderr",
     "output_type": "stream",
     "text": [
      "Warning in <TFile::Append>: Replacing existing TH1: LeadingPt_Data (Potential memory leak).\n",
      "Warning in <TFile::Append>: Replacing existing TH1: LeadingPt_MC (Potential memory leak).\n"
     ]
    }
   ],
   "source": [
    "#branch = \"cscRechitClusterSkewZ\"\n",
    "name = \"clusterFrac_s2\"\n",
    "data = rt.TH1F(\"LeadingPt_Data\", \"Data\", nbinsx=25, xlow = 0, xup=1.1)\n",
    "mask = makeEventMask(events_data)\n",
    "clusterIndex=-1\n",
    "for evtNum, entry in enumerate(data_tree):\n",
    "    for i in range(data_tree.nCscRechitClusters):\n",
    "        clusterIndex+=1\n",
    "        if mask[clusterIndex]:\n",
    "            data.Fill(frac_s2_data[evtNum][i])\n",
    "data.SetLineColor(rt.kBlack)\n",
    "\n",
    "sumOfWeights=0\n",
    "mask = makeEventMask(events_MC)\n",
    "#print(ak.count_nonzero(mask[~ak.is_none(mask)]))\n",
    "MC = rt.TH1F(\"LeadingPt_MC\", \"MC\", nbinsx=25, xlow = 0, xup=1.1)\n",
    "clusterIndex=-1\n",
    "for evtNum, entry in enumerate(MC_tree):\n",
    "    for i in range(MC_tree.nCscRechitClusters):\n",
    "        clusterIndex+=1\n",
    "        if mask[clusterIndex]:\n",
    "            if MC_tree.cscRechitCluster_matchToMuon1[i]==1:\n",
    "                probeIndex=0; tagIndex=1\n",
    "            else:\n",
    "                probeIndex=1; tagIndex=0\n",
    "            weight = getattr(MC_tree, \"weight\")*getattr(MC_tree, \"pileupWeight\")*MC_SF_LooseID[evtNum][probeIndex]*MC_SF_LooseISO[evtNum][probeIndex]*MC_SF_TightID[evtNum][tagIndex]*MC_SF_TightID[evtNum][tagIndex]\n",
    "            #weight = MC_SF_LooseID[evtNum][probeIndex]\n",
    "            if data_tree.lepPt[tagIndex]>26:\n",
    "                weight=weight*MC_SF_HLT[evtNum][tagIndex]\n",
    "            #print(weight)\n",
    "            MC.Fill(frac_s2_MC[evtNum][i], weight)\n",
    "            sumOfWeights+=weight\n",
    "print(branch + \" efficiency  = \", num/sumOfWeights)        \n",
    "MC.SetLineColor(rt.kRed)\n",
    "plot_info[name] = {\"MC_hist\": MC, \"data_hist\": data, \"file_name\": name, \"title\": \"Fraction of Hits in Station 2\", \"label\": \"Station 2 Hits/Total Hits\", \"scales\": [sumOfWeights, data.GetEntries()], \"logy\": False}"
   ]
  },
  {
   "cell_type": "code",
   "execution_count": 573,
   "id": "e31971f0",
   "metadata": {},
   "outputs": [
    {
     "name": "stdout",
     "output_type": "stream",
     "text": [
      "cscRechitClusterSkewZ efficiency  =  0.048606609205187286\n"
     ]
    },
    {
     "name": "stderr",
     "output_type": "stream",
     "text": [
      "Warning in <TFile::Append>: Replacing existing TH1: LeadingPt_Data (Potential memory leak).\n",
      "Warning in <TFile::Append>: Replacing existing TH1: LeadingPt_MC (Potential memory leak).\n"
     ]
    }
   ],
   "source": [
    "#branch = \"cscRechitClusterSkewZ\"\n",
    "name = \"clusterFrac_s2_noCuts\"\n",
    "data = rt.TH1F(\"LeadingPt_Data\", \"Data\", nbinsx=25, xlow = 0, xup=1.1)\n",
    "mask = makeEventMask(events_data,[],True)\n",
    "clusterIndex=-1\n",
    "for evtNum, entry in enumerate(data_tree):\n",
    "    for i in range(data_tree.nCscRechitClusters):\n",
    "        clusterIndex+=1\n",
    "        if mask[clusterIndex]:\n",
    "            data.Fill(frac_s2_data[evtNum][i])\n",
    "data.SetLineColor(rt.kBlack)\n",
    "\n",
    "sumOfWeights=0\n",
    "mask = makeEventMask(events_MC,[],True)\n",
    "#print(ak.count_nonzero(mask[~ak.is_none(mask)]))\n",
    "MC = rt.TH1F(\"LeadingPt_MC\", \"MC\", nbinsx=25, xlow = 0, xup=1.1)\n",
    "clusterIndex=-1\n",
    "for evtNum, entry in enumerate(MC_tree):\n",
    "    for i in range(MC_tree.nCscRechitClusters):\n",
    "        clusterIndex+=1\n",
    "        if mask[clusterIndex]:\n",
    "            if MC_tree.cscRechitCluster_matchToMuon1[i]==1:\n",
    "                probeIndex=0; tagIndex=1\n",
    "            else:\n",
    "                probeIndex=1; tagIndex=0\n",
    "            weight = getattr(MC_tree, \"weight\")*getattr(MC_tree, \"pileupWeight\")*MC_SF_LooseID[evtNum][probeIndex]*MC_SF_LooseISO[evtNum][probeIndex]*MC_SF_TightID[evtNum][tagIndex]*MC_SF_TightID[evtNum][tagIndex]\n",
    "            #weight = MC_SF_LooseID[evtNum][probeIndex]\n",
    "            if data_tree.lepPt[tagIndex]>26:\n",
    "                weight=weight*MC_SF_HLT[evtNum][tagIndex]\n",
    "            #print(weight)\n",
    "            MC.Fill(frac_s2_MC[evtNum][i], weight)\n",
    "            sumOfWeights+=weight\n",
    "print(branch + \" efficiency  = \", num/sumOfWeights)        \n",
    "MC.SetLineColor(rt.kRed)\n",
    "plot_info[name] = {\"MC_hist\": MC, \"data_hist\": data, \"file_name\": name, \"title\": \"Fraction of Hits in Station 2\", \"label\": \"Station 2 Hits/Total Hits\", \"scales\": [sumOfWeights, data.GetEntries()], \"logy\": False}"
   ]
  },
  {
   "cell_type": "code",
   "execution_count": 574,
   "id": "46d987cc",
   "metadata": {},
   "outputs": [
    {
     "name": "stdout",
     "output_type": "stream",
     "text": [
      "cscRechitClusterSkewZ efficiency  =  1.0\n"
     ]
    },
    {
     "name": "stderr",
     "output_type": "stream",
     "text": [
      "Warning in <TFile::Append>: Replacing existing TH1: LeadingPt_Data (Potential memory leak).\n",
      "Warning in <TFile::Append>: Replacing existing TH1: LeadingPt_MC (Potential memory leak).\n"
     ]
    }
   ],
   "source": [
    "#branch = \"cscRechitClusterSkewZ\"\n",
    "name = \"clusterFrac_s3\"\n",
    "data = rt.TH1F(\"LeadingPt_Data\", \"Data\", nbinsx=25, xlow = 0, xup=1.1)\n",
    "mask = makeEventMask(events_data)\n",
    "clusterIndex=-1\n",
    "for evtNum, entry in enumerate(data_tree):\n",
    "    for i in range(data_tree.nCscRechitClusters):\n",
    "        clusterIndex+=1\n",
    "        if mask[clusterIndex]:\n",
    "            data.Fill(frac_s3_data[evtNum][i])\n",
    "data.SetLineColor(rt.kBlack)\n",
    "\n",
    "sumOfWeights=0\n",
    "mask = makeEventMask(events_MC)\n",
    "#print(ak.count_nonzero(mask[~ak.is_none(mask)]))\n",
    "MC = rt.TH1F(\"LeadingPt_MC\", \"MC\", nbinsx=25, xlow = 0, xup=1.1)\n",
    "clusterIndex=-1\n",
    "for evtNum, entry in enumerate(MC_tree):\n",
    "    for i in range(MC_tree.nCscRechitClusters):\n",
    "        clusterIndex+=1\n",
    "        if mask[clusterIndex]:\n",
    "            if MC_tree.cscRechitCluster_matchToMuon1[i]==1:\n",
    "                probeIndex=0; tagIndex=1\n",
    "            else:\n",
    "                probeIndex=1; tagIndex=0\n",
    "            weight = getattr(MC_tree, \"weight\")*getattr(MC_tree, \"pileupWeight\")*MC_SF_LooseID[evtNum][probeIndex]*MC_SF_LooseISO[evtNum][probeIndex]*MC_SF_TightID[evtNum][tagIndex]*MC_SF_TightID[evtNum][tagIndex]\n",
    "            #weight = MC_SF_LooseID[evtNum][probeIndex]\n",
    "            if data_tree.lepPt[tagIndex]>26:\n",
    "                weight=weight*MC_SF_HLT[evtNum][tagIndex]\n",
    "            #print(weight)\n",
    "            MC.Fill(frac_s3_MC[evtNum][i], weight)\n",
    "            sumOfWeights+=weight\n",
    "print(branch + \" efficiency  = \", num/sumOfWeights)        \n",
    "MC.SetLineColor(rt.kRed)\n",
    "plot_info[name] = {\"MC_hist\": MC, \"data_hist\": data, \"file_name\": name, \"title\": \"Fraction of Hits in Station 3\", \"label\": \"Station 3 Hits/Total Hits\", \"scales\": [sumOfWeights, data.GetEntries()], \"logy\": False}"
   ]
  },
  {
   "cell_type": "code",
   "execution_count": 575,
   "id": "a12172ea",
   "metadata": {},
   "outputs": [
    {
     "name": "stdout",
     "output_type": "stream",
     "text": [
      "cscRechitClusterSkewZ efficiency  =  0.048606609205187286\n"
     ]
    },
    {
     "name": "stderr",
     "output_type": "stream",
     "text": [
      "Warning in <TFile::Append>: Replacing existing TH1: LeadingPt_Data (Potential memory leak).\n",
      "Warning in <TFile::Append>: Replacing existing TH1: LeadingPt_MC (Potential memory leak).\n"
     ]
    }
   ],
   "source": [
    "#branch = \"cscRechitClusterSkewZ\"\n",
    "name = \"clusterFrac_s3_noCuts\"\n",
    "data = rt.TH1F(\"LeadingPt_Data\", \"Data\", nbinsx=25, xlow = 0, xup=1.1)\n",
    "mask = makeEventMask(events_data,[],True)\n",
    "clusterIndex=-1\n",
    "for evtNum, entry in enumerate(data_tree):\n",
    "    for i in range(data_tree.nCscRechitClusters):\n",
    "        clusterIndex+=1\n",
    "        if mask[clusterIndex]:\n",
    "            data.Fill(frac_s3_data[evtNum][i])\n",
    "data.SetLineColor(rt.kBlack)\n",
    "\n",
    "sumOfWeights=0\n",
    "mask = makeEventMask(events_MC,[],True)\n",
    "#print(ak.count_nonzero(mask[~ak.is_none(mask)]))\n",
    "MC = rt.TH1F(\"LeadingPt_MC\", \"MC\", nbinsx=25, xlow = 0, xup=1.1)\n",
    "clusterIndex=-1\n",
    "for evtNum, entry in enumerate(MC_tree):\n",
    "    for i in range(MC_tree.nCscRechitClusters):\n",
    "        clusterIndex+=1\n",
    "        if mask[clusterIndex]:\n",
    "            if MC_tree.cscRechitCluster_matchToMuon1[i]==1:\n",
    "                probeIndex=0; tagIndex=1\n",
    "            else:\n",
    "                probeIndex=1; tagIndex=0\n",
    "            weight = getattr(MC_tree, \"weight\")*getattr(MC_tree, \"pileupWeight\")*MC_SF_LooseID[evtNum][probeIndex]*MC_SF_LooseISO[evtNum][probeIndex]*MC_SF_TightID[evtNum][tagIndex]*MC_SF_TightID[evtNum][tagIndex]\n",
    "            #weight = MC_SF_LooseID[evtNum][probeIndex]\n",
    "            if data_tree.lepPt[tagIndex]>26:\n",
    "                weight=weight*MC_SF_HLT[evtNum][tagIndex]\n",
    "            #print(weight)\n",
    "            MC.Fill(frac_s3_MC[evtNum][i], weight)\n",
    "            sumOfWeights+=weight\n",
    "print(branch + \" efficiency  = \", num/sumOfWeights)        \n",
    "MC.SetLineColor(rt.kRed)\n",
    "plot_info[name] = {\"MC_hist\": MC, \"data_hist\": data, \"file_name\": name, \"title\": \"Fraction of Hits in Station 3\", \"label\": \"Station 3 Hits/Total Hits\", \"scales\": [sumOfWeights, data.GetEntries()], \"logy\": False}"
   ]
  },
  {
   "cell_type": "code",
   "execution_count": 576,
   "id": "44d235fb",
   "metadata": {},
   "outputs": [
    {
     "name": "stdout",
     "output_type": "stream",
     "text": [
      "cscRechitClusterSkewZ efficiency  =  0.048606609205187286\n"
     ]
    },
    {
     "name": "stderr",
     "output_type": "stream",
     "text": [
      "Warning in <TFile::Append>: Replacing existing TH1: LeadingPt_Data (Potential memory leak).\n",
      "Warning in <TFile::Append>: Replacing existing TH1: LeadingPt_MC (Potential memory leak).\n"
     ]
    }
   ],
   "source": [
    "#branch = \"cscRechitClusterSkewZ\"\n",
    "name = \"clusterFrac_s4_noCuts\"\n",
    "data = rt.TH1F(\"LeadingPt_Data\", \"Data\", nbinsx=25, xlow = 0, xup=1.1)\n",
    "mask = makeEventMask(events_data,[],True)\n",
    "clusterIndex=-1\n",
    "for evtNum, entry in enumerate(data_tree):\n",
    "    for i in range(data_tree.nCscRechitClusters):\n",
    "        clusterIndex+=1\n",
    "        if mask[clusterIndex]:\n",
    "            data.Fill(frac_s4_data[evtNum][i])\n",
    "data.SetLineColor(rt.kBlack)\n",
    "\n",
    "sumOfWeights=0\n",
    "mask = makeEventMask(events_MC,[],True)\n",
    "#print(ak.count_nonzero(mask[~ak.is_none(mask)]))\n",
    "MC = rt.TH1F(\"LeadingPt_MC\", \"MC\", nbinsx=25, xlow = 0, xup=1.1)\n",
    "clusterIndex=-1\n",
    "for evtNum, entry in enumerate(MC_tree):\n",
    "    for i in range(MC_tree.nCscRechitClusters):\n",
    "        clusterIndex+=1\n",
    "        if mask[clusterIndex]:\n",
    "            if MC_tree.cscRechitCluster_matchToMuon1[i]==1:\n",
    "                probeIndex=0; tagIndex=1\n",
    "            else:\n",
    "                probeIndex=1; tagIndex=0\n",
    "            weight = getattr(MC_tree, \"weight\")*getattr(MC_tree, \"pileupWeight\")*MC_SF_LooseID[evtNum][probeIndex]*MC_SF_LooseISO[evtNum][probeIndex]*MC_SF_TightID[evtNum][tagIndex]*MC_SF_TightID[evtNum][tagIndex]\n",
    "            #weight = MC_SF_LooseID[evtNum][probeIndex]\n",
    "            if data_tree.lepPt[tagIndex]>26:\n",
    "                weight=weight*MC_SF_HLT[evtNum][tagIndex]\n",
    "            #print(weight)\n",
    "            MC.Fill(frac_s4_MC[evtNum][i], weight)\n",
    "            sumOfWeights+=weight\n",
    "print(branch + \" efficiency  = \", num/sumOfWeights)        \n",
    "MC.SetLineColor(rt.kRed)\n",
    "plot_info[name] = {\"MC_hist\": MC, \"data_hist\": data, \"file_name\": name, \"title\": \"Fraction of Hits in Station 4\", \"label\": \"Station 4 Hits/Total Hits\", \"scales\": [sumOfWeights, data.GetEntries()], \"logy\": False}"
   ]
  },
  {
   "cell_type": "code",
   "execution_count": 577,
   "id": "86908bed",
   "metadata": {},
   "outputs": [
    {
     "name": "stdout",
     "output_type": "stream",
     "text": [
      "cscRechitClusterSkewZ efficiency  =  1.0\n"
     ]
    },
    {
     "name": "stderr",
     "output_type": "stream",
     "text": [
      "Warning in <TFile::Append>: Replacing existing TH1: LeadingPt_Data (Potential memory leak).\n",
      "Warning in <TFile::Append>: Replacing existing TH1: LeadingPt_MC (Potential memory leak).\n"
     ]
    }
   ],
   "source": [
    "#branch = \"cscRechitClusterSkewZ\"\n",
    "name = \"clusterFrac_rw1\"\n",
    "data = rt.TH1F(\"LeadingPt_Data\", \"Data\", nbinsx=25, xlow = 0, xup=1.1)\n",
    "mask = makeEventMask(events_data)\n",
    "clusterIndex=-1\n",
    "for evtNum, entry in enumerate(data_tree):\n",
    "    for i in range(data_tree.nCscRechitClusters):\n",
    "        clusterIndex+=1\n",
    "        if mask[clusterIndex]:\n",
    "            data.Fill(frac_rw1_data[evtNum][i])\n",
    "data.SetLineColor(rt.kBlack)\n",
    "\n",
    "sumOfWeights=0\n",
    "mask = makeEventMask(events_MC)\n",
    "#print(ak.count_nonzero(mask[~ak.is_none(mask)]))\n",
    "MC = rt.TH1F(\"LeadingPt_MC\", \"MC\", nbinsx=25, xlow = 0, xup=1.1)\n",
    "clusterIndex=-1\n",
    "for evtNum, entry in enumerate(MC_tree):\n",
    "    for i in range(MC_tree.nCscRechitClusters):\n",
    "        clusterIndex+=1\n",
    "        if mask[clusterIndex]:\n",
    "            if MC_tree.cscRechitCluster_matchToMuon1[i]==1:\n",
    "                probeIndex=0; tagIndex=1\n",
    "            else:\n",
    "                probeIndex=1; tagIndex=0\n",
    "            weight = getattr(MC_tree, \"weight\")*getattr(MC_tree, \"pileupWeight\")*MC_SF_LooseID[evtNum][probeIndex]*MC_SF_LooseISO[evtNum][probeIndex]*MC_SF_TightID[evtNum][tagIndex]*MC_SF_TightID[evtNum][tagIndex]\n",
    "            #weight = MC_SF_LooseID[evtNum][probeIndex]\n",
    "            if data_tree.lepPt[tagIndex]>26:\n",
    "                weight=weight*MC_SF_HLT[evtNum][tagIndex]\n",
    "            #print(weight)\n",
    "            MC.Fill(frac_rw1_MC[evtNum][i], weight)\n",
    "            sumOfWeights+=weight\n",
    "print(branch + \" efficiency  = \", num/sumOfWeights)        \n",
    "MC.SetLineColor(rt.kRed)\n",
    "plot_info[name] = {\"MC_hist\": MC, \"data_hist\": data, \"file_name\": name, \"title\": \"Fraction of Hits in Ring 1\", \"label\": \"Ring 1 Hits/Total Hits\", \"scales\": [sumOfWeights, data.GetEntries()], \"logy\": False}"
   ]
  },
  {
   "cell_type": "code",
   "execution_count": 578,
   "id": "fd096b3d",
   "metadata": {},
   "outputs": [
    {
     "name": "stdout",
     "output_type": "stream",
     "text": [
      "cscRechitClusterSkewZ efficiency  =  0.048606609205187286\n"
     ]
    },
    {
     "name": "stderr",
     "output_type": "stream",
     "text": [
      "Warning in <TFile::Append>: Replacing existing TH1: LeadingPt_Data (Potential memory leak).\n",
      "Warning in <TFile::Append>: Replacing existing TH1: LeadingPt_MC (Potential memory leak).\n"
     ]
    }
   ],
   "source": [
    "#branch = \"cscRechitClusterSkewZ\"\n",
    "name = \"clusterFrac_rw1_noCuts\"\n",
    "data = rt.TH1F(\"LeadingPt_Data\", \"Data\", nbinsx=25, xlow = 0, xup=1.1)\n",
    "mask = makeEventMask(events_data,[],True)\n",
    "clusterIndex=-1\n",
    "for evtNum, entry in enumerate(data_tree):\n",
    "    for i in range(data_tree.nCscRechitClusters):\n",
    "        clusterIndex+=1\n",
    "        if mask[clusterIndex]:\n",
    "            data.Fill(frac_rw1_data[evtNum][i])\n",
    "data.SetLineColor(rt.kBlack)\n",
    "\n",
    "sumOfWeights=0\n",
    "mask = makeEventMask(events_MC,[],True)\n",
    "#print(ak.count_nonzero(mask[~ak.is_none(mask)]))\n",
    "MC = rt.TH1F(\"LeadingPt_MC\", \"MC\", nbinsx=25, xlow = 0, xup=1.1)\n",
    "clusterIndex=-1\n",
    "for evtNum, entry in enumerate(MC_tree):\n",
    "    for i in range(MC_tree.nCscRechitClusters):\n",
    "        clusterIndex+=1\n",
    "        if mask[clusterIndex]:\n",
    "            if MC_tree.cscRechitCluster_matchToMuon1[i]==1:\n",
    "                probeIndex=0; tagIndex=1\n",
    "            else:\n",
    "                probeIndex=1; tagIndex=0\n",
    "            weight = getattr(MC_tree, \"weight\")*getattr(MC_tree, \"pileupWeight\")*MC_SF_LooseID[evtNum][probeIndex]*MC_SF_LooseISO[evtNum][probeIndex]*MC_SF_TightID[evtNum][tagIndex]*MC_SF_TightID[evtNum][tagIndex]\n",
    "            #weight = MC_SF_LooseID[evtNum][probeIndex]\n",
    "            if data_tree.lepPt[tagIndex]>26:\n",
    "                weight=weight*MC_SF_HLT[evtNum][tagIndex]\n",
    "            #print(weight)\n",
    "            MC.Fill(frac_rw1_MC[evtNum][i], weight)\n",
    "            sumOfWeights+=weight\n",
    "print(branch + \" efficiency  = \", num/sumOfWeights)        \n",
    "MC.SetLineColor(rt.kRed)\n",
    "plot_info[name] = {\"MC_hist\": MC, \"data_hist\": data, \"file_name\": name, \"title\": \"Fraction of Hits in Ring 1\", \"label\": \"Ring 1 Hits/Total Hits\", \"scales\": [sumOfWeights, data.GetEntries()], \"logy\": False}"
   ]
  },
  {
   "cell_type": "code",
   "execution_count": 579,
   "id": "8f17bb80",
   "metadata": {},
   "outputs": [
    {
     "name": "stdout",
     "output_type": "stream",
     "text": [
      "cscRechitClusterSkewZ efficiency  =  1.0\n"
     ]
    },
    {
     "name": "stderr",
     "output_type": "stream",
     "text": [
      "Warning in <TFile::Append>: Replacing existing TH1: LeadingPt_Data (Potential memory leak).\n",
      "Warning in <TFile::Append>: Replacing existing TH1: LeadingPt_MC (Potential memory leak).\n"
     ]
    }
   ],
   "source": [
    "#branch = \"cscRechitClusterSkewZ\"\n",
    "name = \"clusterFrac_rw2\"\n",
    "data = rt.TH1F(\"LeadingPt_Data\", \"Data\", nbinsx=25, xlow = 0, xup=1.1)\n",
    "mask = makeEventMask(events_data)\n",
    "clusterIndex=-1\n",
    "for evtNum, entry in enumerate(data_tree):\n",
    "    for i in range(data_tree.nCscRechitClusters):\n",
    "        clusterIndex+=1\n",
    "        if mask[clusterIndex]:\n",
    "            data.Fill(frac_rw2_data[evtNum][i])\n",
    "data.SetLineColor(rt.kBlack)\n",
    "\n",
    "sumOfWeights=0\n",
    "mask = makeEventMask(events_MC)\n",
    "#print(ak.count_nonzero(mask[~ak.is_none(mask)]))\n",
    "MC = rt.TH1F(\"LeadingPt_MC\", \"MC\", nbinsx=25, xlow = 0, xup=1.1)\n",
    "clusterIndex=-1\n",
    "for evtNum, entry in enumerate(MC_tree):\n",
    "    for i in range(MC_tree.nCscRechitClusters):\n",
    "        clusterIndex+=1\n",
    "        if mask[clusterIndex]:\n",
    "            if MC_tree.cscRechitCluster_matchToMuon1[i]==1:\n",
    "                probeIndex=0; tagIndex=1\n",
    "            else:\n",
    "                probeIndex=1; tagIndex=0\n",
    "            weight = getattr(MC_tree, \"weight\")*getattr(MC_tree, \"pileupWeight\")*MC_SF_LooseID[evtNum][probeIndex]*MC_SF_LooseISO[evtNum][probeIndex]*MC_SF_TightID[evtNum][tagIndex]*MC_SF_TightID[evtNum][tagIndex]\n",
    "            #weight = MC_SF_LooseID[evtNum][probeIndex]\n",
    "            if data_tree.lepPt[tagIndex]>26:\n",
    "                weight=weight*MC_SF_HLT[evtNum][tagIndex]\n",
    "            #print(weight)\n",
    "            MC.Fill(frac_rw2_MC[evtNum][i], weight)\n",
    "            sumOfWeights+=weight\n",
    "print(branch + \" efficiency  = \", num/sumOfWeights)        \n",
    "MC.SetLineColor(rt.kRed)\n",
    "plot_info[name] = {\"MC_hist\": MC, \"data_hist\": data, \"file_name\": name, \"title\": \"Fraction of Hits in Ring 2\", \"label\": \"Ring 2 Hits/Total Hits\", \"scales\": [sumOfWeights, data.GetEntries()], \"logy\": False}"
   ]
  },
  {
   "cell_type": "code",
   "execution_count": 601,
   "id": "8feee49d",
   "metadata": {},
   "outputs": [
    {
     "name": "stdout",
     "output_type": "stream",
     "text": [
      "cscRechitClusterSkewY efficiency  =  0.048606609205187286\n"
     ]
    },
    {
     "name": "stderr",
     "output_type": "stream",
     "text": [
      "Warning in <TFile::Append>: Replacing existing TH1: LeadingPt_Data (Potential memory leak).\n",
      "Warning in <TFile::Append>: Replacing existing TH1: LeadingPt_MC (Potential memory leak).\n"
     ]
    }
   ],
   "source": [
    "#branch = \"cscRechitClusterSkewZ\"\n",
    "name = \"clusterFrac_rw2_noCuts\"\n",
    "data = rt.TH1F(\"LeadingPt_Data\", \"Data\", nbinsx=25, xlow = 0, xup=1.1)\n",
    "mask = makeEventMask(events_data, [], True)\n",
    "clusterIndex=-1\n",
    "for evtNum, entry in enumerate(data_tree):\n",
    "    for i in range(data_tree.nCscRechitClusters):\n",
    "        clusterIndex+=1\n",
    "        if mask[clusterIndex]:\n",
    "            data.Fill(frac_rw2_data[evtNum][i])\n",
    "data.SetLineColor(rt.kBlack)\n",
    "\n",
    "sumOfWeights=0\n",
    "mask = makeEventMask(events_MC, [], True)\n",
    "#print(ak.count_nonzero(mask[~ak.is_none(mask)]))\n",
    "MC = rt.TH1F(\"LeadingPt_MC\", \"MC\", nbinsx=25, xlow = 0, xup=1.1)\n",
    "clusterIndex=-1\n",
    "for evtNum, entry in enumerate(MC_tree):\n",
    "    for i in range(MC_tree.nCscRechitClusters):\n",
    "        clusterIndex+=1\n",
    "        if mask[clusterIndex]:\n",
    "            if MC_tree.cscRechitCluster_matchToMuon1[i]==1:\n",
    "                probeIndex=0; tagIndex=1\n",
    "            else:\n",
    "                probeIndex=1; tagIndex=0\n",
    "            weight = getattr(MC_tree, \"weight\")*getattr(MC_tree, \"pileupWeight\")*MC_SF_LooseID[evtNum][probeIndex]*MC_SF_LooseISO[evtNum][probeIndex]*MC_SF_TightID[evtNum][tagIndex]*MC_SF_TightID[evtNum][tagIndex]\n",
    "            #weight = MC_SF_LooseID[evtNum][probeIndex]\n",
    "            if data_tree.lepPt[tagIndex]>26:\n",
    "                weight=weight*MC_SF_HLT[evtNum][tagIndex]\n",
    "            #print(weight)\n",
    "            MC.Fill(frac_rw2_MC[evtNum][i], weight)\n",
    "            sumOfWeights+=weight\n",
    "print(branch + \" efficiency  = \", num/sumOfWeights)        \n",
    "MC.SetLineColor(rt.kRed)\n",
    "plot_info[name] = {\"MC_hist\": MC, \"data_hist\": data, \"file_name\": name, \"title\": \"Fraction of Hits in Ring 2\", \"label\": \"Ring 2 Hits/Total Hits\", \"scales\": [sumOfWeights, data.GetEntries()], \"logy\": False}"
   ]
  },
  {
   "cell_type": "code",
   "execution_count": 580,
   "id": "b29708af",
   "metadata": {},
   "outputs": [
    {
     "name": "stdout",
     "output_type": "stream",
     "text": [
      "cscRechitClusterSkewZ efficiency  =  1.0\n"
     ]
    },
    {
     "name": "stderr",
     "output_type": "stream",
     "text": [
      "Warning in <TFile::Append>: Replacing existing TH1: LeadingPt_Data (Potential memory leak).\n",
      "Warning in <TFile::Append>: Replacing existing TH1: LeadingPt_MC (Potential memory leak).\n"
     ]
    }
   ],
   "source": [
    "#branch = \"cscRechitClusterSkewZ\"\n",
    "name = \"clusterFrac_rw3\"\n",
    "data = rt.TH1F(\"LeadingPt_Data\", \"Data\", nbinsx=25, xlow = 0, xup=1)\n",
    "mask = makeEventMask(events_data)\n",
    "clusterIndex=-1\n",
    "for evtNum, entry in enumerate(data_tree):\n",
    "    for i in range(data_tree.nCscRechitClusters):\n",
    "        clusterIndex+=1\n",
    "        if mask[clusterIndex]:\n",
    "            data.Fill(frac_rw3_data[evtNum][i])\n",
    "data.SetLineColor(rt.kBlack)\n",
    "\n",
    "sumOfWeights=0\n",
    "mask = makeEventMask(events_MC)\n",
    "#print(ak.count_nonzero(mask[~ak.is_none(mask)]))\n",
    "MC = rt.TH1F(\"LeadingPt_MC\", \"MC\", nbinsx=25, xlow = 0, xup=1.1)\n",
    "clusterIndex=-1\n",
    "for evtNum, entry in enumerate(MC_tree):\n",
    "    for i in range(MC_tree.nCscRechitClusters):\n",
    "        clusterIndex+=1\n",
    "        if mask[clusterIndex]:\n",
    "            if MC_tree.cscRechitCluster_matchToMuon1[i]==1:\n",
    "                probeIndex=0; tagIndex=1\n",
    "            else:\n",
    "                probeIndex=1; tagIndex=0\n",
    "            weight = getattr(MC_tree, \"weight\")*getattr(MC_tree, \"pileupWeight\")*MC_SF_LooseID[evtNum][probeIndex]*MC_SF_LooseISO[evtNum][probeIndex]*MC_SF_TightID[evtNum][tagIndex]*MC_SF_TightID[evtNum][tagIndex]\n",
    "            #weight = MC_SF_LooseID[evtNum][probeIndex]\n",
    "            if data_tree.lepPt[tagIndex]>26:\n",
    "                weight=weight*MC_SF_HLT[evtNum][tagIndex]\n",
    "            #print(weight)\n",
    "            MC.Fill(frac_rw3_MC[evtNum][i], weight)\n",
    "            sumOfWeights+=weight\n",
    "print(branch + \" efficiency  = \", num/sumOfWeights)        \n",
    "MC.SetLineColor(rt.kRed)\n",
    "plot_info[name] = {\"MC_hist\": MC, \"data_hist\": data, \"file_name\": name, \"title\": \"Fraction of Hits in Ring 3\", \"label\": \"Ring 3 Hits/Total Hits\", \"scales\": [sumOfWeights, data.GetEntries()], \"logy\": False}"
   ]
  },
  {
   "cell_type": "code",
   "execution_count": 581,
   "id": "41b1c3e3",
   "metadata": {},
   "outputs": [
    {
     "name": "stdout",
     "output_type": "stream",
     "text": [
      "cscRechitClusterSkewZ efficiency  =  0.048606609205187286\n"
     ]
    },
    {
     "name": "stderr",
     "output_type": "stream",
     "text": [
      "Warning in <TFile::Append>: Replacing existing TH1: LeadingPt_Data (Potential memory leak).\n",
      "Warning in <TFile::Append>: Replacing existing TH1: LeadingPt_MC (Potential memory leak).\n"
     ]
    }
   ],
   "source": [
    "#branch = \"cscRechitClusterSkewZ\"\n",
    "name = \"clusterFrac_rw3_noCuts\"\n",
    "data = rt.TH1F(\"LeadingPt_Data\", \"Data\", nbinsx=25, xlow = 0, xup=1)\n",
    "mask = makeEventMask(events_data,[],True)\n",
    "clusterIndex=-1\n",
    "for evtNum, entry in enumerate(data_tree):\n",
    "    for i in range(data_tree.nCscRechitClusters):\n",
    "        clusterIndex+=1\n",
    "        if mask[clusterIndex]:\n",
    "            data.Fill(frac_rw3_data[evtNum][i])\n",
    "data.SetLineColor(rt.kBlack)\n",
    "\n",
    "sumOfWeights=0\n",
    "mask = makeEventMask(events_MC,[],True)\n",
    "#print(ak.count_nonzero(mask[~ak.is_none(mask)]))\n",
    "MC = rt.TH1F(\"LeadingPt_MC\", \"MC\", nbinsx=25, xlow = 0, xup=1.1)\n",
    "clusterIndex=-1\n",
    "for evtNum, entry in enumerate(MC_tree):\n",
    "    for i in range(MC_tree.nCscRechitClusters):\n",
    "        clusterIndex+=1\n",
    "        if mask[clusterIndex]:\n",
    "            if MC_tree.cscRechitCluster_matchToMuon1[i]==1:\n",
    "                probeIndex=0; tagIndex=1\n",
    "            else:\n",
    "                probeIndex=1; tagIndex=0\n",
    "            weight = getattr(MC_tree, \"weight\")*getattr(MC_tree, \"pileupWeight\")*MC_SF_LooseID[evtNum][probeIndex]*MC_SF_LooseISO[evtNum][probeIndex]*MC_SF_TightID[evtNum][tagIndex]*MC_SF_TightID[evtNum][tagIndex]\n",
    "            #weight = MC_SF_LooseID[evtNum][probeIndex]\n",
    "            if data_tree.lepPt[tagIndex]>26:\n",
    "                weight=weight*MC_SF_HLT[evtNum][tagIndex]\n",
    "            #print(weight)\n",
    "            MC.Fill(frac_rw3_MC[evtNum][i], weight)\n",
    "            sumOfWeights+=weight\n",
    "print(branch + \" efficiency  = \", num/sumOfWeights)        \n",
    "MC.SetLineColor(rt.kRed)\n",
    "plot_info[name] = {\"MC_hist\": MC, \"data_hist\": data, \"file_name\": name, \"title\": \"Fraction of Hits in Ring 3\", \"label\": \"Ring 3 Hits/Total Hits\", \"scales\": [sumOfWeights, data.GetEntries()], \"logy\": False}"
   ]
  },
  {
   "cell_type": "code",
   "execution_count": 602,
   "id": "45518c55",
   "metadata": {},
   "outputs": [
    {
     "name": "stdout",
     "output_type": "stream",
     "text": [
      "clusterTimeSpreadWeightedAll\n",
      "clusterTimeSpreadWeightedAll_noCuts\n",
      "clusterRSpread\n",
      "clusterRSpread_noCuts\n",
      "clusterSkewY_noCuts\n",
      "clusterSkewY\n",
      "clusterFrac_rw2_noCuts\n"
     ]
    },
    {
     "name": "stderr",
     "output_type": "stream",
     "text": [
      "Info in <TCanvas::Print>: png file Run2023_postBPix_Data_MC_Comp_TProf/clusterTimeSpreadWeightedAllnormalized_updatedTNP.png has been created\n",
      "Warning in <TCanvas::Constructor>: Deleting canvas with same name: c_out_ratioWeighted Cluster Time Spread [ns]\n",
      "Info in <TCanvas::Print>: png file Run2023_postBPix_Data_MC_Comp_TProf/clusterTimeSpreadWeightedAll_updatedTNP.png has been created\n",
      "Warning in <TCanvas::Constructor>: Deleting canvas with same name: c_out_ratioWeighted Cluster Time Spread [ns]\n",
      "Info in <TCanvas::Print>: png file Run2023_postBPix_Data_MC_Comp_TProf/clusterTimeSpreadWeightedAll_noCutsnormalized_updatedTNP.png has been created\n",
      "Warning in <TCanvas::Constructor>: Deleting canvas with same name: c_out_ratioWeighted Cluster Time Spread [ns]\n",
      "Info in <TCanvas::Print>: png file Run2023_postBPix_Data_MC_Comp_TProf/clusterTimeSpreadWeightedAll_noCuts_updatedTNP.png has been created\n",
      "Info in <TCanvas::Print>: png file Run2023_postBPix_Data_MC_Comp_TProf/clusterRSpreadnormalized_updatedTNP.png has been created\n",
      "Warning in <TCanvas::Constructor>: Deleting canvas with same name: c_out_ratioCluster R Spread [cm]\n",
      "Info in <TCanvas::Print>: png file Run2023_postBPix_Data_MC_Comp_TProf/clusterRSpread_updatedTNP.png has been created\n",
      "Warning in <TCanvas::Constructor>: Deleting canvas with same name: c_out_ratioCluster R Spread [cm]\n",
      "Info in <TCanvas::Print>: png file Run2023_postBPix_Data_MC_Comp_TProf/clusterRSpread_noCutsnormalized_updatedTNP.png has been created\n",
      "Warning in <TCanvas::Constructor>: Deleting canvas with same name: c_out_ratioCluster R Spread [cm]\n",
      "Info in <TCanvas::Print>: png file Run2023_postBPix_Data_MC_Comp_TProf/clusterRSpread_noCuts_updatedTNP.png has been created\n",
      "Info in <TCanvas::Print>: png file Run2023_postBPix_Data_MC_Comp_TProf/clusterSkewY_noCutsnormalized_updatedTNP.png has been created\n",
      "Warning in <TCanvas::Constructor>: Deleting canvas with same name: c_out_ratioCluster Y Skew [cm]\n",
      "Info in <TCanvas::Print>: png file Run2023_postBPix_Data_MC_Comp_TProf/clusterSkewY_noCuts_updatedTNP.png has been created\n",
      "Warning in <TCanvas::Constructor>: Deleting canvas with same name: c_out_ratioCluster Y Skew [cm]\n",
      "Info in <TCanvas::Print>: png file Run2023_postBPix_Data_MC_Comp_TProf/clusterSkewYnormalized_updatedTNP.png has been created\n",
      "Warning in <TCanvas::Constructor>: Deleting canvas with same name: c_out_ratioCluster Y Skew [cm]\n",
      "Info in <TCanvas::Print>: png file Run2023_postBPix_Data_MC_Comp_TProf/clusterSkewY_updatedTNP.png has been created\n",
      "Info in <TCanvas::Print>: png file Run2023_postBPix_Data_MC_Comp_TProf/clusterFrac_rw2_noCutsnormalized_updatedTNP.png has been created\n",
      "Warning in <TCanvas::Constructor>: Deleting canvas with same name: c_out_ratioRing 2 Hits/Total Hits\n",
      "Info in <TCanvas::Print>: png file Run2023_postBPix_Data_MC_Comp_TProf/clusterFrac_rw2_noCuts_updatedTNP.png has been created\n"
     ]
    }
   ],
   "source": [
    "for plot_type, plot_info_dict in plot_info.items():\n",
    "    print(plot_type)\n",
    "    #print(plot_info_dict)\n",
    "    for boolScale in [True, False]:\n",
    "        c = make_ratio_plot([plot_info_dict[\"MC_hist\"], plot_info_dict[\"data_hist\"]], title = plot_info_dict[\"title\"], label = plot_info_dict[\"label\"], fit = False, in_tags = None, ratio_bounds = [0.1, 4], logy = plot_info_dict[\"logy\"], ratio_index = 0, draw_opt = ['E2','E1'], text = \"\", scale=boolScale, scales = plot_info_dict[\"scales\"])\n",
    "        if boolScale:\n",
    "            scaleString = \"normalized\"\n",
    "            #c = make_ratio_plot([plot_info_dict[\"MC_hist\"], plot_info_dict[\"data_hist\"]], title = plot_info_dict[\"title\"], label = plot_info_dict[\"label\"], fit = False, in_tags = None, ratio_bounds = [0.1, 4], logy = False, ratio_index = 0, draw_opt = ['E2 hist','E1'], text = \"\", scale=boolScale, scales = plot_info_dict[\"scales\"])\n",
    "        else:\n",
    "            scaleString=\"\"\n",
    "        c.SaveAs(plot_output+\"/\"+plot_info_dict[\"file_name\"]+scaleString+\"_updatedTNP.png\")\n",
    "        "
   ]
  },
  {
   "cell_type": "code",
   "execution_count": null,
   "id": "dcb6cd5e",
   "metadata": {},
   "outputs": [],
   "source": []
  }
 ],
 "metadata": {
  "kernelspec": {
   "display_name": "Python 3 (ipykernel)",
   "language": "python",
   "name": "python3"
  },
  "language_info": {
   "codemirror_mode": {
    "name": "ipython",
    "version": 3
   },
   "file_extension": ".py",
   "mimetype": "text/x-python",
   "name": "python",
   "nbconvert_exporter": "python",
   "pygments_lexer": "ipython3",
   "version": "3.9.12"
  }
 },
 "nbformat": 4,
 "nbformat_minor": 5
}
