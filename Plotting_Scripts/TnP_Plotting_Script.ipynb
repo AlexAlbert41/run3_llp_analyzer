{
 "cells": [
  {
   "cell_type": "code",
   "execution_count": 1,
   "id": "c8a54fb3",
   "metadata": {},
   "outputs": [
    {
     "name": "stdout",
     "output_type": "stream",
     "text": [
      "Welcome to JupyROOT 6.28/00\n"
     ]
    }
   ],
   "source": [
    "import numpy as np\n",
    "import pandas as pd\n",
    "import uproot\n",
    "import matplotlib.pyplot as plt\n",
    "import sys\n",
    "sys.path.insert(0,\"../\")\n",
    "import mplhep as hep\n",
    "import pickle\n",
    "import glob\n",
    "import ROOT\n",
    "import coffea\n",
    "import awkward as ak\n",
    "from coffea import hist, processor\n",
    "from coffea.nanoevents.methods import candidate\n",
    "from coffea.nanoevents.methods import vector\n"
   ]
  },
  {
   "cell_type": "code",
   "execution_count": 2,
   "id": "9b099a43",
   "metadata": {},
   "outputs": [
    {
     "name": "stdout",
     "output_type": "stream",
     "text": [
      "0.7.13\n"
     ]
    }
   ],
   "source": [
    "print(coffea.__version__)"
   ]
  },
  {
   "cell_type": "code",
   "execution_count": 3,
   "id": "1742e150",
   "metadata": {},
   "outputs": [],
   "source": [
    "#paths to data\n",
    "EraE_Path = \"/eos/uscms/store/user/amalbert/MDSTriggerEff/TnP_newCuts/MuonSystem_TnP_firstTests_Run2022EraE_newCuts.root\"\n",
    "EraF_Path = \"/eos/uscms/store/user/amalbert/MDSTriggerEff/TnP_FirstOutput/Run2022EraF.root\"\n",
    "EraG_Path = \"/eos/uscms/store/user/amalbert/MDSTriggerEff/TnP_FirstOutput/Run2022EraG.root\""
   ]
  },
  {
   "cell_type": "code",
   "execution_count": 4,
   "id": "e5424579",
   "metadata": {},
   "outputs": [],
   "source": [
    "ak.behavior.update(candidate.behavior)\n",
    "\n",
    "def getLZDF(f,nEvents=-1,version=\"new\"): #lazy dataframe with events that have cluster matched to probe muon\n",
    "    events_raw = uproot.open(f)['MuonSystem']\n",
    "    df = coffea.processor.LazyDataFrame(events_raw,entrystop=nEvents)\n",
    "    start,stop = df._branchargs['entry_start'],df._branchargs['entry_stop']\n",
    "    events = uproot.lazy(df._tree)\n",
    "    events = events[start:stop]\n",
    "    return events"
   ]
  },
  {
   "cell_type": "code",
   "execution_count": 5,
   "id": "d7fe93af",
   "metadata": {},
   "outputs": [],
   "source": [
    "events_E = getLZDF(EraE_Path)\n",
    "events_F = getLZDF(EraF_Path)\n",
    "events_G = getLZDF(EraG_Path)"
   ]
  },
  {
   "cell_type": "code",
   "execution_count": 6,
   "id": "c2052f61",
   "metadata": {},
   "outputs": [
    {
     "data": {
      "text/plain": [
       "['runNum',\n",
       " 'MC_condition',\n",
       " 'lumiSec',\n",
       " 'evtNum',\n",
       " 'mH',\n",
       " 'mX',\n",
       " 'ctau',\n",
       " 'category',\n",
       " 'npv',\n",
       " 'npu',\n",
       " 'weight',\n",
       " 'lepOverallSF',\n",
       " 'pileupWeight',\n",
       " 'Flag_HBHENoiseFilter',\n",
       " 'Flag_BadPFMuonFilter',\n",
       " 'Flag_HBHEIsoNoiseFilter',\n",
       " 'Flag_CSCTightHaloFilter',\n",
       " 'Flag_globalSuperTightHalo2016Filter',\n",
       " 'Flag_goodVertices',\n",
       " 'Flag_ecalBadCalibFilter',\n",
       " 'Flag_BadChargedCandidateFilter',\n",
       " 'Flag_eeBadScFilter',\n",
       " 'Flag_all',\n",
       " 'Flag2_HBHENoiseFilter',\n",
       " 'Flag2_HBHEIsoNoiseFilter',\n",
       " 'Flag2_BadPFMuonFilter',\n",
       " 'Flag2_globalSuperTightHalo2016Filter',\n",
       " 'Flag2_globalTightHalo2016Filter',\n",
       " 'Flag2_BadChargedCandidateFilter',\n",
       " 'Flag2_EcalDeadCellTriggerPrimitiveFilter',\n",
       " 'Flag2_ecalBadCalibFilter',\n",
       " 'Flag2_eeBadScFilter',\n",
       " 'Flag2_all',\n",
       " 'rho',\n",
       " 'met',\n",
       " 'metPhi',\n",
       " 'gHiggsPt',\n",
       " 'gHiggsE',\n",
       " 'gHiggsEta',\n",
       " 'gHiggsPhi',\n",
       " 'nCscRings',\n",
       " 'nDtRings',\n",
       " 'nCscRechitClusters',\n",
       " 'cscRechitCluster_match_gLLP',\n",
       " 'cscRechitCluster_match_gLLP_minDeltaR',\n",
       " 'cscRechitCluster_match_gLLP_index',\n",
       " 'cscRechitCluster_match_gLLP_eta',\n",
       " 'cscRechitCluster_match_gLLP_phi',\n",
       " 'cscRechitCluster_match_gLLP_decay_r',\n",
       " 'cscRechitCluster_match_gLLP_decay_z',\n",
       " 'cscRechitCluster_match_gLLP_csc',\n",
       " 'cscRechitCluster_match_gLLP_dt',\n",
       " 'cscRechitCluster_match_gLLP_e',\n",
       " 'cscRechitClusterX',\n",
       " 'cscRechitClusterY',\n",
       " 'cscRechitClusterZ',\n",
       " 'cscRechitClusterTimeWeighted',\n",
       " 'cscRechitClusterTimeSpreadWeightedAll',\n",
       " 'cscRechitClusterTime',\n",
       " 'cscRechitClusterTimeSpread',\n",
       " 'cscRechitClusterPhi',\n",
       " 'cscRechitClusterEta',\n",
       " 'cscRechitClusterJetVetoPt',\n",
       " 'cscRechitClusterJetVetoLooseId',\n",
       " 'cscRechitClusterJetVetoTightId',\n",
       " 'cscRechitClusterJetVetoE',\n",
       " 'cscRechitClusterMuonVetoPt',\n",
       " 'cscRechitClusterMuonVetoE',\n",
       " 'cscRechitClusterMuonVetoLooseId',\n",
       " 'cscRechitClusterMuonVetoGlobal',\n",
       " 'cscRechitCluster_match_dtSeg_0p4',\n",
       " 'cscRechitCluster_match_MB1Seg_0p4',\n",
       " 'cscRechitCluster_match_RE12_0p4',\n",
       " 'cscRechitCluster_match_RB1_0p4',\n",
       " 'cscRechitClusterSize',\n",
       " 'cscRechitClusterNStation10',\n",
       " 'cscRechitClusterAvgStation10',\n",
       " 'cscRechitClusterMaxStation',\n",
       " 'cscRechitClusterMaxStationRatio',\n",
       " 'cscRechitClusterNChamber',\n",
       " 'cscRechitClusterMaxChamber',\n",
       " 'cscRechitClusterMaxChamberRatio',\n",
       " 'cscRechitClusterNRechitChamberPlus11',\n",
       " 'cscRechitClusterNRechitChamberPlus12',\n",
       " 'cscRechitClusterNRechitChamberPlus13',\n",
       " 'cscRechitClusterNRechitChamberPlus21',\n",
       " 'cscRechitClusterNRechitChamberPlus22',\n",
       " 'cscRechitClusterNRechitChamberPlus31',\n",
       " 'cscRechitClusterNRechitChamberPlus32',\n",
       " 'cscRechitClusterNRechitChamberPlus41',\n",
       " 'cscRechitClusterNRechitChamberPlus42',\n",
       " 'cscRechitClusterNRechitChamberMinus11',\n",
       " 'cscRechitClusterNRechitChamberMinus12',\n",
       " 'cscRechitClusterNRechitChamberMinus13',\n",
       " 'cscRechitClusterNRechitChamberMinus21',\n",
       " 'cscRechitClusterNRechitChamberMinus22',\n",
       " 'cscRechitClusterNRechitChamberMinus31',\n",
       " 'cscRechitClusterNRechitChamberMinus32',\n",
       " 'cscRechitClusterNRechitChamberMinus41',\n",
       " 'cscRechitClusterNRechitChamberMinus42',\n",
       " 'cscRechitClusterMet_dPhi',\n",
       " 'cscRechitCluster_matchToProbeMuon',\n",
       " 'nDtRechitClusters',\n",
       " 'dtRechitClusterNSegStation1',\n",
       " 'dtRechitClusterNSegStation2',\n",
       " 'dtRechitClusterNSegStation3',\n",
       " 'dtRechitClusterNSegStation4',\n",
       " 'dtRechitClusterNOppositeSegStation1',\n",
       " 'dtRechitClusterNOppositeSegStation2',\n",
       " 'dtRechitClusterNOppositeSegStation3',\n",
       " 'dtRechitClusterNOppositeSegStation4',\n",
       " 'dtRechitCluster_match_gLLP',\n",
       " 'dtRechitCluster_match_gLLP_minDeltaR',\n",
       " 'dtRechitCluster_match_gLLP_index',\n",
       " 'dtRechitCluster_match_gLLP_eta',\n",
       " 'dtRechitCluster_match_gLLP_phi',\n",
       " 'dtRechitCluster_match_gLLP_decay_r',\n",
       " 'dtRechitCluster_match_gLLP_decay_z',\n",
       " 'dtRechitCluster_match_gLLP_csc',\n",
       " 'dtRechitCluster_match_gLLP_dt',\n",
       " 'dtRechitCluster_match_gLLP_e',\n",
       " 'dtRechitClusterX',\n",
       " 'dtRechitClusterY',\n",
       " 'dtRechitClusterZ',\n",
       " 'dtRechitClusterWheel',\n",
       " 'dtRechitClusterPhi',\n",
       " 'dtRechitClusterEta',\n",
       " 'dtRechitClusterJetVetoPt',\n",
       " 'dtRechitClusterJetVetoLooseId',\n",
       " 'dtRechitClusterJetVetoTightId',\n",
       " 'dtRechitClusterJetVetoE',\n",
       " 'dtRechitClusterMuonVetoPt',\n",
       " 'dtRechitClusterMuonVetoE',\n",
       " 'dtRechitClusterMuonVetoTightId',\n",
       " 'dtRechitClusterMuonVetoLooseId',\n",
       " 'dtRechitClusterMuonVetoGlobal',\n",
       " 'dtRechitClusterOverlap',\n",
       " 'dtRechitClusterSize',\n",
       " 'dtRechitClusterNoiseHit',\n",
       " 'dtRechitClusterNoiseHitStation1',\n",
       " 'dtRechitClusterNoiseHitStation2',\n",
       " 'dtRechitClusterNoiseHitStation3',\n",
       " 'dtRechitClusterNoiseHitStation4',\n",
       " 'dtRechitClusterNStation10',\n",
       " 'dtRechitClusterAvgStation10',\n",
       " 'dtRechitClusterMaxStation',\n",
       " 'dtRechitClusterMaxStationRatio',\n",
       " 'dtRechitClusterNChamber',\n",
       " 'dtRechitClusterMaxChamber',\n",
       " 'dtRechitClusterMaxChamberRatio',\n",
       " 'dtRechitClusterNHitStation1',\n",
       " 'dtRechitClusterNHitStation2',\n",
       " 'dtRechitClusterNHitStation3',\n",
       " 'dtRechitClusterNHitStation4',\n",
       " 'dtRechitClusterMet_dPhi',\n",
       " 'dtRechitCluster_match_RPChits_dPhi0p5',\n",
       " 'dtRechitCluster_match_RPCBx_dPhi0p5',\n",
       " 'dtRechitCluster_match_RB1_0p4',\n",
       " 'dtRechitCluster_match_RB1_dPhi0p5',\n",
       " 'dtRechitCluster_match_MB1Seg_0p4',\n",
       " 'dtRechitCluster_match_MB1Seg_0p5',\n",
       " 'dtRechitCluster_match_MB1hits_0p4',\n",
       " 'dtRechitCluster_match_MB1hits_0p5',\n",
       " 'dtRechitCluster_match_MB1hits_cosmics_plus',\n",
       " 'dtRechitCluster_match_MB1hits_cosmics_minus',\n",
       " 'dtRechitCluster_matchToProbeMuon',\n",
       " 'nGLLP',\n",
       " 'gLLP_eta',\n",
       " 'gLLP_phi',\n",
       " 'gLLP_csc',\n",
       " 'gLLP_dt',\n",
       " 'gLLP_beta',\n",
       " 'gLLP_e',\n",
       " 'gLLP_pt',\n",
       " 'gLLP_ctau',\n",
       " 'gLLP_decay_vertex_r',\n",
       " 'gLLP_decay_vertex_x',\n",
       " 'gLLP_decay_vertex_y',\n",
       " 'gLLP_decay_vertex_z',\n",
       " 'nLeptons',\n",
       " 'lepE',\n",
       " 'lepPt',\n",
       " 'lepEta',\n",
       " 'lepPhi',\n",
       " 'lepPdgId',\n",
       " 'lepDZ',\n",
       " 'lepTightId',\n",
       " 'lepPassId',\n",
       " 'lepFromZ',\n",
       " 'lepEff',\n",
       " 'lepSF',\n",
       " 'lepTriggerSF',\n",
       " 'lepTightIdSF',\n",
       " 'lepLooseIdSF',\n",
       " 'lepTightIsoSF',\n",
       " 'lepLooseIsoSF',\n",
       " 'lepTriggerMCEfficiency',\n",
       " 'lepTightIdMCEfficiency',\n",
       " 'lepLooseIdMCEfficiency',\n",
       " 'lepTightIsoMCEfficiency',\n",
       " 'lepLooseIsoMCEfficiency',\n",
       " 'lepTag',\n",
       " 'lepPassLooseIso',\n",
       " 'lepPassTightIso',\n",
       " 'lepPassVTightIso',\n",
       " 'lepPassVVTightIso',\n",
       " 'lepPassVetoId',\n",
       " 'MT',\n",
       " 'ZMass1',\n",
       " 'ZMass',\n",
       " 'ZPt',\n",
       " 'ZEta',\n",
       " 'ZPhi',\n",
       " 'ZleptonIndex1',\n",
       " 'ZleptonIndex2',\n",
       " 'nJets',\n",
       " 'jetE',\n",
       " 'jetPt',\n",
       " 'jetEta',\n",
       " 'jetPhi',\n",
       " 'jetTightPassId',\n",
       " 'HLT_CscCluster_Loose',\n",
       " 'HLT_CscCluster_Medium',\n",
       " 'HLT_CscCluster_Tight']"
      ]
     },
     "execution_count": 6,
     "metadata": {},
     "output_type": "execute_result"
    }
   ],
   "source": [
    "events_E.fields"
   ]
  },
  {
   "cell_type": "code",
   "execution_count": 44,
   "id": "84868392",
   "metadata": {},
   "outputs": [
    {
     "data": {
      "text/plain": [
       "<Array [[1, None], [None, None], [5]] type='3 * var * ?int64'>"
      ]
     },
     "execution_count": 44,
     "metadata": {},
     "output_type": "execute_result"
    }
   ],
   "source": [
    "testArray = ak.Array([[1,None],[3,4],[5]])\n",
    "maskArray = ak.Array([[True, False], [False, False], [True]])\n",
    "ak.mask(testArray, maskArray)"
   ]
  },
  {
   "cell_type": "code",
   "execution_count": 111,
   "id": "0a0a0d0f",
   "metadata": {},
   "outputs": [
    {
     "data": {
      "text/plain": [
       "<Array [1, 1, 1, 2, 1, 2, ... 1, 1, 1, 1, 2, 1] type='14902 * int32'>"
      ]
     },
     "execution_count": 111,
     "metadata": {},
     "output_type": "execute_result"
    }
   ],
   "source": [
    "events_E.nCscRechitClusters"
   ]
  },
  {
   "cell_type": "code",
   "execution_count": 70,
   "id": "d4183441",
   "metadata": {},
   "outputs": [
    {
     "data": {
      "text/plain": [
       "<Array [-81.7, 105] type='2 * float32'>"
      ]
     },
     "execution_count": 70,
     "metadata": {},
     "output_type": "execute_result"
    }
   ],
   "source": [
    "events_E.cscRechitClusterX[2]"
   ]
  },
  {
   "cell_type": "code",
   "execution_count": 112,
   "id": "7e0856f4",
   "metadata": {},
   "outputs": [],
   "source": [
    "events_E_clusterMask = ak.mask(events_E.cscRechitClusterSize, events_E.cscRechitCluster_matchToProbeMuon)"
   ]
  },
  {
   "cell_type": "code",
   "execution_count": 118,
   "id": "338b9032",
   "metadata": {},
   "outputs": [
    {
     "data": {
      "text/plain": [
       "15743"
      ]
     },
     "execution_count": 118,
     "metadata": {},
     "output_type": "execute_result"
    }
   ],
   "source": [
    "ak.count_nonzero(ak.flatten(events_E_clusterMask))"
   ]
  },
  {
   "cell_type": "code",
   "execution_count": 94,
   "id": "8d3eb1cb",
   "metadata": {},
   "outputs": [
    {
     "data": {
      "text/plain": [
       "<Array [False, False, False, ... False, False] type='9784 * bool'>"
      ]
     },
     "execution_count": 94,
     "metadata": {},
     "output_type": "execute_result"
    }
   ],
   "source": [
    "events_E.HLT_CscCluster_Loose"
   ]
  },
  {
   "cell_type": "code",
   "execution_count": 127,
   "id": "31effb4e",
   "metadata": {},
   "outputs": [
    {
     "data": {
      "text/plain": [
       "342"
      ]
     },
     "execution_count": 127,
     "metadata": {},
     "output_type": "execute_result"
    }
   ],
   "source": [
    "ak.count_nonzero(ak.mask(events_E, events_E.HLT_CscCluster_Loose).cscRechitClusterSize)"
   ]
  },
  {
   "cell_type": "code",
   "execution_count": 84,
   "id": "eb3f4d0d",
   "metadata": {},
   "outputs": [
    {
     "ename": "AttributeError",
     "evalue": "no field named 'cscRechitClusterSize'\n\n(https://github.com/scikit-hep/awkward-1.0/blob/1.10.1/src/awkward/highlevel.py#L1124)",
     "output_type": "error",
     "traceback": [
      "\u001b[0;31m---------------------------------------------------------------------------\u001b[0m",
      "\u001b[0;31mAttributeError\u001b[0m                            Traceback (most recent call last)",
      "\u001b[0;32m/tmp/ipykernel_25655/3524590960.py\u001b[0m in \u001b[0;36m<module>\u001b[0;34m\u001b[0m\n\u001b[0;32m----> 1\u001b[0;31m \u001b[0mak\u001b[0m\u001b[0;34m.\u001b[0m\u001b[0mmask\u001b[0m\u001b[0;34m(\u001b[0m\u001b[0mevents_E\u001b[0m\u001b[0;34m.\u001b[0m\u001b[0mcscRechitClusterSize\u001b[0m\u001b[0;34m,\u001b[0m \u001b[0mevents_E\u001b[0m\u001b[0;34m.\u001b[0m\u001b[0mHLT_CscCluster_Loose\u001b[0m\u001b[0;34m)\u001b[0m\u001b[0;34m.\u001b[0m\u001b[0mcscRechitClusterSize\u001b[0m\u001b[0;34m\u001b[0m\u001b[0;34m\u001b[0m\u001b[0m\n\u001b[0m",
      "\u001b[0;32m/cvmfs/sft.cern.ch/lcg/views/LCG_103/x86_64-centos7-gcc11-opt/lib/python3.9/site-packages/awkward/highlevel.py\u001b[0m in \u001b[0;36m__getattr__\u001b[0;34m(self, where)\u001b[0m\n\u001b[1;32m   1121\u001b[0m                     ) from err\n\u001b[1;32m   1122\u001b[0m             \u001b[0;32melse\u001b[0m\u001b[0;34m:\u001b[0m\u001b[0;34m\u001b[0m\u001b[0;34m\u001b[0m\u001b[0m\n\u001b[0;32m-> 1123\u001b[0;31m                 raise AttributeError(\n\u001b[0m\u001b[1;32m   1124\u001b[0m                     \u001b[0;34mf\"no field named {where!r}\"\u001b[0m \u001b[0;34m+\u001b[0m \u001b[0mak\u001b[0m\u001b[0;34m.\u001b[0m\u001b[0m_util\u001b[0m\u001b[0;34m.\u001b[0m\u001b[0mexception_suffix\u001b[0m\u001b[0;34m(\u001b[0m\u001b[0m__file__\u001b[0m\u001b[0;34m)\u001b[0m\u001b[0;34m\u001b[0m\u001b[0;34m\u001b[0m\u001b[0m\n\u001b[1;32m   1125\u001b[0m                 )\n",
      "\u001b[0;31mAttributeError\u001b[0m: no field named 'cscRechitClusterSize'\n\n(https://github.com/scikit-hep/awkward-1.0/blob/1.10.1/src/awkward/highlevel.py#L1124)"
     ]
    }
   ],
   "source": [
    "ak.mask(events_E, events_E.HLT_CscCluster_Loose).cscRechitClusterSize"
   ]
  },
  {
   "cell_type": "code",
   "execution_count": 74,
   "id": "7e6ab044",
   "metadata": {},
   "outputs": [
    {
     "ename": "ValueError",
     "evalue": "cannot repartition array of length 12926 to length 9784\n\n(https://github.com/scikit-hep/awkward-1.0/blob/1.10.1/src/libawkward/partition/IrregularlyPartitionedArray.cpp#L75)",
     "output_type": "error",
     "traceback": [
      "\u001b[0;31m---------------------------------------------------------------------------\u001b[0m",
      "\u001b[0;31mValueError\u001b[0m                                Traceback (most recent call last)",
      "\u001b[0;32m/tmp/ipykernel_25655/549696810.py\u001b[0m in \u001b[0;36m<module>\u001b[0;34m\u001b[0m\n\u001b[0;32m----> 1\u001b[0;31m \u001b[0mak\u001b[0m\u001b[0;34m.\u001b[0m\u001b[0mmask\u001b[0m\u001b[0;34m(\u001b[0m\u001b[0mevents_E\u001b[0m\u001b[0;34m,\u001b[0m \u001b[0mak\u001b[0m\u001b[0;34m.\u001b[0m\u001b[0mflatten\u001b[0m\u001b[0;34m(\u001b[0m\u001b[0mevents_E\u001b[0m\u001b[0;34m[\u001b[0m\u001b[0;34m\"cscRechitCluster_matchToProbeMuon\"\u001b[0m\u001b[0;34m]\u001b[0m\u001b[0;34m)\u001b[0m\u001b[0;34m)\u001b[0m\u001b[0;34m.\u001b[0m\u001b[0mcscRechitClusterX\u001b[0m\u001b[0;34m[\u001b[0m\u001b[0;36m2\u001b[0m\u001b[0;34m]\u001b[0m\u001b[0;34m\u001b[0m\u001b[0;34m\u001b[0m\u001b[0m\n\u001b[0m",
      "\u001b[0;32m/cvmfs/sft.cern.ch/lcg/views/LCG_103/x86_64-centos7-gcc11-opt/lib/python3.9/site-packages/awkward/operations/structure.py\u001b[0m in \u001b[0;36mmask\u001b[0;34m(array, mask, valid_when, highlevel, behavior)\u001b[0m\n\u001b[1;32m    173\u001b[0m \u001b[0;34m\u001b[0m\u001b[0m\n\u001b[1;32m    174\u001b[0m     \u001b[0mbehavior\u001b[0m \u001b[0;34m=\u001b[0m \u001b[0mak\u001b[0m\u001b[0;34m.\u001b[0m\u001b[0m_util\u001b[0m\u001b[0;34m.\u001b[0m\u001b[0mbehaviorof\u001b[0m\u001b[0;34m(\u001b[0m\u001b[0marray\u001b[0m\u001b[0;34m,\u001b[0m \u001b[0mmask\u001b[0m\u001b[0;34m,\u001b[0m \u001b[0mbehavior\u001b[0m\u001b[0;34m=\u001b[0m\u001b[0mbehavior\u001b[0m\u001b[0;34m)\u001b[0m\u001b[0;34m\u001b[0m\u001b[0;34m\u001b[0m\u001b[0m\n\u001b[0;32m--> 175\u001b[0;31m     out = ak._util.broadcast_and_apply(\n\u001b[0m\u001b[1;32m    176\u001b[0m         \u001b[0;34m[\u001b[0m\u001b[0mlayoutarray\u001b[0m\u001b[0;34m,\u001b[0m \u001b[0mlayoutmask\u001b[0m\u001b[0;34m]\u001b[0m\u001b[0;34m,\u001b[0m\u001b[0;34m\u001b[0m\u001b[0;34m\u001b[0m\u001b[0m\n\u001b[1;32m    177\u001b[0m         \u001b[0mgetfunction\u001b[0m\u001b[0;34m,\u001b[0m\u001b[0;34m\u001b[0m\u001b[0;34m\u001b[0m\u001b[0m\n",
      "\u001b[0;32m/cvmfs/sft.cern.ch/lcg/views/LCG_103/x86_64-centos7-gcc11-opt/lib/python3.9/site-packages/awkward/_util.py\u001b[0m in \u001b[0;36mbroadcast_and_apply\u001b[0;34m(inputs, getfunction, behavior, allow_records, pass_depth, pass_user, user, left_broadcast, right_broadcast, numpy_to_regular, regular_to_jagged)\u001b[0m\n\u001b[1;32m   1152\u001b[0m                     \u001b[0msample\u001b[0m \u001b[0;34m=\u001b[0m \u001b[0mx\u001b[0m\u001b[0;34m\u001b[0m\u001b[0;34m\u001b[0m\u001b[0m\n\u001b[1;32m   1153\u001b[0m                     \u001b[0;32mbreak\u001b[0m\u001b[0;34m\u001b[0m\u001b[0;34m\u001b[0m\u001b[0m\n\u001b[0;32m-> 1154\u001b[0;31m             \u001b[0mnextinputs\u001b[0m \u001b[0;34m=\u001b[0m \u001b[0mak\u001b[0m\u001b[0;34m.\u001b[0m\u001b[0mpartition\u001b[0m\u001b[0;34m.\u001b[0m\u001b[0mpartition_as\u001b[0m\u001b[0;34m(\u001b[0m\u001b[0msample\u001b[0m\u001b[0;34m,\u001b[0m \u001b[0minputs\u001b[0m\u001b[0;34m)\u001b[0m\u001b[0;34m\u001b[0m\u001b[0;34m\u001b[0m\u001b[0m\n\u001b[0m\u001b[1;32m   1155\u001b[0m \u001b[0;34m\u001b[0m\u001b[0m\n\u001b[1;32m   1156\u001b[0m             \u001b[0moutputs\u001b[0m \u001b[0;34m=\u001b[0m \u001b[0;34m[\u001b[0m\u001b[0;34m]\u001b[0m\u001b[0;34m\u001b[0m\u001b[0;34m\u001b[0m\u001b[0m\n",
      "\u001b[0;32m/cvmfs/sft.cern.ch/lcg/views/LCG_103/x86_64-centos7-gcc11-opt/lib/python3.9/site-packages/awkward/partition.py\u001b[0m in \u001b[0;36mpartition_as\u001b[0;34m(sample, arrays)\u001b[0m\n\u001b[1;32m     55\u001b[0m         \u001b[0;32mfor\u001b[0m \u001b[0mx\u001b[0m \u001b[0;32min\u001b[0m \u001b[0marrays\u001b[0m\u001b[0;34m:\u001b[0m\u001b[0;34m\u001b[0m\u001b[0;34m\u001b[0m\u001b[0m\n\u001b[1;32m     56\u001b[0m             \u001b[0;32mif\u001b[0m \u001b[0misinstance\u001b[0m\u001b[0;34m(\u001b[0m\u001b[0mx\u001b[0m\u001b[0;34m,\u001b[0m \u001b[0mPartitionedArray\u001b[0m\u001b[0;34m)\u001b[0m\u001b[0;34m:\u001b[0m\u001b[0;34m\u001b[0m\u001b[0;34m\u001b[0m\u001b[0m\n\u001b[0;32m---> 57\u001b[0;31m                 \u001b[0mout\u001b[0m\u001b[0;34m.\u001b[0m\u001b[0mappend\u001b[0m\u001b[0;34m(\u001b[0m\u001b[0mx\u001b[0m\u001b[0;34m.\u001b[0m\u001b[0mrepartition\u001b[0m\u001b[0;34m(\u001b[0m\u001b[0mstops\u001b[0m\u001b[0;34m)\u001b[0m\u001b[0;34m)\u001b[0m\u001b[0;34m\u001b[0m\u001b[0;34m\u001b[0m\u001b[0m\n\u001b[0m\u001b[1;32m     58\u001b[0m             elif isinstance(x, ak.layout.Content) and (\n\u001b[1;32m     59\u001b[0m                 \u001b[0mx\u001b[0m\u001b[0;34m.\u001b[0m\u001b[0mparameter\u001b[0m\u001b[0;34m(\u001b[0m\u001b[0;34m\"__array__\"\u001b[0m\u001b[0;34m)\u001b[0m \u001b[0;34m==\u001b[0m \u001b[0;34m\"string\"\u001b[0m\u001b[0;34m\u001b[0m\u001b[0;34m\u001b[0m\u001b[0m\n",
      "\u001b[0;32m/cvmfs/sft.cern.ch/lcg/views/LCG_103/x86_64-centos7-gcc11-opt/lib/python3.9/site-packages/awkward/partition.py\u001b[0m in \u001b[0;36mrepartition\u001b[0;34m(self, *args, **kwargs)\u001b[0m\n\u001b[1;32m    122\u001b[0m \u001b[0;34m\u001b[0m\u001b[0m\n\u001b[1;32m    123\u001b[0m     \u001b[0;32mdef\u001b[0m \u001b[0mrepartition\u001b[0m\u001b[0;34m(\u001b[0m\u001b[0mself\u001b[0m\u001b[0;34m,\u001b[0m \u001b[0;34m*\u001b[0m\u001b[0margs\u001b[0m\u001b[0;34m,\u001b[0m \u001b[0;34m**\u001b[0m\u001b[0mkwargs\u001b[0m\u001b[0;34m)\u001b[0m\u001b[0;34m:\u001b[0m\u001b[0;34m\u001b[0m\u001b[0;34m\u001b[0m\u001b[0m\n\u001b[0;32m--> 124\u001b[0;31m         \u001b[0;32mreturn\u001b[0m \u001b[0mPartitionedArray\u001b[0m\u001b[0;34m.\u001b[0m\u001b[0mfrom_ext\u001b[0m\u001b[0;34m(\u001b[0m\u001b[0mself\u001b[0m\u001b[0;34m.\u001b[0m\u001b[0m_ext\u001b[0m\u001b[0;34m.\u001b[0m\u001b[0mrepartition\u001b[0m\u001b[0;34m(\u001b[0m\u001b[0;34m*\u001b[0m\u001b[0margs\u001b[0m\u001b[0;34m,\u001b[0m \u001b[0;34m**\u001b[0m\u001b[0mkwargs\u001b[0m\u001b[0;34m)\u001b[0m\u001b[0;34m)\u001b[0m\u001b[0;34m\u001b[0m\u001b[0;34m\u001b[0m\u001b[0m\n\u001b[0m\u001b[1;32m    125\u001b[0m \u001b[0;34m\u001b[0m\u001b[0m\n\u001b[1;32m    126\u001b[0m     \u001b[0;34m@\u001b[0m\u001b[0mproperty\u001b[0m\u001b[0;34m\u001b[0m\u001b[0;34m\u001b[0m\u001b[0m\n",
      "\u001b[0;31mValueError\u001b[0m: cannot repartition array of length 12926 to length 9784\n\n(https://github.com/scikit-hep/awkward-1.0/blob/1.10.1/src/libawkward/partition/IrregularlyPartitionedArray.cpp#L75)"
     ]
    }
   ],
   "source": [
    "ak.mask(events_E, ak.flatten(events_E[\"cscRechitCluster_matchToProbeMuon\"])).cscRechitClusterX[2]"
   ]
  },
  {
   "cell_type": "code",
   "execution_count": 52,
   "id": "ab157efd",
   "metadata": {},
   "outputs": [
    {
     "data": {
      "text/plain": [
       "<Array [54, 108, 68, 65, ... 91, 192, 64, 70] type='12926 * int32'>"
      ]
     },
     "execution_count": 52,
     "metadata": {},
     "output_type": "execute_result"
    }
   ],
   "source": [
    "ak.flatten(ak.flatten(events_E_masked.cscRechitClusterSize))"
   ]
  },
  {
   "cell_type": "code",
   "execution_count": 68,
   "id": "53a3f0ef",
   "metadata": {},
   "outputs": [
    {
     "data": {
      "text/plain": [
       "<Array [[{runNum: 359699, ... ] type='9784 * var * ?{\"runNum\": uint32, \"MC_condi...'>"
      ]
     },
     "execution_count": 68,
     "metadata": {},
     "output_type": "execute_result"
    }
   ],
   "source": [
    "ak.mask(events_E, events_E[\"cscRechitCluster_matchToProbeMuon\"])."
   ]
  },
  {
   "cell_type": "code",
   "execution_count": 38,
   "id": "10cc6fc1",
   "metadata": {},
   "outputs": [
    {
     "data": {
      "text/plain": [
       "<Array [False] type='1 * ?bool'>"
      ]
     },
     "execution_count": 38,
     "metadata": {},
     "output_type": "execute_result"
    }
   ],
   "source": [
    "events_E_masked = ak.mask(events_E, events_E[\"cscRechitCluster_matchToProbeMuon\"])\n",
    "events_E_masked[\"HLT_CscCluster_Loose\"][11]"
   ]
  },
  {
   "cell_type": "code",
   "execution_count": 45,
   "id": "1cb0712a",
   "metadata": {},
   "outputs": [],
   "source": [
    "#mask events that do not have a muon matched with the cluster (ie. muonPt is 0 because it has not been filled)\n",
    "events_E_masked = ak.mask(events_E, events_E[\"cscRechitCluster_matchToProbeMuon\"])\n",
    "events_F_masked = ak.mask(events_F, events_F[\"cscRechitClusterMuonVetoPt\"]>0)\n",
    "events_G_masked = ak.mask(events_G, events_G[\"cscRechitClusterMuonVetoPt\"]>0)\n",
    "\n",
    "#apply additional mask based on HLT Decisions\n",
    "eraE_HLTDecisions = {}\n",
    "eraE_HLTDecisions[\"HLT_CscCluster_Loose\"] = ak.mask(events_E_masked, events_E_masked[\"HLT_CscCluster_Loose\"])\n",
    "eraE_HLTDecisions[\"HLT_CscCluster_Medium\"] = ak.mask(events_E_masked, events_E_masked[\"HLT_CscCluster_Medium\"])\n",
    "eraE_HLTDecisions[\"HLT_CscCluster_Tight\"] = ak.mask(events_E_masked, events_E_masked[\"HLT_CscCluster_Tight\"])\n",
    "\n",
    "eraF_HLTDecisions = {}\n",
    "eraF_HLTDecisions[\"HLT_CscCluster_Loose\"] = ak.mask(events_F_masked, events_F_masked[\"HLT_CscCluster_Loose\"]>0)\n",
    "eraF_HLTDecisions[\"HLT_CscCluster_Medium\"] = ak.mask(events_F_masked, events_F_masked[\"HLT_CscCluster_Medium\"]>0)\n",
    "eraF_HLTDecisions[\"HLT_CscCluster_Tight\"] = ak.mask(events_F_masked, events_F_masked[\"HLT_CscCluster_Tight\"]>0)\n",
    "\n",
    "eraG_HLTDecisions = {}\n",
    "eraG_HLTDecisions[\"HLT_CscCluster_Loose\"] = ak.mask(events_G_masked, events_G_masked[\"HLT_CscCluster_Loose\"]>0)\n",
    "eraG_HLTDecisions[\"HLT_CscCluster_Medium\"] = ak.mask(events_G_masked, events_G_masked[\"HLT_CscCluster_Medium\"]>0)\n",
    "eraG_HLTDecisions[\"HLT_CscCluster_Tight\"] = ak.mask(events_G_masked, events_G_masked[\"HLT_CscCluster_Tight\"]>0)\n"
   ]
  },
  {
   "cell_type": "code",
   "execution_count": 46,
   "id": "b1222dc0",
   "metadata": {},
   "outputs": [
    {
     "data": {
      "text/plain": [
       "<Array [80.6, 99.6, 89.6, ... 90.5, 86.3, 88.8] type='12926 * ?float32'>"
      ]
     },
     "execution_count": 46,
     "metadata": {},
     "output_type": "execute_result"
    }
   ],
   "source": [
    "ak.flatten(events_E_masked.ZMass)"
   ]
  },
  {
   "cell_type": "code",
   "execution_count": 47,
   "id": "a9a4257c",
   "metadata": {},
   "outputs": [
    {
     "data": {
      "text/plain": [
       "<Array [54, 108, 68, 65, ... 91, 192, 64, 70] type='12926 * int32'>"
      ]
     },
     "execution_count": 47,
     "metadata": {},
     "output_type": "execute_result"
    }
   ],
   "source": [
    "ak.flatten(ak.flatten(events_E_masked.cscRechitClusterSize))"
   ]
  },
  {
   "cell_type": "code",
   "execution_count": 9,
   "id": "f0597478",
   "metadata": {},
   "outputs": [
    {
     "data": {
      "text/plain": [
       "(0.0, 200.0)"
      ]
     },
     "execution_count": 9,
     "metadata": {},
     "output_type": "execute_result"
    },
    {
     "data": {
      "image/png": "[encoded data removed]",
      "text/plain": [
       "<Figure size 1008x720 with 1 Axes>"
      ]
     },
     "metadata": {
      "needs_background": "light"
     },
     "output_type": "display_data"
    }
   ],
   "source": [
    "plt.style.use(hep.style.CMS) \n",
    "plt.figure(figsize=(14,10))\n",
    "rechits_axis = hist.Cat(\"sample\", \"2022 Era\")\n",
    "ZMass_hist = hist.Hist(\"Counts\", rechits_axis, hist.Bin(\"ZMass\", \"Z Mass\", 100, 0, 200))\n",
    "ZMass_hist.fill(sample = 'Era E', ZMass = events_E.ZMass)\n",
    "hist.plot1d(ZMass_hist, density=False)\n",
    "plt.legend()\n",
    "plt.title(\"Z mass\")\n",
    "plt.xlim(0,200)"
   ]
  },
  {
   "cell_type": "code",
   "execution_count": 49,
   "id": "037f5a6b",
   "metadata": {},
   "outputs": [],
   "source": [
    "bins = hist.Bin(\"cluster_size\", \"Cluster Size\", 50, 0, 1000)"
   ]
  },
  {
   "cell_type": "code",
   "execution_count": 60,
   "id": "8dffd109",
   "metadata": {},
   "outputs": [
    {
     "data": {
      "text/plain": [
       "<Array [68, 65] type='2 * int32'>"
      ]
     },
     "execution_count": 60,
     "metadata": {},
     "output_type": "execute_result"
    }
   ],
   "source": [
    "ak.flatten(events_E_masked.cscRechitClusterSize)[2]"
   ]
  },
  {
   "cell_type": "code",
   "execution_count": 53,
   "id": "78931e45",
   "metadata": {},
   "outputs": [
    {
     "data": {
      "text/plain": [
       "(0.0, 800.0)"
      ]
     },
     "execution_count": 53,
     "metadata": {},
     "output_type": "execute_result"
    },
    {
     "data": {
      "image/png": "[encoded data removed]",
      "text/plain": [
       "<Figure size 1008x720 with 1 Axes>"
      ]
     },
     "metadata": {
      "needs_background": "light"
     },
     "output_type": "display_data"
    }
   ],
   "source": [
    "plt.style.use(hep.style.CMS) \n",
    "plt.figure(figsize=(14,10))\n",
    "rechits_axis = hist.Cat(\"sample\", \"2022 Era\")\n",
    "rechits_hist = hist.Hist(\"Counts\", rechits_axis, bins)\n",
    "rechits_hist.fill(sample = 'Era E', cluster_size=ak.flatten(ak.flatten(events_E_masked.cscRechitClusterSize)))\n",
    "hist.plot1d(rechits_hist, density=False)\n",
    "plt.legend()\n",
    "plt.title(\"Z -> mu mu + MDS Events\")\n",
    "plt.xlim(0,800)"
   ]
  },
  {
   "cell_type": "code",
   "execution_count": 54,
   "id": "d7690fe3",
   "metadata": {},
   "outputs": [
    {
     "data": {
      "text/plain": [
       "<AxesSubplot:title={'center':'Z -> mu mu + MDS + Fire HLT Loose Events'}, xlabel='Cluster Size', ylabel='Counts'>"
      ]
     },
     "execution_count": 54,
     "metadata": {},
     "output_type": "execute_result"
    },
    {
     "data": {
      "image/png": "[encoded data removed]",
      "text/plain": [
       "<Figure size 1008x720 with 1 Axes>"
      ]
     },
     "metadata": {
      "needs_background": "light"
     },
     "output_type": "display_data"
    }
   ],
   "source": [
    "plt.style.use(hep.style.CMS) \n",
    "plt.figure(figsize=(14,10))\n",
    "rechits_hist_HLTLoose = hist.Hist(\"Counts\", rechits_axis, bins)\n",
    "rechits_hist_HLTLoose.fill(sample = \"Era E\",cluster_size=ak.flatten(ak.flatten(eraE_HLTDecisions[\"HLT_CscCluster_Loose\"].cscRechitClusterSize)))\n",
    "plt.title(\"Z -> mu mu + MDS + Fire HLT Loose Events\")\n",
    "hist.plot1d(rechits_hist_HLTLoose, density=False)\n",
    "#plt.xlim(0,300)\n",
    "#rechits_hist.plot1d_ratio()"
   ]
  },
  {
   "cell_type": "code",
   "execution_count": 55,
   "id": "82132eb3",
   "metadata": {},
   "outputs": [
    {
     "name": "stderr",
     "output_type": "stream",
     "text": [
      "/cvmfs/sft.cern.ch/lcg/views/LCG_103/x86_64-centos7-gcc11-opt/lib/python3.9/site-packages/coffea/hist/plot.py:427: RuntimeWarning: invalid value encountered in true_divide\n",
      "  rsumw = sumw_num / sumw_denom\n"
     ]
    },
    {
     "data": {
      "text/plain": [
       "Text(0, 1, 'Efficiency')"
      ]
     },
     "execution_count": 55,
     "metadata": {},
     "output_type": "execute_result"
    },
    {
     "data": {
      "text/plain": [
       "<Figure size 2160x720 with 0 Axes>"
      ]
     },
     "metadata": {},
     "output_type": "display_data"
    },
    {
     "data": {
      "image/png": "[encoded data removed]",
      "text/plain": [
       "<Figure size 720x720 with 1 Axes>"
      ]
     },
     "metadata": {
      "needs_background": "light"
     },
     "output_type": "display_data"
    }
   ],
   "source": [
    "plt.figure(figsize=(30,10))\n",
    "hist.plotratio(\n",
    "            #ax=rechits_axis,\n",
    "            num  =rechits_hist_HLTLoose.project(bins),\n",
    "            denom=rechits_hist.project(bins),\n",
    "            error_opts={'marker': '.'},\n",
    "            unc='clopper-pearson',\n",
    "            label=\"Run 2022 Era E\",\n",
    "            clear=False\n",
    "        )\n",
    "plt.legend()\n",
    "plt.title(\"HLT_CscCluster_Loose Efficiencies\")\n",
    "plt.ylabel(\"Efficiency\")\n",
    "#plt.xlim(0,300)"
   ]
  },
  {
   "cell_type": "code",
   "execution_count": null,
   "id": "5c1a9a5d",
   "metadata": {},
   "outputs": [],
   "source": [
    "ratio_hist.project()"
   ]
  },
  {
   "cell_type": "code",
   "execution_count": null,
   "id": "589d1930",
   "metadata": {},
   "outputs": [],
   "source": []
  },
  {
   "cell_type": "code",
   "execution_count": null,
   "id": "49a502b4",
   "metadata": {},
   "outputs": [],
   "source": []
  },
  {
   "cell_type": "code",
   "execution_count": null,
   "id": "a1cb47c9",
   "metadata": {},
   "outputs": [],
   "source": []
  },
  {
   "cell_type": "code",
   "execution_count": 103,
   "id": "7950c4c5",
   "metadata": {},
   "outputs": [
    {
     "ename": "AttributeError",
     "evalue": "'Hist' object has no attribute 'divide'",
     "output_type": "error",
     "traceback": [
      "\u001b[0;31m---------------------------------------------------------------------------\u001b[0m",
      "\u001b[0;31mAttributeError\u001b[0m                            Traceback (most recent call last)",
      "\u001b[0;32m/tmp/ipykernel_12398/371731403.py\u001b[0m in \u001b[0;36m<module>\u001b[0;34m\u001b[0m\n\u001b[1;32m      2\u001b[0m \u001b[0;31m#rechits_hist_HLTLoose_root = rechits_hist_HLTLoose.to_hist()\u001b[0m\u001b[0;34m\u001b[0m\u001b[0;34m\u001b[0m\u001b[0m\n\u001b[1;32m      3\u001b[0m \u001b[0;31m#print(type(rechits_hist_root))\u001b[0m\u001b[0;34m\u001b[0m\u001b[0;34m\u001b[0m\u001b[0m\n\u001b[0;32m----> 4\u001b[0;31m \u001b[0mefficiency_hist_root\u001b[0m \u001b[0;34m=\u001b[0m \u001b[0mrechits_hist_HLTLoose\u001b[0m\u001b[0;34m.\u001b[0m\u001b[0mdivide\u001b[0m\u001b[0;34m(\u001b[0m\u001b[0mrechits_hist\u001b[0m\u001b[0;34m)\u001b[0m\u001b[0;34m\u001b[0m\u001b[0;34m\u001b[0m\u001b[0m\n\u001b[0m",
      "\u001b[0;31mAttributeError\u001b[0m: 'Hist' object has no attribute 'divide'"
     ]
    }
   ],
   "source": [
    "\n",
    "#rechits_hist = rechits_hist.to_hist().Clone()\n",
    "#rechits_hist_HLTLoose_root = rechits_hist_HLTLoose.to_hist()\n",
    "#print(type(rechits_hist_root))\n",
    "efficiency_hist_root = rechits_hist_HLTLoose.divide(rechits_hist)\n"
   ]
  },
  {
   "cell_type": "code",
   "execution_count": 83,
   "id": "0d1e20e6",
   "metadata": {},
   "outputs": [
    {
     "name": "stdout",
     "output_type": "stream",
     "text": [
      "[0. 0. 0. 0. 0. 0. 0. 0. 0. 0. 6. 2. 0. 0. 0. 0. 0. 0. 0. 0. 2. 1. 1. 1.\n",
      " 0. 1. 1. 0. 0. 2. 1. 0. 0. 0. 0. 0. 0. 0. 0. 0. 1. 0. 0. 0. 2. 6. 0. 0.\n",
      " 0. 1. 1. 0. 0. 0. 0. 0. 0. 1. 0. 0. 0. 0. 0. 1. 0. 1. 0. 1. 0. 0. 0. 1.\n",
      " 0. 0. 0. 0. 0. 0. 0. 0. 0. 0. 0. 1. 0. 0. 0. 0. 0. 0. 0. 0. 0. 0. 2. 0.\n",
      " 0. 1. 0. 0. 0. 0. 0. 0. 0. 0. 0. 0. 0. 0. 0. 0. 0. 0. 0. 0. 0. 0. 0. 0.\n",
      " 0. 0. 0. 0. 0. 0. 0. 0. 0. 0. 0. 1. 0. 0. 0. 0. 0. 0. 0. 0. 0. 0. 0. 0.\n",
      " 1. 0. 0. 0. 0. 0. 0. 0. 0. 0. 0. 0. 0. 0. 0. 0. 0. 0. 0. 0. 0. 0. 0. 0.\n",
      " 0. 0. 0. 0. 0. 0. 0. 0. 0. 0. 0. 0. 0. 0. 0. 0. 0. 0. 0. 0. 0. 0. 0. 0.\n",
      " 0. 0. 0. 0. 0. 0. 0. 0.]\n",
      "[  0.   0.   0.   0.   0.   0.   0.   0.   0.   0. 208. 177. 124.  98.\n",
      "  77.  86.  61.  48.  44.  43.  36.  25.  26.  21.  24.  11.  13.  15.\n",
      "   5.  10.  11.   4.   6.   3.   2.   4.   2.   4.   1.   2.   4.   1.\n",
      "   0.   2.   5.   8.   0.   0.   1.   1.   4.   0.   0.   0.   3.   0.\n",
      "   0.   4.   0.   0.   2.   1.   1.   1.   0.   2.   0.   1.   0.   0.\n",
      "   2.   1.   1.   0.   0.   1.   0.   0.   0.   1.   1.   0.   0.   3.\n",
      "   0.   0.   0.   0.   1.   0.   0.   0.   0.   0.   2.   0.   0.   1.\n",
      "   0.   0.   0.   0.   0.   0.   0.   0.   0.   0.   0.   0.   0.   0.\n",
      "   0.   0.   0.   0.   0.   0.   0.   0.   0.   0.   0.   0.   0.   0.\n",
      "   0.   0.   0.   0.   0.   1.   0.   0.   0.   0.   1.   0.   0.   0.\n",
      "   0.   0.   0.   0.   1.   0.   0.   0.   0.   0.   0.   0.   0.   0.\n",
      "   0.   0.   0.   0.   0.   0.   0.   0.   0.   0.   0.   0.   0.   0.\n",
      "   0.   0.   0.   0.   0.   0.   1.   0.   0.   0.   0.   0.   0.   0.\n",
      "   0.   0.   0.   0.   0.   0.   0.   0.   0.   0.   0.   0.   0.   0.\n",
      "   0.   0.   0.   0.]\n"
     ]
    },
    {
     "data": {
      "text/plain": [
       "array([1.63905867e-315, 1.54177540e-315, 0.00000000e+000, 0.00000000e+000,\n",
       "       0.00000000e+000, 0.00000000e+000, 0.00000000e+000, 0.00000000e+000,\n",
       "       0.00000000e+000, 0.00000000e+000, 2.88461538e-002, 1.12994350e-002,\n",
       "       0.00000000e+000, 0.00000000e+000, 0.00000000e+000, 0.00000000e+000,\n",
       "       0.00000000e+000, 0.00000000e+000, 0.00000000e+000, 0.00000000e+000,\n",
       "       5.55555556e-002, 4.00000000e-002, 3.84615385e-002, 4.76190476e-002,\n",
       "       0.00000000e+000, 9.09090909e-002, 7.69230769e-002, 0.00000000e+000,\n",
       "       0.00000000e+000, 2.00000000e-001, 9.09090909e-002, 0.00000000e+000,\n",
       "       0.00000000e+000, 0.00000000e+000, 0.00000000e+000, 0.00000000e+000,\n",
       "       0.00000000e+000, 0.00000000e+000, 0.00000000e+000, 0.00000000e+000,\n",
       "       2.50000000e-001, 0.00000000e+000, 0.00000000e+000, 0.00000000e+000,\n",
       "       4.00000000e-001, 7.50000000e-001, 0.00000000e+000, 0.00000000e+000,\n",
       "       0.00000000e+000, 1.00000000e+000, 2.50000000e-001, 0.00000000e+000,\n",
       "       0.00000000e+000, 0.00000000e+000, 0.00000000e+000, 0.00000000e+000,\n",
       "       0.00000000e+000, 2.50000000e-001, 0.00000000e+000, 0.00000000e+000,\n",
       "       0.00000000e+000, 0.00000000e+000, 0.00000000e+000, 1.00000000e+000,\n",
       "       0.00000000e+000, 5.00000000e-001, 0.00000000e+000, 1.00000000e+000,\n",
       "       0.00000000e+000, 0.00000000e+000, 0.00000000e+000, 1.00000000e+000,\n",
       "       0.00000000e+000, 0.00000000e+000, 0.00000000e+000, 0.00000000e+000,\n",
       "       0.00000000e+000, 0.00000000e+000, 0.00000000e+000, 0.00000000e+000,\n",
       "       0.00000000e+000, 0.00000000e+000, 0.00000000e+000, 3.33333333e-001,\n",
       "       0.00000000e+000, 0.00000000e+000, 0.00000000e+000, 0.00000000e+000,\n",
       "       0.00000000e+000, 0.00000000e+000, 0.00000000e+000, 0.00000000e+000,\n",
       "       0.00000000e+000, 0.00000000e+000, 1.00000000e+000, 0.00000000e+000,\n",
       "       0.00000000e+000, 1.00000000e+000, 0.00000000e+000, 0.00000000e+000,\n",
       "       0.00000000e+000, 0.00000000e+000, 0.00000000e+000, 0.00000000e+000,\n",
       "       0.00000000e+000, 0.00000000e+000, 0.00000000e+000, 0.00000000e+000,\n",
       "       0.00000000e+000, 0.00000000e+000, 0.00000000e+000, 0.00000000e+000,\n",
       "       0.00000000e+000, 0.00000000e+000, 0.00000000e+000, 0.00000000e+000,\n",
       "       0.00000000e+000, 0.00000000e+000, 0.00000000e+000, 0.00000000e+000,\n",
       "       0.00000000e+000, 0.00000000e+000, 0.00000000e+000, 0.00000000e+000,\n",
       "       0.00000000e+000, 0.00000000e+000, 0.00000000e+000, 0.00000000e+000,\n",
       "       0.00000000e+000, 0.00000000e+000, 0.00000000e+000, 1.00000000e+000,\n",
       "       0.00000000e+000, 0.00000000e+000, 0.00000000e+000, 0.00000000e+000,\n",
       "       0.00000000e+000, 0.00000000e+000, 0.00000000e+000, 0.00000000e+000,\n",
       "       0.00000000e+000, 0.00000000e+000, 0.00000000e+000, 0.00000000e+000,\n",
       "       1.00000000e+000, 0.00000000e+000, 0.00000000e+000, 0.00000000e+000,\n",
       "       0.00000000e+000, 0.00000000e+000, 0.00000000e+000, 0.00000000e+000,\n",
       "       0.00000000e+000, 0.00000000e+000, 0.00000000e+000, 0.00000000e+000,\n",
       "       0.00000000e+000, 0.00000000e+000, 0.00000000e+000, 0.00000000e+000,\n",
       "       0.00000000e+000, 0.00000000e+000, 0.00000000e+000, 0.00000000e+000,\n",
       "       0.00000000e+000, 0.00000000e+000, 0.00000000e+000, 0.00000000e+000,\n",
       "       0.00000000e+000, 0.00000000e+000, 0.00000000e+000, 0.00000000e+000,\n",
       "       0.00000000e+000, 0.00000000e+000, 0.00000000e+000, 0.00000000e+000,\n",
       "       0.00000000e+000, 0.00000000e+000, 0.00000000e+000, 0.00000000e+000,\n",
       "       0.00000000e+000, 0.00000000e+000, 0.00000000e+000, 0.00000000e+000,\n",
       "       0.00000000e+000, 0.00000000e+000, 0.00000000e+000, 0.00000000e+000,\n",
       "       0.00000000e+000, 0.00000000e+000, 0.00000000e+000, 0.00000000e+000,\n",
       "       0.00000000e+000, 0.00000000e+000, 0.00000000e+000, 0.00000000e+000,\n",
       "       0.00000000e+000, 0.00000000e+000, 0.00000000e+000, 0.00000000e+000])"
      ]
     },
     "execution_count": 83,
     "metadata": {},
     "output_type": "execute_result"
    }
   ],
   "source": [
    "print(rechits_hist_HLTLoose.values()[('Run 2022 Era E',)])\n",
    "print(rechits_hist.values()[('Run 2022 Era E',)])\n",
    "divided = np.divide(rechits_hist_HLTLoose.values()[('Run 2022 Era E',)], rechits_hist.values()[('Run 2022 Era E',)], where=(rechits_hist.values()[('Run 2022 Era E',)]!=0))\n",
    "divided"
   ]
  },
  {
   "cell_type": "code",
   "execution_count": 94,
   "id": "7ea8cfbd",
   "metadata": {},
   "outputs": [
    {
     "name": "stderr",
     "output_type": "stream",
     "text": [
      "/cvmfs/sft.cern.ch/lcg/views/LCG_103/x86_64-centos7-gcc11-opt/lib/python3.9/site-packages/coffea/hist/plot.py:53: RuntimeWarning: divide by zero encountered in true_divide\n",
      "  counts = sumw / scale\n",
      "/cvmfs/sft.cern.ch/lcg/views/LCG_103/x86_64-centos7-gcc11-opt/lib/python3.9/site-packages/coffea/hist/plot.py:53: RuntimeWarning: invalid value encountered in true_divide\n",
      "  counts = sumw / scale\n"
     ]
    },
    {
     "data": {
      "text/plain": [
       "Text(0.5, 1.0, 'HLT_CscCluster_Loose Trigger Rate')"
      ]
     },
     "execution_count": 94,
     "metadata": {},
     "output_type": "execute_result"
    },
    {
     "data": {
      "image/png": "[encoded data removed]",
      "text/plain": [
       "<Figure size 720x720 with 1 Axes>"
      ]
     },
     "metadata": {
      "needs_background": "light"
     },
     "output_type": "display_data"
    }
   ],
   "source": [
    "#print(np.divide(rechits_hist_HLTLoose.values()[('Run 2022 Era E',)], rechits_hist.values()[('Run 2022 Era E',)], where=(rechits_hist.values()[('Run 2022 Era E',)]!=0)))\n",
    "#efficiency_hist = hist.Hist(\"Counts\", rechits_axis)\n",
    "#efficiency_hist.values()[:] = np.divide(rechits_hist_HLTLoose.values().values(), rechits_hist.values.values(), where=(rechits_hist.values.values().values()!=0))\n",
    "bins = hist.Bin(\"cluster_size\", \"Cluster Size\", 200, 0, 1000)\n",
    "efficiency_hist = hist.Hist(\"Trigger Rate\", rechits_axis, bins)\n",
    "efficiency_hist.fill(nRechits = \"Run 2022 Era E\", cluster_size = bins.centers() , weight=divided)\n",
    "hist.plot1d(efficiency_hist)\n",
    "plt.xlim(0,300)\n",
    "plt.title(\"HLT_CscCluster_Loose Trigger Rate\")"
   ]
  },
  {
   "cell_type": "code",
   "execution_count": 113,
   "id": "1e7fc071",
   "metadata": {},
   "outputs": [
    {
     "data": {
      "text/plain": [
       "<cppyy.gbl.TH1F object at 0x144bce40>"
      ]
     },
     "execution_count": 113,
     "metadata": {},
     "output_type": "execute_result"
    },
    {
     "name": "stderr",
     "output_type": "stream",
     "text": [
      "Warning in <TROOT::Append>: Replacing existing TH1: denom (Potential memory leak).\n",
      "Warning in <TROOT::Append>: Replacing existing TH1: numer (Potential memory leak).\n"
     ]
    }
   ],
   "source": [
    "denom = ROOT.TH1F(\"denom\", \"nRechits\", 200, 0, 1000)\n",
    "for x in range(len(ak.flatten(ak.flatten(events_E_masked.cscRechitClusterSize)))):\n",
    "    denom.Fill(ak.flatten(ak.flatten(events_E_masked.cscRechitClusterSize))[x])\n",
    "    \n",
    "numer = ROOT.TH1F(\"numer\", \"nRechits_passHLTLoose\", 200, 0, 1000)\n",
    "for x in range(len(ak.flatten(ak.flatten(eraE_HLTDecisions[\"HLT_CscCluster_Loose\"].cscRechitClusterSize)))):\n",
    "    numer.Fill(ak.flatten(ak.flatten(eraE_HLTDecisions[\"HLT_CscCluster_Loose\"].cscRechitClusterSize))[x])\n",
    "    "
   ]
  },
  {
   "cell_type": "code",
   "execution_count": 116,
   "id": "4870a48a",
   "metadata": {},
   "outputs": [
    {
     "data": {
      "text/plain": [
       "True"
      ]
     },
     "execution_count": 116,
     "metadata": {},
     "output_type": "execute_result"
    }
   ],
   "source": [
    "eff = numer.Clone()\n",
    "eff.Divide(denom)"
   ]
  },
  {
   "cell_type": "code",
   "execution_count": 122,
   "id": "d5d030fe",
   "metadata": {},
   "outputs": [
    {
     "data": {
      "text/plain": [
       "<Figure size 1008x720 with 0 Axes>"
      ]
     },
     "metadata": {},
     "output_type": "display_data"
    },
    {
     "data": {
      "image/png": "[encoded data removed]",
      "text/plain": [
       "<IPython.core.display.Image object>"
      ]
     },
     "metadata": {},
     "output_type": "display_data"
    }
   ],
   "source": [
    "C = ROOT.TCanvas()\n",
    "plt.style.use(hep.style.CMS) \n",
    "plt.figure(figsize=(14,10))\n",
    "eff.Draw()\n",
    "C.Draw()"
   ]
  },
  {
   "cell_type": "code",
   "execution_count": null,
   "id": "03fb2409",
   "metadata": {},
   "outputs": [],
   "source": [
    "hist.plotratio()"
   ]
  }
 ],
 "metadata": {
  "kernelspec": {
   "display_name": "Python 3 (ipykernel)",
   "language": "python",
   "name": "python3"
  },
  "language_info": {
   "codemirror_mode": {
    "name": "ipython",
    "version": 3
   },
   "file_extension": ".py",
   "mimetype": "text/x-python",
   "name": "python",
   "nbconvert_exporter": "python",
   "pygments_lexer": "ipython3",
   "version": "3.9.12"
  }
 },
 "nbformat": 4,
 "nbformat_minor": 5
}
